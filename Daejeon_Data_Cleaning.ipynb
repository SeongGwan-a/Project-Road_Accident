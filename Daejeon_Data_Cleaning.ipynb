{
  "nbformat": 4,
  "nbformat_minor": 5,
  "metadata": {
    "kernelspec": {
      "display_name": "Python 3",
      "language": "python",
      "name": "python3"
    },
    "language_info": {
      "codemirror_mode": {
        "name": "ipython",
        "version": 3
      },
      "file_extension": ".py",
      "mimetype": "text/x-python",
      "name": "python",
      "nbconvert_exporter": "python",
      "pygments_lexer": "ipython3",
      "version": "3.6.9"
    },
    "colab": {
      "name": "제출용_데이터 정제.ipynb",
      "provenance": [],
      "include_colab_link": true
    }
  },
  "cells": [
    {
      "cell_type": "markdown",
      "metadata": {
        "id": "view-in-github",
        "colab_type": "text"
      },
      "source": [
        "<a href=\"https://colab.research.google.com/github/tjdrhks0808/Project-Road_Accident/blob/main/Daejeon_Data_Cleaning.ipynb\" target=\"_parent\"><img src=\"https://colab.research.google.com/assets/colab-badge.svg\" alt=\"Open In Colab\"/></a>"
      ]
    },
    {
      "cell_type": "markdown",
      "metadata": {
        "id": "advised-morning"
      },
      "source": [
        "---------------------\n",
        "# 데이터 정제\n",
        "---------------------"
      ],
      "id": "advised-morning"
    },
    {
      "cell_type": "markdown",
      "metadata": {
        "id": "welcome-jaguar"
      },
      "source": [
        "## full_data 로드"
      ],
      "id": "welcome-jaguar"
    },
    {
      "cell_type": "code",
      "metadata": {
        "id": "fifty-tobago"
      },
      "source": [
        "from geoband.API import *\n",
        "\n",
        "import math\n",
        "from tqdm import tqdm\n",
        "import random\n",
        "import pandas as pd\n",
        "import numpy as np\n",
        "import matplotlib.pyplot as plt\n",
        "import folium\n",
        "import json\n",
        "import geopandas as gpd\n",
        "import geopy.distance\n",
        "\n",
        "import pydeck as pdk\n",
        "import shapely\n",
        "import shapefile\n",
        "import os\n",
        "import re\n",
        "import mapboxgl\n",
        "from mapboxgl.viz import *\n",
        "import seaborn as sns\n",
        "\n",
        "import platform\n",
        "import requests; from urllib.parse import urlparse\n",
        "\n",
        "import warnings\n",
        "warnings.filterwarnings(action='ignore') #경고 메시지 무시\n",
        "from IPython.display import display #print가 아닌 display()로 연속 출력"
      ],
      "id": "fifty-tobago",
      "execution_count": null,
      "outputs": []
    },
    {
      "cell_type": "code",
      "metadata": {
        "id": "imposed-restaurant"
      },
      "source": [
        "full_data = gpd.read_file('full_data.geojson')"
      ],
      "id": "imposed-restaurant",
      "execution_count": null,
      "outputs": []
    },
    {
      "cell_type": "markdown",
      "metadata": {
        "id": "numerous-advantage"
      },
      "source": [
        "## 교통량, 혼잡 시간 빈도강도 정리"
      ],
      "id": "numerous-advantage"
    },
    {
      "cell_type": "code",
      "metadata": {
        "id": "higher-basketball"
      },
      "source": [
        "#traffic_total_sum , traffic_total_max_sum사용\n",
        "\n",
        "full_data = full_data.drop(['traffic_small_sum_inter', 'traffic_bus_sum_inter',\n",
        "                            'traffic_big_sum_inter'], axis = 1)"
      ],
      "id": "higher-basketball",
      "execution_count": null,
      "outputs": []
    },
    {
      "cell_type": "code",
      "metadata": {
        "scrolled": true,
        "id": "portuguese-continuity",
        "outputId": "7aa71f9d-d064-4984-cdb4-5ec8ca7c165b"
      },
      "source": [
        "full_data.columns"
      ],
      "id": "portuguese-continuity",
      "execution_count": null,
      "outputs": [
        {
          "output_type": "execute_result",
          "data": {
            "text/plain": [
              "Index(['gid', 'acci_cnt', 'dead', 'serious', 'minor', 'injury', 'dead_ctc',\n",
              "       'serious_ctc', 'minor_ctc', 'injury_ctc', 'dead_cth', 'serious_cth',\n",
              "       'minor_cth', 'injury_cth', 'dead_cal', 'serious_cal', 'minor_cal',\n",
              "       'injury_cal', 'car_car', 'car_human', 'car_only', 'attack_under_10 ',\n",
              "       'attack_10', 'attack_20', 'attack_30', 'attack_40', 'attack_50',\n",
              "       'attack_60', 'attack_70', 'attack_80', 'attack_90', 'attack_age_noname',\n",
              "       'attack_age_unclassified', 'victim_under_10', 'victim_10', 'victim_20',\n",
              "       'victim_30', 'victim_40', 'victim_50', 'victim_60', 'victim_70',\n",
              "       'victim_80', 'victim_90', 'victim_age_noname',\n",
              "       'victim_age_unclassified', 'traffic_total_sum_inter', 'oneway',\n",
              "       'car_lane', 'barrier_road', 'speed_0', 'speed_30', 'speed_40',\n",
              "       'speed_50', 'speed_60', 'speed_70', 'speed_80', 'speed_90', 'speed_100',\n",
              "       'speed_110', 'express', 'general', 'width_1', 'width_2', 'width_3',\n",
              "       'width_4', 'width_5', 'freq_max_inter', 'time_max_inter', 'intersects',\n",
              "       'TURN_P', 'building_tot', 'house', 'office', 'other', 'crosswalk_cnt',\n",
              "       'crosswalk_ar', 'noparking_ar', 'trlight_pas', 'trlight_car', 'cctv',\n",
              "       'sign_traffic', 'safe_zone', 'pop_all', 'pop_sen', 'pop_prd', 'pop_chd',\n",
              "       'cars_cnt', 'subway_cnt', 'parkinglot_cnt', 'school_cnt', 'ssm_cnt',\n",
              "       'restaurant_cnt', 'geometry'],\n",
              "      dtype='object')"
            ]
          },
          "metadata": {
            "tags": []
          },
          "execution_count": 4
        }
      ]
    },
    {
      "cell_type": "markdown",
      "metadata": {
        "id": "coupled-pledge"
      },
      "source": [
        "## 속도 변수 정리"
      ],
      "id": "coupled-pledge"
    },
    {
      "cell_type": "code",
      "metadata": {
        "id": "latter-circuit",
        "outputId": "f02f44b0-ed32-4586-8d5b-be90c74aa702"
      },
      "source": [
        "full_data['speed_50'].unique()"
      ],
      "id": "latter-circuit",
      "execution_count": null,
      "outputs": [
        {
          "output_type": "execute_result",
          "data": {
            "text/plain": [
              "array([ 0.,  4.,  2.,  6.,  1.,  8., 17.,  5.,  3., 12.,  7., 10.,  9.,\n",
              "       15., 11., 18., 13., 16., 14.])"
            ]
          },
          "metadata": {
            "tags": []
          },
          "execution_count": 5
        }
      ]
    },
    {
      "cell_type": "code",
      "metadata": {
        "id": "laughing-emphasis"
      },
      "source": [
        "# 0/30/40~50/60~70/80~110\n",
        "\n",
        "full_data['speed_40_to_50'] = full_data['speed_40'] + full_data['speed_50']\n",
        "full_data['speed_60_to_70'] = full_data['speed_60'] + full_data['speed_70']\n",
        "full_data['speed_80_to_110'] = full_data['speed_80'] + full_data['speed_90']+ full_data['speed_100']+ full_data['speed_110']"
      ],
      "id": "laughing-emphasis",
      "execution_count": null,
      "outputs": []
    },
    {
      "cell_type": "code",
      "metadata": {
        "id": "usual-tooth"
      },
      "source": [
        "full_data = full_data.drop(['speed_40', 'speed_50', 'speed_60', 'speed_70', 'speed_80', 'speed_90', 'speed_100', 'speed_110'], axis = 1)"
      ],
      "id": "usual-tooth",
      "execution_count": null,
      "outputs": []
    },
    {
      "cell_type": "code",
      "metadata": {
        "id": "forbidden-philadelphia",
        "outputId": "8702717c-8110-4e1b-ff10-68e7f53d0be9"
      },
      "source": [
        "full_data.columns"
      ],
      "id": "forbidden-philadelphia",
      "execution_count": null,
      "outputs": [
        {
          "output_type": "execute_result",
          "data": {
            "text/plain": [
              "Index(['gid', 'acci_cnt', 'dead', 'serious', 'minor', 'injury', 'dead_ctc',\n",
              "       'serious_ctc', 'minor_ctc', 'injury_ctc', 'dead_cth', 'serious_cth',\n",
              "       'minor_cth', 'injury_cth', 'dead_cal', 'serious_cal', 'minor_cal',\n",
              "       'injury_cal', 'car_car', 'car_human', 'car_only', 'attack_under_10 ',\n",
              "       'attack_10', 'attack_20', 'attack_30', 'attack_40', 'attack_50',\n",
              "       'attack_60', 'attack_70', 'attack_80', 'attack_90', 'attack_age_noname',\n",
              "       'attack_age_unclassified', 'victim_under_10', 'victim_10', 'victim_20',\n",
              "       'victim_30', 'victim_40', 'victim_50', 'victim_60', 'victim_70',\n",
              "       'victim_80', 'victim_90', 'victim_age_noname',\n",
              "       'victim_age_unclassified', 'traffic_total_sum_inter', 'oneway',\n",
              "       'car_lane', 'barrier_road', 'speed_0', 'speed_30', 'express', 'general',\n",
              "       'width_1', 'width_2', 'width_3', 'width_4', 'width_5', 'freq_max_inter',\n",
              "       'time_max_inter', 'intersects', 'TURN_P', 'building_tot', 'house',\n",
              "       'office', 'other', 'crosswalk_cnt', 'crosswalk_ar', 'noparking_ar',\n",
              "       'trlight_pas', 'trlight_car', 'cctv', 'sign_traffic', 'safe_zone',\n",
              "       'pop_all', 'pop_sen', 'pop_prd', 'pop_chd', 'cars_cnt', 'subway_cnt',\n",
              "       'parkinglot_cnt', 'school_cnt', 'ssm_cnt', 'restaurant_cnt', 'geometry',\n",
              "       'speed_40_to_50', 'speed_60_to_70', 'speed_80_to_110'],\n",
              "      dtype='object')"
            ]
          },
          "metadata": {
            "tags": []
          },
          "execution_count": 8
        }
      ]
    },
    {
      "cell_type": "markdown",
      "metadata": {
        "id": "opposite-capability"
      },
      "source": [
        "## 연령대 정리"
      ],
      "id": "opposite-capability"
    },
    {
      "cell_type": "code",
      "metadata": {
        "id": "fallen-holiday"
      },
      "source": [
        "full_data['youth_attack'] = full_data['attack_20'] + full_data['attack_30']\n",
        "full_data['senior_attack'] = full_data['attack_40'] + full_data['attack_50'] + full_data['attack_60']\n",
        "full_data['weak_attack'] = full_data['attack_under_10 '] + full_data['attack_10'] + full_data['attack_70']+ full_data['attack_80']+ full_data['attack_90']\n",
        "full_data['attack_na'] = full_data['attack_age_noname']+full_data['attack_age_unclassified']"
      ],
      "id": "fallen-holiday",
      "execution_count": null,
      "outputs": []
    },
    {
      "cell_type": "code",
      "metadata": {
        "id": "appropriate-smell"
      },
      "source": [
        "full_data['youth_victim'] = full_data['victim_20'] + full_data['victim_30']\n",
        "full_data['senior_victim'] = full_data['victim_40'] + full_data['victim_50'] + full_data['victim_60']\n",
        "full_data['weak_victim'] = full_data['victim_under_10'] + full_data['victim_10'] + full_data['victim_70']+ full_data['victim_80']+ full_data['victim_90']\n",
        "full_data['victim_na'] = full_data['victim_age_noname']+full_data['victim_age_unclassified']"
      ],
      "id": "appropriate-smell",
      "execution_count": null,
      "outputs": []
    },
    {
      "cell_type": "code",
      "metadata": {
        "id": "falling-quick"
      },
      "source": [
        "full_data = full_data.drop(['attack_under_10 ', 'attack_10', 'attack_20',\n",
        "       'attack_30', 'attack_40', 'attack_50', 'attack_60', 'attack_70',\n",
        "       'attack_80', 'attack_90', 'attack_age_noname',\n",
        "       'attack_age_unclassified'], axis =1)"
      ],
      "id": "falling-quick",
      "execution_count": null,
      "outputs": []
    },
    {
      "cell_type": "code",
      "metadata": {
        "id": "linear-spotlight"
      },
      "source": [
        "full_data = full_data.drop(['victim_under_10', 'victim_10', 'victim_20',\n",
        "       'victim_30', 'victim_40', 'victim_50', 'victim_60', 'victim_70',\n",
        "       'victim_80', 'victim_90', 'victim_age_noname',\n",
        "       'victim_age_unclassified'], axis=1)"
      ],
      "id": "linear-spotlight",
      "execution_count": null,
      "outputs": []
    },
    {
      "cell_type": "code",
      "metadata": {
        "id": "solid-taylor"
      },
      "source": [
        "full_data = full_data.drop(['crosswalk_cnt'], axis=1)"
      ],
      "id": "solid-taylor",
      "execution_count": null,
      "outputs": []
    },
    {
      "cell_type": "code",
      "metadata": {
        "id": "subtle-retail",
        "outputId": "aa6c2ef9-9d3f-40c6-b636-efe0ddfb5244"
      },
      "source": [
        "full_data.columns"
      ],
      "id": "subtle-retail",
      "execution_count": null,
      "outputs": [
        {
          "output_type": "execute_result",
          "data": {
            "text/plain": [
              "Index(['gid', 'acci_cnt', 'dead', 'serious', 'minor', 'injury', 'dead_ctc',\n",
              "       'serious_ctc', 'minor_ctc', 'injury_ctc', 'dead_cth', 'serious_cth',\n",
              "       'minor_cth', 'injury_cth', 'dead_cal', 'serious_cal', 'minor_cal',\n",
              "       'injury_cal', 'car_car', 'car_human', 'car_only',\n",
              "       'traffic_total_sum_inter', 'oneway', 'car_lane', 'barrier_road',\n",
              "       'speed_0', 'speed_30', 'express', 'general', 'width_1', 'width_2',\n",
              "       'width_3', 'width_4', 'width_5', 'freq_max_inter', 'time_max_inter',\n",
              "       'intersects', 'TURN_P', 'building_tot', 'house', 'office', 'other',\n",
              "       'crosswalk_ar', 'noparking_ar', 'trlight_pas', 'trlight_car', 'cctv',\n",
              "       'sign_traffic', 'safe_zone', 'pop_all', 'pop_sen', 'pop_prd', 'pop_chd',\n",
              "       'cars_cnt', 'subway_cnt', 'parkinglot_cnt', 'school_cnt', 'ssm_cnt',\n",
              "       'restaurant_cnt', 'geometry', 'speed_40_to_50', 'speed_60_to_70',\n",
              "       'speed_80_to_110', 'youth_attack', 'senior_attack', 'weak_attack',\n",
              "       'attack_na', 'youth_victim', 'senior_victim', 'weak_victim',\n",
              "       'victim_na'],\n",
              "      dtype='object')"
            ]
          },
          "metadata": {
            "tags": []
          },
          "execution_count": 14
        }
      ]
    },
    {
      "cell_type": "code",
      "metadata": {
        "scrolled": true,
        "id": "accompanied-chassis",
        "outputId": "4fa2990d-6189-4713-9a7b-de9b33510d78"
      },
      "source": [
        "full_data"
      ],
      "id": "accompanied-chassis",
      "execution_count": null,
      "outputs": [
        {
          "output_type": "execute_result",
          "data": {
            "text/html": [
              "<div>\n",
              "<style scoped>\n",
              "    .dataframe tbody tr th:only-of-type {\n",
              "        vertical-align: middle;\n",
              "    }\n",
              "\n",
              "    .dataframe tbody tr th {\n",
              "        vertical-align: top;\n",
              "    }\n",
              "\n",
              "    .dataframe thead th {\n",
              "        text-align: right;\n",
              "    }\n",
              "</style>\n",
              "<table border=\"1\" class=\"dataframe\">\n",
              "  <thead>\n",
              "    <tr style=\"text-align: right;\">\n",
              "      <th></th>\n",
              "      <th>gid</th>\n",
              "      <th>acci_cnt</th>\n",
              "      <th>dead</th>\n",
              "      <th>serious</th>\n",
              "      <th>minor</th>\n",
              "      <th>injury</th>\n",
              "      <th>dead_ctc</th>\n",
              "      <th>serious_ctc</th>\n",
              "      <th>minor_ctc</th>\n",
              "      <th>injury_ctc</th>\n",
              "      <th>...</th>\n",
              "      <th>speed_60_to_70</th>\n",
              "      <th>speed_80_to_110</th>\n",
              "      <th>youth_attack</th>\n",
              "      <th>senior_attack</th>\n",
              "      <th>weak_attack</th>\n",
              "      <th>attack_na</th>\n",
              "      <th>youth_victim</th>\n",
              "      <th>senior_victim</th>\n",
              "      <th>weak_victim</th>\n",
              "      <th>victim_na</th>\n",
              "    </tr>\n",
              "  </thead>\n",
              "  <tbody>\n",
              "    <tr>\n",
              "      <th>0</th>\n",
              "      <td>다바866110</td>\n",
              "      <td>0</td>\n",
              "      <td>0.0</td>\n",
              "      <td>0.0</td>\n",
              "      <td>0.0</td>\n",
              "      <td>0.0</td>\n",
              "      <td>0.0</td>\n",
              "      <td>0.0</td>\n",
              "      <td>0.0</td>\n",
              "      <td>0.0</td>\n",
              "      <td>...</td>\n",
              "      <td>0.0</td>\n",
              "      <td>0.0</td>\n",
              "      <td>0.0</td>\n",
              "      <td>0.0</td>\n",
              "      <td>0.0</td>\n",
              "      <td>0.0</td>\n",
              "      <td>0.0</td>\n",
              "      <td>0.0</td>\n",
              "      <td>0.0</td>\n",
              "      <td>0.0</td>\n",
              "    </tr>\n",
              "    <tr>\n",
              "      <th>1</th>\n",
              "      <td>다바823157</td>\n",
              "      <td>0</td>\n",
              "      <td>0.0</td>\n",
              "      <td>0.0</td>\n",
              "      <td>0.0</td>\n",
              "      <td>0.0</td>\n",
              "      <td>0.0</td>\n",
              "      <td>0.0</td>\n",
              "      <td>0.0</td>\n",
              "      <td>0.0</td>\n",
              "      <td>...</td>\n",
              "      <td>4.0</td>\n",
              "      <td>0.0</td>\n",
              "      <td>0.0</td>\n",
              "      <td>0.0</td>\n",
              "      <td>0.0</td>\n",
              "      <td>0.0</td>\n",
              "      <td>0.0</td>\n",
              "      <td>0.0</td>\n",
              "      <td>0.0</td>\n",
              "      <td>0.0</td>\n",
              "    </tr>\n",
              "    <tr>\n",
              "      <th>2</th>\n",
              "      <td>다바928260</td>\n",
              "      <td>0</td>\n",
              "      <td>0.0</td>\n",
              "      <td>0.0</td>\n",
              "      <td>0.0</td>\n",
              "      <td>0.0</td>\n",
              "      <td>0.0</td>\n",
              "      <td>0.0</td>\n",
              "      <td>0.0</td>\n",
              "      <td>0.0</td>\n",
              "      <td>...</td>\n",
              "      <td>0.0</td>\n",
              "      <td>0.0</td>\n",
              "      <td>0.0</td>\n",
              "      <td>0.0</td>\n",
              "      <td>0.0</td>\n",
              "      <td>0.0</td>\n",
              "      <td>0.0</td>\n",
              "      <td>0.0</td>\n",
              "      <td>0.0</td>\n",
              "      <td>0.0</td>\n",
              "    </tr>\n",
              "    <tr>\n",
              "      <th>3</th>\n",
              "      <td>다바931203</td>\n",
              "      <td>2</td>\n",
              "      <td>0.0</td>\n",
              "      <td>1.0</td>\n",
              "      <td>1.0</td>\n",
              "      <td>0.0</td>\n",
              "      <td>0.0</td>\n",
              "      <td>0.0</td>\n",
              "      <td>1.0</td>\n",
              "      <td>0.0</td>\n",
              "      <td>...</td>\n",
              "      <td>2.0</td>\n",
              "      <td>0.0</td>\n",
              "      <td>0.0</td>\n",
              "      <td>2.0</td>\n",
              "      <td>0.0</td>\n",
              "      <td>0.0</td>\n",
              "      <td>0.0</td>\n",
              "      <td>1.0</td>\n",
              "      <td>1.0</td>\n",
              "      <td>0.0</td>\n",
              "    </tr>\n",
              "    <tr>\n",
              "      <th>4</th>\n",
              "      <td>다바836109</td>\n",
              "      <td>0</td>\n",
              "      <td>0.0</td>\n",
              "      <td>0.0</td>\n",
              "      <td>0.0</td>\n",
              "      <td>0.0</td>\n",
              "      <td>0.0</td>\n",
              "      <td>0.0</td>\n",
              "      <td>0.0</td>\n",
              "      <td>0.0</td>\n",
              "      <td>...</td>\n",
              "      <td>0.0</td>\n",
              "      <td>0.0</td>\n",
              "      <td>0.0</td>\n",
              "      <td>0.0</td>\n",
              "      <td>0.0</td>\n",
              "      <td>0.0</td>\n",
              "      <td>0.0</td>\n",
              "      <td>0.0</td>\n",
              "      <td>0.0</td>\n",
              "      <td>0.0</td>\n",
              "    </tr>\n",
              "    <tr>\n",
              "      <th>...</th>\n",
              "      <td>...</td>\n",
              "      <td>...</td>\n",
              "      <td>...</td>\n",
              "      <td>...</td>\n",
              "      <td>...</td>\n",
              "      <td>...</td>\n",
              "      <td>...</td>\n",
              "      <td>...</td>\n",
              "      <td>...</td>\n",
              "      <td>...</td>\n",
              "      <td>...</td>\n",
              "      <td>...</td>\n",
              "      <td>...</td>\n",
              "      <td>...</td>\n",
              "      <td>...</td>\n",
              "      <td>...</td>\n",
              "      <td>...</td>\n",
              "      <td>...</td>\n",
              "      <td>...</td>\n",
              "      <td>...</td>\n",
              "      <td>...</td>\n",
              "    </tr>\n",
              "    <tr>\n",
              "      <th>54907</th>\n",
              "      <td>다바861065</td>\n",
              "      <td>0</td>\n",
              "      <td>0.0</td>\n",
              "      <td>0.0</td>\n",
              "      <td>0.0</td>\n",
              "      <td>0.0</td>\n",
              "      <td>0.0</td>\n",
              "      <td>0.0</td>\n",
              "      <td>0.0</td>\n",
              "      <td>0.0</td>\n",
              "      <td>...</td>\n",
              "      <td>0.0</td>\n",
              "      <td>0.0</td>\n",
              "      <td>0.0</td>\n",
              "      <td>0.0</td>\n",
              "      <td>0.0</td>\n",
              "      <td>0.0</td>\n",
              "      <td>0.0</td>\n",
              "      <td>0.0</td>\n",
              "      <td>0.0</td>\n",
              "      <td>0.0</td>\n",
              "    </tr>\n",
              "    <tr>\n",
              "      <th>54908</th>\n",
              "      <td>다바912036</td>\n",
              "      <td>0</td>\n",
              "      <td>0.0</td>\n",
              "      <td>0.0</td>\n",
              "      <td>0.0</td>\n",
              "      <td>0.0</td>\n",
              "      <td>0.0</td>\n",
              "      <td>0.0</td>\n",
              "      <td>0.0</td>\n",
              "      <td>0.0</td>\n",
              "      <td>...</td>\n",
              "      <td>0.0</td>\n",
              "      <td>0.0</td>\n",
              "      <td>0.0</td>\n",
              "      <td>0.0</td>\n",
              "      <td>0.0</td>\n",
              "      <td>0.0</td>\n",
              "      <td>0.0</td>\n",
              "      <td>0.0</td>\n",
              "      <td>0.0</td>\n",
              "      <td>0.0</td>\n",
              "    </tr>\n",
              "    <tr>\n",
              "      <th>54909</th>\n",
              "      <td>다바867189</td>\n",
              "      <td>0</td>\n",
              "      <td>0.0</td>\n",
              "      <td>0.0</td>\n",
              "      <td>0.0</td>\n",
              "      <td>0.0</td>\n",
              "      <td>0.0</td>\n",
              "      <td>0.0</td>\n",
              "      <td>0.0</td>\n",
              "      <td>0.0</td>\n",
              "      <td>...</td>\n",
              "      <td>0.0</td>\n",
              "      <td>0.0</td>\n",
              "      <td>0.0</td>\n",
              "      <td>0.0</td>\n",
              "      <td>0.0</td>\n",
              "      <td>0.0</td>\n",
              "      <td>0.0</td>\n",
              "      <td>0.0</td>\n",
              "      <td>0.0</td>\n",
              "      <td>0.0</td>\n",
              "    </tr>\n",
              "    <tr>\n",
              "      <th>54910</th>\n",
              "      <td>다바851062</td>\n",
              "      <td>0</td>\n",
              "      <td>0.0</td>\n",
              "      <td>0.0</td>\n",
              "      <td>0.0</td>\n",
              "      <td>0.0</td>\n",
              "      <td>0.0</td>\n",
              "      <td>0.0</td>\n",
              "      <td>0.0</td>\n",
              "      <td>0.0</td>\n",
              "      <td>...</td>\n",
              "      <td>0.0</td>\n",
              "      <td>0.0</td>\n",
              "      <td>0.0</td>\n",
              "      <td>0.0</td>\n",
              "      <td>0.0</td>\n",
              "      <td>0.0</td>\n",
              "      <td>0.0</td>\n",
              "      <td>0.0</td>\n",
              "      <td>0.0</td>\n",
              "      <td>0.0</td>\n",
              "    </tr>\n",
              "    <tr>\n",
              "      <th>54911</th>\n",
              "      <td>다바924104</td>\n",
              "      <td>0</td>\n",
              "      <td>0.0</td>\n",
              "      <td>0.0</td>\n",
              "      <td>0.0</td>\n",
              "      <td>0.0</td>\n",
              "      <td>0.0</td>\n",
              "      <td>0.0</td>\n",
              "      <td>0.0</td>\n",
              "      <td>0.0</td>\n",
              "      <td>...</td>\n",
              "      <td>0.0</td>\n",
              "      <td>0.0</td>\n",
              "      <td>0.0</td>\n",
              "      <td>0.0</td>\n",
              "      <td>0.0</td>\n",
              "      <td>0.0</td>\n",
              "      <td>0.0</td>\n",
              "      <td>0.0</td>\n",
              "      <td>0.0</td>\n",
              "      <td>0.0</td>\n",
              "    </tr>\n",
              "  </tbody>\n",
              "</table>\n",
              "<p>54912 rows × 71 columns</p>\n",
              "</div>"
            ],
            "text/plain": [
              "            gid  acci_cnt  dead  serious  minor  injury  dead_ctc  \\\n",
              "0      다바866110         0   0.0      0.0    0.0     0.0       0.0   \n",
              "1      다바823157         0   0.0      0.0    0.0     0.0       0.0   \n",
              "2      다바928260         0   0.0      0.0    0.0     0.0       0.0   \n",
              "3      다바931203         2   0.0      1.0    1.0     0.0       0.0   \n",
              "4      다바836109         0   0.0      0.0    0.0     0.0       0.0   \n",
              "...         ...       ...   ...      ...    ...     ...       ...   \n",
              "54907  다바861065         0   0.0      0.0    0.0     0.0       0.0   \n",
              "54908  다바912036         0   0.0      0.0    0.0     0.0       0.0   \n",
              "54909  다바867189         0   0.0      0.0    0.0     0.0       0.0   \n",
              "54910  다바851062         0   0.0      0.0    0.0     0.0       0.0   \n",
              "54911  다바924104         0   0.0      0.0    0.0     0.0       0.0   \n",
              "\n",
              "       serious_ctc  minor_ctc  injury_ctc  ...  speed_60_to_70  \\\n",
              "0              0.0        0.0         0.0  ...             0.0   \n",
              "1              0.0        0.0         0.0  ...             4.0   \n",
              "2              0.0        0.0         0.0  ...             0.0   \n",
              "3              0.0        1.0         0.0  ...             2.0   \n",
              "4              0.0        0.0         0.0  ...             0.0   \n",
              "...            ...        ...         ...  ...             ...   \n",
              "54907          0.0        0.0         0.0  ...             0.0   \n",
              "54908          0.0        0.0         0.0  ...             0.0   \n",
              "54909          0.0        0.0         0.0  ...             0.0   \n",
              "54910          0.0        0.0         0.0  ...             0.0   \n",
              "54911          0.0        0.0         0.0  ...             0.0   \n",
              "\n",
              "       speed_80_to_110  youth_attack  senior_attack  weak_attack  attack_na  \\\n",
              "0                  0.0           0.0            0.0          0.0        0.0   \n",
              "1                  0.0           0.0            0.0          0.0        0.0   \n",
              "2                  0.0           0.0            0.0          0.0        0.0   \n",
              "3                  0.0           0.0            2.0          0.0        0.0   \n",
              "4                  0.0           0.0            0.0          0.0        0.0   \n",
              "...                ...           ...            ...          ...        ...   \n",
              "54907              0.0           0.0            0.0          0.0        0.0   \n",
              "54908              0.0           0.0            0.0          0.0        0.0   \n",
              "54909              0.0           0.0            0.0          0.0        0.0   \n",
              "54910              0.0           0.0            0.0          0.0        0.0   \n",
              "54911              0.0           0.0            0.0          0.0        0.0   \n",
              "\n",
              "       youth_victim  senior_victim  weak_victim  victim_na  \n",
              "0               0.0            0.0          0.0        0.0  \n",
              "1               0.0            0.0          0.0        0.0  \n",
              "2               0.0            0.0          0.0        0.0  \n",
              "3               0.0            1.0          1.0        0.0  \n",
              "4               0.0            0.0          0.0        0.0  \n",
              "...             ...            ...          ...        ...  \n",
              "54907           0.0            0.0          0.0        0.0  \n",
              "54908           0.0            0.0          0.0        0.0  \n",
              "54909           0.0            0.0          0.0        0.0  \n",
              "54910           0.0            0.0          0.0        0.0  \n",
              "54911           0.0            0.0          0.0        0.0  \n",
              "\n",
              "[54912 rows x 71 columns]"
            ]
          },
          "metadata": {
            "tags": []
          },
          "execution_count": 15
        }
      ]
    },
    {
      "cell_type": "markdown",
      "metadata": {
        "id": "relative-dictionary"
      },
      "source": [
        "## 파생변수 정리"
      ],
      "id": "relative-dictionary"
    },
    {
      "cell_type": "markdown",
      "metadata": {
        "id": "through-petroleum"
      },
      "source": [
        "### 파생변수1. isroad : 도로 정보가 할당되었는지"
      ],
      "id": "through-petroleum"
    },
    {
      "cell_type": "code",
      "metadata": {
        "id": "minus-crash"
      },
      "source": [
        "full_data['isroad'] = (full_data.speed_0 + full_data.speed_30 + full_data.speed_40_to_50 +\n",
        "                       full_data.speed_60_to_70 + full_data.speed_80_to_110)\n",
        "\n",
        "full_data.isroad = [1 if x>0 else 0 for x in full_data.isroad]"
      ],
      "id": "minus-crash",
      "execution_count": null,
      "outputs": []
    },
    {
      "cell_type": "markdown",
      "metadata": {
        "id": "exposed-certification"
      },
      "source": [
        "### 파생변수2. acci_risk : EPDO.ver2 적용한 사고위험도"
      ],
      "id": "exposed-certification"
    },
    {
      "cell_type": "code",
      "metadata": {
        "id": "afraid-lease"
      },
      "source": [
        "full_data['acci_risk'] = (full_data.dead * 12) + (full_data.serious * 3) + full_data.minor + full_data.injury\n",
        "\n",
        "full_data['acci_risk_ctc'] = (full_data.dead_ctc * 12) + (full_data.serious_ctc * 3) + full_data.minor_ctc + full_data.injury_ctc\n",
        "full_data['acci_risk_cth'] = (full_data.dead_cth * 12) + (full_data.serious_cth * 3) + full_data.minor_cth + full_data.injury_cth\n",
        "full_data['acci_risk_cal'] = (full_data.dead_cal * 12) + (full_data.serious_cal * 3) + full_data.minor_cal + full_data.injury_cal"
      ],
      "id": "afraid-lease",
      "execution_count": null,
      "outputs": []
    },
    {
      "cell_type": "markdown",
      "metadata": {
        "id": "reported-deficit"
      },
      "source": [
        "### 파생변수3. acci_ratio : acci_cnt/traffic_total_sum_inter"
      ],
      "id": "reported-deficit"
    },
    {
      "cell_type": "code",
      "metadata": {
        "id": "careful-magic"
      },
      "source": [
        "full_data['acci_ratio'] = full_data.acci_cnt / np.array([ (x+1) if x == 0 else x for x in full_data.traffic_total_sum_inter ])\n",
        "\n",
        "full_data['acci_ratio_ctc'] = full_data.car_car / np.array([ (x+1) if x == 0 else x for x in full_data.traffic_total_sum_inter ])\n",
        "full_data['acci_ratio_cth'] = full_data.car_human / np.array([ (x+1) if x == 0 else x for x in full_data.traffic_total_sum_inter ])\n",
        "full_data['acci_ratio_cal'] = full_data.car_only / np.array([ (x+1) if x == 0 else x for x in full_data.traffic_total_sum_inter ])"
      ],
      "id": "careful-magic",
      "execution_count": null,
      "outputs": []
    },
    {
      "cell_type": "markdown",
      "metadata": {
        "id": "lonely-smoke"
      },
      "source": [
        "### 종속변수 정리"
      ],
      "id": "lonely-smoke"
    },
    {
      "cell_type": "code",
      "metadata": {
        "id": "beginning-antenna"
      },
      "source": [
        "full_data = full_data.drop(['dead', 'serious', 'minor', 'injury',\n",
        "                            'dead_ctc', 'serious_ctc', 'minor_ctc', 'injury_ctc',\n",
        "                            'dead_cth', 'serious_cth', 'minor_cth', 'injury_cth',\n",
        "                            'dead_cal', 'serious_cal', 'minor_cal', 'injury_cal',\n",
        "                            ], axis=1)"
      ],
      "id": "beginning-antenna",
      "execution_count": null,
      "outputs": []
    },
    {
      "cell_type": "markdown",
      "metadata": {
        "id": "cheap-refrigerator"
      },
      "source": [
        "## 정리된 데이터 저장 : daejeon_data"
      ],
      "id": "cheap-refrigerator"
    },
    {
      "cell_type": "code",
      "metadata": {
        "id": "passing-engine"
      },
      "source": [
        "full_data.to_file('daejeon_data.geojson', driver='GeoJSON')"
      ],
      "id": "passing-engine",
      "execution_count": null,
      "outputs": []
    }
  ]
}
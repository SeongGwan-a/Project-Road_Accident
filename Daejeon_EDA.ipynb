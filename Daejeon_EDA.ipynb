{
  "nbformat": 4,
  "nbformat_minor": 5,
  "metadata": {
    "colab": {
      "name": "제출용_변수 EDA .ipynb의 사본",
      "private_outputs": true,
      "provenance": [],
      "collapsed_sections": [
        "institutional-knife",
        "brown-refund",
        "affected-rebound",
        "settled-litigation",
        "shared-alexandria",
        "chubby-convention",
        "unique-given",
        "moral-turtle",
        "amino-canal",
        "honest-discovery",
        "exposed-costs",
        "wooden-grass",
        "southwest-stupid",
        "alive-republic",
        "supported-athletics",
        "strategic-footage",
        "enclosed-chester",
        "wicked-enterprise",
        "owned-central",
        "certified-boston",
        "tight-recorder",
        "another-cooper",
        "iraqi-manual",
        "phantom-payday",
        "trained-court",
        "eastern-touch",
        "ambient-valentine",
        "continent-conclusion",
        "genetic-campbell",
        "usual-nylon",
        "purple-bulletin",
        "bright-illustration",
        "dying-jesus",
        "korean-baking",
        "charged-princeton",
        "labeled-genesis",
        "supreme-inclusion",
        "demographic-frost",
        "abstract-settle",
        "fundamental-royal",
        "asian-latitude",
        "irish-perception",
        "prescription-glossary",
        "disciplinary-german",
        "relative-summary",
        "cooperative-pearl",
        "behavioral-lounge",
        "saved-folks",
        "literary-morris",
        "embedded-pavilion",
        "affecting-delight",
        "latin-cisco",
        "numerical-chester",
        "unique-courage",
        "veterinary-folks",
        "black-landing",
        "vital-nightlife",
        "center-garlic",
        "crucial-proxy"
      ],
      "include_colab_link": true
    },
    "kernelspec": {
      "display_name": "Python 3",
      "language": "python",
      "name": "python3"
    },
    "language_info": {
      "codemirror_mode": {
        "name": "ipython",
        "version": 3
      },
      "file_extension": ".py",
      "mimetype": "text/x-python",
      "name": "python",
      "nbconvert_exporter": "python",
      "pygments_lexer": "ipython3",
      "version": "3.6.9"
    }
  },
  "cells": [
    {
      "cell_type": "markdown",
      "metadata": {
        "id": "view-in-github",
        "colab_type": "text"
      },
      "source": [
        "<a href=\"https://colab.research.google.com/github/tjdrhks0808/Project-Road_Accident/blob/main/Daejeon_EDA.ipynb\" target=\"_parent\"><img src=\"https://colab.research.google.com/assets/colab-badge.svg\" alt=\"Open In Colab\"/></a>"
      ]
    },
    {
      "cell_type": "markdown",
      "metadata": {
        "id": "thirty-dictionary"
      },
      "source": [
        "--------------------\n",
        "# 사고 유형별 특징 파악\n",
        "--------------------"
      ],
      "id": "thirty-dictionary"
    },
    {
      "cell_type": "code",
      "metadata": {
        "id": "indirect-charlotte"
      },
      "source": [
        "from geoband.API import *\n",
        "\n",
        "import pandas as pd\n",
        "import numpy as np\n",
        "import matplotlib.pyplot as plt\n",
        "import folium\n",
        "import json\n",
        "import geopandas as gpd\n",
        "from shapely.geometry import Point, Polygon, LineString\n",
        "\n",
        "import pydeck as pdk\n",
        "import shapefile\n",
        "import os\n",
        "import re\n",
        "import matplotlib \n",
        "matplotlib.font_manager._rebuild()\n",
        "import seaborn as sns\n",
        "from matplotlib import font_manager, rc"
      ],
      "id": "indirect-charlotte",
      "execution_count": null,
      "outputs": []
    },
    {
      "cell_type": "code",
      "metadata": {
        "id": "intensive-tamil"
      },
      "source": [
        "acc_hist = pd.read_csv('1.대전광역시_교통사고내역(2017~2019).csv')\n",
        "acc_cnt = gpd.read_file('2.대전광역시_교통사고격자(2017~2019).geojson')\n",
        "trlight_pas = gpd.read_file('3.대전광역시_신호등(보행등).geojson')\n",
        "trlight_car = gpd.read_file('4.대전광역시_신호등(차량등).geojson')\n",
        "safe_zone = gpd.read_file('5.대전광역시_안전지대.geojson')\n",
        "crosswalk = gpd.read_file('6.대전광역시_횡단보도.geojson')\n",
        "sign_speed = gpd.read_file('7.대전광역시_도로속도표시.geojson')\n",
        "noparking_zone = gpd.read_file('8.대전광역시_정차금지지대.geojson')\n",
        "sign_traffic = gpd.read_file('9.대전광역시_교통안전표지.geojson')\n",
        "cctv = gpd.read_file('10.대전광역시_교통CCTV.geojson')\n",
        "pop_dong = pd.read_csv('11.대전광역시_동별_인구현황(2017~2019).csv')\n",
        "pop_all = gpd.read_file('12.대전광역시_인구정보(총인구).geojson')\n",
        "pop_sen = gpd.read_file('13.대전광역시_인구정보(고령).geojson')\n",
        "pop_prd = gpd.read_file('14.대전광역시_인구정보(생산가능).geojson')\n",
        "pop_chd = gpd.read_file('15.대전광역시_인구정보(유소년).geojson')\n",
        "weather = pd.read_csv('16.대전광역시_기상데이터(2017~2019).csv')\n",
        "traffic_link = gpd.read_file('17.대전광역시_교통링크(2018).geojson')\n",
        "traffic_node = gpd.read_file('18.대전광역시_교통노드(2018).geojson')\n",
        "traffic_road = gpd.read_file('19.대전광역시_상세도로망(2018).geojson')\n",
        "traffic_amt = pd.read_csv('20.대전광역시_평일_일별_시간대별_추정교통량(2018).csv')\n",
        "traffic_freq = pd.read_csv('21.대전광역시_평일_일별_혼잡빈도강도(2018).csv')\n",
        "traffic_time = pd.read_csv('22.대전광역시_평일_일별_혼잡시간강도(2018).csv')\n",
        "building = gpd.read_file('23.대전광역시_도로명주소(건물).geojson')\n",
        "building_area = gpd.read_file('24.대전광역시_건물연면적_격자.geojson')\n",
        "bound_law = gpd.read_file('25.대전광역시_법정경계(시군구).geojson')\n",
        "bound_law2 = gpd.read_file('26.대전광역시_법정경계(읍면동).geojson')\n",
        "bound_adm = gpd.read_file('27.대전광역시_행정경계(읍면동).geojson')\n",
        "daejeon = gpd.read_file('28.대전광역시_연속지적도.geojson')"
      ],
      "id": "intensive-tamil",
      "execution_count": null,
      "outputs": []
    },
    {
      "cell_type": "code",
      "metadata": {
        "id": "comic-chamber"
      },
      "source": [
        "acc_cnt"
      ],
      "id": "comic-chamber",
      "execution_count": null,
      "outputs": []
    },
    {
      "cell_type": "code",
      "metadata": {
        "id": "ranking-drain"
      },
      "source": [
        "acc_hist.사고유형.value_counts()"
      ],
      "id": "ranking-drain",
      "execution_count": null,
      "outputs": []
    },
    {
      "cell_type": "markdown",
      "metadata": {
        "id": "romance-portable"
      },
      "source": [
        "단순하게 차대차, 차대사람, 차량단독으로 구분지을 수도 있지만 차대사람 \n",
        "유형중에서도  \n",
        "차도통행중, 보도통행중같은 경우는 사고에 영향을 끼치는 \n",
        "    안전시설물들의 유형이 다를 것이라  \n",
        "    예상된다.  \n",
        "    따라서 교통안전시설물과의 인과관계를 분석\n",
        "    하기 위해서는 사고 유형을 세분화해서 분석을 진행하였다."
      ],
      "id": "romance-portable"
    },
    {
      "cell_type": "markdown",
      "metadata": {
        "id": "hawaiian-supervision"
      },
      "source": [
        "### **정규식을 활용한 유형분류**"
      ],
      "id": "hawaiian-supervision"
    },
    {
      "cell_type": "markdown",
      "metadata": {
        "id": "confirmed-success"
      },
      "source": [
        "#### 사고유형별로 구분"
      ],
      "id": "confirmed-success"
    },
    {
      "cell_type": "code",
      "metadata": {
        "id": "ambient-culture"
      },
      "source": [
        "acc_car=pd.DataFrame(columns=['사고일','시군구','사고유형','법규위반','사고내용',\n",
        "                            '사망자수','중상자수','경상자수','부상신고자수','가해운전자차종',\n",
        "                            '가해운전자연령대','가해운전자성별','피해자운전자차종','피해운전자연령대',\n",
        "                            '피해운전자성별','gid'])\n",
        "acc_per=pd.DataFrame(columns=['사고일','시군구','사고유형','법규위반','사고내용',\n",
        "                            '사망자수','중상자수','경상자수','부상신고자수','가해운전자차종',\n",
        "                            '가해운전자연령대','가해운전자성별','피해자운전자차종','피해운전자연령대',\n",
        "                            '피해운전자성별','gid'])\n",
        "acc_alone=pd.DataFrame(columns=['사고일','시군구','사고유형','법규위반','사고내용',\n",
        "                            '사망자수','중상자수','경상자수','부상신고자수','가해운전자차종',\n",
        "                            '가해운전자연령대','가해운전자성별','피해자운전자차종','피해운전자연령대',\n",
        "                            '피해운전자성별','gid'])\n",
        "\n",
        "for i in range(len(acc_hist)):                #차대차 유형만 분류한 데이터프레임 생성\n",
        "    m = re.search('^차대차',acc_hist.사고유형[i])\n",
        "    if m:\n",
        "        ls = list(acc_hist.iloc[i,:])\n",
        "        acc_car=acc_car.append({'사고일':ls[0],'시군구':ls[1],'사고유형':ls[2],'법규위반':ls[3],\n",
        "                               '사고내용':ls[4],'사망자수':ls[5],'중상자수':ls[6],'경상자수':ls[7],\n",
        "                               '부상신고자수':ls[8],'가해운전자차종':ls[9],'가해운전자연령대':ls[10],\n",
        "                                '가해운전자성별':ls[11],\n",
        "                               '피해자운전자차종':ls[12],'피해운전자연령대':ls[13],'피해운전자성별':ls[14],\n",
        "                                'gid':ls[15]},ignore_index=True)\n",
        "        \n",
        "for i in range(len(acc_hist)):              #차대사람 유형만 분류한 데이터프레임 생성\n",
        "    m = re.search('^차대사람',acc_hist.사고유형[i])\n",
        "    if m:\n",
        "        ls = list(acc_hist.iloc[i,:])\n",
        "        acc_per=acc_per.append({'사고일':ls[0],'시군구':ls[1],'사고유형':ls[2],'법규위반':ls[3],\n",
        "                               '사고내용':ls[4],'사망자수':ls[5],'중상자수':ls[6],'경상자수':ls[7],\n",
        "                               '부상신고자수':ls[8],'가해운전자차종':ls[9],'가해운전자연령대':ls[10],\n",
        "                                '가해운전자성별':ls[11],\n",
        "                               '피해자운전자차종':ls[12],'피해운전자연령대':ls[13],'피해운전자성별':ls[14],\n",
        "                                'gid':ls[15]},ignore_index=True)\n",
        "\n",
        "        \n",
        "for i in range(len(acc_hist)):            #차량단독 유형만 분류한 데이터프레임 생성\n",
        "    m = re.search('^차량단독',acc_hist.사고유형[i])\n",
        "    if m:\n",
        "        ls = list(acc_hist.iloc[i,:])\n",
        "        acc_alone=acc_alone.append({'사고일':ls[0],'시군구':ls[1],'사고유형':ls[2],'법규위반':ls[3],\n",
        "                               '사고내용':ls[4],'사망자수':ls[5],'중상자수':ls[6],'경상자수':ls[7],\n",
        "                               '부상신고자수':ls[8],'가해운전자차종':ls[9],'가해운전자연령대':ls[10],\n",
        "                                '가해운전자성별':ls[11],\n",
        "                               '피해자운전자차종':ls[12],'피해운전자연령대':ls[13],'피해운전자성별':ls[14],\n",
        "                                'gid':ls[15]},ignore_index=True)"
      ],
      "id": "ambient-culture",
      "execution_count": null,
      "outputs": []
    },
    {
      "cell_type": "markdown",
      "metadata": {
        "id": "ready-grass"
      },
      "source": [
        "분류된 데이터셋"
      ],
      "id": "ready-grass"
    },
    {
      "cell_type": "code",
      "metadata": {
        "id": "christian-richards"
      },
      "source": [
        "acc_alone.head(3)"
      ],
      "id": "christian-richards",
      "execution_count": null,
      "outputs": []
    },
    {
      "cell_type": "code",
      "metadata": {
        "id": "limited-membership"
      },
      "source": [
        "acc_per.head(3)"
      ],
      "id": "limited-membership",
      "execution_count": null,
      "outputs": []
    },
    {
      "cell_type": "markdown",
      "metadata": {
        "id": "intellectual-dictionary"
      },
      "source": [
        "또한 반대로 사고유형을 단순화 시키는 것도 가능  \n",
        "ex) '차대차-측면추돌' -> '차대차'"
      ],
      "id": "intellectual-dictionary"
    },
    {
      "cell_type": "code",
      "metadata": {
        "id": "religious-feeling"
      },
      "source": [
        "acc_hist_simp=pd.DataFrame(columns=['사고일','시군구','사고유형','법규위반','사고내용',\n",
        "                            '사망자수','중상자수','경상자수','부상신고자수','가해운전자차종',\n",
        "                            '가해운전자연령대','가해운전자성별','피해자운전자차종','피해운전자연령대',\n",
        "                            '피해운전자성별','gid'])\n",
        "\n",
        "\n",
        "for i in range(len(acc_hist)):                \n",
        "    m = re.search('^차대차',acc_hist.사고유형[i])\n",
        "    if m:\n",
        "        ls = list(acc_hist.iloc[i,:])\n",
        "        ls[2] = '차대차'\n",
        "        acc_hist_simp=acc_hist_simp.append({'사고일':ls[0],'시군구':ls[1],'사고유형':ls[2],'법규위반':ls[3],\n",
        "                               '사고내용':ls[4],'사망자수':ls[5],'중상자수':ls[6],'경상자수':ls[7],\n",
        "                               '부상신고자수':ls[8],'가해운전자차종':ls[9],'가해운전자연령대':ls[10],\n",
        "                                '가해운전자성별':ls[11],\n",
        "                               '피해자운전자차종':ls[12],'피해운전자연령대':ls[13],'피해운전자성별':ls[14],\n",
        "                                'gid':ls[15]},ignore_index=True)\n",
        "        \n",
        "for i in range(len(acc_hist)):               \n",
        "    m = re.search('^차대사람',acc_hist.사고유형[i])\n",
        "    if m:\n",
        "        ls = list(acc_hist.iloc[i,:])\n",
        "        ls[2] = '차대사람'\n",
        "        acc_hist_simp=acc_hist_simp.append({'사고일':ls[0],'시군구':ls[1],'사고유형':ls[2],'법규위반':ls[3],\n",
        "                               '사고내용':ls[4],'사망자수':ls[5],'중상자수':ls[6],'경상자수':ls[7],\n",
        "                               '부상신고자수':ls[8],'가해운전자차종':ls[9],'가해운전자연령대':ls[10],\n",
        "                                '가해운전자성별':ls[11],\n",
        "                               '피해자운전자차종':ls[12],'피해운전자연령대':ls[13],'피해운전자성별':ls[14],\n",
        "                                'gid':ls[15]},ignore_index=True)\n",
        "\n",
        "        \n",
        "for i in range(len(acc_hist)):               \n",
        "    m = re.search('^차량단독',acc_hist.사고유형[i])\n",
        "    if m:\n",
        "        ls = list(acc_hist.iloc[i,:])\n",
        "        ls[2] = '차량단독'\n",
        "        acc_hist_simp=acc_hist_simp.append({'사고일':ls[0],'시군구':ls[1],'사고유형':ls[2],'법규위반':ls[3],\n",
        "                               '사고내용':ls[4],'사망자수':ls[5],'중상자수':ls[6],'경상자수':ls[7],\n",
        "                               '부상신고자수':ls[8],'가해운전자차종':ls[9],'가해운전자연령대':ls[10],\n",
        "                                '가해운전자성별':ls[11],\n",
        "                               '피해자운전자차종':ls[12],'피해운전자연령대':ls[13],'피해운전자성별':ls[14],\n",
        "                                'gid':ls[15]},ignore_index=True)"
      ],
      "id": "religious-feeling",
      "execution_count": null,
      "outputs": []
    },
    {
      "cell_type": "code",
      "metadata": {
        "id": "amber-journalist"
      },
      "source": [
        "acc_hist_simp"
      ],
      "id": "amber-journalist",
      "execution_count": null,
      "outputs": []
    },
    {
      "cell_type": "markdown",
      "metadata": {
        "id": "confident-kansas"
      },
      "source": [
        "위와 같은 방식으로 운전자 성별, 연령대에 따른 분류도 가능함"
      ],
      "id": "confident-kansas"
    },
    {
      "cell_type": "markdown",
      "metadata": {
        "id": "institutional-knife"
      },
      "source": [
        "#### 사고내용(정도)에 따른 분류"
      ],
      "id": "institutional-knife"
    },
    {
      "cell_type": "code",
      "metadata": {
        "scrolled": true,
        "id": "seven-bronze"
      },
      "source": [
        "acc_hist.사고내용.value_counts()"
      ],
      "id": "seven-bronze",
      "execution_count": null,
      "outputs": []
    },
    {
      "cell_type": "code",
      "metadata": {
        "id": "heavy-farmer"
      },
      "source": [
        "acc_minor=pd.DataFrame(columns=['사고일','시군구','사고유형','법규위반','사고내용',\n",
        "                            '사망자수','중상자수','경상자수','부상신고자수','가해운전자차종',\n",
        "                            '가해운전자연령대','가해운전자성별','피해자운전자차종','피해운전자연령대',\n",
        "                            '피해운전자성별','gid'])\n",
        "acc_fatal=pd.DataFrame(columns=['사고일','시군구','사고유형','법규위반','사고내용',\n",
        "                            '사망자수','중상자수','경상자수','부상신고자수','가해운전자차종',\n",
        "                            '가해운전자연령대','가해운전자성별','피해자운전자차종','피해운전자연령대',\n",
        "                            '피해운전자성별','gid'])\n",
        "acc_dead=pd.DataFrame(columns=['사고일','시군구','사고유형','법규위반','사고내용',\n",
        "                            '사망자수','중상자수','경상자수','부상신고자수','가해운전자차종',\n",
        "                            '가해운전자연령대','가해운전자성별','피해자운전자차종','피해운전자연령대',\n",
        "                            '피해운전자성별','gid'])\n",
        "acc_injury=pd.DataFrame(columns=['사고일','시군구','사고유형','법규위반','사고내용',\n",
        "                            '사망자수','중상자수','경상자수','부상신고자수','가해운전자차종',\n",
        "                            '가해운전자연령대','가해운전자성별','피해자운전자차종','피해운전자연령대',\n",
        "                            '피해운전자성별','gid'])\n",
        "\n",
        "for i in range(len(acc_hist)):                #경상 유형만 분류한 데이터프레임 생성\n",
        "    m = re.search('^경상사고',acc_hist.사고내용[i])\n",
        "    if m:\n",
        "        ls = list(acc_hist.iloc[i,:])\n",
        "        acc_minor=acc_minor.append({'사고일':ls[0],'시군구':ls[1],'사고유형':ls[2],'법규위반':ls[3],\n",
        "                               '사고내용':ls[4],'사망자수':ls[5],'중상자수':ls[6],'경상자수':ls[7],\n",
        "                               '부상신고자수':ls[8],'가해운전자차종':ls[9],'가해운전자연령대':ls[10],\n",
        "                                '가해운전자성별':ls[11],\n",
        "                               '피해자운전자차종':ls[12],'피해운전자연령대':ls[13],'피해운전자성별':ls[14],\n",
        "                                'gid':ls[15]},ignore_index=True)\n",
        "        \n",
        "for i in range(len(acc_hist)):                #중상 유형만 분류한 데이터프레임 생성\n",
        "    m = re.search('^중상사고',acc_hist.사고내용[i])\n",
        "    if m:\n",
        "        ls = list(acc_hist.iloc[i,:])\n",
        "        acc_fatal=acc_fatal.append({'사고일':ls[0],'시군구':ls[1],'사고유형':ls[2],'법규위반':ls[3],\n",
        "                               '사고내용':ls[4],'사망자수':ls[5],'중상자수':ls[6],'경상자수':ls[7],\n",
        "                               '부상신고자수':ls[8],'가해운전자차종':ls[9],'가해운전자연령대':ls[10],\n",
        "                                '가해운전자성별':ls[11],\n",
        "                               '피해자운전자차종':ls[12],'피해운전자연령대':ls[13],'피해운전자성별':ls[14],\n",
        "                                'gid':ls[15]},ignore_index=True)\n",
        "        \n",
        "for i in range(len(acc_hist)):                #부상 유형만 분류한 데이터프레임 생성\n",
        "    m = re.search('^부상신고사고',acc_hist.사고내용[i])\n",
        "    if m:\n",
        "        ls = list(acc_hist.iloc[i,:])\n",
        "        acc_injury=acc_injury.append({'사고일':ls[0],'시군구':ls[1],'사고유형':ls[2],'법규위반':ls[3],\n",
        "                               '사고내용':ls[4],'사망자수':ls[5],'중상자수':ls[6],'경상자수':ls[7],\n",
        "                               '부상신고자수':ls[8],'가해운전자차종':ls[9],'가해운전자연령대':ls[10],\n",
        "                                '가해운전자성별':ls[11],\n",
        "                               '피해자운전자차종':ls[12],'피해운전자연령대':ls[13],'피해운전자성별':ls[14],\n",
        "                                'gid':ls[15]},ignore_index=True)\n",
        "        \n",
        "for i in range(len(acc_hist)):                #사망 유형만 분류한 데이터프레임 생성\n",
        "    m = re.search('^사망사고',acc_hist.사고내용[i])\n",
        "    if m:\n",
        "        ls = list(acc_hist.iloc[i,:])\n",
        "        acc_dead=acc_dead.append({'사고일':ls[0],'시군구':ls[1],'사고유형':ls[2],'법규위반':ls[3],\n",
        "                               '사고내용':ls[4],'사망자수':ls[5],'중상자수':ls[6],'경상자수':ls[7],\n",
        "                               '부상신고자수':ls[8],'가해운전자차종':ls[9],'가해운전자연령대':ls[10],\n",
        "                                '가해운전자성별':ls[11],\n",
        "                               '피해자운전자차종':ls[12],'피해운전자연령대':ls[13],'피해운전자성별':ls[14],\n",
        "                                'gid':ls[15]},ignore_index=True)"
      ],
      "id": "heavy-farmer",
      "execution_count": null,
      "outputs": []
    },
    {
      "cell_type": "markdown",
      "metadata": {
        "id": "severe-drove"
      },
      "source": [
        "분류된 데이터셋"
      ],
      "id": "severe-drove"
    },
    {
      "cell_type": "code",
      "metadata": {
        "id": "pacific-british"
      },
      "source": [
        "acc_dead.head(3)"
      ],
      "id": "pacific-british",
      "execution_count": null,
      "outputs": []
    },
    {
      "cell_type": "code",
      "metadata": {
        "id": "public-helmet"
      },
      "source": [
        "acc_minor.head(3)"
      ],
      "id": "public-helmet",
      "execution_count": null,
      "outputs": []
    },
    {
      "cell_type": "markdown",
      "metadata": {
        "id": "brown-refund"
      },
      "source": [
        "### 사고유형별 사고정도 비율 확인"
      ],
      "id": "brown-refund"
    },
    {
      "cell_type": "code",
      "metadata": {
        "id": "administrative-sample"
      },
      "source": [
        "acc_car_cnt = len(acc_car)\n",
        "acc_per_cnt = len(acc_per)\n",
        "acc_alone_cnt = len(acc_alone)"
      ],
      "id": "administrative-sample",
      "execution_count": null,
      "outputs": []
    },
    {
      "cell_type": "code",
      "metadata": {
        "id": "external-insured"
      },
      "source": [
        "print(acc_car_cnt / (acc_car_cnt + acc_per_cnt + acc_alone_cnt))\n",
        "print(acc_per_cnt / (acc_car_cnt + acc_per_cnt + acc_alone_cnt))\n",
        "print(acc_alone_cnt / (acc_car_cnt + acc_per_cnt + acc_alone_cnt))"
      ],
      "id": "external-insured",
      "execution_count": null,
      "outputs": []
    },
    {
      "cell_type": "markdown",
      "metadata": {
        "id": "spoken-prefix"
      },
      "source": [
        "차대차 사고: 약 77%  \n",
        "차대사람 사고: 약 20%  \n",
        "차량단독 사고: 약 3%  \n",
        "  \n",
        "차대차, 차대사람 사고에 중점을 둬서 분석해야함"
      ],
      "id": "spoken-prefix"
    },
    {
      "cell_type": "markdown",
      "metadata": {
        "id": "affected-rebound"
      },
      "source": [
        "#### 차대차 사고에서의 사고정도 확인"
      ],
      "id": "affected-rebound"
    },
    {
      "cell_type": "code",
      "metadata": {
        "id": "provincial-festival"
      },
      "source": [
        "acc_car.사고내용.value_counts()"
      ],
      "id": "provincial-festival",
      "execution_count": null,
      "outputs": []
    },
    {
      "cell_type": "code",
      "metadata": {
        "id": "tropical-scottish"
      },
      "source": [
        "print(14244 / (14244+3519+406+83))\n",
        "print(3519 / (14244+3519+406+83))\n",
        "print(406 / (14244+3519+406+83))\n",
        "print(83 / (14244+3519+406+83))"
      ],
      "id": "tropical-scottish",
      "execution_count": null,
      "outputs": []
    },
    {
      "cell_type": "markdown",
      "metadata": {
        "id": "settled-litigation"
      },
      "source": [
        "#### 차대사람 사고에서의 사고정도 확인"
      ],
      "id": "settled-litigation"
    },
    {
      "cell_type": "code",
      "metadata": {
        "id": "other-celebration"
      },
      "source": [
        "acc_per.사고내용.value_counts()"
      ],
      "id": "other-celebration",
      "execution_count": null,
      "outputs": []
    },
    {
      "cell_type": "code",
      "metadata": {
        "id": "violent-motor"
      },
      "source": [
        "print(2648 / (2648+1749+162+127))\n",
        "print(1749 / (2648+1749+162+127))\n",
        "print(162 / (2648+1749+162+127))\n",
        "print(127 / (2648+1749+162+127))"
      ],
      "id": "violent-motor",
      "execution_count": null,
      "outputs": []
    },
    {
      "cell_type": "markdown",
      "metadata": {
        "id": "satellite-abuse"
      },
      "source": [
        "경상사고: 약 56%  \n",
        "중상사고: 약 37%  \n",
        "부상신고사고: 약 3%  \n",
        "사망사고: 약 2%"
      ],
      "id": "satellite-abuse"
    },
    {
      "cell_type": "markdown",
      "metadata": {
        "id": "shared-alexandria"
      },
      "source": [
        "#### 차량단독 사고에서의 사고정도 확인"
      ],
      "id": "shared-alexandria"
    },
    {
      "cell_type": "code",
      "metadata": {
        "id": "alive-inflation"
      },
      "source": [
        "acc_alone.사고내용.value_counts()"
      ],
      "id": "alive-inflation",
      "execution_count": null,
      "outputs": []
    },
    {
      "cell_type": "code",
      "metadata": {
        "id": "indian-guidance"
      },
      "source": [
        "print(373 / (373+250+49+40))\n",
        "print(250 / (373+250+49+40))\n",
        "print(49 / (373+250+49+40))\n",
        "print(40 / (373+250+49+40))"
      ],
      "id": "indian-guidance",
      "execution_count": null,
      "outputs": []
    },
    {
      "cell_type": "markdown",
      "metadata": {
        "id": "appropriate-supplier"
      },
      "source": [
        "경상사고: 약 52%  \n",
        "중상사고: 약 35%  \n",
        "부상신고사고: 약 6%  \n",
        "사망사고: 약 5%"
      ],
      "id": "appropriate-supplier"
    },
    {
      "cell_type": "markdown",
      "metadata": {
        "id": "european-horror"
      },
      "source": [
        "종합하면 중상사고와 사망사고를 더 위험하다고 했을때,  \n",
        "사고가 났을 때 가장 위험도가 높은 순서대로 나열하면  \n",
        "*차량단독사고(57%) > 차대사람(39%) > 차대차(19.4%)*이다."
      ],
      "id": "european-horror"
    },
    {
      "cell_type": "code",
      "metadata": {
        "id": "surgical-crown"
      },
      "source": [
        "plt.rcParams['font.family'] = 'NanumGothic'"
      ],
      "id": "surgical-crown",
      "execution_count": null,
      "outputs": []
    },
    {
      "cell_type": "code",
      "metadata": {
        "scrolled": true,
        "id": "comic-veteran"
      },
      "source": [
        "fig, ax = plt.subplots(1, 3, figsize=(20, 5))\n",
        "\n",
        "ax[0].hist(acc_car.사고내용)              # 중상사고, 경상사고, 부상신고사고, 사망사고\n",
        "ax[0].set_title(\"acc_car\")\n",
        "\n",
        "ax[1].hist(acc_per.사고내용)\n",
        "ax[1].set_title(\"acc_person\")\n",
        "\n",
        "ax[2].hist(acc_alone.사고내용)\n",
        "ax[2].set_title(\"acc_alone\")\n",
        "\n",
        "\n",
        "plt.show()"
      ],
      "id": "comic-veteran",
      "execution_count": null,
      "outputs": []
    },
    {
      "cell_type": "markdown",
      "metadata": {
        "id": "chubby-convention"
      },
      "source": [
        "### 사고정도별 사고유형 비율 확인"
      ],
      "id": "chubby-convention"
    },
    {
      "cell_type": "markdown",
      "metadata": {
        "id": "intended-episode"
      },
      "source": [
        "이번에는 반대로 사고정도별로 각 사고유형이 얼마나 높은 비중을 차지하는지 알아보기로 했다"
      ],
      "id": "intended-episode"
    },
    {
      "cell_type": "markdown",
      "metadata": {
        "id": "balanced-webster"
      },
      "source": [
        "우선 사고유형을 단순화 하기로함"
      ],
      "id": "balanced-webster"
    },
    {
      "cell_type": "code",
      "metadata": {
        "id": "about-dryer"
      },
      "source": [
        "acc_minor_simp=pd.DataFrame(columns=['사고일','시군구','사고유형','법규위반','사고내용',\n",
        "                            '사망자수','중상자수','경상자수','부상신고자수','가해운전자차종',\n",
        "                            '가해운전자연령대','가해운전자성별','피해자운전자차종','피해운전자연령대',\n",
        "                            '피해운전자성별','gid'])\n",
        "acc_fatal_simp=pd.DataFrame(columns=['사고일','시군구','사고유형','법규위반','사고내용',\n",
        "                            '사망자수','중상자수','경상자수','부상신고자수','가해운전자차종',\n",
        "                            '가해운전자연령대','가해운전자성별','피해자운전자차종','피해운전자연령대',\n",
        "                            '피해운전자성별','gid'])\n",
        "acc_dead_simp=pd.DataFrame(columns=['사고일','시군구','사고유형','법규위반','사고내용',\n",
        "                            '사망자수','중상자수','경상자수','부상신고자수','가해운전자차종',\n",
        "                            '가해운전자연령대','가해운전자성별','피해자운전자차종','피해운전자연령대',\n",
        "                            '피해운전자성별','gid'])\n",
        "acc_injury_simp=pd.DataFrame(columns=['사고일','시군구','사고유형','법규위반','사고내용',\n",
        "                            '사망자수','중상자수','경상자수','부상신고자수','가해운전자차종',\n",
        "                            '가해운전자연령대','가해운전자성별','피해자운전자차종','피해운전자연령대',\n",
        "                            '피해운전자성별','gid'])\n",
        "\n",
        "for i in range(len(acc_hist_simp)):                #경상 유형만 분류한 데이터프레임 생성\n",
        "    m = re.search('^경상사고',acc_hist_simp.사고내용[i])\n",
        "    if m:\n",
        "        ls = list(acc_hist_simp.iloc[i,:])\n",
        "        acc_minor_simp=acc_minor_simp.append({'사고일':ls[0],'시군구':ls[1],'사고유형':ls[2],'법규위반':ls[3],\n",
        "                               '사고내용':ls[4],'사망자수':ls[5],'중상자수':ls[6],'경상자수':ls[7],\n",
        "                               '부상신고자수':ls[8],'가해운전자차종':ls[9],'가해운전자연령대':ls[10],\n",
        "                                '가해운전자성별':ls[11],\n",
        "                               '피해자운전자차종':ls[12],'피해운전자연령대':ls[13],'피해운전자성별':ls[14],\n",
        "                                'gid':ls[15]},ignore_index=True)\n",
        "        \n",
        "for i in range(len(acc_hist_simp)):                #중상 유형만 분류한 데이터프레임 생성\n",
        "    m = re.search('^중상사고',acc_hist_simp.사고내용[i])\n",
        "    if m:\n",
        "        ls = list(acc_hist_simp.iloc[i,:])\n",
        "        acc_fatal_simp=acc_fatal_simp.append({'사고일':ls[0],'시군구':ls[1],'사고유형':ls[2],'법규위반':ls[3],\n",
        "                               '사고내용':ls[4],'사망자수':ls[5],'중상자수':ls[6],'경상자수':ls[7],\n",
        "                               '부상신고자수':ls[8],'가해운전자차종':ls[9],'가해운전자연령대':ls[10],\n",
        "                                '가해운전자성별':ls[11],\n",
        "                               '피해자운전자차종':ls[12],'피해운전자연령대':ls[13],'피해운전자성별':ls[14],\n",
        "                                'gid':ls[15]},ignore_index=True)\n",
        "        \n",
        "for i in range(len(acc_hist_simp)):                #부상 유형만 분류한 데이터프레임 생성\n",
        "    m = re.search('^부상신고사고',acc_hist_simp.사고내용[i])\n",
        "    if m:\n",
        "        ls = list(acc_hist_simp.iloc[i,:])\n",
        "        acc_injury_simp=acc_injury_simp.append({'사고일':ls[0],'시군구':ls[1],'사고유형':ls[2],'법규위반':ls[3],\n",
        "                               '사고내용':ls[4],'사망자수':ls[5],'중상자수':ls[6],'경상자수':ls[7],\n",
        "                               '부상신고자수':ls[8],'가해운전자차종':ls[9],'가해운전자연령대':ls[10],\n",
        "                                '가해운전자성별':ls[11],\n",
        "                               '피해자운전자차종':ls[12],'피해운전자연령대':ls[13],'피해운전자성별':ls[14],\n",
        "                                'gid':ls[15]},ignore_index=True)\n",
        "        \n",
        "for i in range(len(acc_hist_simp)):                #사망 유형만 분류한 데이터프레임 생성\n",
        "    m = re.search('^사망사고',acc_hist_simp.사고내용[i])\n",
        "    if m:\n",
        "        ls = list(acc_hist_simp.iloc[i,:])\n",
        "        acc_dead_simp=acc_dead_simp.append({'사고일':ls[0],'시군구':ls[1],'사고유형':ls[2],'법규위반':ls[3],\n",
        "                               '사고내용':ls[4],'사망자수':ls[5],'중상자수':ls[6],'경상자수':ls[7],\n",
        "                               '부상신고자수':ls[8],'가해운전자차종':ls[9],'가해운전자연령대':ls[10],\n",
        "                                '가해운전자성별':ls[11],\n",
        "                               '피해자운전자차종':ls[12],'피해운전자연령대':ls[13],'피해운전자성별':ls[14],\n",
        "                                'gid':ls[15]},ignore_index=True)"
      ],
      "id": "about-dryer",
      "execution_count": null,
      "outputs": []
    },
    {
      "cell_type": "code",
      "metadata": {
        "id": "pretty-photographer"
      },
      "source": [
        "fig, ax = plt.subplots(1, 4, figsize=(20, 5))\n",
        "\n",
        "ax[0].hist(acc_dead_simp.사고유형)              #왼쪽부터 차대차, 차대사람, 차량단독\n",
        "ax[0].set_title(\"acc_dead\")\n",
        "\n",
        "ax[1].hist(acc_fatal_simp.사고유형)\n",
        "ax[1].set_title(\"acc_fatal\")\n",
        "\n",
        "ax[2].hist(acc_minor_simp.사고유형)\n",
        "ax[2].set_title(\"acc_minor\")\n",
        "\n",
        "ax[3].hist(acc_injury_simp.사고유형)\n",
        "ax[3].set_title(\"acc_injury\")\n",
        "\n",
        "plt.rcParams['font.family'] = 'NanumGothic'\n",
        "plt.show()"
      ],
      "id": "pretty-photographer",
      "execution_count": null,
      "outputs": []
    },
    {
      "cell_type": "markdown",
      "metadata": {
        "id": "white-national"
      },
      "source": [
        "사망자가 발생한 사고의 경우는 차대사람 사고 유형의 비율이 가장 높았으나, 나머지 중상,경상,부상은 차대차 사고 유형의 비율이 높음을 알 수 있다."
      ],
      "id": "white-national"
    },
    {
      "cell_type": "markdown",
      "metadata": {
        "id": "partial-placement"
      },
      "source": [
        "**결론종합**  \n",
        "  \n",
        "**1. 사고가 발생했을 때 가장 위험도가 높은 사고 유형은 차량단독사고 유형이고 그 다음은 차대사람 유형이다**  \n",
        "**2. 실제로 사망자 발생 사고에서 가장 높은 비중을 차지하는 유형은 차대사람사고 유형이다**  "
      ],
      "id": "partial-placement"
    },
    {
      "cell_type": "markdown",
      "metadata": {
        "id": "acknowledged-skiing"
      },
      "source": [
        "**위험도가 높은 사고는 차량단독이지만 실제로 사고발생건수에서 차지하는 비율이 적어 실제 사망자수와 중상자수에 많은 영향을 끼치는 사고들은 차대사람, 차대차사고 유형이다.**"
      ],
      "id": "acknowledged-skiing"
    },
    {
      "cell_type": "markdown",
      "metadata": {
        "id": "former-symphony"
      },
      "source": [
        "**따라서 중상,사망 사고의 발생률을 낮추기 위해서 차량단독의 경우에는 상대적으로 발생건수를 줄이기 위한 노력보다 사고의 위험성을 감소시키는 장치가 필요하고, 차대차 사고의 경우는 발생 건수 자체를 줄이는 방법에 더 비중을 둬야한다. 차대사람은 위험성도 낮추고 사고 발생건수도 감소시켜야 한다.** "
      ],
      "id": "former-symphony"
    },
    {
      "cell_type": "code",
      "metadata": {
        "id": "floating-constitutional"
      },
      "source": [
        ""
      ],
      "id": "floating-constitutional",
      "execution_count": null,
      "outputs": []
    },
    {
      "cell_type": "markdown",
      "metadata": {
        "id": "saving-belief"
      },
      "source": [
        "--------------------\n",
        "# 연령대별 특징 파악\n",
        "--------------------"
      ],
      "id": "saving-belief"
    },
    {
      "cell_type": "code",
      "metadata": {
        "id": "abandoned-coverage"
      },
      "source": [
        "from geoband.API import *\n",
        "\n",
        "from tqdm import tqdm\n",
        "import random\n",
        "import pandas as pd\n",
        "import numpy as np\n",
        "import matplotlib.pyplot as plt\n",
        "import folium\n",
        "import json\n",
        "import geopandas as gpd\n",
        "import geopy.distance\n",
        "\n",
        "import pydeck as pdk\n",
        "import shapely\n",
        "import shapefile\n",
        "import os\n",
        "import re\n",
        "import mapboxgl\n",
        "from mapboxgl.viz import *\n",
        "import seaborn as sns\n",
        "\n",
        "import platform\n",
        "import requests; from urllib.parse import urlparse\n",
        "\n",
        "import warnings\n",
        "warnings.filterwarnings(action='ignore') #경고 메시지 무시\n",
        "from IPython.display import display #print가 아닌 display()로 연속 출력"
      ],
      "id": "abandoned-coverage",
      "execution_count": null,
      "outputs": []
    },
    {
      "cell_type": "code",
      "metadata": {
        "id": "featured-intelligence"
      },
      "source": [
        "total = gpd.read_file('full_data.geojson') #정제전 통합 데이터\n",
        "data = gpd.read_file('daejeon_data.geojson')"
      ],
      "id": "featured-intelligence",
      "execution_count": null,
      "outputs": []
    },
    {
      "cell_type": "markdown",
      "metadata": {
        "id": "informative-geometry"
      },
      "source": [
        "## 격자별 평균 연령 계산"
      ],
      "id": "informative-geometry"
    },
    {
      "cell_type": "code",
      "metadata": {
        "id": "dense-natural"
      },
      "source": [
        "tmp = total[['gid','acci_cnt','attack_under_10 ','attack_10', 'attack_20',\n",
        "       'attack_30', 'attack_40', 'attack_50', 'attack_60', 'attack_70',\n",
        "       'attack_80', 'attack_90' ]] # 가해자\n",
        "tmp2 = total[['gid','acci_cnt','victim_under_10','victim_10', 'victim_20',\n",
        "       'victim_30', 'victim_40', 'victim_50', 'victim_60', 'victim_70',\n",
        "       'victim_80', 'victim_90' ]] #피해자"
      ],
      "id": "dense-natural",
      "execution_count": null,
      "outputs": []
    },
    {
      "cell_type": "code",
      "metadata": {
        "id": "unauthorized-suspension"
      },
      "source": [
        "tmp['avg_age_a'] = tmp['attack_under_10 ']*5 + tmp['attack_10']*15 + tmp['attack_20']*25 + tmp['attack_30']*35 + tmp['attack_40']*45 + tmp['attack_50']*55 + tmp['attack_60']*65 + tmp['attack_70']*75 + tmp['attack_80']*85 + tmp['attack_90']*95\n",
        "tmp['avg_age_a'] = tmp['avg_age_a'] / tmp['acci_cnt']\n",
        "\n",
        "tmp2['avg_age_v'] = tmp2['victim_under_10']*5 + tmp2['victim_10']*15 + tmp2['victim_20']*25 + tmp2['victim_30']*35 + tmp2['victim_40']*45 + tmp2['victim_50']*55 + tmp2['victim_60']*65 + tmp2['victim_70']*75 + tmp2['victim_80']*85 + tmp2['victim_90']*95\n",
        "tmp2['avg_age_v'] = tmp2['avg_age_v'] / tmp2['acci_cnt']"
      ],
      "id": "unauthorized-suspension",
      "execution_count": null,
      "outputs": []
    },
    {
      "cell_type": "code",
      "metadata": {
        "id": "solar-citizenship"
      },
      "source": [
        "eda = tmp.merge(tmp2[['gid', 'avg_age_v']], on='gid')"
      ],
      "id": "solar-citizenship",
      "execution_count": null,
      "outputs": []
    },
    {
      "cell_type": "code",
      "metadata": {
        "id": "distinct-express"
      },
      "source": [
        "sns.distplot(eda['avg_age_a'], \n",
        "\n",
        "             color=\"blue\", label=\"avg_age_a\", bins=10, kde=False)\n",
        "\n",
        "\n",
        "\n",
        "sns.distplot(eda['avg_age_v'], \n",
        "\n",
        "             color=\"red\", label=\"avg_age_v\", bins=10, kde=False)\n",
        "\n",
        "\n",
        "plt.xlabel('age')\n",
        "plt.ylabel('count')\n",
        "\n",
        "plt.legend(title=\"type\")\n",
        "\n",
        "plt.show()\n"
      ],
      "id": "distinct-express",
      "execution_count": null,
      "outputs": []
    },
    {
      "cell_type": "markdown",
      "metadata": {
        "id": "hungry-imperial"
      },
      "source": [
        "3년간 교통사고 의 격자별 가해자(age_a)와 피해자(age_v) 평균 연령 분포"
      ],
      "id": "hungry-imperial"
    },
    {
      "cell_type": "markdown",
      "metadata": {
        "id": "passive-parent"
      },
      "source": [
        "두 분포를 봤을 때, 평균 연령이 가해자냐 피해자냐에 따라 크게 변화하지는 않는 것으로 보인다. 다만, 피해자의 연령분포가 가해자에 비해 조금 더 어린 것으로 나타났다."
      ],
      "id": "passive-parent"
    },
    {
      "cell_type": "markdown",
      "metadata": {
        "id": "macro-namibia"
      },
      "source": [
        "## 평균 연령과 사고 건수의 관계"
      ],
      "id": "macro-namibia"
    },
    {
      "cell_type": "code",
      "metadata": {
        "id": "parliamentary-coordinate"
      },
      "source": [
        "sns.set_style(\"darkgrid\")\n",
        "sns.jointplot(data=eda, x=\"avg_age_a\", y=\"acci_cnt\", color='grey',joint_kws={'color':'green'},marginal_kws=dict(bins=15))"
      ],
      "id": "parliamentary-coordinate",
      "execution_count": null,
      "outputs": []
    },
    {
      "cell_type": "code",
      "metadata": {
        "id": "accessible-housing"
      },
      "source": [
        "sns.jointplot(data=eda, x=\"avg_age_v\", y=\"acci_cnt\", color='grey',joint_kws={'color':'green'},marginal_kws=dict(bins=15))"
      ],
      "id": "accessible-housing",
      "execution_count": null,
      "outputs": []
    },
    {
      "cell_type": "markdown",
      "metadata": {
        "id": "widespread-storage"
      },
      "source": [
        "사고건수와 가해자, 피해자의 평균 연령 분포는 선형관계가 보이지 않는다."
      ],
      "id": "widespread-storage"
    },
    {
      "cell_type": "markdown",
      "metadata": {
        "id": "scientific-financing"
      },
      "source": [
        "건수 대신 위험도를 넣고 다시 보자."
      ],
      "id": "scientific-financing"
    },
    {
      "cell_type": "markdown",
      "metadata": {
        "id": "italian-syndication"
      },
      "source": [
        "## 평균 연령과 사고 위험도 간의 관계"
      ],
      "id": "italian-syndication"
    },
    {
      "cell_type": "code",
      "metadata": {
        "id": "copyrighted-carol"
      },
      "source": [
        "eda = eda.merge(data[['gid', 'acci_risk']], on='gid')"
      ],
      "id": "copyrighted-carol",
      "execution_count": null,
      "outputs": []
    },
    {
      "cell_type": "code",
      "metadata": {
        "id": "satisfactory-drilling"
      },
      "source": [
        "sns.jointplot(data=eda, x=\"avg_age_a\", y=\"acci_risk\", marginal_kws=dict(bins=15, color='grey'),color='green')"
      ],
      "id": "satisfactory-drilling",
      "execution_count": null,
      "outputs": []
    },
    {
      "cell_type": "code",
      "metadata": {
        "id": "clear-proportion"
      },
      "source": [
        "sns.jointplot(data=eda, x=\"avg_age_v\", y=\"acci_risk\", marginal_kws=dict(bins=15, color='grey'),color='green')"
      ],
      "id": "clear-proportion",
      "execution_count": null,
      "outputs": []
    },
    {
      "cell_type": "markdown",
      "metadata": {
        "id": "still-viewer"
      },
      "source": [
        "건수 대신 위험도를 넣어도 연령대와 위험도간 선형 관계는 보이지 않는다."
      ],
      "id": "still-viewer"
    },
    {
      "cell_type": "markdown",
      "metadata": {
        "id": "finite-tackle"
      },
      "source": [
        "사고 유형별로 나누어서 다시 관계를 살펴보자."
      ],
      "id": "finite-tackle"
    },
    {
      "cell_type": "code",
      "metadata": {
        "id": "institutional-minutes"
      },
      "source": [
        "eda= eda.merge(data[['gid', 'acci_risk_ctc', 'acci_risk_cth']], on='gid')"
      ],
      "id": "institutional-minutes",
      "execution_count": null,
      "outputs": []
    },
    {
      "cell_type": "code",
      "metadata": {
        "id": "ignored-organizer"
      },
      "source": [
        "sns.jointplot(data=eda, x=\"avg_age_a\", y=\"acci_risk_ctc\", marginal_kws=dict(bins=15, color='grey'),color='green')"
      ],
      "id": "ignored-organizer",
      "execution_count": null,
      "outputs": []
    },
    {
      "cell_type": "code",
      "metadata": {
        "id": "final-sodium"
      },
      "source": [
        "sns.jointplot(data=eda, x=\"avg_age_v\", y=\"acci_risk_ctc\", marginal_kws=dict(bins=15, color='grey'),color='green')"
      ],
      "id": "final-sodium",
      "execution_count": null,
      "outputs": []
    },
    {
      "cell_type": "code",
      "metadata": {
        "id": "assumed-protein"
      },
      "source": [
        "sns.jointplot(data=eda, x=\"avg_age_a\", y=\"acci_risk_cth\", marginal_kws=dict(bins=15, color='grey'),color='green')"
      ],
      "id": "assumed-protein",
      "execution_count": null,
      "outputs": []
    },
    {
      "cell_type": "code",
      "metadata": {
        "id": "thirty-geography"
      },
      "source": [
        "sns.jointplot(data=eda, x=\"avg_age_v\", y=\"acci_risk_cth\", marginal_kws=dict(bins=15, color='grey'),color='green')"
      ],
      "id": "thirty-geography",
      "execution_count": null,
      "outputs": []
    },
    {
      "cell_type": "markdown",
      "metadata": {
        "id": "arabic-algorithm"
      },
      "source": [
        "위험도를 사고 유형별로 분리해서 봐도 나이와 상관관계(선형성)을 보이지 않았다."
      ],
      "id": "arabic-algorithm"
    },
    {
      "cell_type": "markdown",
      "metadata": {
        "id": "loved-protest"
      },
      "source": [
        "**결론: 특정 나이대가 특정 유형의 사고에 집중되어 있거나 가해자나 피해자의 연령대가 쏠려있다던지 하는 경향성이 전혀 보이지 않는다. 30-40대의 사고건수나 위험도가 높은 것은 인구 분포의 특성상 그 나이대가 가장 많은 나이대이기 때문인 것으로 보인다.**"
      ],
      "id": "loved-protest"
    },
    {
      "cell_type": "markdown",
      "metadata": {
        "id": "threatened-machine"
      },
      "source": [
        "**따라서 사고 관련자의 나이대는 확률적 요소에 의해 결정 되는 것으로 생각된다.**"
      ],
      "id": "threatened-machine"
    },
    {
      "cell_type": "markdown",
      "metadata": {
        "id": "alone-messenger"
      },
      "source": [
        "--------------------\n",
        "# 주요 변수 시각화\n",
        "--------------------"
      ],
      "id": "alone-messenger"
    },
    {
      "cell_type": "code",
      "metadata": {
        "id": "gorgeous-rolling"
      },
      "source": [
        "import pandas as pd\n",
        "import numpy as np\n",
        "import matplotlib.pyplot as plt\n",
        "import folium\n",
        "import json\n",
        "import geopandas as gpd\n",
        "from geoband.API import *\n",
        "import mapboxgl\n",
        "from mapboxgl.viz import *\n",
        "from mapboxgl.utils import create_color_stops\n",
        "\n",
        "from mapboxgl_notebook.map import MapboxMap\n",
        "from mapboxgl_notebook.sources import GeoJSONSource\n",
        "from mapboxgl_notebook.layers import PointCircleLayer, LineStringLineLayer, PolygonFillLayer\n",
        "from mapboxgl_notebook.properties import Paint\n",
        "from mapboxgl_notebook.interactions import ClickInteraction, HoverInteraction\n",
        "from mapboxgl.utils import *"
      ],
      "id": "gorgeous-rolling",
      "execution_count": null,
      "outputs": []
    },
    {
      "cell_type": "code",
      "metadata": {
        "id": "relative-dinner"
      },
      "source": [
        "data = gpd.read_file('daejeon_data.geojson')"
      ],
      "id": "relative-dinner",
      "execution_count": null,
      "outputs": []
    },
    {
      "cell_type": "code",
      "metadata": {
        "id": "worthy-italian"
      },
      "source": [
        "danger = 'daejeon_data.geojson'\n",
        "\n",
        "import json\n",
        "with open(danger) as f:\n",
        "    danger = json.loads(f.read())"
      ],
      "id": "worthy-italian",
      "execution_count": null,
      "outputs": []
    },
    {
      "cell_type": "code",
      "metadata": {
        "id": "satisfied-offense"
      },
      "source": [
        "from mapboxgl.utils import create_color_stops\n",
        "token = 'pk.eyJ1Ijoia2todiIsImEiOiJja210ZDlnaGIwcXA2MndwZngwc2Vwd3pqIn0.r0aLC7SrHVBuYiA1kyBVXQ'"
      ],
      "id": "satisfied-offense",
      "execution_count": null,
      "outputs": []
    },
    {
      "cell_type": "code",
      "metadata": {
        "id": "announced-structure"
      },
      "source": [
        "center = [127.39450577700798, 36.33982630520595]"
      ],
      "id": "announced-structure",
      "execution_count": null,
      "outputs": []
    },
    {
      "cell_type": "code",
      "metadata": {
        "id": "listed-plain"
      },
      "source": [
        "from mapboxgl.utils import (\n",
        "    create_numeric_stops,\n",
        "    create_color_stops\n",
        ")"
      ],
      "id": "listed-plain",
      "execution_count": null,
      "outputs": []
    },
    {
      "cell_type": "markdown",
      "metadata": {
        "id": "unique-given"
      },
      "source": [
        "## 대전시 교통사고 건수 분포"
      ],
      "id": "unique-given"
    },
    {
      "cell_type": "code",
      "metadata": {
        "id": "imposed-powder"
      },
      "source": [
        "viz = HeatmapViz(\n",
        "    danger,\n",
        "    access_token=token,\n",
        "    weight_property=\"acci_cnt\",\n",
        "    weight_stops=create_numeric_stops([10,20,30,40,50], 0, 1),\n",
        "    color_stops=create_color_stops([0.1, 0.3, 0.5, 0.7, 0.9], colors='YlOrRd'),\n",
        "    radius_stops=create_numeric_stops([8, 10, 12, 14, 16], 3, 12),\n",
        "    center=center,\n",
        "    zoom=10\n",
        ")\n",
        "viz.show()"
      ],
      "id": "imposed-powder",
      "execution_count": null,
      "outputs": []
    },
    {
      "cell_type": "markdown",
      "metadata": {
        "id": "multiple-problem"
      },
      "source": [
        "도로를 따라서 높은 밀도로 사고 발생, 유성구, 서구(계룡료)에 집중적으로 사고가 발생하는 모양이다."
      ],
      "id": "multiple-problem"
    },
    {
      "cell_type": "markdown",
      "metadata": {
        "id": "moral-turtle"
      },
      "source": [
        "## 교통량 분포"
      ],
      "id": "moral-turtle"
    },
    {
      "cell_type": "code",
      "metadata": {
        "id": "dutch-network"
      },
      "source": [
        "viz = HeatmapViz(\n",
        "    danger,\n",
        "    access_token=token,\n",
        "    weight_property=\"traffic_total_sum_inter\",\n",
        "    weight_stops=create_numeric_stops([100000,150000,200000,250000,300000,350000,450000,500000], 0, 1),\n",
        "    color_stops=create_color_stops([0.1, 0.3, 0.5, 0.7, 0.9], colors='RdPu'),\n",
        "    radius_stops=create_numeric_stops([8, 10, 12, 14, 16], 3, 12),\n",
        "    center=center,\n",
        "    zoom=10\n",
        ")\n",
        "viz.show()"
      ],
      "id": "dutch-network",
      "execution_count": null,
      "outputs": []
    },
    {
      "cell_type": "markdown",
      "metadata": {
        "id": "deluxe-procurement"
      },
      "source": [
        "대전을 가로지르는 중심 도로를 따라서 높은 교통량이 분포"
      ],
      "id": "deluxe-procurement"
    },
    {
      "cell_type": "markdown",
      "metadata": {
        "id": "amino-canal"
      },
      "source": [
        "## 교통량+사고 분포"
      ],
      "id": "amino-canal"
    },
    {
      "cell_type": "code",
      "metadata": {
        "id": "mounted-template"
      },
      "source": [
        "color_breaks3 = list(range(0,500000, 100000))\n",
        "color_stops3 =create_color_stops(color_breaks3, colors='RdPu') # color stops setting은 다르게 해줘야 눈에 보임\n",
        "\n",
        "viz4 = ChoroplethViz(access_token=token\n",
        "                   ,data=danger,\n",
        "                   color_property='traffic_total_sum_inter',\n",
        "                   color_stops=color_stops3,\n",
        "                   center=center,\n",
        "                   zoom=10)                      \n",
        "\n",
        "viz4.bearing = -15 # 왼쪽으로 돌리고~\n",
        "viz4.pitch = 45 #오른쪽으로 돌리고~\n",
        "\n",
        "viz4.height_property = 'acci_cnt'\n",
        "\n",
        "numeric_stops = create_numeric_stops([10,20,30,40,50],0,1000)\n",
        "\n",
        "viz4.height_stops = numeric_stops\n",
        "viz4.height_function_type = 'interpolate'\n",
        "\n",
        "viz4.show()"
      ],
      "id": "mounted-template",
      "execution_count": null,
      "outputs": []
    },
    {
      "cell_type": "markdown",
      "metadata": {
        "id": "empirical-relay"
      },
      "source": [
        "교통량이 많은 곳에 대체적으로 사고 건수가 많은 편이다.(사고건수: 높이) 그러나 교통량이 많아도 사고 건수가 많지 않은 곳도 존재한다."
      ],
      "id": "empirical-relay"
    },
    {
      "cell_type": "markdown",
      "metadata": {
        "id": "honest-discovery"
      },
      "source": [
        "## 교통량+사고 위험도"
      ],
      "id": "honest-discovery"
    },
    {
      "cell_type": "code",
      "metadata": {
        "id": "operational-aircraft"
      },
      "source": [
        "color_breaks3 = list(range(0,500000, 100000))\n",
        "color_stops3 =create_color_stops(color_breaks3, colors='Reds') # color stops setting은 다르게 해줘야 눈에 보임\n",
        "\n",
        "viz4 = ChoroplethViz(access_token=token\n",
        "                   ,data=danger,\n",
        "                   color_property='traffic_total_sum_inter',\n",
        "                   color_stops=color_stops3,\n",
        "                   center=center,\n",
        "                   zoom=10)                      \n",
        "\n",
        "viz4.bearing = -15 # 왼쪽으로 돌리고~\n",
        "viz4.pitch = 45 #오른쪽으로 돌리고~\n",
        "\n",
        "viz4.height_property = 'acci_risk'\n",
        "\n",
        "numeric_stops = create_numeric_stops([10,20,30,40,50],0,1000)\n",
        "\n",
        "viz4.height_stops = numeric_stops\n",
        "viz4.height_function_type = 'interpolate'\n",
        "\n",
        "viz4.show()"
      ],
      "id": "operational-aircraft",
      "execution_count": null,
      "outputs": []
    },
    {
      "cell_type": "markdown",
      "metadata": {
        "id": "great-thursday"
      },
      "source": [
        "교통량이 많은 곳이 사고 위험도도 높다고 나타났다. 사고건수보다 좀 더 뚜렷한 관계가 보인다."
      ],
      "id": "great-thursday"
    },
    {
      "cell_type": "markdown",
      "metadata": {
        "id": "exposed-costs"
      },
      "source": [
        "## 사고유형별 주요 변수와의 상관관계 및 시각화"
      ],
      "id": "exposed-costs"
    },
    {
      "cell_type": "markdown",
      "metadata": {
        "id": "wooden-grass"
      },
      "source": [
        "### 신호등(보행등)과의 관계"
      ],
      "id": "wooden-grass"
    },
    {
      "cell_type": "code",
      "metadata": {
        "id": "solar-forty"
      },
      "source": [
        "trt_pas = trlight_pas.copy()\n",
        "\n",
        "trt_pas['cnt'] = list(np.repeat(1,7407))\n",
        "\n",
        "trt_pas = trt_pas.drop(['gu','dong','jibun','loc_cd','sgnl_drn_cd','sgnl_knd_cd'], axis=1) \n",
        "#위치만 알아보기 위해 나머지 정보값들을 배재하고 시각화하기로함"
      ],
      "id": "solar-forty",
      "execution_count": null,
      "outputs": []
    },
    {
      "cell_type": "code",
      "metadata": {
        "id": "domestic-mother"
      },
      "source": [
        "acc_cnt_1 = acc_cnt.copy()\n",
        "acc_per_1 = acc_per.copy()\n",
        "\n",
        "acc_per_1 = acc_per_1.groupby('gid', as_index=False).count().iloc[:, 0:2]\n",
        "acc_per_1 = acc_per_1.rename(columns={'사고일':'차대사람_사고횟수'})\n",
        "\n",
        "join_per = pd.merge(acc_cnt_1, acc_per_1, on='gid', how='left')\n",
        "join_per = join_per.fillna(0)\n",
        "join_per.차대사람_사고횟수 = join_per.차대사람_사고횟수.astype('int')                  #사고횟수 데이터와 차대사람 사고횟수를 조인\n",
        "\n",
        "join_per = join_per.drop(['acci_cnt'],axis=1) "
      ],
      "id": "domestic-mother",
      "execution_count": null,
      "outputs": []
    },
    {
      "cell_type": "code",
      "metadata": {
        "id": "loaded-pencil"
      },
      "source": [
        "data1 = gpd.sjoin(join_per,trt_pas,how='left', op='intersects')\n",
        "\n",
        "data1.cnt = data1.cnt.fillna(0)\n",
        "\n",
        "data_1 = data1.groupby('gid',as_index=False).sum()"
      ],
      "id": "loaded-pencil",
      "execution_count": null,
      "outputs": []
    },
    {
      "cell_type": "code",
      "metadata": {
        "id": "steady-immunology"
      },
      "source": [
        "data_1.corr()"
      ],
      "id": "steady-immunology",
      "execution_count": null,
      "outputs": []
    },
    {
      "cell_type": "markdown",
      "metadata": {
        "id": "junior-potential"
      },
      "source": [
        "차대사람 사고건수와 신호등(보행등, 이하 보행등)의 상관관계는 0.4로 상관관계를 보인다"
      ],
      "id": "junior-potential"
    },
    {
      "cell_type": "markdown",
      "metadata": {
        "id": "assumed-creek"
      },
      "source": [
        "다음은 차대차"
      ],
      "id": "assumed-creek"
    },
    {
      "cell_type": "code",
      "metadata": {
        "id": "raising-terrorism"
      },
      "source": [
        "acc_car_1 = acc_car.copy()\n",
        "\n",
        "acc_car_1 = acc_car_1.groupby('gid', as_index=False).count().iloc[:, 0:2]\n",
        "acc_car_1 = acc_car_1.rename(columns={'사고일':'차대차_사고횟수'})\n",
        "\n",
        "join_car = pd.merge(acc_cnt_1, acc_car_1, on='gid', how='left')\n",
        "join_car = join_car.fillna(0)\n",
        "join_car.차대차_사고횟수 = join_car.차대차_사고횟수.astype('int')                  #사고횟수 데이터와 차대사람 사고횟수를 조인\n",
        "\n",
        "join_car = join_car.drop(['acci_cnt'],axis=1) "
      ],
      "id": "raising-terrorism",
      "execution_count": null,
      "outputs": []
    },
    {
      "cell_type": "code",
      "metadata": {
        "id": "dangerous-wealth"
      },
      "source": [
        "data2 = gpd.sjoin(join_car,trt_pas,how='left', op='intersects')\n",
        "data2.cnt = data2.cnt.fillna(0)\n",
        "data_2 = data2.groupby('gid',as_index=False).sum()\n",
        "\n",
        "data_2.corr()"
      ],
      "id": "dangerous-wealth",
      "execution_count": null,
      "outputs": []
    },
    {
      "cell_type": "markdown",
      "metadata": {
        "id": "armed-commerce"
      },
      "source": [
        "특이하게도 차대차 사고건수와 보행등의 상관계수가 차대사람사고-보행등의 상관계수보다 높게나온다."
      ],
      "id": "armed-commerce"
    },
    {
      "cell_type": "markdown",
      "metadata": {
        "id": "brutal-trade"
      },
      "source": [
        "이번엔 차량단독"
      ],
      "id": "brutal-trade"
    },
    {
      "cell_type": "code",
      "metadata": {
        "id": "distinguished-mapping"
      },
      "source": [
        "acc_alone_1 = acc_alone.copy()\n",
        "\n",
        "acc_alone_1 = acc_alone_1.groupby('gid', as_index=False).count().iloc[:, 0:2]\n",
        "acc_alone_1 = acc_alone_1.rename(columns={'사고일':'차량단독_사고횟수'})\n",
        "\n",
        "join_alone = pd.merge(acc_cnt_1, acc_alone_1, on='gid', how='left')\n",
        "join_alone = join_alone.fillna(0)\n",
        "join_alone.차량단독_사고횟수 = join_alone.차량단독_사고횟수.astype('int')                  #사고횟수 데이터와 차대사람 사고횟수를 조인\n",
        "\n",
        "join_alone = join_alone.drop(['acci_cnt'],axis=1) \n",
        "\n",
        "data3 = gpd.sjoin(join_alone,trt_pas,how='left', op='intersects')\n",
        "data3.cnt = data3.cnt.fillna(0)\n",
        "data_3 = data3.groupby('gid',as_index=False).sum()\n",
        "\n",
        "data_3.corr()"
      ],
      "id": "distinguished-mapping",
      "execution_count": null,
      "outputs": []
    },
    {
      "cell_type": "markdown",
      "metadata": {
        "id": "olympic-princeton"
      },
      "source": [
        "정리하자면 차량단독, 차대차, 차대사람과 보행등의 개수의 상관계수는 *0.35, 0.6, 0.41*이다.우선 보행등과 교통사고간에 긍정적인 영향 관계가 있다는 것을 알 수 있다.특히 차대차와 보행등의 상관관계가 높다."
      ],
      "id": "olympic-princeton"
    },
    {
      "cell_type": "markdown",
      "metadata": {
        "id": "southwest-stupid"
      },
      "source": [
        "### 신호등(차량등)과의 상관관계"
      ],
      "id": "southwest-stupid"
    },
    {
      "cell_type": "code",
      "metadata": {
        "id": "exclusive-brunswick"
      },
      "source": [
        "trt_car = trlight_car.copy()\n",
        "\n",
        "trt_car['cnt'] = list(np.repeat(1,len(trt_car)))\n",
        "\n",
        "trt_car = trt_car.drop(['gu','dong','jibun','loc_cd','sgnl_drn_cd','sgnl_knd_cd'], axis=1) "
      ],
      "id": "exclusive-brunswick",
      "execution_count": null,
      "outputs": []
    },
    {
      "cell_type": "markdown",
      "metadata": {
        "id": "fundamental-discretion"
      },
      "source": [
        "차대사람 vs 차량등"
      ],
      "id": "fundamental-discretion"
    },
    {
      "cell_type": "code",
      "metadata": {
        "id": "radio-round"
      },
      "source": [
        "acc_per_1 = acc_per.copy()\n",
        "\n",
        "acc_per_1 = acc_per_1.groupby('gid', as_index=False).count().iloc[:, 0:2]\n",
        "acc_per_1 = acc_per_1.rename(columns={'사고일':'차대사람_사고횟수'})\n",
        "\n",
        "join_per = pd.merge(acc_cnt_1, acc_per_1, on='gid', how='left')\n",
        "join_per = join_per.fillna(0)\n",
        "join_per.차대사람_사고횟수 = join_per.차대사람_사고횟수.astype('int')                  #사고횟수 데이터와 차대사람 사고횟수를 조인\n",
        "\n",
        "join_per = join_per.drop(['acci_cnt'],axis=1) \n",
        "\n",
        "data1 = gpd.sjoin(join_per,trt_car,how='left', op='intersects')\n",
        "data1.cnt = data1.cnt.fillna(0)\n",
        "data_1 = data1.groupby('gid',as_index=False).sum()\n",
        "\n",
        "data_1.corr()"
      ],
      "id": "radio-round",
      "execution_count": null,
      "outputs": []
    },
    {
      "cell_type": "markdown",
      "metadata": {
        "id": "regulated-flight"
      },
      "source": [
        "차대차 vs 차량등"
      ],
      "id": "regulated-flight"
    },
    {
      "cell_type": "code",
      "metadata": {
        "id": "backed-satin"
      },
      "source": [
        "acc_car_1 = acc_car.copy()\n",
        "\n",
        "acc_car_1 = acc_car_1.groupby('gid', as_index=False).count().iloc[:, 0:2]\n",
        "acc_car_1 = acc_car_1.rename(columns={'사고일':'차대차_사고횟수'})\n",
        "\n",
        "join_car = pd.merge(acc_cnt_1, acc_car_1, on='gid', how='left')\n",
        "join_car = join_car.fillna(0)\n",
        "join_car.차대차_사고횟수 = join_car.차대차_사고횟수.astype('int')                  #사고횟수 데이터와 차대사람 사고횟수를 조인\n",
        "\n",
        "join_car = join_car.drop(['acci_cnt'],axis=1) \n",
        "\n",
        "data2 = gpd.sjoin(join_car,trt_car,how='left', op='intersects')\n",
        "data2.cnt = data2.cnt.fillna(0)\n",
        "data_2 = data2.groupby('gid',as_index=False).sum()\n",
        "\n",
        "data_2.corr()"
      ],
      "id": "backed-satin",
      "execution_count": null,
      "outputs": []
    },
    {
      "cell_type": "markdown",
      "metadata": {
        "id": "protective-leader"
      },
      "source": [
        "차량단독 vs 차량등"
      ],
      "id": "protective-leader"
    },
    {
      "cell_type": "code",
      "metadata": {
        "id": "subject-swiss"
      },
      "source": [
        "acc_alone_1 = acc_alone.copy()\n",
        "\n",
        "acc_alone_1 = acc_alone_1.groupby('gid', as_index=False).count().iloc[:, 0:2]\n",
        "acc_alone_1 = acc_alone_1.rename(columns={'사고일':'차량단독_사고횟수'})\n",
        "\n",
        "join_alone = pd.merge(acc_cnt_1, acc_alone_1, on='gid', how='left')\n",
        "join_alone = join_alone.fillna(0)\n",
        "join_alone.차량단독_사고횟수 = join_alone.차량단독_사고횟수.astype('int')                  #사고횟수 데이터와 차대사람 사고횟수를 조인\n",
        "\n",
        "join_alone = join_alone.drop(['acci_cnt'],axis=1) \n",
        "\n",
        "data3 = gpd.sjoin(join_alone,trt_car,how='left', op='intersects')\n",
        "data3.cnt = data3.cnt.fillna(0)\n",
        "data_3 = data3.groupby('gid',as_index=False).sum()\n",
        "\n",
        "data_3.corr()"
      ],
      "id": "subject-swiss",
      "execution_count": null,
      "outputs": []
    },
    {
      "cell_type": "markdown",
      "metadata": {
        "id": "exceptional-component"
      },
      "source": [
        "정리하자면 차량단독, 차대차, 차대사람과 차량등의 개수의 상관계수는 *0.35, 0.57, 0.48*이다. 앞선 교통사고 vs 보행등과 비슷한 양상을 보인다.  \n",
        "이를 통해 신호등과 교통사고는 양의 상관관계를 지니고 있음을 알 수 있다."
      ],
      "id": "exceptional-component"
    },
    {
      "cell_type": "markdown",
      "metadata": {
        "id": "alive-republic"
      },
      "source": [
        "### __시각화__"
      ],
      "id": "alive-republic"
    },
    {
      "cell_type": "code",
      "metadata": {
        "id": "departmental-insurance"
      },
      "source": [
        "acc_per_1 = acc_per.copy()\n",
        "\n",
        "acc_per_1 = acc_per_1.groupby('gid', as_index=False).count().iloc[:, 0:2]\n",
        "acc_per_1 = acc_per_1.rename(columns={'사고일':'차대사람_사고횟수'})\n",
        "\n",
        "acc_cnt_1 = acc_cnt.copy()\n",
        "\n",
        "join_per = pd.merge(acc_cnt_1, acc_per_1, on='gid', how='left')\n",
        "join_per = join_per.fillna(0)\n",
        "join_per.차대사람_사고횟수 = join_per.차대사람_사고횟수.astype('int')                  #사고횟수 데이터와 차대사람 사고횟수를 조인\n",
        "\n",
        "join_per = join_per.drop(['acci_cnt'],axis=1)    "
      ],
      "id": "departmental-insurance",
      "execution_count": null,
      "outputs": []
    },
    {
      "cell_type": "code",
      "metadata": {
        "id": "endless-donna"
      },
      "source": [
        "join_per = join_per[join_per.차대사람_사고횟수!=0]\n",
        "\n",
        "# 시각화를 위해 사고횟수값이 0인 행들 제거\n",
        "\n",
        "join_per.to_file('join_per.geojson', driver='GeoJSON')\n",
        "\n",
        "join_per = 'join_per.geojson'\n",
        "\n",
        "import json\n",
        "with open(join_per) as f:\n",
        "    join_per = json.loads(f.read())"
      ],
      "id": "endless-donna",
      "execution_count": null,
      "outputs": []
    },
    {
      "cell_type": "code",
      "metadata": {
        "id": "patient-baltimore"
      },
      "source": [
        "trt_pas = trlight_pas.copy()\n",
        "\n",
        "trt_pas['cnt'] = list(np.repeat(1,7407))\n",
        "\n",
        "trt_pas = trt_pas.drop(['gu','dong','jibun','loc_cd','sgnl_drn_cd','sgnl_knd_cd'], axis=1) \n",
        "#위치만 알아보기 위해 나머지 정보값들을 배재하고 시각화하기로함"
      ],
      "id": "patient-baltimore",
      "execution_count": null,
      "outputs": []
    },
    {
      "cell_type": "code",
      "metadata": {
        "id": "joined-painting"
      },
      "source": [
        "trt_pas.to_file('trt_pas.geojson', driver='GeoJSON')\n",
        "\n",
        "trt_pas = 'trt_pas.geojson'\n",
        "\n",
        "import json\n",
        "with open(trt_pas) as f:\n",
        "    trt_pas = json.loads(f.read())"
      ],
      "id": "joined-painting",
      "execution_count": null,
      "outputs": []
    },
    {
      "cell_type": "markdown",
      "metadata": {
        "id": "supported-athletics"
      },
      "source": [
        "#### 보행등과 차대사람 사고 유형 오버레이어"
      ],
      "id": "supported-athletics"
    },
    {
      "cell_type": "code",
      "metadata": {
        "id": "metropolitan-eugene"
      },
      "source": [
        "source1 = GeoJSONSource(join_per, source_id='차대사람_사고횟수')    #멀티폴리곤 레이어\n",
        "\n",
        "paint =Paint(\n",
        "    fill_color = 'rgba(255,246,143,0.4)'\n",
        "    #fill_outline_color = 'rgba()'   테두리 채우는 옵션\n",
        "            )\n",
        "layer1 = PolygonFillLayer(source1, paint = paint)\n",
        "interaction = ClickInteraction(layer1)\n",
        "\n",
        "\n",
        "source2 = GeoJSONSource(trt_pas, source_id ='cnt')           #포인트 레이어\n",
        "\n",
        "paint2 = Paint(circle_radius=2, circle_color = '#a11515')\n",
        "layer2 = PointCircleLayer(source2,paint=paint2)\n",
        "\n",
        "\n",
        "\n",
        "mapbox_map = MapboxMap(\n",
        "                center = [127.378953,36.321655],\n",
        "                zoom = 10.7,\n",
        "                access_token = token,\n",
        "                sources =[source1,source2],\n",
        "                layers=[layer1,layer2],\n",
        "                interactions=[interaction],\n",
        "                style='mapbox://styles/mapbox/navigation-guidance-night-v4'\n",
        ")\n",
        "mapbox_map.show()"
      ],
      "id": "metropolitan-eugene",
      "execution_count": null,
      "outputs": []
    },
    {
      "cell_type": "markdown",
      "metadata": {
        "id": "acquired-muslim"
      },
      "source": [
        "그림만 봐도 강한 상관관계가 있는 것을 직관적으로 알 수 있다"
      ],
      "id": "acquired-muslim"
    },
    {
      "cell_type": "markdown",
      "metadata": {
        "id": "strategic-footage"
      },
      "source": [
        "#### 보행등과 차대차 사고 유형 오버레이어"
      ],
      "id": "strategic-footage"
    },
    {
      "cell_type": "code",
      "metadata": {
        "id": "national-blind"
      },
      "source": [
        "acc_car_1 = acc_car.copy()\n",
        "\n",
        "acc_car_1 = acc_car_1.groupby('gid', as_index=False).count().iloc[:, 0:2]\n",
        "acc_car_1 = acc_car_1.rename(columns={'사고일':'차대차_사고횟수'})\n",
        "\n",
        "acc_cnt_1 = acc_cnt.copy()\n",
        "\n",
        "join_car = pd.merge(acc_cnt_1, acc_car_1, on='gid', how='left')\n",
        "join_car = join_car.fillna(0)\n",
        "join_car.차대차_사고횟수 = join_car.차대차_사고횟수.astype('int')                  #사고횟수 데이터와 차대사람 사고횟수를 조인\n",
        "\n",
        "join_car = join_car.drop(['acci_cnt'],axis=1)"
      ],
      "id": "national-blind",
      "execution_count": null,
      "outputs": []
    },
    {
      "cell_type": "code",
      "metadata": {
        "id": "floppy-shame"
      },
      "source": [
        "join_car = join_car[join_car.차대차_사고횟수!=0]\n",
        "\n",
        "# 시각화를 위해 사고횟수값이 0인 행들 제거\n",
        "\n",
        "join_car.to_file('join_car.geojson', driver='GeoJSON')\n",
        "\n",
        "join_car = 'join_car.geojson'\n",
        "\n",
        "import json\n",
        "with open(join_car) as f:\n",
        "    join_car = json.loads(f.read())"
      ],
      "id": "floppy-shame",
      "execution_count": null,
      "outputs": []
    },
    {
      "cell_type": "code",
      "metadata": {
        "id": "handy-syria"
      },
      "source": [
        "source1 = GeoJSONSource(join_car, source_id='차대차_사고횟수')    #멀티폴리곤 레이어\n",
        "\n",
        "paint =Paint(\n",
        "    fill_color = 'rgba(219,197,254,0.5)'\n",
        "    #fill_outline_color = 'rgba()'   테두리 채우는 옵션\n",
        "            )\n",
        "layer1 = PolygonFillLayer(source1, paint = paint)\n",
        "interaction = ClickInteraction(layer1)\n",
        "\n",
        "\n",
        "source2 = GeoJSONSource(trt_pas, source_id ='cnt')           #포인트 레이어\n",
        "\n",
        "paint2 = Paint(circle_radius=2, circle_color = '#a11515')\n",
        "layer2 = PointCircleLayer(source2,paint=paint2)\n",
        "\n",
        "\n",
        "\n",
        "mapbox_map = MapboxMap(\n",
        "                center = [127.378953,36.321655],\n",
        "                zoom = 10.7,\n",
        "                access_token = token,\n",
        "                sources =[source1,source2],\n",
        "                layers=[layer1,layer2],\n",
        "                interactions=[interaction],\n",
        "                style='mapbox://styles/mapbox/navigation-guidance-night-v4'\n",
        ")\n",
        "mapbox_map.show()"
      ],
      "id": "handy-syria",
      "execution_count": null,
      "outputs": []
    },
    {
      "cell_type": "markdown",
      "metadata": {
        "id": "entitled-consortium"
      },
      "source": [
        "이 그림 역시 강한 상관관계가 있는 것을 직관적으로 알 수 있다"
      ],
      "id": "entitled-consortium"
    },
    {
      "cell_type": "markdown",
      "metadata": {
        "id": "enclosed-chester"
      },
      "source": [
        "#### 보행등과 차량단독 사고 유형 오버레이어"
      ],
      "id": "enclosed-chester"
    },
    {
      "cell_type": "code",
      "metadata": {
        "id": "statutory-donor"
      },
      "source": [
        "acc_alone_1 = acc_alone.copy()\n",
        "\n",
        "acc_alone_1 = acc_alone_1.groupby('gid', as_index=False).count().iloc[:, 0:2]\n",
        "acc_alone_1 = acc_alone_1.rename(columns={'사고일':'차량단독_사고횟수'})\n",
        "\n",
        "acc_cnt_1 = acc_cnt.copy()\n",
        "\n",
        "join_alone = pd.merge(acc_cnt_1, acc_alone_1, on='gid', how='left')\n",
        "join_alone = join_alone.fillna(0)\n",
        "join_alone.차량단독_사고횟수 = join_alone.차량단독_사고횟수.astype('int')                  #사고횟수 데이터와 차대사람 사고횟수를 조인\n",
        "\n",
        "join_alone = join_alone.drop(['acci_cnt'],axis=1)   "
      ],
      "id": "statutory-donor",
      "execution_count": null,
      "outputs": []
    },
    {
      "cell_type": "code",
      "metadata": {
        "id": "welcome-location"
      },
      "source": [
        "join_alone = join_alone[join_alone.차량단독_사고횟수!=0]\n",
        "\n",
        "# 시각화를 위해 사고횟수값이 0인 행들 제거\n",
        "\n",
        "join_alone.to_file('join_alone.geojson', driver='GeoJSON')\n",
        "\n",
        "join_alone = 'join_alone.geojson'\n",
        "\n",
        "import json\n",
        "with open(join_alone) as f:\n",
        "    join_alone = json.loads(f.read())"
      ],
      "id": "welcome-location",
      "execution_count": null,
      "outputs": []
    },
    {
      "cell_type": "code",
      "metadata": {
        "id": "martial-burton"
      },
      "source": [
        "source1 = GeoJSONSource(join_alone, source_id='차량단독_사고횟수')    #멀티폴리곤 레이어\n",
        "\n",
        "paint =Paint(\n",
        "    fill_color = 'rgba(204,254,197,0.9)'\n",
        "    #fill_outline_color = 'rgba()'   테두리 채우는 옵션\n",
        "            )\n",
        "layer1 = PolygonFillLayer(source1, paint = paint)\n",
        "interaction = ClickInteraction(layer1)\n",
        "\n",
        "\n",
        "source2 = GeoJSONSource(trt_pas, source_id ='cnt')           #포인트 레이어\n",
        "\n",
        "paint2 = Paint(circle_radius=2, circle_color = '#a11515')\n",
        "layer2 = PointCircleLayer(source2,paint=paint2)\n",
        "\n",
        "\n",
        "\n",
        "mapbox_map = MapboxMap(\n",
        "                center = [127.378953,36.321655],\n",
        "                zoom = 10.7,\n",
        "                access_token = token,\n",
        "                sources =[source1,source2],\n",
        "                layers=[layer1,layer2],\n",
        "                interactions=[interaction],\n",
        "                style='mapbox://styles/mapbox/navigation-guidance-night-v4'\n",
        ")\n",
        "mapbox_map.show()"
      ],
      "id": "martial-burton",
      "execution_count": null,
      "outputs": []
    },
    {
      "cell_type": "markdown",
      "metadata": {
        "id": "wicked-enterprise"
      },
      "source": [
        "#### *차량등*과 차대차 사고 유형 오버레이어"
      ],
      "id": "wicked-enterprise"
    },
    {
      "cell_type": "code",
      "metadata": {
        "id": "greenhouse-address"
      },
      "source": [
        "trt_car.to_file('trt_car.geojson', driver='GeoJSON')\n",
        "\n",
        "trt_car = 'trt_car.geojson'\n",
        "\n",
        "import json\n",
        "with open(trt_car) as f:\n",
        "    trt_car = json.loads(f.read())"
      ],
      "id": "greenhouse-address",
      "execution_count": null,
      "outputs": []
    },
    {
      "cell_type": "code",
      "metadata": {
        "id": "linear-question"
      },
      "source": [
        "source1 = GeoJSONSource(join_car, source_id='차대차_사고횟수')    #멀티폴리곤 레이어\n",
        "\n",
        "paint =Paint(\n",
        "    fill_color = 'rgba(204,254,197,0.9)'\n",
        "    #fill_outline_color = 'rgba()'   테두리 채우는 옵션\n",
        "            )\n",
        "layer1 = PolygonFillLayer(source1, paint = paint)\n",
        "interaction = ClickInteraction(layer1)\n",
        "\n",
        "\n",
        "source2 = GeoJSONSource(trt_car, source_id ='cnt')           #포인트 레이어\n",
        "\n",
        "paint2 = Paint(circle_radius=2, circle_color = '#a11515')\n",
        "layer2 = PointCircleLayer(source2,paint=paint2)\n",
        "\n",
        "\n",
        "\n",
        "mapbox_map = MapboxMap(\n",
        "                center = [127.378953,36.321655],\n",
        "                zoom = 10.7,\n",
        "                access_token = token,\n",
        "                sources =[source1,source2],\n",
        "                layers=[layer1,layer2],\n",
        "                interactions=[interaction],\n",
        "                style='mapbox://styles/mapbox/navigation-guidance-night-v4'\n",
        ")\n",
        "mapbox_map.show()"
      ],
      "id": "linear-question",
      "execution_count": null,
      "outputs": []
    },
    {
      "cell_type": "markdown",
      "metadata": {
        "id": "owned-central"
      },
      "source": [
        "## 안전지대와의 상관관계"
      ],
      "id": "owned-central"
    },
    {
      "cell_type": "markdown",
      "metadata": {
        "id": "closed-elder"
      },
      "source": [
        "이번엔 사고유형별로 안전지대와의 상관성을 알아보기로 했다"
      ],
      "id": "closed-elder"
    },
    {
      "cell_type": "markdown",
      "metadata": {
        "id": "restricted-builder"
      },
      "source": [
        "**안전지대**"
      ],
      "id": "restricted-builder"
    },
    {
      "cell_type": "code",
      "metadata": {
        "id": "dental-beads"
      },
      "source": [
        "sf = safe_zone.copy()\n",
        "\n",
        "sf['cnt'] = list(np.repeat(1,len(sf)))\n",
        "sf = sf.drop(['gu','dong','jibun','loc_cd','len'],axis=1)  \n",
        "#geometry값 빼고 날려줌"
      ],
      "id": "dental-beads",
      "execution_count": null,
      "outputs": []
    },
    {
      "cell_type": "code",
      "metadata": {
        "id": "narrow-flavor"
      },
      "source": [
        "sf.to_file('sf.geojson', driver='GeoJSON')\n",
        "\n",
        "sf = 'sf.geojson'\n",
        "\n",
        "import json\n",
        "with open(sf) as f:\n",
        "    sf = json.loads(f.read())"
      ],
      "id": "narrow-flavor",
      "execution_count": null,
      "outputs": []
    },
    {
      "cell_type": "code",
      "metadata": {
        "id": "thirty-fundamentals"
      },
      "source": [
        "match_color_stops = [[1, 'rgb(241,219,66)']]\n",
        "\n",
        "\n",
        "\n",
        "viz = ChoroplethViz(access_token=token\n",
        "                    ,data=sf,\n",
        "                   color_property='cnt',\n",
        "                   color_stops=match_color_stops,\n",
        "                   color_function_type='match',\n",
        "                   center=center,\n",
        "                   zoom=10.7,\n",
        "                   style='mapbox://styles/mapbox/navigation-guidance-night-v4'\n",
        "                   )\n",
        "# data의 property값을 확인하여 속성을 지정\n",
        "\n",
        "viz.show()"
      ],
      "id": "thirty-fundamentals",
      "execution_count": null,
      "outputs": []
    },
    {
      "cell_type": "markdown",
      "metadata": {
        "id": "streaming-milton"
      },
      "source": [
        "안전지대가 사고 발생에 영향을 끼치는지 알아보자."
      ],
      "id": "streaming-milton"
    },
    {
      "cell_type": "code",
      "metadata": {
        "id": "verbal-light"
      },
      "source": [
        "#우선 차대사람사고가 발생한 지역의 차대사람사고횟수와 안전지대의 개수를 조인\n",
        "acc_per_1 = acc_per.copy()                                                         #차대사람 사고유형지역의 차대사람 사고횟수\n",
        "\n",
        "acc_per_1 = acc_per_1.groupby('gid', as_index=False).count().iloc[:, 0:2]\n",
        "acc_per_1 = acc_per_1.rename(columns={'사고일':'차대사람_사고횟수'})\n",
        "\n",
        "join_per = pd.merge(acc_cnt_1, acc_per_1, on='gid', how='left')\n",
        "join_per = join_per.fillna(0)                 \n",
        "join_per = join_per.drop(['acci_cnt'],axis=1) "
      ],
      "id": "verbal-light",
      "execution_count": null,
      "outputs": []
    },
    {
      "cell_type": "code",
      "metadata": {
        "id": "consecutive-filter"
      },
      "source": [
        "sf = safe_zone.copy()\n",
        "\n",
        "sf['cnt'] = list(np.repeat(1,len(sf)))\n",
        "sf = sf.drop(['gu','dong','jibun','loc_cd','len'],axis=1)  "
      ],
      "id": "consecutive-filter",
      "execution_count": null,
      "outputs": []
    },
    {
      "cell_type": "code",
      "metadata": {
        "id": "optimum-plastic"
      },
      "source": [
        "sf_per = gpd.sjoin(join_per, sf,op='intersects')"
      ],
      "id": "optimum-plastic",
      "execution_count": null,
      "outputs": []
    },
    {
      "cell_type": "code",
      "metadata": {
        "id": "alpha-meaning"
      },
      "source": [
        "sf_per_cnt = sf_per.groupby('gid',as_index=False).count().iloc[:,0:2]\n",
        "sf_per_cnt = sf_per_cnt.rename(columns={'geometry':'safe_cnt'})"
      ],
      "id": "alpha-meaning",
      "execution_count": null,
      "outputs": []
    },
    {
      "cell_type": "code",
      "metadata": {
        "id": "demanding-start"
      },
      "source": [
        "sf_per = sf_per.drop(['index_right'],axis=1)\n",
        "\n",
        "sf_per = sf_per.drop_duplicates()"
      ],
      "id": "demanding-start",
      "execution_count": null,
      "outputs": []
    },
    {
      "cell_type": "code",
      "metadata": {
        "id": "equivalent-boost"
      },
      "source": [
        "sf_per_new = pd.merge(sf_per_cnt,sf_per,on='gid',how='inner')"
      ],
      "id": "equivalent-boost",
      "execution_count": null,
      "outputs": []
    },
    {
      "cell_type": "code",
      "metadata": {
        "id": "typical-disclaimer"
      },
      "source": [
        "sf_per_new = sf_per_new.drop(['cnt'],axis=1)  "
      ],
      "id": "typical-disclaimer",
      "execution_count": null,
      "outputs": []
    },
    {
      "cell_type": "code",
      "metadata": {
        "id": "resistant-hydrogen"
      },
      "source": [
        "sf_per_geo = sf_per_new.drop(['geometry'],axis=1)    "
      ],
      "id": "resistant-hydrogen",
      "execution_count": null,
      "outputs": []
    },
    {
      "cell_type": "code",
      "metadata": {
        "id": "sufficient-geometry"
      },
      "source": [
        "sf_per_geo = pd.merge(acc_cnt_1,sf_per_geo,on='gid',how='left')\n",
        "sf_per_geo = sf_per_geo.fillna(0)\n",
        "sf_per_geo = sf_per_geo.drop(['acci_cnt'],axis=1) "
      ],
      "id": "sufficient-geometry",
      "execution_count": null,
      "outputs": []
    },
    {
      "cell_type": "code",
      "metadata": {
        "id": "negative-crown"
      },
      "source": [
        "sf_per_geo.corr()"
      ],
      "id": "negative-crown",
      "execution_count": null,
      "outputs": []
    },
    {
      "cell_type": "markdown",
      "metadata": {
        "id": "alert-colonial"
      },
      "source": [
        "안전지대와 차대사람 사고건수의 상관관계는 0.33이다."
      ],
      "id": "alert-colonial"
    },
    {
      "cell_type": "markdown",
      "metadata": {
        "id": "certified-boston"
      },
      "source": [
        "#### 차대차 vs 안전지대"
      ],
      "id": "certified-boston"
    },
    {
      "cell_type": "code",
      "metadata": {
        "id": "appreciated-voluntary"
      },
      "source": [
        "acc_car_1 = acc_car.copy()                                                         #차대차 사고유형지역의 차대사람 사고횟수\n",
        "\n",
        "acc_car_1 = acc_car_1.groupby('gid', as_index=False).count().iloc[:, 0:2]\n",
        "acc_car_1 = acc_car_1.rename(columns={'사고일':'차대차_사고횟수'})\n",
        "\n",
        "join_car = pd.merge(acc_cnt_1, acc_car_1, on='gid', how='left')\n",
        "join_car = join_car.fillna(0)                 \n",
        "join_car = join_car.drop(['acci_cnt'],axis=1) "
      ],
      "id": "appreciated-voluntary",
      "execution_count": null,
      "outputs": []
    },
    {
      "cell_type": "code",
      "metadata": {
        "id": "variable-equity"
      },
      "source": [
        "sf_car = gpd.sjoin(join_car, sf,op='intersects')\n",
        "\n",
        "sf_car_cnt = sf_car.groupby('gid',as_index=False).count().iloc[:,0:2]\n",
        "sf_car_cnt = sf_car_cnt.rename(columns={'geometry':'safe_cnt'})"
      ],
      "id": "variable-equity",
      "execution_count": null,
      "outputs": []
    },
    {
      "cell_type": "code",
      "metadata": {
        "id": "frozen-husband"
      },
      "source": [
        "sf_car = sf_car.drop(['index_right'],axis=1)\n",
        "sf_car = sf_car.drop_duplicates()\n",
        "\n",
        "sf_car_new = pd.merge(sf_car_cnt,sf_car,on='gid',how='inner')\n",
        "sf_car_new = sf_car_new.drop(['cnt'],axis=1)  "
      ],
      "id": "frozen-husband",
      "execution_count": null,
      "outputs": []
    },
    {
      "cell_type": "code",
      "metadata": {
        "id": "relative-bottom"
      },
      "source": [
        "sf_car_geo = sf_car_new.drop(['geometry'],axis=1)        #다시 전체 acc_cnt데이터와 결합하기 위해 지오메트리 드랍\n",
        "\n",
        "sf_car_geo = pd.merge(acc_cnt_1,sf_car_geo,on='gid',how='left')\n",
        "sf_car_geo = sf_car_geo.fillna(0)\n",
        "sf_car_geo = sf_car_geo.drop(['acci_cnt'],axis=1) \n",
        "\n",
        "sf_car_geo.corr()"
      ],
      "id": "relative-bottom",
      "execution_count": null,
      "outputs": []
    },
    {
      "cell_type": "markdown",
      "metadata": {
        "id": "trying-evolution"
      },
      "source": [
        "차대차사고건수와 안전지대의 상관계수는 0.49"
      ],
      "id": "trying-evolution"
    },
    {
      "cell_type": "markdown",
      "metadata": {
        "id": "tight-recorder"
      },
      "source": [
        "#### 차량단독vs안전지대"
      ],
      "id": "tight-recorder"
    },
    {
      "cell_type": "code",
      "metadata": {
        "id": "extensive-activation"
      },
      "source": [
        "acc_alone_1 = acc_alone.copy()                                                         #차대차 사고유형지역의 차대사람 사고횟수\n",
        "\n",
        "acc_alone_1 = acc_alone_1.groupby('gid', as_index=False).count().iloc[:, 0:2]\n",
        "acc_alone_1 = acc_alone_1.rename(columns={'사고일':'차량단독_사고횟수'})\n",
        "\n",
        "join_alone = pd.merge(acc_cnt_1, acc_alone_1, on='gid', how='left')\n",
        "join_alone = join_alone.fillna(0)                 \n",
        "join_alone = join_alone.drop(['acci_cnt'],axis=1) "
      ],
      "id": "extensive-activation",
      "execution_count": null,
      "outputs": []
    },
    {
      "cell_type": "code",
      "metadata": {
        "id": "prime-teach"
      },
      "source": [
        "sf_alone = gpd.sjoin(join_alone, sf,op='intersects')\n",
        "\n",
        "sf_alone_cnt = sf_alone.groupby('gid',as_index=False).count().iloc[:,0:2]\n",
        "sf_alone_cnt = sf_alone_cnt.rename(columns={'geometry':'safe_cnt'})"
      ],
      "id": "prime-teach",
      "execution_count": null,
      "outputs": []
    },
    {
      "cell_type": "code",
      "metadata": {
        "id": "present-carbon"
      },
      "source": [
        "sf_alone = sf_alone.drop(['index_right'],axis=1)\n",
        "sf_alone = sf_alone.drop_duplicates()\n",
        "\n",
        "sf_alone_new = pd.merge(sf_alone_cnt,sf_alone,on='gid',how='inner')\n",
        "sf_alone_new = sf_alone_new.drop(['cnt'],axis=1)  "
      ],
      "id": "present-carbon",
      "execution_count": null,
      "outputs": []
    },
    {
      "cell_type": "code",
      "metadata": {
        "id": "pending-masters"
      },
      "source": [
        "sf_alone_geo = sf_alone_new.drop(['geometry'],axis=1)        #다시 전체 acc_cnt데이터와 결합하기 위해 지오메트리 드랍\n",
        "\n",
        "sf_alone_geo = pd.merge(acc_cnt_1,sf_alone_geo,on='gid',how='left')\n",
        "sf_alone_geo = sf_alone_geo.fillna(0)\n",
        "sf_alone_geo = sf_alone_geo.drop(['acci_cnt'],axis=1) \n",
        "\n",
        "sf_alone_geo.corr()"
      ],
      "id": "pending-masters",
      "execution_count": null,
      "outputs": []
    },
    {
      "cell_type": "markdown",
      "metadata": {
        "id": "boxed-alfred"
      },
      "source": [
        "정리하면 차량단독, 차대차, 차대사람 사고와 안전지대의 개수의 상관계수는 *0.25, 0.49, 0.33*임  \n",
        "앞과 비슷한 양상을 나타낸다."
      ],
      "id": "boxed-alfred"
    },
    {
      "cell_type": "markdown",
      "metadata": {
        "id": "another-cooper"
      },
      "source": [
        "## 차대차 + 안전지대 오버레이어"
      ],
      "id": "another-cooper"
    },
    {
      "cell_type": "code",
      "metadata": {
        "id": "abstract-lottery"
      },
      "source": [
        "join_car = join_car[join_car.차대차_사고횟수!=0]\n",
        "\n",
        "join_car.to_file('join_car.geojson', driver='GeoJSON')\n",
        "\n",
        "join_car = 'join_car.geojson'\n",
        "\n",
        "import json\n",
        "with open(join_car) as f:\n",
        "    join_car = json.loads(f.read())"
      ],
      "id": "abstract-lottery",
      "execution_count": null,
      "outputs": []
    },
    {
      "cell_type": "code",
      "metadata": {
        "id": "experienced-discovery"
      },
      "source": [
        "sf.to_file('sf_car.geojson', driver='GeoJSON')\n",
        "\n",
        "sf = 'sf.geojson'\n",
        "\n",
        "import json\n",
        "with open(sf) as f:\n",
        "    sf = json.loads(f.read())"
      ],
      "id": "experienced-discovery",
      "execution_count": null,
      "outputs": []
    },
    {
      "cell_type": "code",
      "metadata": {
        "id": "unable-association"
      },
      "source": [
        "source1 = GeoJSONSource(join_car, source_id='차대차_사고횟수')    #멀티폴리곤 레이어\n",
        "\n",
        "paint =Paint(\n",
        "    fill_color = 'rgba(204,163,255,0.3)'\n",
        "    #fill_outline_color = 'rgba()'   테두리 채우는 옵션\n",
        "            )\n",
        "layer1 = PolygonFillLayer(source1, paint = paint)\n",
        "interaction = ClickInteraction(layer1)\n",
        "\n",
        "\n",
        "source2 = GeoJSONSource(sf, source_id ='cnt')           #포인트 레이어\n",
        "paint2 =Paint(\n",
        "    fill_color = 'rgb(255,0,0)'\n",
        "            )\n",
        "layer2 = PolygonFillLayer(source2, paint = paint2)\n",
        "interaction = ClickInteraction(layer2)\n",
        "\n",
        "\n",
        "\n",
        "\n",
        "mapbox_map = MapboxMap(\n",
        "                center = [127.378953,36.321655],\n",
        "                zoom = 10.7,\n",
        "                access_token = token,\n",
        "                sources =[source1,source2],\n",
        "                layers=[layer1,layer2],\n",
        "                interactions=[interaction],\n",
        "                style='mapbox://styles/mapbox/navigation-guidance-night-v4'\n",
        ")\n",
        "mapbox_map.show()"
      ],
      "id": "unable-association",
      "execution_count": null,
      "outputs": []
    },
    {
      "cell_type": "markdown",
      "metadata": {
        "id": "iraqi-manual"
      },
      "source": [
        "## 결론"
      ],
      "id": "iraqi-manual"
    },
    {
      "cell_type": "markdown",
      "metadata": {
        "id": "classified-sister"
      },
      "source": [
        "1. 모든 유형의 사고 발생 건수는 차량등, 보행등과 양의 상관관계가 있다.\n",
        "  - 그 중 차대차의 상관관계는 0.5이상으로 높은 편이며, 차대 사람도 낮지 않다.\n",
        "2. 모든 유형의 사고 발생 건수는 안전지대의 개수와 양의 상관관계가 있다.\n",
        "  - 신호등보다는 상관관계가 떨어지지만 차대차 0.5, 차대사람 0.33으로 적지않은 관계가 있는것으로 보인다"
      ],
      "id": "classified-sister"
    },
    {
      "cell_type": "markdown",
      "metadata": {
        "id": "official-linux"
      },
      "source": [
        "--------------------\n",
        "# 전처리를 위한 EDA\n",
        "--------------------"
      ],
      "id": "official-linux"
    },
    {
      "cell_type": "markdown",
      "metadata": {
        "id": "common-delay"
      },
      "source": [
        "---------------"
      ],
      "id": "common-delay"
    },
    {
      "cell_type": "code",
      "metadata": {
        "id": "variable-moldova"
      },
      "source": [
        "# 실행"
      ],
      "id": "variable-moldova",
      "execution_count": null,
      "outputs": []
    },
    {
      "cell_type": "code",
      "metadata": {
        "id": "naked-uzbekistan"
      },
      "source": [
        "pip install matplotlib==2.2.3"
      ],
      "id": "naked-uzbekistan",
      "execution_count": null,
      "outputs": []
    },
    {
      "cell_type": "code",
      "metadata": {
        "id": "under-muscle"
      },
      "source": [
        "# 커널 다시 시작"
      ],
      "id": "under-muscle",
      "execution_count": null,
      "outputs": []
    },
    {
      "cell_type": "markdown",
      "metadata": {
        "id": "satisfactory-comfort"
      },
      "source": [
        "----------"
      ],
      "id": "satisfactory-comfort"
    },
    {
      "cell_type": "code",
      "metadata": {
        "id": "insured-serve"
      },
      "source": [
        "from geoband.API import *\n",
        "\n",
        "import math\n",
        "from tqdm import tqdm\n",
        "import random\n",
        "import pandas as pd\n",
        "import numpy as np\n",
        "import matplotlib.pyplot as plt\n",
        "import folium\n",
        "import json\n",
        "import geopandas as gpd\n",
        "import geopy.distance\n",
        "\n",
        "import pydeck as pdk\n",
        "import shapely\n",
        "import shapefile\n",
        "import os\n",
        "import re\n",
        "\n",
        "from plotnine import *\n",
        "import mapboxgl\n",
        "from mapboxgl.viz import *\n",
        "import seaborn as sns\n",
        "\n",
        "import platform\n",
        "import requests; from urllib.parse import urlparse\n",
        "\n",
        "import warnings\n",
        "warnings.filterwarnings(action='ignore') #경고 메시지 무시\n",
        "from IPython.display import display #print가 아닌 display()로 연속 출력"
      ],
      "id": "insured-serve",
      "execution_count": null,
      "outputs": []
    },
    {
      "cell_type": "code",
      "metadata": {
        "id": "collaborative-notice"
      },
      "source": [
        "daejeon = gpd.read_file('daejeon_data.geojson')"
      ],
      "id": "collaborative-notice",
      "execution_count": null,
      "outputs": []
    },
    {
      "cell_type": "code",
      "metadata": {
        "id": "moderate-anime"
      },
      "source": [
        "daejeon = daejeon[daejeon.isroad==1]"
      ],
      "id": "moderate-anime",
      "execution_count": null,
      "outputs": []
    },
    {
      "cell_type": "markdown",
      "metadata": {
        "id": "phantom-payday"
      },
      "source": [
        "## 데이터 분할 : car_to_car / car_to_human / car_alone"
      ],
      "id": "phantom-payday"
    },
    {
      "cell_type": "code",
      "metadata": {
        "id": "dated-dance"
      },
      "source": [
        "var_list = ['gid', 'geometry',\n",
        "            \n",
        "            'acci_cnt', 'acci_risk', 'acci_ratio',\n",
        "            'car_car', 'acci_risk_ctc', 'acci_ratio_ctc',\n",
        "            'car_human', 'acci_risk_cth', 'acci_ratio_cth',\n",
        "            'car_only', 'acci_risk_cal', 'acci_ratio_cal',\n",
        "                        \n",
        "            'traffic_total_sum_inter', 'freq_max_inter', 'time_max_inter',\n",
        "            'speed_0', 'speed_30', 'speed_40_to_50', 'speed_60_to_70', 'speed_80_to_110',\n",
        "            'width_1', 'width_2', 'width_3', 'width_4', 'width_5', \n",
        "            'express', 'general', 'oneway', 'car_lane', 'intersects', 'TURN_P', \n",
        "            'crosswalk_ar', 'noparking_ar', 'trlight_pas', 'trlight_car', 'cctv',\n",
        "            'sign_traffic', 'safe_zone', 'barrier_road',\n",
        "            \n",
        "            'pop_all', 'pop_sen', 'pop_prd', 'pop_chd', 'cars_cnt', \n",
        "            'building_tot', 'house', 'office', 'other',\n",
        "            'subway_cnt', 'parkinglot_cnt', 'school_cnt', 'ssm_cnt', 'restaurant_cnt', \n",
        "            \n",
        "            'youth_attack', 'senior_attack', 'weak_attack', 'attack_na',\n",
        "            'youth_victim', 'senior_victim', 'weak_victim', 'victim_na', 'isroad',\n",
        "            ]"
      ],
      "id": "dated-dance",
      "execution_count": null,
      "outputs": []
    },
    {
      "cell_type": "code",
      "metadata": {
        "id": "induced-seeking"
      },
      "source": [
        "car_to_car = daejeon.copy()\n",
        "\n",
        "var_list = ['gid', 'geometry',\n",
        "            \n",
        "#            'acci_cnt', 'acci_risk', 'acci_ratio',\n",
        "            'car_car', 'acci_risk_ctc', 'acci_ratio_ctc',\n",
        "#            'car_human', 'acci_risk_cth', 'acci_ratio_cth',\n",
        "#            'car_only', 'acci_risk_cal', 'acci_ratio_cal',\n",
        "                        \n",
        "            'traffic_total_sum_inter', 'freq_max_inter', 'time_max_inter',\n",
        "            'speed_0', 'speed_30', 'speed_40_to_50', 'speed_60_to_70', 'speed_80_to_110',\n",
        "            'width_1', 'width_2', 'width_3', 'width_4', 'width_5', \n",
        "            'express', 'general', 'oneway', 'car_lane', 'intersects', 'TURN_P', \n",
        "            'crosswalk_ar', 'noparking_ar', 'trlight_pas', 'trlight_car', 'cctv',\n",
        "            'sign_traffic', 'safe_zone', 'barrier_road',\n",
        "            \n",
        "            'pop_all', 'pop_sen', 'pop_prd', 'pop_chd', 'cars_cnt', \n",
        "            'building_tot', 'house', 'office', 'other',\n",
        "            'subway_cnt', 'parkinglot_cnt', 'school_cnt', 'ssm_cnt', 'restaurant_cnt', \n",
        "            \n",
        "#            'youth_attack', 'senior_attack', 'weak_attack', 'attack_na',\n",
        "#            'youth_victim', 'senior_victim', 'weak_victim', 'victim_na', 'isroad',\n",
        "            ]\n",
        "\n",
        "car_to_car = car_to_car.loc[:, var_list]"
      ],
      "id": "induced-seeking",
      "execution_count": null,
      "outputs": []
    },
    {
      "cell_type": "code",
      "metadata": {
        "id": "coordinated-company"
      },
      "source": [
        "car_to_human = daejeon.copy()\n",
        "\n",
        "var_list = ['gid', 'geometry',\n",
        "            \n",
        "#            'acci_cnt', 'acci_risk', 'acci_ratio',\n",
        "#            'car_car', 'acci_risk_ctc', 'acci_ratio_ctc',\n",
        "            'car_human', 'acci_risk_cth', 'acci_ratio_cth',\n",
        "#            'car_only', 'acci_risk_cal', 'acci_ratio_cal',\n",
        "                        \n",
        "            'traffic_total_sum_inter', 'freq_max_inter', 'time_max_inter',\n",
        "            'speed_0', 'speed_30', 'speed_40_to_50', 'speed_60_to_70', 'speed_80_to_110',\n",
        "            'width_1', 'width_2', 'width_3', 'width_4', 'width_5', \n",
        "            'express', 'general', 'oneway', 'car_lane', 'intersects', 'TURN_P', \n",
        "            'crosswalk_ar', 'noparking_ar', 'trlight_pas', 'trlight_car', 'cctv',\n",
        "            'sign_traffic', 'safe_zone', 'barrier_road',\n",
        "            \n",
        "            'pop_all', 'pop_sen', 'pop_prd', 'pop_chd', 'cars_cnt', \n",
        "            'building_tot', 'house', 'office', 'other',\n",
        "            'subway_cnt', 'parkinglot_cnt', 'school_cnt', 'ssm_cnt', 'restaurant_cnt', \n",
        "            \n",
        "#            'youth_attack', 'senior_attack', 'weak_attack', 'attack_na',\n",
        "#            'youth_victim', 'senior_victim', 'weak_victim', 'victim_na', 'isroad',\n",
        "            ]\n",
        "\n",
        "car_to_human = car_to_human.loc[:, var_list]"
      ],
      "id": "coordinated-company",
      "execution_count": null,
      "outputs": []
    },
    {
      "cell_type": "code",
      "metadata": {
        "id": "growing-charles"
      },
      "source": [
        "car_alone = daejeon.copy()\n",
        "\n",
        "var_list = ['gid', 'geometry',\n",
        "            \n",
        "#            'acci_cnt', 'acci_risk', 'acci_ratio',\n",
        "#            'car_car', 'acci_risk_ctc', 'acci_ratio_ctc',\n",
        "#            'car_human', 'acci_risk_cth', 'acci_ratio_cth',\n",
        "            'car_only', 'acci_risk_cal', 'acci_ratio_cal',\n",
        "                        \n",
        "            'traffic_total_sum_inter', 'freq_max_inter', 'time_max_inter',\n",
        "            'speed_0', 'speed_30', 'speed_40_to_50', 'speed_60_to_70', 'speed_80_to_110',\n",
        "            'width_1', 'width_2', 'width_3', 'width_4', 'width_5', \n",
        "            'express', 'general', 'oneway', 'car_lane', 'intersects', 'TURN_P', \n",
        "            'crosswalk_ar', 'noparking_ar', 'trlight_pas', 'trlight_car', 'cctv',\n",
        "            'sign_traffic', 'safe_zone', 'barrier_road',\n",
        "            \n",
        "            'pop_all', 'pop_sen', 'pop_prd', 'pop_chd', 'cars_cnt', \n",
        "            'building_tot', 'house', 'office', 'other',\n",
        "            'subway_cnt', 'parkinglot_cnt', 'school_cnt', 'ssm_cnt', 'restaurant_cnt', \n",
        "            \n",
        "#            'youth_attack', 'senior_attack', 'weak_attack', 'attack_na',\n",
        "#            'youth_victim', 'senior_victim', 'weak_victim', 'victim_na', 'isroad',\n",
        "            ]\n",
        "\n",
        "car_alone = car_alone.loc[:, var_list]"
      ],
      "id": "growing-charles",
      "execution_count": null,
      "outputs": []
    },
    {
      "cell_type": "markdown",
      "metadata": {
        "id": "trained-court"
      },
      "source": [
        "## 데이터에 DUMMY VARIABLE 추가"
      ],
      "id": "trained-court"
    },
    {
      "cell_type": "code",
      "metadata": {
        "id": "commercial-pioneer"
      },
      "source": [
        "def make_binary(data, var_list):\n",
        "    \n",
        "    df = data.copy()\n",
        "    \n",
        "    for var_name in var_list : \n",
        "        new_var_name = var_name + '_bin'\n",
        "        df[new_var_name] = [1 if x>0 else 0 for x in df[var_name]]\n",
        "        \n",
        "    return df"
      ],
      "id": "commercial-pioneer",
      "execution_count": null,
      "outputs": []
    },
    {
      "cell_type": "code",
      "metadata": {
        "id": "elect-grammar"
      },
      "source": [
        "var_list = [            \n",
        "            'car_car', 'acci_risk_ctc', 'acci_ratio_ctc',\n",
        "                        \n",
        "            'traffic_total_sum_inter', 'freq_max_inter', 'time_max_inter',\n",
        "            'speed_0', 'speed_30', 'speed_40_to_50', 'speed_60_to_70', 'speed_80_to_110',\n",
        "            'width_1', 'width_2', 'width_3', 'width_4', 'width_5', \n",
        "            'express', 'general', 'oneway', 'car_lane', 'intersects', 'TURN_P', \n",
        "            'crosswalk_ar', 'noparking_ar', 'trlight_pas', 'trlight_car', 'cctv',\n",
        "            'sign_traffic', 'safe_zone', 'barrier_road',\n",
        "            \n",
        "            'pop_all', 'pop_sen', 'pop_prd', 'pop_chd', 'cars_cnt', \n",
        "            'building_tot', 'house', 'office', 'other',\n",
        "            'subway_cnt', 'parkinglot_cnt', 'school_cnt', 'ssm_cnt', 'restaurant_cnt'\n",
        "            ]\n",
        "\n",
        "car_to_car_bin = make_binary(data=car_to_car, var_list=var_list)"
      ],
      "id": "elect-grammar",
      "execution_count": null,
      "outputs": []
    },
    {
      "cell_type": "code",
      "metadata": {
        "id": "disciplinary-complexity"
      },
      "source": [
        "var_list = [            \n",
        "            'car_human', 'acci_risk_cth', 'acci_ratio_cth',\n",
        "                        \n",
        "            'traffic_total_sum_inter', 'freq_max_inter', 'time_max_inter',\n",
        "            'speed_0', 'speed_30', 'speed_40_to_50', 'speed_60_to_70', 'speed_80_to_110',\n",
        "            'width_1', 'width_2', 'width_3', 'width_4', 'width_5', \n",
        "            'express', 'general', 'oneway', 'car_lane', 'intersects', 'TURN_P', \n",
        "            'crosswalk_ar', 'noparking_ar', 'trlight_pas', 'trlight_car', 'cctv',\n",
        "            'sign_traffic', 'safe_zone', 'barrier_road',\n",
        "            \n",
        "            'pop_all', 'pop_sen', 'pop_prd', 'pop_chd', 'cars_cnt', \n",
        "            'building_tot', 'house', 'office', 'other',\n",
        "            'subway_cnt', 'parkinglot_cnt', 'school_cnt', 'ssm_cnt', 'restaurant_cnt'\n",
        "            ]\n",
        "\n",
        "car_to_human_bin = make_binary(data=car_to_human, var_list=var_list)"
      ],
      "id": "disciplinary-complexity",
      "execution_count": null,
      "outputs": []
    },
    {
      "cell_type": "code",
      "metadata": {
        "id": "innocent-ultimate"
      },
      "source": [
        "var_list = [            \n",
        "            'car_only', 'acci_risk_cal', 'acci_ratio_cal',\n",
        "                        \n",
        "            'traffic_total_sum_inter', 'freq_max_inter', 'time_max_inter',\n",
        "            'speed_0', 'speed_30', 'speed_40_to_50', 'speed_60_to_70', 'speed_80_to_110',\n",
        "            'width_1', 'width_2', 'width_3', 'width_4', 'width_5', \n",
        "            'express', 'general', 'oneway', 'car_lane', 'intersects', 'TURN_P', \n",
        "            'crosswalk_ar', 'noparking_ar', 'trlight_pas', 'trlight_car', 'cctv',\n",
        "            'sign_traffic', 'safe_zone', 'barrier_road',\n",
        "            \n",
        "            'pop_all', 'pop_sen', 'pop_prd', 'pop_chd', 'cars_cnt', \n",
        "            'building_tot', 'house', 'office', 'other',\n",
        "            'subway_cnt', 'parkinglot_cnt', 'school_cnt', 'ssm_cnt', 'restaurant_cnt'\n",
        "            ]\n",
        "\n",
        "car_alone_bin = make_binary(data=car_alone, var_list=var_list)"
      ],
      "id": "innocent-ultimate",
      "execution_count": null,
      "outputs": []
    },
    {
      "cell_type": "markdown",
      "metadata": {
        "id": "eastern-touch"
      },
      "source": [
        "## 교통량 변수1 : traffic"
      ],
      "id": "eastern-touch"
    },
    {
      "cell_type": "markdown",
      "metadata": {
        "id": "ambient-valentine"
      },
      "source": [
        "### 차대차"
      ],
      "id": "ambient-valentine"
    },
    {
      "cell_type": "code",
      "metadata": {
        "id": "welcome-planning"
      },
      "source": [
        "(\n",
        "    ggplot(car_to_car_bin, aes(y='acci_risk_ctc', x='traffic_total_sum_inter'))\n",
        "    + geom_jitter(size=0.1, alpha=0.3) + geom_smooth(color='red')\n",
        ")"
      ],
      "id": "welcome-planning",
      "execution_count": null,
      "outputs": []
    },
    {
      "cell_type": "markdown",
      "metadata": {
        "id": "continent-conclusion"
      },
      "source": [
        "### 차대사람"
      ],
      "id": "continent-conclusion"
    },
    {
      "cell_type": "code",
      "metadata": {
        "id": "coral-corpus"
      },
      "source": [
        "(\n",
        "    ggplot(car_to_human_bin, aes(y='acci_risk_cth', x='traffic_total_sum_inter'))\n",
        "    + geom_jitter(size=0.1, alpha=0.3) + stat_smooth(method='lm', color='red')\n",
        ")"
      ],
      "id": "coral-corpus",
      "execution_count": null,
      "outputs": []
    },
    {
      "cell_type": "markdown",
      "metadata": {
        "id": "genetic-campbell"
      },
      "source": [
        "#### 차대사람 사고의 경우 범주화된 traffic 변수와의 관계 고려"
      ],
      "id": "genetic-campbell"
    },
    {
      "cell_type": "code",
      "metadata": {
        "id": "unknown-contact",
        "scrolled": false
      },
      "source": [
        "(\n",
        "    ggplot(car_to_human, aes(x='traffic_total_sum_inter'))\n",
        "    + geom_density()\n",
        ")"
      ],
      "id": "unknown-contact",
      "execution_count": null,
      "outputs": []
    },
    {
      "cell_type": "code",
      "metadata": {
        "id": "incident-general"
      },
      "source": [
        "# traffic 변수 분포의 quantile을 이용해 범주화\n",
        "\n",
        "qmin = min(car_to_human.traffic_total_sum_inter)\n",
        "q1 = car_to_human.traffic_total_sum_inter.quantile(q=0.25, interpolation='nearest')\n",
        "q2 = car_to_human.traffic_total_sum_inter.quantile(q=0.5, interpolation='nearest')\n",
        "q3 = car_to_human.traffic_total_sum_inter.quantile(q=0.75, interpolation='nearest')\n",
        "qmax = max(car_to_human.traffic_total_sum_inter)\n",
        "\n",
        "qmin, q1, q2, q3, qmax"
      ],
      "id": "incident-general",
      "execution_count": null,
      "outputs": []
    },
    {
      "cell_type": "code",
      "metadata": {
        "id": "breeding-satisfaction"
      },
      "source": [
        "car_to_human_bin['traffic_total_sum_inter_categ'] = [1 if x<q1 else (2 if x<q2 else (3 if x<q3 else 4)) for x in car_to_human_bin['traffic_total_sum_inter']]\n",
        "\n",
        "\n",
        "(\n",
        "    ggplot(car_to_human_bin, aes(y='acci_risk_cth', x='traffic_total_sum_inter_categ'))\n",
        "    + geom_jitter(size=0.1, alpha=0.3) + geom_smooth(color='red')\n",
        ")"
      ],
      "id": "breeding-satisfaction",
      "execution_count": null,
      "outputs": []
    },
    {
      "cell_type": "code",
      "metadata": {
        "id": "novel-savannah"
      },
      "source": [
        "car_to_human_bin.traffic_total_sum_inter_categ = car_to_human_bin.traffic_total_sum_inter_categ.astype('category')\n",
        "\n",
        "(\n",
        "    ggplot(car_to_human_bin, aes(y='acci_risk_cth', x='traffic_total_sum_inter_categ'))\n",
        "    + geom_violin()\n",
        ")"
      ],
      "id": "novel-savannah",
      "execution_count": null,
      "outputs": []
    },
    {
      "cell_type": "markdown",
      "metadata": {
        "id": "finite-accessory"
      },
      "source": [
        "<span style='color:Red'> 차대사람 사고의 경우 범주화된 traffic 변수 이용이 유의미할 수 있음"
      ],
      "id": "finite-accessory"
    },
    {
      "cell_type": "markdown",
      "metadata": {
        "id": "usual-nylon"
      },
      "source": [
        "### 차량단독"
      ],
      "id": "usual-nylon"
    },
    {
      "cell_type": "code",
      "metadata": {
        "id": "illegal-server",
        "scrolled": false
      },
      "source": [
        "(\n",
        "    ggplot(car_alone_bin, aes(y='acci_risk_cal', x='traffic_total_sum_inter'))\n",
        "    + geom_jitter(size=0.1, alpha=0.3, width = 0.05, height = 0.3) + geom_smooth(color='red')\n",
        ")"
      ],
      "id": "illegal-server",
      "execution_count": null,
      "outputs": []
    },
    {
      "cell_type": "code",
      "metadata": {
        "id": "frequent-record"
      },
      "source": [
        "car_alone_bin['traffic_total_sum_inter_categ'] = car_to_human_bin['traffic_total_sum_inter_categ'].astype('category')\n",
        "\n",
        "(\n",
        "    ggplot(car_alone_bin, aes(y='acci_risk_cal', x='traffic_total_sum_inter_categ'))\n",
        "    + geom_violin()\n",
        ")"
      ],
      "id": "frequent-record",
      "execution_count": null,
      "outputs": []
    },
    {
      "cell_type": "markdown",
      "metadata": {
        "id": "purple-bulletin"
      },
      "source": [
        "## 교통량 변수2 : freq"
      ],
      "id": "purple-bulletin"
    },
    {
      "cell_type": "code",
      "metadata": {
        "id": "general-portugal"
      },
      "source": [
        "(\n",
        "    ggplot(car_to_car, aes(x='freq_max_inter'))\n",
        "    + geom_histogram()\n",
        ")"
      ],
      "id": "general-portugal",
      "execution_count": null,
      "outputs": []
    },
    {
      "cell_type": "markdown",
      "metadata": {
        "id": "bright-illustration"
      },
      "source": [
        "### 차대차"
      ],
      "id": "bright-illustration"
    },
    {
      "cell_type": "code",
      "metadata": {
        "id": "brilliant-runner"
      },
      "source": [
        "(\n",
        "    ggplot(car_to_car_bin, aes(y='acci_risk_ctc', x='freq_max_inter'))\n",
        "    + geom_jitter(size=0.1, alpha=0.3) + geom_smooth(color='red')\n",
        ")"
      ],
      "id": "brilliant-runner",
      "execution_count": null,
      "outputs": []
    },
    {
      "cell_type": "markdown",
      "metadata": {
        "id": "dying-jesus"
      },
      "source": [
        "### 차대사람"
      ],
      "id": "dying-jesus"
    },
    {
      "cell_type": "code",
      "metadata": {
        "id": "variable-blend"
      },
      "source": [
        "(\n",
        "    ggplot(car_to_human_bin, aes(y='acci_risk_cth', x='freq_max_inter'))\n",
        "    + geom_jitter(size=0.1, alpha=0.3) + geom_smooth(color='red')\n",
        ")"
      ],
      "id": "variable-blend",
      "execution_count": null,
      "outputs": []
    },
    {
      "cell_type": "markdown",
      "metadata": {
        "id": "korean-baking"
      },
      "source": [
        "### 차량단독"
      ],
      "id": "korean-baking"
    },
    {
      "cell_type": "code",
      "metadata": {
        "id": "floating-ground",
        "scrolled": false
      },
      "source": [
        "(\n",
        "    ggplot(car_alone_bin, aes(y='acci_risk_cal', x='freq_max_inter'))\n",
        "    + geom_jitter(size=0.1, alpha=0.3) + geom_smooth(color='red')\n",
        ")"
      ],
      "id": "floating-ground",
      "execution_count": null,
      "outputs": []
    },
    {
      "cell_type": "markdown",
      "metadata": {
        "id": "charged-princeton"
      },
      "source": [
        "## 교통량 변수3 : time"
      ],
      "id": "charged-princeton"
    },
    {
      "cell_type": "code",
      "metadata": {
        "id": "parliamentary-analyst"
      },
      "source": [
        "(\n",
        "    ggplot(car_to_car, aes(x='time_max_inter'))\n",
        "    + geom_histogram()\n",
        ")"
      ],
      "id": "parliamentary-analyst",
      "execution_count": null,
      "outputs": []
    },
    {
      "cell_type": "markdown",
      "metadata": {
        "id": "labeled-genesis"
      },
      "source": [
        "### 차대차"
      ],
      "id": "labeled-genesis"
    },
    {
      "cell_type": "code",
      "metadata": {
        "id": "dutch-fusion"
      },
      "source": [
        "(\n",
        "    ggplot(car_to_car_bin, aes(y='acci_risk_ctc', x='time_max_inter'))\n",
        "    + geom_jitter(size=0.1, alpha=0.3) + geom_smooth(color='red')\n",
        ")"
      ],
      "id": "dutch-fusion",
      "execution_count": null,
      "outputs": []
    },
    {
      "cell_type": "markdown",
      "metadata": {
        "id": "supreme-inclusion"
      },
      "source": [
        "### 차대사람"
      ],
      "id": "supreme-inclusion"
    },
    {
      "cell_type": "code",
      "metadata": {
        "id": "short-amino"
      },
      "source": [
        "(\n",
        "    ggplot(car_to_human_bin, aes(y='acci_risk_cth', x='time_max_inter'))\n",
        "    + geom_jitter(size=0.1, alpha=0.3) + geom_smooth(color='red')\n",
        ")"
      ],
      "id": "short-amino",
      "execution_count": null,
      "outputs": []
    },
    {
      "cell_type": "markdown",
      "metadata": {
        "id": "demographic-frost"
      },
      "source": [
        "### 차량단독"
      ],
      "id": "demographic-frost"
    },
    {
      "cell_type": "code",
      "metadata": {
        "id": "operational-praise",
        "scrolled": false
      },
      "source": [
        "(\n",
        "    ggplot(car_alone_bin, aes(y='acci_risk_cal', x='time_max_inter'))\n",
        "    + geom_jitter(size=0.1, alpha=0.3) + geom_smooth(color='red')\n",
        ")"
      ],
      "id": "operational-praise",
      "execution_count": null,
      "outputs": []
    },
    {
      "cell_type": "markdown",
      "metadata": {
        "id": "abstract-settle"
      },
      "source": [
        "## 교통량 변수 2~3 : freq vs time"
      ],
      "id": "abstract-settle"
    },
    {
      "cell_type": "code",
      "metadata": {
        "id": "south-schedule"
      },
      "source": [
        "(\n",
        "    ggplot(car_to_car, aes(y='time_max_inter', x='freq_max_inter'))\n",
        "    + geom_point(size=0.1, alpha=0.3)\n",
        ")"
      ],
      "id": "south-schedule",
      "execution_count": null,
      "outputs": []
    },
    {
      "cell_type": "markdown",
      "metadata": {
        "id": "wicked-adoption"
      },
      "source": [
        "<span style='color:Red'> time 변수와 freq 변수의 상관성이 크게 보임. 분포가 고른 freq 변수를 대신 사용"
      ],
      "id": "wicked-adoption"
    },
    {
      "cell_type": "markdown",
      "metadata": {
        "id": "fundamental-royal"
      },
      "source": [
        "## 교통량 변수 4 : speed"
      ],
      "id": "fundamental-royal"
    },
    {
      "cell_type": "markdown",
      "metadata": {
        "id": "asian-latitude"
      },
      "source": [
        "### 차대차"
      ],
      "id": "asian-latitude"
    },
    {
      "cell_type": "code",
      "metadata": {
        "id": "japanese-paste"
      },
      "source": [
        "(\n",
        "    ggplot(car_to_car_bin, aes(y='acci_risk_ctc', x='speed_0'))\n",
        "    + geom_jitter(size=0.1, alpha=0.3) + geom_smooth(color='red')\n",
        ")"
      ],
      "id": "japanese-paste",
      "execution_count": null,
      "outputs": []
    },
    {
      "cell_type": "code",
      "metadata": {
        "id": "finished-tracy"
      },
      "source": [
        "(\n",
        "    ggplot(car_to_car_bin, aes(y='acci_risk_ctc', x='speed_30'))\n",
        "    + geom_jitter(size=0.1, alpha=0.3) + geom_smooth(color='red')\n",
        ")"
      ],
      "id": "finished-tracy",
      "execution_count": null,
      "outputs": []
    },
    {
      "cell_type": "code",
      "metadata": {
        "id": "alien-discount"
      },
      "source": [
        "(\n",
        "    ggplot(car_to_car_bin, aes(y='acci_risk_ctc', x='speed_40_to_50'))\n",
        "    + geom_jitter(size=0.1, alpha=0.3) + geom_smooth(color='red')\n",
        ")"
      ],
      "id": "alien-discount",
      "execution_count": null,
      "outputs": []
    },
    {
      "cell_type": "code",
      "metadata": {
        "id": "twenty-sherman"
      },
      "source": [
        "(\n",
        "    ggplot(car_to_car_bin, aes(y='acci_risk_ctc', x='speed_60_to_70'))\n",
        "    + geom_jitter(size=0.1, alpha=0.3) + geom_smooth(color='red')\n",
        ")"
      ],
      "id": "twenty-sherman",
      "execution_count": null,
      "outputs": []
    },
    {
      "cell_type": "code",
      "metadata": {
        "id": "referenced-mills"
      },
      "source": [
        "(\n",
        "    ggplot(car_to_car_bin, aes(y='acci_risk_ctc', x='speed_80_to_110'))\n",
        "    + geom_jitter(size=0.1, alpha=0.3) + geom_smooth(color='red')\n",
        ")"
      ],
      "id": "referenced-mills",
      "execution_count": null,
      "outputs": []
    },
    {
      "cell_type": "markdown",
      "metadata": {
        "id": "demonstrated-pregnancy"
      },
      "source": [
        "<span style='color:Red'> speed 변수의 의미 : 격자에 해당 속도의 도로가 몇개 지나가는지? 이는 분석에 바로 이용되기에 무리가 있음. 따라서 speed 변수를 이용해서 분석에 유의미한 영향을 미칠 수 있도록 파생변수 도출이 필요"
      ],
      "id": "demonstrated-pregnancy"
    },
    {
      "cell_type": "code",
      "metadata": {
        "id": "agricultural-float"
      },
      "source": [
        "# 격자별로 지나는 도로 중 최빈 도로속도 범주화\n",
        "\n",
        "def mainstream(vec):\n",
        "    if max(vec)==vec[0]:\n",
        "        return 'categ1'\n",
        "    elif max(vec)==vec[1]:\n",
        "        return 'categ2'\n",
        "    elif max(vec)==vec[2]:\n",
        "        return 'categ3'\n",
        "    elif max(vec)==vec[3]:\n",
        "        return 'categ4'\n",
        "    else:\n",
        "        return 'categ5'\n",
        "    \n",
        "temp = car_to_car_bin.loc[:, ['speed_0', 'speed_30', 'speed_40_to_50', 'speed_60_to_70', 'speed_80_to_110']]\n",
        "car_to_car_bin['speed_main_categ'] = temp.apply(mainstream, axis=1)"
      ],
      "id": "agricultural-float",
      "execution_count": null,
      "outputs": []
    },
    {
      "cell_type": "code",
      "metadata": {
        "id": "unexpected-canadian"
      },
      "source": [
        "# 격자별로 지나는 도로 중 가장 속도가 높은 도로의 범주화\n",
        "\n",
        "def get_max(vec):\n",
        "    idx = np.dot(np.transpose(vec), np.diag(range(1, len(vec)+1)))\n",
        "    return max(idx)\n",
        "\n",
        "temp = car_to_car_bin.loc[:, ['speed_0_bin', 'speed_30_bin', 'speed_40_to_50_bin', 'speed_60_to_70_bin', 'speed_80_to_110_bin']]\n",
        "car_to_car_bin['speed_max_categ'] = temp.apply(get_max, axis=1)"
      ],
      "id": "unexpected-canadian",
      "execution_count": null,
      "outputs": []
    },
    {
      "cell_type": "code",
      "metadata": {
        "id": "still-jaguar"
      },
      "source": [
        "(\n",
        "    ggplot(car_to_car_bin, aes(y='acci_risk_ctc', x='speed_main_categ'))\n",
        "    + geom_jitter(size=0.1, alpha=0.3) + geom_smooth(color='red')\n",
        ")"
      ],
      "id": "still-jaguar",
      "execution_count": null,
      "outputs": []
    },
    {
      "cell_type": "code",
      "metadata": {
        "id": "external-editing"
      },
      "source": [
        "(\n",
        "    ggplot(car_to_car_bin, aes(y='acci_risk_ctc', x='speed_max_categ'))\n",
        "    + geom_jitter(size=0.1, alpha=0.3) + geom_smooth(color='red')\n",
        ")"
      ],
      "id": "external-editing",
      "execution_count": null,
      "outputs": []
    },
    {
      "cell_type": "code",
      "metadata": {
        "id": "expected-fetish"
      },
      "source": [
        "car_to_car_bin['speed_max_category'] = car_to_car_bin.speed_max_categ.astype('category')\n",
        "\n",
        "(\n",
        "    ggplot(car_to_car_bin, aes(x='acci_risk_ctc', color='speed_main_categ'))\n",
        "    + geom_density(alpha=0.5) \n",
        "    + scale_x_continuous(limits=[0, 10]) + scale_y_continuous(limits=[0, 0.5])\n",
        ")"
      ],
      "id": "expected-fetish",
      "execution_count": null,
      "outputs": []
    },
    {
      "cell_type": "code",
      "metadata": {
        "id": "patent-olympus"
      },
      "source": [
        "car_to_car_bin['speed_max_category'] = car_to_car_bin.speed_max_categ.astype('category')\n",
        "\n",
        "(\n",
        "    ggplot(car_to_car_bin, aes(x='acci_risk_ctc', color='speed_max_category'))\n",
        "    + geom_density(alpha=0.5) \n",
        "    + scale_x_continuous(limits=[0, 10]) + scale_y_continuous(limits=[0, 0.5])\n",
        ")"
      ],
      "id": "patent-olympus",
      "execution_count": null,
      "outputs": []
    },
    {
      "cell_type": "markdown",
      "metadata": {
        "id": "asian-shell"
      },
      "source": [
        "<span style='color:Red'> 확실히 3,4 범주에 비해서 1,2,5 범주의 격자에서 사고가 더 많이 관측됨을 알 수 있음"
      ],
      "id": "asian-shell"
    },
    {
      "cell_type": "markdown",
      "metadata": {
        "id": "irish-perception"
      },
      "source": [
        "### 차대사람"
      ],
      "id": "irish-perception"
    },
    {
      "cell_type": "code",
      "metadata": {
        "id": "brief-bullet"
      },
      "source": [
        "(\n",
        "    ggplot(car_to_human_bin, aes(y='acci_risk_cth', x='speed_0'))\n",
        "    + geom_jitter(size=0.1, alpha=0.3) + geom_smooth(color='red')\n",
        ")"
      ],
      "id": "brief-bullet",
      "execution_count": null,
      "outputs": []
    },
    {
      "cell_type": "code",
      "metadata": {
        "id": "prostate-belfast"
      },
      "source": [
        "(\n",
        "    ggplot(car_to_human_bin, aes(y='acci_risk_cth', x='speed_30'))\n",
        "    + geom_jitter(size=0.1, alpha=0.3) + geom_smooth(color='red')\n",
        ")"
      ],
      "id": "prostate-belfast",
      "execution_count": null,
      "outputs": []
    },
    {
      "cell_type": "code",
      "metadata": {
        "id": "involved-likelihood"
      },
      "source": [
        "(\n",
        "    ggplot(car_to_human_bin, aes(y='acci_risk_cth', x='speed_40_to_50'))\n",
        "    + geom_jitter(size=0.1, alpha=0.3) + geom_smooth(color='red')\n",
        ")"
      ],
      "id": "involved-likelihood",
      "execution_count": null,
      "outputs": []
    },
    {
      "cell_type": "code",
      "metadata": {
        "id": "boolean-allen"
      },
      "source": [
        "(\n",
        "    ggplot(car_to_human_bin, aes(y='acci_risk_cth', x='speed_60_to_70'))\n",
        "    + geom_jitter(size=0.1, alpha=0.3) + geom_smooth(color='red')\n",
        ")"
      ],
      "id": "boolean-allen",
      "execution_count": null,
      "outputs": []
    },
    {
      "cell_type": "code",
      "metadata": {
        "id": "massive-advertiser"
      },
      "source": [
        "(\n",
        "    ggplot(car_to_human_bin, aes(y='acci_risk_cth', x='speed_80_to_110'))\n",
        "    + geom_jitter(size=0.1, alpha=0.3) + geom_smooth(color='red')\n",
        ")"
      ],
      "id": "massive-advertiser",
      "execution_count": null,
      "outputs": []
    },
    {
      "cell_type": "code",
      "metadata": {
        "id": "peaceful-speed"
      },
      "source": [
        "# 격자별로 지나는 도로 중 최빈 도로속도 범주\n",
        "# 격자별로 지나는 도로 중 가장 속도가 높은 도로의 범주\n",
        "    \n",
        "car_to_human_bin['speed_main_categ'] = car_to_car_bin['speed_main_categ']\n",
        "car_to_human_bin['speed_max_categ'] = car_to_car_bin['speed_max_categ']\n",
        "car_to_human_bin['speed_max_category'] = car_to_car_bin['speed_max_categ'].astype('category')"
      ],
      "id": "peaceful-speed",
      "execution_count": null,
      "outputs": []
    },
    {
      "cell_type": "code",
      "metadata": {
        "id": "expressed-detective"
      },
      "source": [
        "(\n",
        "    ggplot(car_to_human_bin, aes(y='acci_risk_cth', x='speed_main_categ'))\n",
        "    + geom_jitter(size=0.1, alpha=0.3) + geom_smooth(color='red')\n",
        ")"
      ],
      "id": "expressed-detective",
      "execution_count": null,
      "outputs": []
    },
    {
      "cell_type": "code",
      "metadata": {
        "id": "premier-unknown"
      },
      "source": [
        "(\n",
        "    ggplot(car_to_human_bin, aes(y='acci_risk_cth', x='speed_max_categ'))\n",
        "    + geom_jitter(size=0.1, alpha=0.3) + geom_smooth(color='red')\n",
        ")"
      ],
      "id": "premier-unknown",
      "execution_count": null,
      "outputs": []
    },
    {
      "cell_type": "code",
      "metadata": {
        "id": "thermal-rugby"
      },
      "source": [
        "(\n",
        "    ggplot(car_to_human_bin, aes(x='acci_risk_cth', color='speed_main_categ'))\n",
        "    + geom_density(alpha=0.5) \n",
        "    + scale_x_continuous(limits=[0, 10]) + scale_y_continuous(limits=[0, 0.5])\n",
        ")"
      ],
      "id": "thermal-rugby",
      "execution_count": null,
      "outputs": []
    },
    {
      "cell_type": "code",
      "metadata": {
        "id": "intellectual-failing"
      },
      "source": [
        "(\n",
        "    ggplot(car_to_human_bin, aes(x='acci_risk_cth', color='speed_main_categ'))\n",
        "    + geom_density(alpha=0.5) \n",
        "    + scale_x_continuous(limits=[0, 5]) + scale_y_continuous(limits=[0, 0.5])\n",
        ")"
      ],
      "id": "intellectual-failing",
      "execution_count": null,
      "outputs": []
    },
    {
      "cell_type": "code",
      "metadata": {
        "id": "spanish-prevention"
      },
      "source": [
        "(\n",
        "    ggplot(car_to_human_bin, aes(x='acci_risk_cth', color='speed_max_category'))\n",
        "    + geom_density(alpha=0.5) \n",
        "    + scale_x_continuous(limits=[0, 10]) + scale_y_continuous(limits=[0, 0.5])\n",
        ")"
      ],
      "id": "spanish-prevention",
      "execution_count": null,
      "outputs": []
    },
    {
      "cell_type": "code",
      "metadata": {
        "id": "usual-harvest"
      },
      "source": [
        "(\n",
        "    ggplot(car_to_human_bin, aes(x='acci_risk_cth', color='speed_max_category'))\n",
        "    + geom_density(alpha=0.5) \n",
        "    + scale_x_continuous(limits=[0, 5]) + scale_y_continuous(limits=[0, 0.5])\n",
        ")"
      ],
      "id": "usual-harvest",
      "execution_count": null,
      "outputs": []
    },
    {
      "cell_type": "markdown",
      "metadata": {
        "id": "embedded-pillow"
      },
      "source": [
        "<span style='color:Red'> 차대사람의 경우 3,4 범주와 1,2 범주가 비슷한 양상을 보이지만 이와 달리 5 범주에서는 조금 다름"
      ],
      "id": "embedded-pillow"
    },
    {
      "cell_type": "markdown",
      "metadata": {
        "id": "prescription-glossary"
      },
      "source": [
        "### 차량단독"
      ],
      "id": "prescription-glossary"
    },
    {
      "cell_type": "code",
      "metadata": {
        "id": "tight-peninsula"
      },
      "source": [
        "(\n",
        "    ggplot(car_alone_bin, aes(y='acci_risk_cal', x='speed_0'))\n",
        "    + geom_jitter(size=0.1, alpha=0.3) + geom_smooth(color='red')\n",
        ")"
      ],
      "id": "tight-peninsula",
      "execution_count": null,
      "outputs": []
    },
    {
      "cell_type": "code",
      "metadata": {
        "id": "first-conducting"
      },
      "source": [
        "(\n",
        "    ggplot(car_alone_bin, aes(y='acci_risk_cal', x='speed_30'))\n",
        "    + geom_jitter(size=0.1, alpha=0.3) + geom_smooth(color='red')\n",
        ")"
      ],
      "id": "first-conducting",
      "execution_count": null,
      "outputs": []
    },
    {
      "cell_type": "code",
      "metadata": {
        "id": "powerful-render"
      },
      "source": [
        "(\n",
        "    ggplot(car_alone_bin, aes(y='acci_risk_cal', x='speed_40_to_50'))\n",
        "    + geom_jitter(size=0.1, alpha=0.3) + geom_smooth(color='red')\n",
        ")"
      ],
      "id": "powerful-render",
      "execution_count": null,
      "outputs": []
    },
    {
      "cell_type": "code",
      "metadata": {
        "id": "extra-first"
      },
      "source": [
        "(\n",
        "    ggplot(car_alone_bin, aes(y='acci_risk_cal', x='speed_60_to_70'))\n",
        "    + geom_jitter(size=0.1, alpha=0.3) + geom_smooth(color='red')\n",
        ")"
      ],
      "id": "extra-first",
      "execution_count": null,
      "outputs": []
    },
    {
      "cell_type": "code",
      "metadata": {
        "id": "earlier-freight"
      },
      "source": [
        "(\n",
        "    ggplot(car_alone_bin, aes(y='acci_risk_cal', x='speed_80_to_110'))\n",
        "    + geom_jitter(size=0.1, alpha=0.3) + geom_smooth(color='red')\n",
        ")"
      ],
      "id": "earlier-freight",
      "execution_count": null,
      "outputs": []
    },
    {
      "cell_type": "code",
      "metadata": {
        "id": "superb-intermediate"
      },
      "source": [
        "# 격자별로 지나는 도로 중 최빈 도로속도 범주\n",
        "# 격자별로 지나는 도로 중 가장 속도가 높은 도로의 범주\n",
        "    \n",
        "car_alone_bin['speed_main_categ'] = car_to_car_bin['speed_main_categ']\n",
        "car_alone_bin['speed_max_categ'] = car_to_car_bin['speed_max_categ']\n",
        "car_alone_bin['speed_max_category'] = car_to_car_bin['speed_max_categ'].astype('category')"
      ],
      "id": "superb-intermediate",
      "execution_count": null,
      "outputs": []
    },
    {
      "cell_type": "code",
      "metadata": {
        "id": "identified-german"
      },
      "source": [
        "(\n",
        "    ggplot(car_alone_bin, aes(y='acci_risk_cal', x='speed_main_categ'))\n",
        "    + geom_jitter(size=0.1, alpha=0.3) + geom_smooth(color='red')\n",
        ")"
      ],
      "id": "identified-german",
      "execution_count": null,
      "outputs": []
    },
    {
      "cell_type": "code",
      "metadata": {
        "id": "absolute-consumption"
      },
      "source": [
        "(\n",
        "    ggplot(car_alone_bin, aes(y='acci_risk_cal', x='speed_max_categ'))\n",
        "    + geom_jitter(size=0.1, alpha=0.3) + geom_smooth(color='red')\n",
        ")"
      ],
      "id": "absolute-consumption",
      "execution_count": null,
      "outputs": []
    },
    {
      "cell_type": "code",
      "metadata": {
        "id": "recreational-thread"
      },
      "source": [
        "(\n",
        "    ggplot(car_alone_bin, aes(x='acci_risk_cal', color='speed_main_categ'))\n",
        "    + geom_density(alpha=0.5) \n",
        "    + scale_x_continuous(limits=[0, 5]) + scale_y_continuous(limits=[0, 1])\n",
        ")"
      ],
      "id": "recreational-thread",
      "execution_count": null,
      "outputs": []
    },
    {
      "cell_type": "code",
      "metadata": {
        "id": "third-nancy"
      },
      "source": [
        "car_to_car_bin['speed_max_category'] = car_to_car_bin.speed_max_categ.astype('category')\n",
        "\n",
        "(\n",
        "    ggplot(car_alone_bin, aes(x='acci_risk_cal', color='speed_max_category'))\n",
        "    + geom_density(alpha=0.5) \n",
        "    + scale_x_continuous(limits=[0, 5]) + scale_y_continuous(limits=[0, 1])\n",
        ")"
      ],
      "id": "third-nancy",
      "execution_count": null,
      "outputs": []
    },
    {
      "cell_type": "markdown",
      "metadata": {
        "id": "interesting-government"
      },
      "source": [
        "<span style='color:Red'> 차량단독의 경우 전반적으로 모든 범주가 비슷함"
      ],
      "id": "interesting-government"
    },
    {
      "cell_type": "markdown",
      "metadata": {
        "id": "disciplinary-german"
      },
      "source": [
        "## 교통량 변수 5 : width"
      ],
      "id": "disciplinary-german"
    },
    {
      "cell_type": "markdown",
      "metadata": {
        "id": "relative-summary"
      },
      "source": [
        "### 차대차"
      ],
      "id": "relative-summary"
    },
    {
      "cell_type": "code",
      "metadata": {
        "id": "owned-globe"
      },
      "source": [
        "(\n",
        "    ggplot(car_to_car_bin, aes(y='acci_risk_ctc', x='width_1'))\n",
        "    + geom_jitter(size=0.1, alpha=0.3) + geom_smooth(color='red')\n",
        ")"
      ],
      "id": "owned-globe",
      "execution_count": null,
      "outputs": []
    },
    {
      "cell_type": "code",
      "metadata": {
        "id": "recognized-solution"
      },
      "source": [
        "(\n",
        "    ggplot(car_to_car_bin, aes(y='acci_risk_ctc', x='width_2'))\n",
        "    + geom_jitter(size=0.1, alpha=0.3) + geom_smooth(color='red')\n",
        ")"
      ],
      "id": "recognized-solution",
      "execution_count": null,
      "outputs": []
    },
    {
      "cell_type": "code",
      "metadata": {
        "id": "welsh-communist"
      },
      "source": [
        "(\n",
        "    ggplot(car_to_car_bin, aes(y='acci_risk_ctc', x='width_3'))\n",
        "    + geom_jitter(size=0.1, alpha=0.3) + geom_smooth(color='red')\n",
        ")"
      ],
      "id": "welsh-communist",
      "execution_count": null,
      "outputs": []
    },
    {
      "cell_type": "code",
      "metadata": {
        "id": "sexual-expense"
      },
      "source": [
        "(\n",
        "    ggplot(car_to_car_bin, aes(y='acci_risk_ctc', x='width_4'))\n",
        "    + geom_jitter(size=0.1, alpha=0.3) + geom_smooth(color='red')\n",
        ")"
      ],
      "id": "sexual-expense",
      "execution_count": null,
      "outputs": []
    },
    {
      "cell_type": "code",
      "metadata": {
        "id": "twenty-launch"
      },
      "source": [
        "(\n",
        "    ggplot(car_to_car_bin, aes(y='acci_risk_ctc', x='width_5'))\n",
        "    + geom_jitter(size=0.1, alpha=0.3) + geom_smooth(color='red')\n",
        ")"
      ],
      "id": "twenty-launch",
      "execution_count": null,
      "outputs": []
    },
    {
      "cell_type": "markdown",
      "metadata": {
        "id": "registered-adrian"
      },
      "source": [
        "<span style='color:Red'> width 변수 또한 분석에 유의미한 영향을 미칠 수 있도록 파생변수 도출이 필요"
      ],
      "id": "registered-adrian"
    },
    {
      "cell_type": "code",
      "metadata": {
        "id": "chemical-hierarchy"
      },
      "source": [
        "# 격자별로 지나는 도로 중 최빈 도로 차선 범주\n",
        "\n",
        "def mainstream(vec):\n",
        "    if max(vec)==vec[0]:\n",
        "        return 'categ1'\n",
        "    elif max(vec)==vec[1]:\n",
        "        return 'categ2'\n",
        "    elif max(vec)==vec[2]:\n",
        "        return 'categ3'\n",
        "    elif max(vec)==vec[3]:\n",
        "        return 'categ4'\n",
        "    else:\n",
        "        return 'categ5'\n",
        "    \n",
        "temp = car_to_car_bin.loc[:, ['width_1', 'width_2', 'width_3', 'width_4', 'width_5']]\n",
        "car_to_car_bin['width_main_categ'] = temp.apply(mainstream, axis=1)"
      ],
      "id": "chemical-hierarchy",
      "execution_count": null,
      "outputs": []
    },
    {
      "cell_type": "code",
      "metadata": {
        "id": "english-patent"
      },
      "source": [
        "# 격자별로 지나는 도로 중 가장 넓은 차선의 도로의 범주\n",
        "\n",
        "def get_max(vec):\n",
        "    idx = np.dot(np.transpose(vec), np.diag(range(1, len(vec)+1)))\n",
        "    return max(idx)\n",
        "\n",
        "temp = car_to_car_bin.loc[:, ['width_1_bin', 'width_2_bin', 'width_3_bin', 'width_4_bin', 'width_5_bin']]\n",
        "car_to_car_bin['width_max_categ'] = temp.apply(get_max, axis=1)"
      ],
      "id": "english-patent",
      "execution_count": null,
      "outputs": []
    },
    {
      "cell_type": "code",
      "metadata": {
        "id": "confidential-developer"
      },
      "source": [
        "(\n",
        "    ggplot(car_to_car_bin, aes(y='acci_risk_ctc', x='width_main_categ'))\n",
        "    + geom_jitter(size=0.1, alpha=0.3) + geom_smooth(color='red')\n",
        ")"
      ],
      "id": "confidential-developer",
      "execution_count": null,
      "outputs": []
    },
    {
      "cell_type": "code",
      "metadata": {
        "id": "fewer-culture"
      },
      "source": [
        "(\n",
        "    ggplot(car_to_car_bin, aes(y='acci_risk_ctc', x='width_max_categ'))\n",
        "    + geom_jitter(size=0.1, alpha=0.3) + geom_smooth(color='red')\n",
        ")"
      ],
      "id": "fewer-culture",
      "execution_count": null,
      "outputs": []
    },
    {
      "cell_type": "code",
      "metadata": {
        "id": "caroline-biology"
      },
      "source": [
        "(\n",
        "    ggplot(car_to_car_bin, aes(x='acci_risk_ctc', color='width_main_categ'))\n",
        "    + geom_density(alpha=0.5) \n",
        "    + scale_x_continuous(limits=[0, 15]) + scale_y_continuous(limits=[0, 0.5])\n",
        ")"
      ],
      "id": "caroline-biology",
      "execution_count": null,
      "outputs": []
    },
    {
      "cell_type": "code",
      "metadata": {
        "id": "magnetic-afghanistan"
      },
      "source": [
        "car_to_car_bin['width_max_categ'] = car_to_car_bin.width_max_categ.astype('category')\n",
        "\n",
        "(\n",
        "    ggplot(car_to_car_bin, aes(x='acci_risk_ctc', color='width_max_categ'))\n",
        "    + geom_density(alpha=0.5) \n",
        "    + scale_x_continuous(limits=[0, 15]) + scale_y_continuous(limits=[0, 0.5])\n",
        ")"
      ],
      "id": "magnetic-afghanistan",
      "execution_count": null,
      "outputs": []
    },
    {
      "cell_type": "markdown",
      "metadata": {
        "id": "pleasant-salon"
      },
      "source": [
        "<span style='color:Red'> 차대차의 경우 4,5 범주가 비슷한 양상을 보이고 그 외가 비슷해보임"
      ],
      "id": "pleasant-salon"
    },
    {
      "cell_type": "markdown",
      "metadata": {
        "id": "cooperative-pearl"
      },
      "source": [
        "### 차대사람"
      ],
      "id": "cooperative-pearl"
    },
    {
      "cell_type": "code",
      "metadata": {
        "id": "imperial-walnut"
      },
      "source": [
        "(\n",
        "    ggplot(car_to_human_bin, aes(y='acci_risk_cth', x='width_1'))\n",
        "    + geom_jitter(size=0.1, alpha=0.3) + geom_smooth(color='red')\n",
        ")"
      ],
      "id": "imperial-walnut",
      "execution_count": null,
      "outputs": []
    },
    {
      "cell_type": "code",
      "metadata": {
        "id": "terminal-maryland"
      },
      "source": [
        "(\n",
        "    ggplot(car_to_human_bin, aes(y='acci_risk_cth', x='width_2'))\n",
        "    + geom_jitter(size=0.1, alpha=0.3) + geom_smooth(color='red')\n",
        ")"
      ],
      "id": "terminal-maryland",
      "execution_count": null,
      "outputs": []
    },
    {
      "cell_type": "code",
      "metadata": {
        "id": "unexpected-broadcasting"
      },
      "source": [
        "(\n",
        "    ggplot(car_to_human_bin, aes(y='acci_risk_cth', x='width_3'))\n",
        "    + geom_jitter(size=0.1, alpha=0.3) + geom_smooth(color='red')\n",
        ")"
      ],
      "id": "unexpected-broadcasting",
      "execution_count": null,
      "outputs": []
    },
    {
      "cell_type": "code",
      "metadata": {
        "id": "ambient-poison"
      },
      "source": [
        "(\n",
        "    ggplot(car_to_human_bin, aes(y='acci_risk_cth', x='width_4'))\n",
        "    + geom_jitter(size=0.1, alpha=0.3) + geom_smooth(color='red')\n",
        ")"
      ],
      "id": "ambient-poison",
      "execution_count": null,
      "outputs": []
    },
    {
      "cell_type": "code",
      "metadata": {
        "id": "tired-legislation"
      },
      "source": [
        "(\n",
        "    ggplot(car_to_human_bin, aes(y='acci_risk_cth', x='width_5'))\n",
        "    + geom_jitter(size=0.1, alpha=0.3) + geom_smooth(color='red')\n",
        ")"
      ],
      "id": "tired-legislation",
      "execution_count": null,
      "outputs": []
    },
    {
      "cell_type": "code",
      "metadata": {
        "id": "imported-alert"
      },
      "source": [
        "# 격자별로 지나는 도로 중 최빈 도로 차선 범주\n",
        "# 격자별로 지나는 도로 중 가장 넓은 차선의 도로의 범주\n",
        "\n",
        "car_to_human_bin['width_main_categ'] = car_to_car_bin['width_main_categ']\n",
        "car_to_human_bin['width_max_categ'] = car_to_car_bin['width_max_categ']\n",
        "car_to_human_bin['width_max_category'] = car_to_car_bin['width_max_categ'].astype('category')"
      ],
      "id": "imported-alert",
      "execution_count": null,
      "outputs": []
    },
    {
      "cell_type": "code",
      "metadata": {
        "id": "prime-monthly"
      },
      "source": [
        "(\n",
        "    ggplot(car_to_human_bin, aes(y='acci_risk_cth', x='width_main_categ'))\n",
        "    + geom_jitter(size=0.1, alpha=0.3) + geom_smooth(color='red')\n",
        ")"
      ],
      "id": "prime-monthly",
      "execution_count": null,
      "outputs": []
    },
    {
      "cell_type": "code",
      "metadata": {
        "id": "capable-filling"
      },
      "source": [
        "(\n",
        "    ggplot(car_to_human_bin, aes(y='acci_risk_cth', x='width_max_categ'))\n",
        "    + geom_jitter(size=0.1, alpha=0.3) + geom_smooth(color='red')\n",
        ")"
      ],
      "id": "capable-filling",
      "execution_count": null,
      "outputs": []
    },
    {
      "cell_type": "code",
      "metadata": {
        "id": "tough-travel"
      },
      "source": [
        "(\n",
        "    ggplot(car_to_human_bin, aes(x='acci_risk_cth', color='width_main_categ'))\n",
        "    + geom_density(alpha=0.5) \n",
        "    + scale_x_continuous(limits=[0, 15]) + scale_y_continuous(limits=[0, 0.5])\n",
        ")"
      ],
      "id": "tough-travel",
      "execution_count": null,
      "outputs": []
    },
    {
      "cell_type": "code",
      "metadata": {
        "id": "endangered-deployment"
      },
      "source": [
        "car_to_car_bin['width_max_categ'] = car_to_car_bin.width_max_categ.astype('category')\n",
        "\n",
        "(\n",
        "    ggplot(car_to_human_bin, aes(x='acci_risk_cth', color='width_max_categ'))\n",
        "    + geom_density(alpha=0.5) \n",
        "    + scale_x_continuous(limits=[0, 15]) + scale_y_continuous(limits=[0, 0.5])\n",
        ")"
      ],
      "id": "endangered-deployment",
      "execution_count": null,
      "outputs": []
    },
    {
      "cell_type": "markdown",
      "metadata": {
        "id": "southern-blake"
      },
      "source": [
        "<span style='color:Red'> 차대사람의 경우 4,5 범주가 비슷한 양상을 보이고 그 외가 비슷함"
      ],
      "id": "southern-blake"
    },
    {
      "cell_type": "markdown",
      "metadata": {
        "id": "behavioral-lounge"
      },
      "source": [
        "### 차량단독"
      ],
      "id": "behavioral-lounge"
    },
    {
      "cell_type": "code",
      "metadata": {
        "id": "accredited-induction"
      },
      "source": [
        "(\n",
        "    ggplot(car_alone_bin, aes(y='acci_risk_cal', x='width_1'))\n",
        "    + geom_jitter(size=0.1, alpha=0.3) + geom_smooth(color='red')\n",
        ")"
      ],
      "id": "accredited-induction",
      "execution_count": null,
      "outputs": []
    },
    {
      "cell_type": "code",
      "metadata": {
        "id": "accurate-thomson"
      },
      "source": [
        "(\n",
        "    ggplot(car_alone_bin, aes(y='acci_risk_cal', x='width_2'))\n",
        "    + geom_jitter(size=0.1, alpha=0.3) + geom_smooth(color='red')\n",
        ")"
      ],
      "id": "accurate-thomson",
      "execution_count": null,
      "outputs": []
    },
    {
      "cell_type": "code",
      "metadata": {
        "id": "declared-preserve"
      },
      "source": [
        "(\n",
        "    ggplot(car_alone_bin, aes(y='acci_risk_cal', x='width_3'))\n",
        "    + geom_jitter(size=0.1, alpha=0.3) + geom_smooth(color='red')\n",
        ")"
      ],
      "id": "declared-preserve",
      "execution_count": null,
      "outputs": []
    },
    {
      "cell_type": "code",
      "metadata": {
        "id": "described-poster"
      },
      "source": [
        "(\n",
        "    ggplot(car_alone_bin, aes(y='acci_risk_cal', x='width_4'))\n",
        "    + geom_jitter(size=0.1, alpha=0.3) + geom_smooth(color='red')\n",
        ")"
      ],
      "id": "described-poster",
      "execution_count": null,
      "outputs": []
    },
    {
      "cell_type": "code",
      "metadata": {
        "id": "explicit-capitol"
      },
      "source": [
        "(\n",
        "    ggplot(car_alone_bin, aes(y='acci_risk_cal', x='width_5'))\n",
        "    + geom_jitter(size=0.1, alpha=0.3) + geom_smooth(color='red')\n",
        ")"
      ],
      "id": "explicit-capitol",
      "execution_count": null,
      "outputs": []
    },
    {
      "cell_type": "code",
      "metadata": {
        "id": "surprised-correction"
      },
      "source": [
        "# 격자별로 지나는 도로 중 최빈 도로 차선 범주\n",
        "# 격자별로 지나는 도로 중 가장 넓은 차선의 도로의 범주\n",
        "\n",
        "car_alone_bin['width_main_categ'] = car_to_car_bin['width_main_categ']\n",
        "car_alone_bin['width_max_categ'] = car_to_car_bin['width_max_categ']\n",
        "car_alone_bin['width_max_category'] = car_to_car_bin['width_max_categ'].astype('category')"
      ],
      "id": "surprised-correction",
      "execution_count": null,
      "outputs": []
    },
    {
      "cell_type": "code",
      "metadata": {
        "id": "pharmaceutical-piano"
      },
      "source": [
        "(\n",
        "    ggplot(car_alone_bin, aes(y='acci_risk_cal', x='width_main_categ'))\n",
        "    + geom_jitter(size=0.1, alpha=0.3) + geom_smooth(color='red')\n",
        ")"
      ],
      "id": "pharmaceutical-piano",
      "execution_count": null,
      "outputs": []
    },
    {
      "cell_type": "code",
      "metadata": {
        "id": "independent-lucas"
      },
      "source": [
        "(\n",
        "    ggplot(car_alone_bin, aes(y='acci_risk_cal', x='width_max_categ'))\n",
        "    + geom_jitter(size=0.1, alpha=0.3) + geom_smooth(color='red')\n",
        ")"
      ],
      "id": "independent-lucas",
      "execution_count": null,
      "outputs": []
    },
    {
      "cell_type": "code",
      "metadata": {
        "id": "miniature-captain"
      },
      "source": [
        "(\n",
        "    ggplot(car_alone_bin, aes(x='acci_risk_cal', color='width_main_categ'))\n",
        "    + geom_density(alpha=0.5) \n",
        "    + scale_x_continuous(limits=[0, 5]) + scale_y_continuous(limits=[0, 1])\n",
        ")"
      ],
      "id": "miniature-captain",
      "execution_count": null,
      "outputs": []
    },
    {
      "cell_type": "code",
      "metadata": {
        "id": "stupid-schedule"
      },
      "source": [
        "car_to_car_bin['width_max_categ'] = car_to_car_bin.width_max_categ.astype('category')\n",
        "\n",
        "(\n",
        "    ggplot(car_alone_bin, aes(x='acci_risk_cal', color='width_max_categ'))\n",
        "    + geom_density(alpha=0.5) \n",
        "    + scale_x_continuous(limits=[0, 5]) + scale_y_continuous(limits=[0, 1])\n",
        ")"
      ],
      "id": "stupid-schedule",
      "execution_count": null,
      "outputs": []
    },
    {
      "cell_type": "markdown",
      "metadata": {
        "id": "narrative-intersection"
      },
      "source": [
        "<span style='color:Red'> 차량단독의 경우 범주별로 큰 차이가 보이지 않음"
      ],
      "id": "narrative-intersection"
    },
    {
      "cell_type": "markdown",
      "metadata": {
        "id": "saved-folks"
      },
      "source": [
        "## 교통량 변수 6 : general, express"
      ],
      "id": "saved-folks"
    },
    {
      "cell_type": "code",
      "metadata": {
        "id": "synthetic-semester"
      },
      "source": [
        "(\n",
        "    ggplot(car_alone_bin, aes(y='express_bin', x='general_bin'))\n",
        "    + geom_jitter(size=0.1, alpha=0.3) + geom_smooth(color='red')\n",
        ")"
      ],
      "id": "synthetic-semester",
      "execution_count": null,
      "outputs": []
    },
    {
      "cell_type": "markdown",
      "metadata": {
        "id": "quality-landscape"
      },
      "source": [
        "<span style='color:Red'> express or general 등의 dummy 변수로 바꿀 필요 있음"
      ],
      "id": "quality-landscape"
    },
    {
      "cell_type": "markdown",
      "metadata": {
        "id": "literary-morris"
      },
      "source": [
        "### 차대차"
      ],
      "id": "literary-morris"
    },
    {
      "cell_type": "code",
      "metadata": {
        "id": "requested-colony"
      },
      "source": [
        "(\n",
        "    ggplot(car_to_car_bin, aes(y='acci_risk_ctc', x='express_bin'))\n",
        "    + geom_jitter(size=0.1, alpha=0.3) + geom_smooth(color='red')\n",
        ")"
      ],
      "id": "requested-colony",
      "execution_count": null,
      "outputs": []
    },
    {
      "cell_type": "code",
      "metadata": {
        "id": "cosmetic-checkout"
      },
      "source": [
        "(\n",
        "    ggplot(car_to_car_bin, aes(y='acci_risk_ctc', x='general_bin'))\n",
        "    + geom_jitter(size=0.1, alpha=0.3) + geom_smooth(color='red')\n",
        ")"
      ],
      "id": "cosmetic-checkout",
      "execution_count": null,
      "outputs": []
    },
    {
      "cell_type": "markdown",
      "metadata": {
        "id": "alone-triumph"
      },
      "source": [
        "<span style='color:Red'> 차대차 사고는 express에서는 적게, general에서는 더 많이 있음"
      ],
      "id": "alone-triumph"
    },
    {
      "cell_type": "markdown",
      "metadata": {
        "id": "embedded-pavilion"
      },
      "source": [
        "### 차대사람"
      ],
      "id": "embedded-pavilion"
    },
    {
      "cell_type": "code",
      "metadata": {
        "id": "incident-cause"
      },
      "source": [
        "(\n",
        "    ggplot(car_to_human_bin, aes(y='acci_risk_cth', x='express_bin'))\n",
        "    + geom_jitter(size=0.1, alpha=0.3) + geom_smooth(color='red')\n",
        ")"
      ],
      "id": "incident-cause",
      "execution_count": null,
      "outputs": []
    },
    {
      "cell_type": "code",
      "metadata": {
        "id": "front-final"
      },
      "source": [
        "(\n",
        "    ggplot(car_to_human_bin, aes(y='acci_risk_cth', x='general_bin'))\n",
        "    + geom_jitter(size=0.1, alpha=0.3) + geom_smooth(color='red')\n",
        ")"
      ],
      "id": "front-final",
      "execution_count": null,
      "outputs": []
    },
    {
      "cell_type": "markdown",
      "metadata": {
        "id": "flying-plane"
      },
      "source": [
        "<span style='color:Red'> 차대사람 사고는 express에서는 현저히 적게, general에서는 더 많이 있음. 특히 차대차와 비교하면 차대사람 사고는 express인 격자에서 발생하는 빈도가 더 작음"
      ],
      "id": "flying-plane"
    },
    {
      "cell_type": "markdown",
      "metadata": {
        "id": "affecting-delight"
      },
      "source": [
        "### 차량단독"
      ],
      "id": "affecting-delight"
    },
    {
      "cell_type": "code",
      "metadata": {
        "id": "muslim-webcam"
      },
      "source": [
        "(\n",
        "    ggplot(car_alone_bin, aes(y='acci_risk_cal', x='express_bin'))\n",
        "    + geom_jitter(size=0.1, alpha=0.3) + geom_smooth(color='red')\n",
        ")"
      ],
      "id": "muslim-webcam",
      "execution_count": null,
      "outputs": []
    },
    {
      "cell_type": "code",
      "metadata": {
        "id": "coordinate-titanium"
      },
      "source": [
        "(\n",
        "    ggplot(car_alone_bin, aes(y='acci_risk_cal', x='general_bin'))\n",
        "    + geom_jitter(size=0.1, alpha=0.3) + geom_smooth(color='red')\n",
        ")"
      ],
      "id": "coordinate-titanium",
      "execution_count": null,
      "outputs": []
    },
    {
      "cell_type": "markdown",
      "metadata": {
        "id": "nominated-easter"
      },
      "source": [
        "<span style='color:Red'> 차량단독 사고는 고속도로에서는 더 적게, 일반도로에서는 더 많이 발생"
      ],
      "id": "nominated-easter"
    },
    {
      "cell_type": "markdown",
      "metadata": {
        "id": "latin-cisco"
      },
      "source": [
        "## 교통량 변수 8 : car_lane"
      ],
      "id": "latin-cisco"
    },
    {
      "cell_type": "markdown",
      "metadata": {
        "id": "numerical-chester"
      },
      "source": [
        "### 차대차"
      ],
      "id": "numerical-chester"
    },
    {
      "cell_type": "code",
      "metadata": {
        "id": "municipal-excitement"
      },
      "source": [
        "(\n",
        "    ggplot(car_to_car_bin, aes(y='acci_risk_ctc', x='car_lane_bin'))\n",
        "    + geom_jitter(size=0.1, alpha=0.3) + geom_smooth(color='red')\n",
        ")"
      ],
      "id": "municipal-excitement",
      "execution_count": null,
      "outputs": []
    },
    {
      "cell_type": "markdown",
      "metadata": {
        "id": "injured-future"
      },
      "source": [
        "<span style='color:Red'> 차대차 사고는 자동차전용도로에서 적게 발생"
      ],
      "id": "injured-future"
    },
    {
      "cell_type": "markdown",
      "metadata": {
        "id": "unique-courage"
      },
      "source": [
        "### 차대사람"
      ],
      "id": "unique-courage"
    },
    {
      "cell_type": "code",
      "metadata": {
        "id": "confirmed-jonathan"
      },
      "source": [
        "(\n",
        "    ggplot(car_to_human_bin, aes(y='acci_risk_cth', x='car_lane_bin'))\n",
        "    + geom_jitter(size=0.1, alpha=0.3) + geom_smooth(color='red')\n",
        ")"
      ],
      "id": "confirmed-jonathan",
      "execution_count": null,
      "outputs": []
    },
    {
      "cell_type": "markdown",
      "metadata": {
        "id": "motivated-glasgow"
      },
      "source": [
        "<span style='color:Red'> 차대사람 사고는 자동차 전용도로에서 더 적게 발생"
      ],
      "id": "motivated-glasgow"
    },
    {
      "cell_type": "markdown",
      "metadata": {
        "id": "veterinary-folks"
      },
      "source": [
        "### 차량단독"
      ],
      "id": "veterinary-folks"
    },
    {
      "cell_type": "code",
      "metadata": {
        "id": "played-movement"
      },
      "source": [
        "(\n",
        "    ggplot(car_alone_bin, aes(y='acci_risk_cal', x='car_lane_bin'))\n",
        "    + geom_jitter(size=0.1, alpha=0.3) + geom_smooth(color='red')\n",
        ")"
      ],
      "id": "played-movement",
      "execution_count": null,
      "outputs": []
    },
    {
      "cell_type": "markdown",
      "metadata": {
        "id": "variable-address"
      },
      "source": [
        "<span style='color:Red'> 차량단독 사고는 자동차전용도로에서 더 적게 발생하기는 하지만 차대차, 차대사람 사고와 비교할 경우에는 자동차전용도로에서 사고가 조금 더 발생함"
      ],
      "id": "variable-address"
    },
    {
      "cell_type": "markdown",
      "metadata": {
        "id": "black-landing"
      },
      "source": [
        "## 교통량 변수 9 : intersects"
      ],
      "id": "black-landing"
    },
    {
      "cell_type": "markdown",
      "metadata": {
        "id": "vital-nightlife"
      },
      "source": [
        "### 차대차"
      ],
      "id": "vital-nightlife"
    },
    {
      "cell_type": "code",
      "metadata": {
        "id": "remarkable-bible"
      },
      "source": [
        "(\n",
        "    ggplot(car_to_car_bin, aes(y='acci_risk_ctc', x='intersects_bin'))\n",
        "    + geom_jitter(size=0.1, alpha=0.3) + geom_smooth(color='red')\n",
        ")"
      ],
      "id": "remarkable-bible",
      "execution_count": null,
      "outputs": []
    },
    {
      "cell_type": "markdown",
      "metadata": {
        "id": "sunset-female"
      },
      "source": [
        "<span style='color:Red'> 차대차 사고는 교차로가 있는 곳에서 더 발생"
      ],
      "id": "sunset-female"
    },
    {
      "cell_type": "markdown",
      "metadata": {
        "id": "center-garlic"
      },
      "source": [
        "### 차대사람"
      ],
      "id": "center-garlic"
    },
    {
      "cell_type": "code",
      "metadata": {
        "id": "ecological-austria"
      },
      "source": [
        "(\n",
        "    ggplot(car_to_human_bin, aes(y='acci_risk_cth', x='intersects_bin'))\n",
        "    + geom_jitter(size=0.1, alpha=0.3) + geom_smooth(color='red')\n",
        ")"
      ],
      "id": "ecological-austria",
      "execution_count": null,
      "outputs": []
    },
    {
      "cell_type": "markdown",
      "metadata": {
        "id": "crucial-proxy"
      },
      "source": [
        "### 차량단독"
      ],
      "id": "crucial-proxy"
    },
    {
      "cell_type": "code",
      "metadata": {
        "id": "blond-helicopter"
      },
      "source": [
        "(\n",
        "    ggplot(car_alone_bin, aes(y='acci_risk_cal', x='intersects_bin'))\n",
        "    + geom_jitter(size=0.1, alpha=0.3) + geom_smooth(color='red')\n",
        ")"
      ],
      "id": "blond-helicopter",
      "execution_count": null,
      "outputs": []
    },
    {
      "cell_type": "markdown",
      "metadata": {
        "id": "designing-savage"
      },
      "source": [
        "<span style='color:Red'> 차량단독 사고는 교차로의 영향이 크다고 보기 힘들 것"
      ],
      "id": "designing-savage"
    }
  ]
}
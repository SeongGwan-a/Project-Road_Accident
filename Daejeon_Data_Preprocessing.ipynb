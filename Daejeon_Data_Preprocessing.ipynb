{
  "nbformat": 4,
  "nbformat_minor": 5,
  "metadata": {
    "kernelspec": {
      "display_name": "Python 3",
      "language": "python",
      "name": "python3"
    },
    "language_info": {
      "codemirror_mode": {
        "name": "ipython",
        "version": 3
      },
      "file_extension": ".py",
      "mimetype": "text/x-python",
      "name": "python",
      "nbconvert_exporter": "python",
      "pygments_lexer": "ipython3",
      "version": "3.6.9"
    },
    "colab": {
      "name": "제출용_데이터 전처리.ipynb",
      "provenance": [],
      "include_colab_link": true
    }
  },
  "cells": [
    {
      "cell_type": "markdown",
      "metadata": {
        "id": "view-in-github",
        "colab_type": "text"
      },
      "source": [
        "<a href=\"https://colab.research.google.com/github/tjdrhks0808/Project-Road_Accident/blob/main/Daejeon_Data_Preprocessing.ipynb\" target=\"_parent\"><img src=\"https://colab.research.google.com/assets/colab-badge.svg\" alt=\"Open In Colab\"/></a>"
      ]
    },
    {
      "cell_type": "markdown",
      "metadata": {
        "id": "necessary-candle"
      },
      "source": [
        "# Prepare\n",
        "\n",
        "-----------------------"
      ],
      "id": "necessary-candle"
    },
    {
      "cell_type": "code",
      "metadata": {
        "id": "confidential-dancing"
      },
      "source": [
        "from geoband.API import *\n",
        "\n",
        "import math\n",
        "from tqdm import tqdm\n",
        "import random\n",
        "import pandas as pd\n",
        "import numpy as np\n",
        "import matplotlib.pyplot as plt\n",
        "import folium\n",
        "import json\n",
        "import geopandas as gpd\n",
        "import geopy.distance\n",
        "\n",
        "import pydeck as pdk\n",
        "import shapely\n",
        "import shapefile\n",
        "import os\n",
        "import re\n",
        "import mapboxgl\n",
        "from mapboxgl.viz import *\n",
        "import seaborn as sns\n",
        "\n",
        "import platform\n",
        "import requests; from urllib.parse import urlparse\n",
        "\n",
        "import warnings\n",
        "warnings.filterwarnings(action='ignore')  #경고 메시지 무시\n",
        "from IPython.display import display      #print가 아닌 display()로 연속 출력"
      ],
      "id": "confidential-dancing",
      "execution_count": null,
      "outputs": []
    },
    {
      "cell_type": "code",
      "metadata": {
        "id": "cellular-association"
      },
      "source": [
        "GetCompasData('SBJ_2102_003', '1', '1.대전광역시_교통사고내역(2017~2019).csv')\n",
        "GetCompasData('SBJ_2102_003', '2', '2.대전광역시_교통사고격자(2017~2019).geojson')\n",
        "GetCompasData('SBJ_2102_003', '3', '3.대전광역시_신호등(보행등).geojson')\n",
        "GetCompasData('SBJ_2102_003', '4', '4.대전광역시_신호등(차량등).geojson')\n",
        "GetCompasData('SBJ_2102_003', '5', '5.대전광역시_안전지대.geojson')\n",
        "GetCompasData('SBJ_2102_003', '6', '6.대전광역시_횡단보도.geojson')\n",
        "GetCompasData('SBJ_2102_003', '7', '7.대전광역시_도로속도표시.geojson')\n",
        "GetCompasData('SBJ_2102_003', '8', '8.대전광역시_정차금지지대.geojson')\n",
        "GetCompasData('SBJ_2102_003', '9', '9.대전광역시_교통안전표지.geojson')\n",
        "GetCompasData('SBJ_2102_003', '10', '10.대전광역시_교통CCTV.geojson')\n",
        "GetCompasData('SBJ_2102_003', '11', '11.대전광역시_동별_인구현황(2017~2019).csv')\n",
        "GetCompasData('SBJ_2102_003', '12', '12.대전광역시_인구정보(총인구).geojson')\n",
        "GetCompasData('SBJ_2102_003', '13', '13.대전광역시_인구정보(고령).geojson')\n",
        "GetCompasData('SBJ_2102_003', '14', '14.대전광역시_인구정보(생산가능).geojson')\n",
        "GetCompasData('SBJ_2102_003', '15', '15.대전광역시_인구정보(유소년).geojson')\n",
        "GetCompasData('SBJ_2102_003', '16', '16.대전광역시_기상데이터(2017~2019).csv')\n",
        "GetCompasData('SBJ_2102_003', '17', '17.대전광역시_교통링크(2018).geojson')\n",
        "GetCompasData('SBJ_2102_003', '18', '18.대전광역시_교통노드(2018).geojson')\n",
        "GetCompasData('SBJ_2102_003', '19', '19.대전광역시_상세도로망(2018).geojson')\n",
        "GetCompasData('SBJ_2102_003', '20', '20.대전광역시_평일_일별_시간대별_추정교통량(2018).csv')\n",
        "GetCompasData('SBJ_2102_003', '21', '21.대전광역시_평일_일별_혼잡빈도강도(2018).csv')\n",
        "GetCompasData('SBJ_2102_003', '22', '22.대전광역시_평일_일별_혼잡시간강도(2018).csv')\n",
        "GetCompasData('SBJ_2102_003', '23', '23.대전광역시_도로명주소(건물).geojson')\n",
        "GetCompasData('SBJ_2102_003', '24', '24.대전광역시_건물연면적_격자.geojson')\n",
        "GetCompasData('SBJ_2102_003', '25', '25.대전광역시_법정경계(시군구).geojson')\n",
        "GetCompasData('SBJ_2102_003', '26', '26.대전광역시_법정경계(읍면동).geojson')\n",
        "GetCompasData('SBJ_2102_003', '27', '27.대전광역시_행정경계(읍면동).geojson')\n",
        "GetCompasData('SBJ_2102_003', '28', '28.대전광역시_연속지적도.geojson')\n",
        "GetCompasData('SBJ_2102_003', '29', '29.코드정의서.xlsx')\n",
        "GetCompasData('SBJ_2102_003', '30', '30.대전광역시_차량등록현황_격자.geojson')\n",
        "GetCompasData('SBJ_2102_003', '31', '31.대전시_중앙분리대.geojson')"
      ],
      "id": "cellular-association",
      "execution_count": null,
      "outputs": []
    },
    {
      "cell_type": "code",
      "metadata": {
        "id": "standing-familiar"
      },
      "source": [
        "acc_hist = pd.read_csv('1.대전광역시_교통사고내역(2017~2019).csv')\n",
        "acc_cnt = gpd.read_file('2.대전광역시_교통사고격자(2017~2019).geojson')\n",
        "trlight_pas = gpd.read_file('3.대전광역시_신호등(보행등).geojson')\n",
        "trlight_car = gpd.read_file('4.대전광역시_신호등(차량등).geojson')\n",
        "safe_zone = gpd.read_file('5.대전광역시_안전지대.geojson')\n",
        "crosswalk = gpd.read_file('6.대전광역시_횡단보도.geojson')\n",
        "sign_speed = gpd.read_file('7.대전광역시_도로속도표시.geojson')\n",
        "noparking_zone = gpd.read_file('8.대전광역시_정차금지지대.geojson')\n",
        "sign_traffic = gpd.read_file('9.대전광역시_교통안전표지.geojson')\n",
        "cctv = gpd.read_file('10.대전광역시_교통CCTV.geojson')\n",
        "pop_dong = pd.read_csv('11.대전광역시_동별_인구현황(2017~2019).csv')\n",
        "pop_all = gpd.read_file('12.대전광역시_인구정보(총인구).geojson')\n",
        "pop_sen = gpd.read_file('13.대전광역시_인구정보(고령).geojson')\n",
        "pop_prd = gpd.read_file('14.대전광역시_인구정보(생산가능).geojson')\n",
        "pop_chd = gpd.read_file('15.대전광역시_인구정보(유소년).geojson')\n",
        "weather = pd.read_csv('16.대전광역시_기상데이터(2017~2019).csv')\n",
        "traffic_link = gpd.read_file('17.대전광역시_교통링크(2018).geojson')\n",
        "traffic_node = gpd.read_file('18.대전광역시_교통노드(2018).geojson')\n",
        "traffic_road = gpd.read_file('19.대전광역시_상세도로망(2018).geojson')\n",
        "traffic_amt = pd.read_csv('20.대전광역시_평일_일별_시간대별_추정교통량(2018).csv')\n",
        "traffic_freq = pd.read_csv('21.대전광역시_평일_일별_혼잡빈도강도(2018).csv')\n",
        "traffic_time = pd.read_csv('22.대전광역시_평일_일별_혼잡시간강도(2018).csv')\n",
        "building = gpd.read_file('23.대전광역시_도로명주소(건물).geojson')\n",
        "building_area = gpd.read_file('24.대전광역시_건물연면적_격자.geojson')\n",
        "bound_law = gpd.read_file('25.대전광역시_법정경계(시군구).geojson')\n",
        "bound_law2 = gpd.read_file('26.대전광역시_법정경계(읍면동).geojson')\n",
        "bound_adm = gpd.read_file('27.대전광역시_행정경계(읍면동).geojson')\n",
        "daejeon = gpd.read_file('28.대전광역시_연속지적도.geojson')\n",
        "car = gpd.read_file('30.대전광역시_차량등록현황_격자.geojson')\n",
        "median_strip = gpd.read_file('31.대전시_중앙분리대.geojson')"
      ],
      "id": "standing-familiar",
      "execution_count": null,
      "outputs": []
    },
    {
      "cell_type": "markdown",
      "metadata": {
        "id": "foreign-bearing"
      },
      "source": [
        "------------------\n",
        "\n",
        "# 중복 및 누락된 사고데이터 처리\n",
        "\n",
        "    1. 한 사고가 여러번 카운트된 사고데이터\n",
        "    2. cnt에만 기록된 사고데이터\n",
        "    3. 여러 격자에 중복처리된 사고데이터\n",
        "    \n",
        "    > 통합 및 저장\n",
        "\n",
        "---------------------"
      ],
      "id": "foreign-bearing"
    },
    {
      "cell_type": "markdown",
      "metadata": {
        "id": "transparent-geometry"
      },
      "source": [
        "## 1. 한 사고가 여러번 카운트된 사고데이터"
      ],
      "id": "transparent-geometry"
    },
    {
      "cell_type": "code",
      "metadata": {
        "id": "accepting-tourism"
      },
      "source": [
        "#중복신고로 보이는 acc_hist.iloc[ [20208,20209] ] 중 하나 삭제\n",
        "\n",
        "acc_hist.drop(20208, inplace=True)\n",
        "acc_hist.index = range(len(acc_hist))\n",
        "\n",
        "#acc_cnt에서의 카운트 hist와 동일하게 변경hist와 동일하게 변경\n",
        "\n",
        "acc_cnt.loc[acc_cnt['gid'] == '다바836140', 'acci_cnt'] = 2"
      ],
      "id": "accepting-tourism",
      "execution_count": null,
      "outputs": []
    },
    {
      "cell_type": "markdown",
      "metadata": {
        "id": "unsigned-decline"
      },
      "source": [
        "## 2. cnt에만 기록된 사고데이터"
      ],
      "id": "unsigned-decline"
    },
    {
      "cell_type": "code",
      "metadata": {
        "id": "educated-occurrence"
      },
      "source": [
        "acc_cnt[acc_cnt['gid'] == '다바935288'].geometry.centroid\n",
        "\n",
        "#금강교 근방, taas에 centroid 좌표를 찍어보면 1건이 존재함.\n",
        "acc_hist = acc_hist.append({'사고일': '2018-10-20', '시군구': '대전광역시 대덕구 신탄진동','사고유형':'차대차 - 기타', '법규위반':'안전운전불이행','사고내용':'경상사고', '사망자수': 0, '중상자수': 0, '경상자수':1, '부상신고자수':0, '가해운전자 차종': '승용', '가해운전자 연령대': '50대', '가해운전자 성별': '여', '피해운전자 차종': '이륜', '피해운전자 연령대': '80대', '피해운전자 성별':'남', 'gid': '다바935288'}, ignore_index=True)"
      ],
      "id": "educated-occurrence",
      "execution_count": null,
      "outputs": []
    },
    {
      "cell_type": "code",
      "metadata": {
        "id": "invisible-shape"
      },
      "source": [
        "acc_cnt[acc_cnt['gid'] == '다바983036'].geometry.centroid\n",
        "\n",
        "#마달터널 근방, taas에 centroid 좌표를 찍어보면 2건이 존재함.\n",
        "acc_hist = acc_hist.append({'사고일': '2017-11-19', '시군구': '대전광역시 동구 삼괴동','사고유형':'차대차 - 추돌', '법규위반':'안전운전불이행','사고내용':'경상사고', '사망자수': 0, '중상자수': 0, '경상자수':2, '부상신고자수':0, '가해운전자 차종': '승용', '가해운전자 연령대': '50대', '가해운전자 성별': '여', '피해운전자 차종': '승합', '피해운전자 연령대': '40대', '피해운전자 성별':'남', 'gid': '다바983036'}, ignore_index=True)\n",
        "acc_hist = acc_hist.append({'사고일': '2019-02-01', '시군구': '대전광역시 동구 삼괴동','사고유형':'차대차 - 추돌', '법규위반':'안전운전불이행','사고내용':'경상사고', '사망자수': 0, '중상자수': 0, '경상자수':1, '부상신고자수':0, '가해운전자 차종': '화물', '가해운전자 연령대': '50대', '가해운전자 성별': '여', '피해운전자 차종': '승용', '피해운전자 연령대': '40대', '피해운전자 성별':'여', 'gid': '다바983036'}, ignore_index=True)"
      ],
      "id": "invisible-shape",
      "execution_count": null,
      "outputs": []
    },
    {
      "cell_type": "markdown",
      "metadata": {
        "id": "changed-accounting"
      },
      "source": [
        "## 3. 여러 격자에 중복처리된 사고데이터"
      ],
      "id": "changed-accounting"
    },
    {
      "cell_type": "markdown",
      "metadata": {
        "id": "defined-trail"
      },
      "source": [
        "### 첫번째 사고"
      ],
      "id": "defined-trail"
    },
    {
      "cell_type": "code",
      "metadata": {
        "id": "stupid-humanitarian"
      },
      "source": [
        "gids = list(acc_hist.iloc[[19663,19664,19665,19666]]['gid'].values)"
      ],
      "id": "stupid-humanitarian",
      "execution_count": null,
      "outputs": []
    },
    {
      "cell_type": "code",
      "metadata": {
        "id": "addressed-brave",
        "outputId": "2cd668b5-6834-47b0-c857-910657f16756"
      },
      "source": [
        "coords = []\n",
        "for i in range(len(gids)):\n",
        "    y = float(acc_cnt[acc_cnt['gid'] == gids[i]].geometry.centroid.x)\n",
        "    x = float(acc_cnt[acc_cnt['gid'] == gids[i]].geometry.centroid.y)\n",
        "    coords.append((x,y))\n",
        "    \n",
        "coords"
      ],
      "id": "addressed-brave",
      "execution_count": null,
      "outputs": [
        {
          "output_type": "execute_result",
          "data": {
            "text/plain": [
              "[(36.358840907883305, 127.32221992179625),\n",
              " (36.35974078009695, 127.32110325483173),\n",
              " (36.359742443725196, 127.32221787143722),\n",
              " (36.35883924430955, 127.32110531804548)]"
            ]
          },
          "metadata": {
            "tags": []
          },
          "execution_count": 8
        }
      ]
    },
    {
      "cell_type": "code",
      "metadata": {
        "id": "included-spectrum"
      },
      "source": [
        "coords_1 = (36.35922338996591, 127.3216659709028)\n",
        "# taas에 해당 사고 정보를 입력해 위치를 알아내었다."
      ],
      "id": "included-spectrum",
      "execution_count": null,
      "outputs": []
    },
    {
      "cell_type": "code",
      "metadata": {
        "id": "spread-constraint",
        "outputId": "994ecd85-fa92-4c51-b2b6-90f852629278"
      },
      "source": [
        "for i in range(len(coords)):\n",
        "    print(geopy.distance.vincenty(coords_1, coords[i]).m)\n",
        "#가장 가까운 거리 값은 gids[0]\n",
        "\n",
        "gids[0]"
      ],
      "id": "spread-constraint",
      "execution_count": null,
      "outputs": [
        {
          "output_type": "stream",
          "text": [
            "65.3706563426535\n",
            "76.46558114972898\n",
            "75.96779200011991\n",
            "65.94848330380215\n"
          ],
          "name": "stdout"
        },
        {
          "output_type": "execute_result",
          "data": {
            "text/plain": [
              "'다바840179'"
            ]
          },
          "metadata": {
            "tags": []
          },
          "execution_count": 10
        }
      ]
    },
    {
      "cell_type": "code",
      "metadata": {
        "id": "invisible-voltage"
      },
      "source": [
        "# 해당 격자의 cnt 수정 후 나머지 격자의 데이터 삭제\n",
        "\n",
        "acc_cnt.loc[acc_cnt['gid'] == '다바840179', 'acci_cnt'] = 1\n",
        "\n",
        "acc_hist.drop([19664,19665,19666],inplace=True)"
      ],
      "id": "invisible-voltage",
      "execution_count": null,
      "outputs": []
    },
    {
      "cell_type": "markdown",
      "metadata": {
        "id": "adverse-variation"
      },
      "source": [
        "### 두번째 사고"
      ],
      "id": "adverse-variation"
    },
    {
      "cell_type": "code",
      "metadata": {
        "id": "buried-happening"
      },
      "source": [
        "gids_1 = list(acc_hist.iloc[[15341,15342,15343,15344]]['gid'].values)"
      ],
      "id": "buried-happening",
      "execution_count": null,
      "outputs": []
    },
    {
      "cell_type": "code",
      "metadata": {
        "id": "bound-holocaust"
      },
      "source": [
        "coordss = []\n",
        "for i in range(len(gids)):\n",
        "    y = float(acc_cnt[acc_cnt['gid'] == gids[i]].geometry.centroid.x)\n",
        "    x = float(acc_cnt[acc_cnt['gid'] == gids[i]].geometry.centroid.y)\n",
        "    coordss.append((x,y))"
      ],
      "id": "bound-holocaust",
      "execution_count": null,
      "outputs": []
    },
    {
      "cell_type": "code",
      "metadata": {
        "id": "respected-minneapolis",
        "outputId": "71397002-2e06-4639-d563-3a7744d7b2df"
      },
      "source": [
        "coordss"
      ],
      "id": "respected-minneapolis",
      "execution_count": null,
      "outputs": [
        {
          "output_type": "execute_result",
          "data": {
            "text/plain": [
              "[(36.358840907883305, 127.32221992179625),\n",
              " (36.35974078009695, 127.32110325483173),\n",
              " (36.359742443725196, 127.32221787143722),\n",
              " (36.35883924430955, 127.32110531804548)]"
            ]
          },
          "metadata": {
            "tags": []
          },
          "execution_count": 14
        }
      ]
    },
    {
      "cell_type": "code",
      "metadata": {
        "id": "geological-editor"
      },
      "source": [
        "coords_2 = (36.34582705051254, 127.44540766537324)\n",
        "# taas에 해당 사고 정보를 입력해 위치를 알아내었다."
      ],
      "id": "geological-editor",
      "execution_count": null,
      "outputs": []
    },
    {
      "cell_type": "code",
      "metadata": {
        "id": "ambient-junior",
        "outputId": "f70340be-6fee-4698-8314-6708d53fecbe"
      },
      "source": [
        "for i in range(len(coordss)):\n",
        "    print(geopy.distance.vincenty(coords_2, coordss[i]).m)\n",
        "#가장 가까운 거리 값은 gids_1[0]\n",
        "\n",
        "gids_1[0]"
      ],
      "id": "ambient-junior",
      "execution_count": null,
      "outputs": [
        {
          "output_type": "stream",
          "text": [
            "11151.343657775882\n",
            "11263.92876771775\n",
            "11164.858508862113\n",
            "11250.532927118911\n"
          ],
          "name": "stdout"
        },
        {
          "output_type": "execute_result",
          "data": {
            "text/plain": [
              "'다바950164'"
            ]
          },
          "metadata": {
            "tags": []
          },
          "execution_count": 16
        }
      ]
    },
    {
      "cell_type": "code",
      "metadata": {
        "id": "supported-international"
      },
      "source": [
        "# 해당 격자의 cnt 수정 후 나머지 격자의 데이터 삭제\n",
        "\n",
        "acc_cnt.loc[acc_cnt['gid'] == '다바950164', 'acci_cnt'] = 5\n",
        "\n",
        "acc_hist.drop([15342,15343,15344],inplace=True)"
      ],
      "id": "supported-international",
      "execution_count": null,
      "outputs": []
    },
    {
      "cell_type": "markdown",
      "metadata": {
        "id": "korean-farming"
      },
      "source": [
        "## > 통합 및 저장"
      ],
      "id": "korean-farming"
    },
    {
      "cell_type": "code",
      "metadata": {
        "id": "express-fundamental"
      },
      "source": [
        "acc_cnt.to_file('acc_cnt_mod.geojson', driver='GeoJSON')\n",
        "acc_hist.to_csv('acc_hist_mod.csv')"
      ],
      "id": "express-fundamental",
      "execution_count": null,
      "outputs": []
    },
    {
      "cell_type": "markdown",
      "metadata": {
        "id": "authorized-detector"
      },
      "source": [
        "------------------\n",
        "\n",
        "# 격자별 사고 데이터 범주화\n",
        "\n",
        "    1. 피해자유형\n",
        "    2. 사고유형\n",
        "    3. 연령대별\n",
        "        3-1. 가해자\n",
        "        3-2. 피해자\n",
        "    \n",
        "    > 통합 및 저장\n",
        "    \n",
        "-------------------"
      ],
      "id": "authorized-detector"
    },
    {
      "cell_type": "markdown",
      "metadata": {
        "id": "beneficial-finnish"
      },
      "source": [
        "## 1. 피해자유형"
      ],
      "id": "beneficial-finnish"
    },
    {
      "cell_type": "markdown",
      "metadata": {
        "id": "stuffed-sheep"
      },
      "source": [
        "#### 1-1. 피해자유형(전체)"
      ],
      "id": "stuffed-sheep"
    },
    {
      "cell_type": "code",
      "metadata": {
        "id": "lovely-buddy"
      },
      "source": [
        "#사망사고\n",
        "fatal_acc = acc_hist.loc[acc_hist['사고내용'] == '사망사고'].groupby('gid').count()[['사고일']]\n",
        "fatal_acc.reset_index(level=['gid'], inplace = True)\n",
        "fatal_acc.rename({'사고일':'dead'},inplace=True,axis='columns')\n",
        "type_of_accident = pd.merge(acc_cnt,fatal_acc, how='left',on='gid')\n",
        "type_of_accident.fillna(0, inplace=True)"
      ],
      "id": "lovely-buddy",
      "execution_count": null,
      "outputs": []
    },
    {
      "cell_type": "code",
      "metadata": {
        "id": "indie-treasure"
      },
      "source": [
        "#중상사고\n",
        "serious_acc = acc_hist.loc[acc_hist['사고내용'] == '중상사고'].groupby('gid').count()[['사고일']]\n",
        "serious_acc.reset_index(level=['gid'], inplace = True)\n",
        "serious_acc.rename({'사고일':'serious'},inplace=True,axis='columns')\n",
        "type_of_accident = pd.merge(type_of_accident,serious_acc, how='left',on='gid')\n",
        "type_of_accident.fillna(0, inplace=True)"
      ],
      "id": "indie-treasure",
      "execution_count": null,
      "outputs": []
    },
    {
      "cell_type": "code",
      "metadata": {
        "id": "decent-brush"
      },
      "source": [
        "#경상사고\n",
        "minor_acc = acc_hist.loc[acc_hist['사고내용'] == '경상사고'].groupby('gid').count()[['사고일']]\n",
        "minor_acc.reset_index(level=['gid'], inplace = True)\n",
        "minor_acc.rename({'사고일':'minor'},inplace=True,axis='columns')\n",
        "type_of_accident = pd.merge(type_of_accident,minor_acc, how='left',on='gid')\n",
        "type_of_accident.fillna(0, inplace=True)"
      ],
      "id": "decent-brush",
      "execution_count": null,
      "outputs": []
    },
    {
      "cell_type": "code",
      "metadata": {
        "id": "cardiac-calgary"
      },
      "source": [
        "#부상신고사고\n",
        "injury_acc = acc_hist.loc[acc_hist['사고내용'] == '부상신고사고'].groupby('gid').count()[['사고일']]\n",
        "injury_acc.reset_index(level=['gid'], inplace = True)\n",
        "injury_acc.rename({'사고일':'injury'},inplace=True,axis='columns')\n",
        "type_of_accident = pd.merge(type_of_accident,injury_acc, how='left',on='gid')\n",
        "type_of_accident.fillna(0, inplace=True)"
      ],
      "id": "cardiac-calgary",
      "execution_count": null,
      "outputs": []
    },
    {
      "cell_type": "markdown",
      "metadata": {
        "id": "breeding-emergency"
      },
      "source": [
        "#### 1-2. 피해자유형(사교유형별)"
      ],
      "id": "breeding-emergency"
    },
    {
      "cell_type": "code",
      "metadata": {
        "id": "armed-matthew",
        "outputId": "c6e6350d-605e-4951-8384-8d22f9e32e67"
      },
      "source": [
        "# 세분화된 사고유형을 '차대차', '차대사람', '차량단독' 세가지로 범주화\n",
        "\n",
        "acc_hist['사고유형'] = acc_hist['사고유형'].apply(lambda x: x.split()[0])\n",
        "\n",
        "acc_hist.사고유형.unique()"
      ],
      "id": "armed-matthew",
      "execution_count": null,
      "outputs": [
        {
          "output_type": "execute_result",
          "data": {
            "text/plain": [
              "array(['차대차', '차대사람', '차량단독', '대사람', '대차'], dtype=object)"
            ]
          },
          "metadata": {
            "tags": []
          },
          "execution_count": 23
        }
      ]
    },
    {
      "cell_type": "code",
      "metadata": {
        "id": "martial-costume"
      },
      "source": [
        "# < 차대차 사고 >\n",
        "\n",
        "#사망사고\n",
        "fatal_acc = acc_hist.loc[(acc_hist['사고내용'] == '사망사고') & (acc_hist['사고유형'] == '차대차')].groupby('gid').count()[['사고일']]\n",
        "fatal_acc.reset_index(level=['gid'], inplace = True)\n",
        "fatal_acc.rename({'사고일':'dead_ctc'},inplace=True,axis='columns')\n",
        "type_of_accident = pd.merge(type_of_accident,fatal_acc, how='left',on='gid')\n",
        "type_of_accident.fillna(0, inplace=True)\n",
        "\n",
        "#중상사고\n",
        "serious_acc = acc_hist.loc[(acc_hist['사고내용'] == '중상사고') & (acc_hist['사고유형'] == '차대차')].groupby('gid').count()[['사고일']]\n",
        "serious_acc.reset_index(level=['gid'], inplace = True)\n",
        "serious_acc.rename({'사고일':'serious_ctc'},inplace=True,axis='columns')\n",
        "type_of_accident = pd.merge(type_of_accident,serious_acc, how='left',on='gid')\n",
        "type_of_accident.fillna(0, inplace=True)\n",
        "\n",
        "#경상사고\n",
        "minor_acc = acc_hist.loc[(acc_hist['사고내용'] == '경상사고') & (acc_hist['사고유형'] == '차대차')].groupby('gid').count()[['사고일']]\n",
        "minor_acc.reset_index(level=['gid'], inplace = True)\n",
        "minor_acc.rename({'사고일':'minor_ctc'},inplace=True,axis='columns')\n",
        "type_of_accident = pd.merge(type_of_accident,minor_acc, how='left',on='gid')\n",
        "type_of_accident.fillna(0, inplace=True)\n",
        "\n",
        "#부상신고사고\n",
        "injury_acc = acc_hist.loc[(acc_hist['사고내용'] == '부상신고사고') & (acc_hist['사고유형'] == '차대차')].groupby('gid').count()[['사고일']]\n",
        "injury_acc.reset_index(level=['gid'], inplace = True)\n",
        "injury_acc.rename({'사고일':'injury_ctc'},inplace=True,axis='columns')\n",
        "type_of_accident = pd.merge(type_of_accident,injury_acc, how='left',on='gid')\n",
        "type_of_accident.fillna(0, inplace=True)\n",
        "\n",
        "\n",
        "# < 차대사람 사고 >\n",
        "\n",
        "#사망사고\n",
        "fatal_acc = acc_hist.loc[(acc_hist['사고내용'] == '사망사고') & (acc_hist['사고유형'] == '차대사람')].groupby('gid').count()[['사고일']]\n",
        "fatal_acc.reset_index(level=['gid'], inplace = True)\n",
        "fatal_acc.rename({'사고일':'dead_cth'},inplace=True,axis='columns')\n",
        "type_of_accident = pd.merge(type_of_accident,fatal_acc, how='left',on='gid')\n",
        "type_of_accident.fillna(0, inplace=True)\n",
        "\n",
        "#중상사고\n",
        "serious_acc = acc_hist.loc[(acc_hist['사고내용'] == '중상사고') & (acc_hist['사고유형'] == '차대사람')].groupby('gid').count()[['사고일']]\n",
        "serious_acc.reset_index(level=['gid'], inplace = True)\n",
        "serious_acc.rename({'사고일':'serious_cth'},inplace=True,axis='columns')\n",
        "type_of_accident = pd.merge(type_of_accident,serious_acc, how='left',on='gid')\n",
        "type_of_accident.fillna(0, inplace=True)\n",
        "\n",
        "#경상사고\n",
        "minor_acc = acc_hist.loc[(acc_hist['사고내용'] == '경상사고') & (acc_hist['사고유형'] == '차대사람')].groupby('gid').count()[['사고일']]\n",
        "minor_acc.reset_index(level=['gid'], inplace = True)\n",
        "minor_acc.rename({'사고일':'minor_cth'},inplace=True,axis='columns')\n",
        "type_of_accident = pd.merge(type_of_accident,minor_acc, how='left',on='gid')\n",
        "type_of_accident.fillna(0, inplace=True)\n",
        "\n",
        "#부상신고사고\n",
        "injury_acc = acc_hist.loc[(acc_hist['사고내용'] == '부상신고사고') & (acc_hist['사고유형'] == '차대사람')].groupby('gid').count()[['사고일']]\n",
        "injury_acc.reset_index(level=['gid'], inplace = True)\n",
        "injury_acc.rename({'사고일':'injury_cth'},inplace=True,axis='columns')\n",
        "type_of_accident = pd.merge(type_of_accident,injury_acc, how='left',on='gid')\n",
        "type_of_accident.fillna(0, inplace=True)\n",
        "\n",
        "\n",
        "# < 차량단독 사고 >\n",
        "\n",
        "#사망사고\n",
        "fatal_acc = acc_hist.loc[(acc_hist['사고내용'] == '사망사고') & (acc_hist['사고유형'] == '차량단독')].groupby('gid').count()[['사고일']]\n",
        "fatal_acc.reset_index(level=['gid'], inplace = True)\n",
        "fatal_acc.rename({'사고일':'dead_cal'},inplace=True,axis='columns')\n",
        "type_of_accident = pd.merge(type_of_accident,fatal_acc, how='left',on='gid')\n",
        "type_of_accident.fillna(0, inplace=True)\n",
        "\n",
        "#중상사고\n",
        "serious_acc = acc_hist.loc[(acc_hist['사고내용'] == '중상사고') & (acc_hist['사고유형'] == '차량단독')].groupby('gid').count()[['사고일']]\n",
        "serious_acc.reset_index(level=['gid'], inplace = True)\n",
        "serious_acc.rename({'사고일':'serious_cal'},inplace=True,axis='columns')\n",
        "type_of_accident = pd.merge(type_of_accident,serious_acc, how='left',on='gid')\n",
        "type_of_accident.fillna(0, inplace=True)\n",
        "\n",
        "#경상사고\n",
        "minor_acc = acc_hist.loc[(acc_hist['사고내용'] == '경상사고') & (acc_hist['사고유형'] == '차량단독')].groupby('gid').count()[['사고일']]\n",
        "minor_acc.reset_index(level=['gid'], inplace = True)\n",
        "minor_acc.rename({'사고일':'minor_cal'},inplace=True,axis='columns')\n",
        "type_of_accident = pd.merge(type_of_accident,minor_acc, how='left',on='gid')\n",
        "type_of_accident.fillna(0, inplace=True)\n",
        "\n",
        "#부상신고사고\n",
        "injury_acc = acc_hist.loc[(acc_hist['사고내용'] == '부상신고사고') & (acc_hist['사고유형'] == '차량단독')].groupby('gid').count()[['사고일']]\n",
        "injury_acc.reset_index(level=['gid'], inplace = True)\n",
        "injury_acc.rename({'사고일':'injury_cal'},inplace=True,axis='columns')\n",
        "type_of_accident = pd.merge(type_of_accident,injury_acc, how='left',on='gid')\n",
        "type_of_accident.fillna(0, inplace=True)"
      ],
      "id": "martial-costume",
      "execution_count": null,
      "outputs": []
    },
    {
      "cell_type": "code",
      "metadata": {
        "id": "advanced-little",
        "outputId": "4c386e49-6d0d-4cbf-ec95-549fe11f362d"
      },
      "source": [
        "type_of_accident.head()"
      ],
      "id": "advanced-little",
      "execution_count": null,
      "outputs": [
        {
          "output_type": "execute_result",
          "data": {
            "text/html": [
              "<div>\n",
              "<style scoped>\n",
              "    .dataframe tbody tr th:only-of-type {\n",
              "        vertical-align: middle;\n",
              "    }\n",
              "\n",
              "    .dataframe tbody tr th {\n",
              "        vertical-align: top;\n",
              "    }\n",
              "\n",
              "    .dataframe thead th {\n",
              "        text-align: right;\n",
              "    }\n",
              "</style>\n",
              "<table border=\"1\" class=\"dataframe\">\n",
              "  <thead>\n",
              "    <tr style=\"text-align: right;\">\n",
              "      <th></th>\n",
              "      <th>gid</th>\n",
              "      <th>acci_cnt</th>\n",
              "      <th>geometry</th>\n",
              "      <th>dead</th>\n",
              "      <th>serious</th>\n",
              "      <th>minor</th>\n",
              "      <th>injury</th>\n",
              "      <th>dead_ctc</th>\n",
              "      <th>serious_ctc</th>\n",
              "      <th>minor_ctc</th>\n",
              "      <th>injury_ctc</th>\n",
              "      <th>dead_cth</th>\n",
              "      <th>serious_cth</th>\n",
              "      <th>minor_cth</th>\n",
              "      <th>injury_cth</th>\n",
              "      <th>dead_cal</th>\n",
              "      <th>serious_cal</th>\n",
              "      <th>minor_cal</th>\n",
              "      <th>injury_cal</th>\n",
              "    </tr>\n",
              "  </thead>\n",
              "  <tbody>\n",
              "    <tr>\n",
              "      <th>0</th>\n",
              "      <td>다바866110</td>\n",
              "      <td>0</td>\n",
              "      <td>MULTIPOLYGON (((127.35076 36.29622, 127.35076 ...</td>\n",
              "      <td>0.0</td>\n",
              "      <td>0.0</td>\n",
              "      <td>0.0</td>\n",
              "      <td>0.0</td>\n",
              "      <td>0.0</td>\n",
              "      <td>0.0</td>\n",
              "      <td>0.0</td>\n",
              "      <td>0.0</td>\n",
              "      <td>0.0</td>\n",
              "      <td>0.0</td>\n",
              "      <td>0.0</td>\n",
              "      <td>0.0</td>\n",
              "      <td>0.0</td>\n",
              "      <td>0.0</td>\n",
              "      <td>0.0</td>\n",
              "      <td>0.0</td>\n",
              "    </tr>\n",
              "    <tr>\n",
              "      <th>1</th>\n",
              "      <td>다바823157</td>\n",
              "      <td>0</td>\n",
              "      <td>MULTIPOLYGON (((127.30277 36.33853, 127.30276 ...</td>\n",
              "      <td>0.0</td>\n",
              "      <td>0.0</td>\n",
              "      <td>0.0</td>\n",
              "      <td>0.0</td>\n",
              "      <td>0.0</td>\n",
              "      <td>0.0</td>\n",
              "      <td>0.0</td>\n",
              "      <td>0.0</td>\n",
              "      <td>0.0</td>\n",
              "      <td>0.0</td>\n",
              "      <td>0.0</td>\n",
              "      <td>0.0</td>\n",
              "      <td>0.0</td>\n",
              "      <td>0.0</td>\n",
              "      <td>0.0</td>\n",
              "      <td>0.0</td>\n",
              "    </tr>\n",
              "    <tr>\n",
              "      <th>2</th>\n",
              "      <td>다바928260</td>\n",
              "      <td>0</td>\n",
              "      <td>MULTIPOLYGON (((127.41967 36.43152, 127.41967 ...</td>\n",
              "      <td>0.0</td>\n",
              "      <td>0.0</td>\n",
              "      <td>0.0</td>\n",
              "      <td>0.0</td>\n",
              "      <td>0.0</td>\n",
              "      <td>0.0</td>\n",
              "      <td>0.0</td>\n",
              "      <td>0.0</td>\n",
              "      <td>0.0</td>\n",
              "      <td>0.0</td>\n",
              "      <td>0.0</td>\n",
              "      <td>0.0</td>\n",
              "      <td>0.0</td>\n",
              "      <td>0.0</td>\n",
              "      <td>0.0</td>\n",
              "      <td>0.0</td>\n",
              "    </tr>\n",
              "    <tr>\n",
              "      <th>3</th>\n",
              "      <td>다바931203</td>\n",
              "      <td>2</td>\n",
              "      <td>MULTIPOLYGON (((127.42307 36.38013, 127.42307 ...</td>\n",
              "      <td>0.0</td>\n",
              "      <td>1.0</td>\n",
              "      <td>1.0</td>\n",
              "      <td>0.0</td>\n",
              "      <td>0.0</td>\n",
              "      <td>0.0</td>\n",
              "      <td>1.0</td>\n",
              "      <td>0.0</td>\n",
              "      <td>0.0</td>\n",
              "      <td>1.0</td>\n",
              "      <td>0.0</td>\n",
              "      <td>0.0</td>\n",
              "      <td>0.0</td>\n",
              "      <td>0.0</td>\n",
              "      <td>0.0</td>\n",
              "      <td>0.0</td>\n",
              "    </tr>\n",
              "    <tr>\n",
              "      <th>4</th>\n",
              "      <td>다바836109</td>\n",
              "      <td>0</td>\n",
              "      <td>MULTIPOLYGON (((127.31735 36.29527, 127.31735 ...</td>\n",
              "      <td>0.0</td>\n",
              "      <td>0.0</td>\n",
              "      <td>0.0</td>\n",
              "      <td>0.0</td>\n",
              "      <td>0.0</td>\n",
              "      <td>0.0</td>\n",
              "      <td>0.0</td>\n",
              "      <td>0.0</td>\n",
              "      <td>0.0</td>\n",
              "      <td>0.0</td>\n",
              "      <td>0.0</td>\n",
              "      <td>0.0</td>\n",
              "      <td>0.0</td>\n",
              "      <td>0.0</td>\n",
              "      <td>0.0</td>\n",
              "      <td>0.0</td>\n",
              "    </tr>\n",
              "  </tbody>\n",
              "</table>\n",
              "</div>"
            ],
            "text/plain": [
              "        gid  acci_cnt                                           geometry  \\\n",
              "0  다바866110         0  MULTIPOLYGON (((127.35076 36.29622, 127.35076 ...   \n",
              "1  다바823157         0  MULTIPOLYGON (((127.30277 36.33853, 127.30276 ...   \n",
              "2  다바928260         0  MULTIPOLYGON (((127.41967 36.43152, 127.41967 ...   \n",
              "3  다바931203         2  MULTIPOLYGON (((127.42307 36.38013, 127.42307 ...   \n",
              "4  다바836109         0  MULTIPOLYGON (((127.31735 36.29527, 127.31735 ...   \n",
              "\n",
              "   dead  serious  minor  injury  dead_ctc  serious_ctc  minor_ctc  injury_ctc  \\\n",
              "0   0.0      0.0    0.0     0.0       0.0          0.0        0.0         0.0   \n",
              "1   0.0      0.0    0.0     0.0       0.0          0.0        0.0         0.0   \n",
              "2   0.0      0.0    0.0     0.0       0.0          0.0        0.0         0.0   \n",
              "3   0.0      1.0    1.0     0.0       0.0          0.0        1.0         0.0   \n",
              "4   0.0      0.0    0.0     0.0       0.0          0.0        0.0         0.0   \n",
              "\n",
              "   dead_cth  serious_cth  minor_cth  injury_cth  dead_cal  serious_cal  \\\n",
              "0       0.0          0.0        0.0         0.0       0.0          0.0   \n",
              "1       0.0          0.0        0.0         0.0       0.0          0.0   \n",
              "2       0.0          0.0        0.0         0.0       0.0          0.0   \n",
              "3       0.0          1.0        0.0         0.0       0.0          0.0   \n",
              "4       0.0          0.0        0.0         0.0       0.0          0.0   \n",
              "\n",
              "   minor_cal  injury_cal  \n",
              "0        0.0         0.0  \n",
              "1        0.0         0.0  \n",
              "2        0.0         0.0  \n",
              "3        0.0         0.0  \n",
              "4        0.0         0.0  "
            ]
          },
          "metadata": {
            "tags": []
          },
          "execution_count": 25
        }
      ]
    },
    {
      "cell_type": "markdown",
      "metadata": {
        "id": "opposed-turner"
      },
      "source": [
        "## 2. 사고유형"
      ],
      "id": "opposed-turner"
    },
    {
      "cell_type": "code",
      "metadata": {
        "id": "above-accountability"
      },
      "source": [
        "# 세분화된 사고유형을 '차대차', '차대사람', '차량단독' 세가지로 범주화\n",
        "\n",
        "#acc_hist['사고유형'] = acc_hist['사고유형'].apply(lambda x: x.split()[0])\n",
        "\n",
        "#acc_hist.사고유형.unique()"
      ],
      "id": "above-accountability",
      "execution_count": null,
      "outputs": []
    },
    {
      "cell_type": "code",
      "metadata": {
        "id": "center-community"
      },
      "source": [
        "#차대차\n",
        "car_car = acc_hist.loc[acc_hist['사고유형'] == '차대차'].groupby('gid').count()[['사고일']]\n",
        "car_car.reset_index(level=['gid'], inplace = True)\n",
        "car_car.rename({'사고일':'car_car'},inplace=True,axis='columns')\n",
        "type_of_accident = pd.merge(type_of_accident,car_car, how='left',on='gid')\n",
        "type_of_accident.fillna(0, inplace=True)"
      ],
      "id": "center-community",
      "execution_count": null,
      "outputs": []
    },
    {
      "cell_type": "code",
      "metadata": {
        "id": "faced-banks"
      },
      "source": [
        "#차대사람\n",
        "car_human = acc_hist.loc[acc_hist['사고유형'] == '차대사람'].groupby('gid').count()[['사고일']]\n",
        "car_human.reset_index(level=['gid'], inplace = True)\n",
        "car_human.rename({'사고일':'car_human'},inplace=True,axis='columns')\n",
        "type_of_accident = pd.merge(type_of_accident,car_human, how='left',on='gid')\n",
        "type_of_accident.fillna(0, inplace=True)"
      ],
      "id": "faced-banks",
      "execution_count": null,
      "outputs": []
    },
    {
      "cell_type": "code",
      "metadata": {
        "id": "maritime-essence"
      },
      "source": [
        "#차량 단독\n",
        "car_only = acc_hist.loc[acc_hist['사고유형'] == '차량단독'].groupby('gid').count()[['사고일']]\n",
        "car_only.reset_index(level=['gid'], inplace = True)\n",
        "car_only.rename({'사고일':'car_only'},inplace=True,axis='columns')\n",
        "type_of_accident = pd.merge(type_of_accident,car_only, how='left',on='gid')\n",
        "type_of_accident.fillna(0, inplace=True)"
      ],
      "id": "maritime-essence",
      "execution_count": null,
      "outputs": []
    },
    {
      "cell_type": "code",
      "metadata": {
        "id": "suffering-karma",
        "outputId": "27aca087-d280-4425-cc09-d09afcb12913"
      },
      "source": [
        "type_of_accident.head()"
      ],
      "id": "suffering-karma",
      "execution_count": null,
      "outputs": [
        {
          "output_type": "execute_result",
          "data": {
            "text/html": [
              "<div>\n",
              "<style scoped>\n",
              "    .dataframe tbody tr th:only-of-type {\n",
              "        vertical-align: middle;\n",
              "    }\n",
              "\n",
              "    .dataframe tbody tr th {\n",
              "        vertical-align: top;\n",
              "    }\n",
              "\n",
              "    .dataframe thead th {\n",
              "        text-align: right;\n",
              "    }\n",
              "</style>\n",
              "<table border=\"1\" class=\"dataframe\">\n",
              "  <thead>\n",
              "    <tr style=\"text-align: right;\">\n",
              "      <th></th>\n",
              "      <th>gid</th>\n",
              "      <th>acci_cnt</th>\n",
              "      <th>geometry</th>\n",
              "      <th>dead</th>\n",
              "      <th>serious</th>\n",
              "      <th>minor</th>\n",
              "      <th>injury</th>\n",
              "      <th>dead_ctc</th>\n",
              "      <th>serious_ctc</th>\n",
              "      <th>minor_ctc</th>\n",
              "      <th>...</th>\n",
              "      <th>serious_cth</th>\n",
              "      <th>minor_cth</th>\n",
              "      <th>injury_cth</th>\n",
              "      <th>dead_cal</th>\n",
              "      <th>serious_cal</th>\n",
              "      <th>minor_cal</th>\n",
              "      <th>injury_cal</th>\n",
              "      <th>car_car</th>\n",
              "      <th>car_human</th>\n",
              "      <th>car_only</th>\n",
              "    </tr>\n",
              "  </thead>\n",
              "  <tbody>\n",
              "    <tr>\n",
              "      <th>0</th>\n",
              "      <td>다바866110</td>\n",
              "      <td>0</td>\n",
              "      <td>MULTIPOLYGON (((127.35076 36.29622, 127.35076 ...</td>\n",
              "      <td>0.0</td>\n",
              "      <td>0.0</td>\n",
              "      <td>0.0</td>\n",
              "      <td>0.0</td>\n",
              "      <td>0.0</td>\n",
              "      <td>0.0</td>\n",
              "      <td>0.0</td>\n",
              "      <td>...</td>\n",
              "      <td>0.0</td>\n",
              "      <td>0.0</td>\n",
              "      <td>0.0</td>\n",
              "      <td>0.0</td>\n",
              "      <td>0.0</td>\n",
              "      <td>0.0</td>\n",
              "      <td>0.0</td>\n",
              "      <td>0.0</td>\n",
              "      <td>0.0</td>\n",
              "      <td>0.0</td>\n",
              "    </tr>\n",
              "    <tr>\n",
              "      <th>1</th>\n",
              "      <td>다바823157</td>\n",
              "      <td>0</td>\n",
              "      <td>MULTIPOLYGON (((127.30277 36.33853, 127.30276 ...</td>\n",
              "      <td>0.0</td>\n",
              "      <td>0.0</td>\n",
              "      <td>0.0</td>\n",
              "      <td>0.0</td>\n",
              "      <td>0.0</td>\n",
              "      <td>0.0</td>\n",
              "      <td>0.0</td>\n",
              "      <td>...</td>\n",
              "      <td>0.0</td>\n",
              "      <td>0.0</td>\n",
              "      <td>0.0</td>\n",
              "      <td>0.0</td>\n",
              "      <td>0.0</td>\n",
              "      <td>0.0</td>\n",
              "      <td>0.0</td>\n",
              "      <td>0.0</td>\n",
              "      <td>0.0</td>\n",
              "      <td>0.0</td>\n",
              "    </tr>\n",
              "    <tr>\n",
              "      <th>2</th>\n",
              "      <td>다바928260</td>\n",
              "      <td>0</td>\n",
              "      <td>MULTIPOLYGON (((127.41967 36.43152, 127.41967 ...</td>\n",
              "      <td>0.0</td>\n",
              "      <td>0.0</td>\n",
              "      <td>0.0</td>\n",
              "      <td>0.0</td>\n",
              "      <td>0.0</td>\n",
              "      <td>0.0</td>\n",
              "      <td>0.0</td>\n",
              "      <td>...</td>\n",
              "      <td>0.0</td>\n",
              "      <td>0.0</td>\n",
              "      <td>0.0</td>\n",
              "      <td>0.0</td>\n",
              "      <td>0.0</td>\n",
              "      <td>0.0</td>\n",
              "      <td>0.0</td>\n",
              "      <td>0.0</td>\n",
              "      <td>0.0</td>\n",
              "      <td>0.0</td>\n",
              "    </tr>\n",
              "    <tr>\n",
              "      <th>3</th>\n",
              "      <td>다바931203</td>\n",
              "      <td>2</td>\n",
              "      <td>MULTIPOLYGON (((127.42307 36.38013, 127.42307 ...</td>\n",
              "      <td>0.0</td>\n",
              "      <td>1.0</td>\n",
              "      <td>1.0</td>\n",
              "      <td>0.0</td>\n",
              "      <td>0.0</td>\n",
              "      <td>0.0</td>\n",
              "      <td>1.0</td>\n",
              "      <td>...</td>\n",
              "      <td>1.0</td>\n",
              "      <td>0.0</td>\n",
              "      <td>0.0</td>\n",
              "      <td>0.0</td>\n",
              "      <td>0.0</td>\n",
              "      <td>0.0</td>\n",
              "      <td>0.0</td>\n",
              "      <td>1.0</td>\n",
              "      <td>1.0</td>\n",
              "      <td>0.0</td>\n",
              "    </tr>\n",
              "    <tr>\n",
              "      <th>4</th>\n",
              "      <td>다바836109</td>\n",
              "      <td>0</td>\n",
              "      <td>MULTIPOLYGON (((127.31735 36.29527, 127.31735 ...</td>\n",
              "      <td>0.0</td>\n",
              "      <td>0.0</td>\n",
              "      <td>0.0</td>\n",
              "      <td>0.0</td>\n",
              "      <td>0.0</td>\n",
              "      <td>0.0</td>\n",
              "      <td>0.0</td>\n",
              "      <td>...</td>\n",
              "      <td>0.0</td>\n",
              "      <td>0.0</td>\n",
              "      <td>0.0</td>\n",
              "      <td>0.0</td>\n",
              "      <td>0.0</td>\n",
              "      <td>0.0</td>\n",
              "      <td>0.0</td>\n",
              "      <td>0.0</td>\n",
              "      <td>0.0</td>\n",
              "      <td>0.0</td>\n",
              "    </tr>\n",
              "  </tbody>\n",
              "</table>\n",
              "<p>5 rows × 22 columns</p>\n",
              "</div>"
            ],
            "text/plain": [
              "        gid  acci_cnt                                           geometry  \\\n",
              "0  다바866110         0  MULTIPOLYGON (((127.35076 36.29622, 127.35076 ...   \n",
              "1  다바823157         0  MULTIPOLYGON (((127.30277 36.33853, 127.30276 ...   \n",
              "2  다바928260         0  MULTIPOLYGON (((127.41967 36.43152, 127.41967 ...   \n",
              "3  다바931203         2  MULTIPOLYGON (((127.42307 36.38013, 127.42307 ...   \n",
              "4  다바836109         0  MULTIPOLYGON (((127.31735 36.29527, 127.31735 ...   \n",
              "\n",
              "   dead  serious  minor  injury  dead_ctc  serious_ctc  minor_ctc  ...  \\\n",
              "0   0.0      0.0    0.0     0.0       0.0          0.0        0.0  ...   \n",
              "1   0.0      0.0    0.0     0.0       0.0          0.0        0.0  ...   \n",
              "2   0.0      0.0    0.0     0.0       0.0          0.0        0.0  ...   \n",
              "3   0.0      1.0    1.0     0.0       0.0          0.0        1.0  ...   \n",
              "4   0.0      0.0    0.0     0.0       0.0          0.0        0.0  ...   \n",
              "\n",
              "   serious_cth  minor_cth  injury_cth  dead_cal  serious_cal  minor_cal  \\\n",
              "0          0.0        0.0         0.0       0.0          0.0        0.0   \n",
              "1          0.0        0.0         0.0       0.0          0.0        0.0   \n",
              "2          0.0        0.0         0.0       0.0          0.0        0.0   \n",
              "3          1.0        0.0         0.0       0.0          0.0        0.0   \n",
              "4          0.0        0.0         0.0       0.0          0.0        0.0   \n",
              "\n",
              "   injury_cal  car_car  car_human  car_only  \n",
              "0         0.0      0.0        0.0       0.0  \n",
              "1         0.0      0.0        0.0       0.0  \n",
              "2         0.0      0.0        0.0       0.0  \n",
              "3         0.0      1.0        1.0       0.0  \n",
              "4         0.0      0.0        0.0       0.0  \n",
              "\n",
              "[5 rows x 22 columns]"
            ]
          },
          "metadata": {
            "tags": []
          },
          "execution_count": 30
        }
      ]
    },
    {
      "cell_type": "markdown",
      "metadata": {
        "id": "arabic-chair"
      },
      "source": [
        "## 3. 연령대별 사고 건수 정리"
      ],
      "id": "arabic-chair"
    },
    {
      "cell_type": "markdown",
      "metadata": {
        "id": "unnecessary-effort"
      },
      "source": [
        "### 3-1. 가해자연령대"
      ],
      "id": "unnecessary-effort"
    },
    {
      "cell_type": "code",
      "metadata": {
        "id": "alpha-soccer"
      },
      "source": [
        "def counting_by(df_cnt, df_hist, column, category, new_col):\n",
        "    tmp = df_hist.loc[df_hist[f'{column}'] == f'{category}'].groupby('gid').count()[['사고일']]\n",
        "    tmp.reset_index(level=['gid'], inplace = True)\n",
        "    tmp.rename({'사고일':f'{new_col}'},inplace=True,axis='columns')\n",
        "    df_cnt = pd.merge(df_cnt,tmp , how='left',on='gid')\n",
        "    df_cnt.fillna(0, inplace=True)\n",
        "    return df_cnt"
      ],
      "id": "alpha-soccer",
      "execution_count": null,
      "outputs": []
    },
    {
      "cell_type": "code",
      "metadata": {
        "id": "internal-indianapolis",
        "outputId": "9d281c52-73dd-4033-b33b-db7f7faf1bab"
      },
      "source": [
        "acc_hist['가해운전자 연령대'].unique()"
      ],
      "id": "internal-indianapolis",
      "execution_count": null,
      "outputs": [
        {
          "output_type": "execute_result",
          "data": {
            "text/plain": [
              "array(['50대', '30대', '80대', '70대', '60대', '20대', '미분류', '40대', '10대',\n",
              "       '10대미만', '90대', '기타불명'], dtype=object)"
            ]
          },
          "metadata": {
            "tags": []
          },
          "execution_count": 32
        }
      ]
    },
    {
      "cell_type": "code",
      "metadata": {
        "id": "drawn-medication"
      },
      "source": [
        "#10대미만\n",
        "attack_under_10 = acc_hist.loc[acc_hist['가해운전자 연령대'] == '10대미만'].groupby('gid').count()[['사고일']]\n",
        "attack_under_10 .reset_index(level=['gid'], inplace = True)\n",
        "attack_under_10 .rename({'사고일':'attack_under_10 '},inplace=True,axis='columns')\n",
        "type_of_accident = pd.merge(type_of_accident,attack_under_10 , how='left',on='gid')\n",
        "type_of_accident.fillna(0, inplace=True)"
      ],
      "id": "drawn-medication",
      "execution_count": null,
      "outputs": []
    },
    {
      "cell_type": "code",
      "metadata": {
        "id": "protective-curve",
        "outputId": "7a510015-ff00-458e-c5a1-78ae900dee6d"
      },
      "source": [
        "type_of_accident.describe()"
      ],
      "id": "protective-curve",
      "execution_count": null,
      "outputs": [
        {
          "output_type": "execute_result",
          "data": {
            "text/html": [
              "<div>\n",
              "<style scoped>\n",
              "    .dataframe tbody tr th:only-of-type {\n",
              "        vertical-align: middle;\n",
              "    }\n",
              "\n",
              "    .dataframe tbody tr th {\n",
              "        vertical-align: top;\n",
              "    }\n",
              "\n",
              "    .dataframe thead th {\n",
              "        text-align: right;\n",
              "    }\n",
              "</style>\n",
              "<table border=\"1\" class=\"dataframe\">\n",
              "  <thead>\n",
              "    <tr style=\"text-align: right;\">\n",
              "      <th></th>\n",
              "      <th>acci_cnt</th>\n",
              "      <th>dead</th>\n",
              "      <th>serious</th>\n",
              "      <th>minor</th>\n",
              "      <th>injury</th>\n",
              "      <th>dead_ctc</th>\n",
              "      <th>serious_ctc</th>\n",
              "      <th>minor_ctc</th>\n",
              "      <th>injury_ctc</th>\n",
              "      <th>dead_cth</th>\n",
              "      <th>...</th>\n",
              "      <th>minor_cth</th>\n",
              "      <th>injury_cth</th>\n",
              "      <th>dead_cal</th>\n",
              "      <th>serious_cal</th>\n",
              "      <th>minor_cal</th>\n",
              "      <th>injury_cal</th>\n",
              "      <th>car_car</th>\n",
              "      <th>car_human</th>\n",
              "      <th>car_only</th>\n",
              "      <th>attack_under_10</th>\n",
              "    </tr>\n",
              "  </thead>\n",
              "  <tbody>\n",
              "    <tr>\n",
              "      <th>count</th>\n",
              "      <td>54912.000000</td>\n",
              "      <td>54912.000000</td>\n",
              "      <td>54912.000000</td>\n",
              "      <td>54912.000000</td>\n",
              "      <td>54912.000000</td>\n",
              "      <td>54912.000000</td>\n",
              "      <td>54912.000000</td>\n",
              "      <td>54912.000000</td>\n",
              "      <td>54912.000000</td>\n",
              "      <td>54912.000000</td>\n",
              "      <td>...</td>\n",
              "      <td>54912.000000</td>\n",
              "      <td>54912.000000</td>\n",
              "      <td>54912.000000</td>\n",
              "      <td>54912.000000</td>\n",
              "      <td>54912.000000</td>\n",
              "      <td>54912.000000</td>\n",
              "      <td>54912.000000</td>\n",
              "      <td>54912.000000</td>\n",
              "      <td>54912.000000</td>\n",
              "      <td>54912.000000</td>\n",
              "    </tr>\n",
              "    <tr>\n",
              "      <th>mean</th>\n",
              "      <td>0.430653</td>\n",
              "      <td>0.004553</td>\n",
              "      <td>0.100506</td>\n",
              "      <td>0.314376</td>\n",
              "      <td>0.011218</td>\n",
              "      <td>0.001512</td>\n",
              "      <td>0.064084</td>\n",
              "      <td>0.259397</td>\n",
              "      <td>0.007375</td>\n",
              "      <td>0.002313</td>\n",
              "      <td>...</td>\n",
              "      <td>0.048223</td>\n",
              "      <td>0.002950</td>\n",
              "      <td>0.000728</td>\n",
              "      <td>0.004553</td>\n",
              "      <td>0.006738</td>\n",
              "      <td>0.000892</td>\n",
              "      <td>0.332368</td>\n",
              "      <td>0.085337</td>\n",
              "      <td>0.012912</td>\n",
              "      <td>0.000164</td>\n",
              "    </tr>\n",
              "    <tr>\n",
              "      <th>std</th>\n",
              "      <td>2.204865</td>\n",
              "      <td>0.070750</td>\n",
              "      <td>0.569548</td>\n",
              "      <td>1.691382</td>\n",
              "      <td>0.117885</td>\n",
              "      <td>0.039776</td>\n",
              "      <td>0.430348</td>\n",
              "      <td>1.453141</td>\n",
              "      <td>0.093886</td>\n",
              "      <td>0.049896</td>\n",
              "      <td>...</td>\n",
              "      <td>0.481946</td>\n",
              "      <td>0.057178</td>\n",
              "      <td>0.026980</td>\n",
              "      <td>0.070492</td>\n",
              "      <td>0.088852</td>\n",
              "      <td>0.031055</td>\n",
              "      <td>1.830505</td>\n",
              "      <td>0.630375</td>\n",
              "      <td>0.129989</td>\n",
              "      <td>0.012801</td>\n",
              "    </tr>\n",
              "    <tr>\n",
              "      <th>min</th>\n",
              "      <td>0.000000</td>\n",
              "      <td>0.000000</td>\n",
              "      <td>0.000000</td>\n",
              "      <td>0.000000</td>\n",
              "      <td>0.000000</td>\n",
              "      <td>0.000000</td>\n",
              "      <td>0.000000</td>\n",
              "      <td>0.000000</td>\n",
              "      <td>0.000000</td>\n",
              "      <td>0.000000</td>\n",
              "      <td>...</td>\n",
              "      <td>0.000000</td>\n",
              "      <td>0.000000</td>\n",
              "      <td>0.000000</td>\n",
              "      <td>0.000000</td>\n",
              "      <td>0.000000</td>\n",
              "      <td>0.000000</td>\n",
              "      <td>0.000000</td>\n",
              "      <td>0.000000</td>\n",
              "      <td>0.000000</td>\n",
              "      <td>0.000000</td>\n",
              "    </tr>\n",
              "    <tr>\n",
              "      <th>25%</th>\n",
              "      <td>0.000000</td>\n",
              "      <td>0.000000</td>\n",
              "      <td>0.000000</td>\n",
              "      <td>0.000000</td>\n",
              "      <td>0.000000</td>\n",
              "      <td>0.000000</td>\n",
              "      <td>0.000000</td>\n",
              "      <td>0.000000</td>\n",
              "      <td>0.000000</td>\n",
              "      <td>0.000000</td>\n",
              "      <td>...</td>\n",
              "      <td>0.000000</td>\n",
              "      <td>0.000000</td>\n",
              "      <td>0.000000</td>\n",
              "      <td>0.000000</td>\n",
              "      <td>0.000000</td>\n",
              "      <td>0.000000</td>\n",
              "      <td>0.000000</td>\n",
              "      <td>0.000000</td>\n",
              "      <td>0.000000</td>\n",
              "      <td>0.000000</td>\n",
              "    </tr>\n",
              "    <tr>\n",
              "      <th>50%</th>\n",
              "      <td>0.000000</td>\n",
              "      <td>0.000000</td>\n",
              "      <td>0.000000</td>\n",
              "      <td>0.000000</td>\n",
              "      <td>0.000000</td>\n",
              "      <td>0.000000</td>\n",
              "      <td>0.000000</td>\n",
              "      <td>0.000000</td>\n",
              "      <td>0.000000</td>\n",
              "      <td>0.000000</td>\n",
              "      <td>...</td>\n",
              "      <td>0.000000</td>\n",
              "      <td>0.000000</td>\n",
              "      <td>0.000000</td>\n",
              "      <td>0.000000</td>\n",
              "      <td>0.000000</td>\n",
              "      <td>0.000000</td>\n",
              "      <td>0.000000</td>\n",
              "      <td>0.000000</td>\n",
              "      <td>0.000000</td>\n",
              "      <td>0.000000</td>\n",
              "    </tr>\n",
              "    <tr>\n",
              "      <th>75%</th>\n",
              "      <td>0.000000</td>\n",
              "      <td>0.000000</td>\n",
              "      <td>0.000000</td>\n",
              "      <td>0.000000</td>\n",
              "      <td>0.000000</td>\n",
              "      <td>0.000000</td>\n",
              "      <td>0.000000</td>\n",
              "      <td>0.000000</td>\n",
              "      <td>0.000000</td>\n",
              "      <td>0.000000</td>\n",
              "      <td>...</td>\n",
              "      <td>0.000000</td>\n",
              "      <td>0.000000</td>\n",
              "      <td>0.000000</td>\n",
              "      <td>0.000000</td>\n",
              "      <td>0.000000</td>\n",
              "      <td>0.000000</td>\n",
              "      <td>0.000000</td>\n",
              "      <td>0.000000</td>\n",
              "      <td>0.000000</td>\n",
              "      <td>0.000000</td>\n",
              "    </tr>\n",
              "    <tr>\n",
              "      <th>max</th>\n",
              "      <td>63.000000</td>\n",
              "      <td>2.000000</td>\n",
              "      <td>15.000000</td>\n",
              "      <td>57.000000</td>\n",
              "      <td>3.000000</td>\n",
              "      <td>2.000000</td>\n",
              "      <td>15.000000</td>\n",
              "      <td>48.000000</td>\n",
              "      <td>3.000000</td>\n",
              "      <td>2.000000</td>\n",
              "      <td>...</td>\n",
              "      <td>49.000000</td>\n",
              "      <td>2.000000</td>\n",
              "      <td>1.000000</td>\n",
              "      <td>3.000000</td>\n",
              "      <td>3.000000</td>\n",
              "      <td>2.000000</td>\n",
              "      <td>55.000000</td>\n",
              "      <td>57.000000</td>\n",
              "      <td>4.000000</td>\n",
              "      <td>1.000000</td>\n",
              "    </tr>\n",
              "  </tbody>\n",
              "</table>\n",
              "<p>8 rows × 21 columns</p>\n",
              "</div>"
            ],
            "text/plain": [
              "           acci_cnt          dead       serious         minor        injury  \\\n",
              "count  54912.000000  54912.000000  54912.000000  54912.000000  54912.000000   \n",
              "mean       0.430653      0.004553      0.100506      0.314376      0.011218   \n",
              "std        2.204865      0.070750      0.569548      1.691382      0.117885   \n",
              "min        0.000000      0.000000      0.000000      0.000000      0.000000   \n",
              "25%        0.000000      0.000000      0.000000      0.000000      0.000000   \n",
              "50%        0.000000      0.000000      0.000000      0.000000      0.000000   \n",
              "75%        0.000000      0.000000      0.000000      0.000000      0.000000   \n",
              "max       63.000000      2.000000     15.000000     57.000000      3.000000   \n",
              "\n",
              "           dead_ctc   serious_ctc     minor_ctc    injury_ctc      dead_cth  \\\n",
              "count  54912.000000  54912.000000  54912.000000  54912.000000  54912.000000   \n",
              "mean       0.001512      0.064084      0.259397      0.007375      0.002313   \n",
              "std        0.039776      0.430348      1.453141      0.093886      0.049896   \n",
              "min        0.000000      0.000000      0.000000      0.000000      0.000000   \n",
              "25%        0.000000      0.000000      0.000000      0.000000      0.000000   \n",
              "50%        0.000000      0.000000      0.000000      0.000000      0.000000   \n",
              "75%        0.000000      0.000000      0.000000      0.000000      0.000000   \n",
              "max        2.000000     15.000000     48.000000      3.000000      2.000000   \n",
              "\n",
              "       ...     minor_cth    injury_cth      dead_cal   serious_cal  \\\n",
              "count  ...  54912.000000  54912.000000  54912.000000  54912.000000   \n",
              "mean   ...      0.048223      0.002950      0.000728      0.004553   \n",
              "std    ...      0.481946      0.057178      0.026980      0.070492   \n",
              "min    ...      0.000000      0.000000      0.000000      0.000000   \n",
              "25%    ...      0.000000      0.000000      0.000000      0.000000   \n",
              "50%    ...      0.000000      0.000000      0.000000      0.000000   \n",
              "75%    ...      0.000000      0.000000      0.000000      0.000000   \n",
              "max    ...     49.000000      2.000000      1.000000      3.000000   \n",
              "\n",
              "          minor_cal    injury_cal       car_car     car_human      car_only  \\\n",
              "count  54912.000000  54912.000000  54912.000000  54912.000000  54912.000000   \n",
              "mean       0.006738      0.000892      0.332368      0.085337      0.012912   \n",
              "std        0.088852      0.031055      1.830505      0.630375      0.129989   \n",
              "min        0.000000      0.000000      0.000000      0.000000      0.000000   \n",
              "25%        0.000000      0.000000      0.000000      0.000000      0.000000   \n",
              "50%        0.000000      0.000000      0.000000      0.000000      0.000000   \n",
              "75%        0.000000      0.000000      0.000000      0.000000      0.000000   \n",
              "max        3.000000      2.000000     55.000000     57.000000      4.000000   \n",
              "\n",
              "       attack_under_10   \n",
              "count      54912.000000  \n",
              "mean           0.000164  \n",
              "std            0.012801  \n",
              "min            0.000000  \n",
              "25%            0.000000  \n",
              "50%            0.000000  \n",
              "75%            0.000000  \n",
              "max            1.000000  \n",
              "\n",
              "[8 rows x 21 columns]"
            ]
          },
          "metadata": {
            "tags": []
          },
          "execution_count": 34
        }
      ]
    },
    {
      "cell_type": "code",
      "metadata": {
        "id": "timely-refund"
      },
      "source": [
        "#10대\n",
        "type_of_accident = counting_by(type_of_accident, acc_hist, '가해운전자 연령대', '10대','attack_10')"
      ],
      "id": "timely-refund",
      "execution_count": null,
      "outputs": []
    },
    {
      "cell_type": "code",
      "metadata": {
        "id": "indoor-generation",
        "outputId": "3c56f77c-5339-4f2b-9f8a-a07f96ad11b1"
      },
      "source": [
        "type_of_accident.describe()"
      ],
      "id": "indoor-generation",
      "execution_count": null,
      "outputs": [
        {
          "output_type": "execute_result",
          "data": {
            "text/html": [
              "<div>\n",
              "<style scoped>\n",
              "    .dataframe tbody tr th:only-of-type {\n",
              "        vertical-align: middle;\n",
              "    }\n",
              "\n",
              "    .dataframe tbody tr th {\n",
              "        vertical-align: top;\n",
              "    }\n",
              "\n",
              "    .dataframe thead th {\n",
              "        text-align: right;\n",
              "    }\n",
              "</style>\n",
              "<table border=\"1\" class=\"dataframe\">\n",
              "  <thead>\n",
              "    <tr style=\"text-align: right;\">\n",
              "      <th></th>\n",
              "      <th>acci_cnt</th>\n",
              "      <th>dead</th>\n",
              "      <th>serious</th>\n",
              "      <th>minor</th>\n",
              "      <th>injury</th>\n",
              "      <th>dead_ctc</th>\n",
              "      <th>serious_ctc</th>\n",
              "      <th>minor_ctc</th>\n",
              "      <th>injury_ctc</th>\n",
              "      <th>dead_cth</th>\n",
              "      <th>...</th>\n",
              "      <th>injury_cth</th>\n",
              "      <th>dead_cal</th>\n",
              "      <th>serious_cal</th>\n",
              "      <th>minor_cal</th>\n",
              "      <th>injury_cal</th>\n",
              "      <th>car_car</th>\n",
              "      <th>car_human</th>\n",
              "      <th>car_only</th>\n",
              "      <th>attack_under_10</th>\n",
              "      <th>attack_10</th>\n",
              "    </tr>\n",
              "  </thead>\n",
              "  <tbody>\n",
              "    <tr>\n",
              "      <th>count</th>\n",
              "      <td>54912.000000</td>\n",
              "      <td>54912.000000</td>\n",
              "      <td>54912.000000</td>\n",
              "      <td>54912.000000</td>\n",
              "      <td>54912.000000</td>\n",
              "      <td>54912.000000</td>\n",
              "      <td>54912.000000</td>\n",
              "      <td>54912.000000</td>\n",
              "      <td>54912.000000</td>\n",
              "      <td>54912.000000</td>\n",
              "      <td>...</td>\n",
              "      <td>54912.000000</td>\n",
              "      <td>54912.000000</td>\n",
              "      <td>54912.000000</td>\n",
              "      <td>54912.000000</td>\n",
              "      <td>54912.000000</td>\n",
              "      <td>54912.000000</td>\n",
              "      <td>54912.000000</td>\n",
              "      <td>54912.000000</td>\n",
              "      <td>54912.000000</td>\n",
              "      <td>54912.000000</td>\n",
              "    </tr>\n",
              "    <tr>\n",
              "      <th>mean</th>\n",
              "      <td>0.430653</td>\n",
              "      <td>0.004553</td>\n",
              "      <td>0.100506</td>\n",
              "      <td>0.314376</td>\n",
              "      <td>0.011218</td>\n",
              "      <td>0.001512</td>\n",
              "      <td>0.064084</td>\n",
              "      <td>0.259397</td>\n",
              "      <td>0.007375</td>\n",
              "      <td>0.002313</td>\n",
              "      <td>...</td>\n",
              "      <td>0.002950</td>\n",
              "      <td>0.000728</td>\n",
              "      <td>0.004553</td>\n",
              "      <td>0.006738</td>\n",
              "      <td>0.000892</td>\n",
              "      <td>0.332368</td>\n",
              "      <td>0.085337</td>\n",
              "      <td>0.012912</td>\n",
              "      <td>0.000164</td>\n",
              "      <td>0.007558</td>\n",
              "    </tr>\n",
              "    <tr>\n",
              "      <th>std</th>\n",
              "      <td>2.204865</td>\n",
              "      <td>0.070750</td>\n",
              "      <td>0.569548</td>\n",
              "      <td>1.691382</td>\n",
              "      <td>0.117885</td>\n",
              "      <td>0.039776</td>\n",
              "      <td>0.430348</td>\n",
              "      <td>1.453141</td>\n",
              "      <td>0.093886</td>\n",
              "      <td>0.049896</td>\n",
              "      <td>...</td>\n",
              "      <td>0.057178</td>\n",
              "      <td>0.026980</td>\n",
              "      <td>0.070492</td>\n",
              "      <td>0.088852</td>\n",
              "      <td>0.031055</td>\n",
              "      <td>1.830505</td>\n",
              "      <td>0.630375</td>\n",
              "      <td>0.129989</td>\n",
              "      <td>0.012801</td>\n",
              "      <td>0.101335</td>\n",
              "    </tr>\n",
              "    <tr>\n",
              "      <th>min</th>\n",
              "      <td>0.000000</td>\n",
              "      <td>0.000000</td>\n",
              "      <td>0.000000</td>\n",
              "      <td>0.000000</td>\n",
              "      <td>0.000000</td>\n",
              "      <td>0.000000</td>\n",
              "      <td>0.000000</td>\n",
              "      <td>0.000000</td>\n",
              "      <td>0.000000</td>\n",
              "      <td>0.000000</td>\n",
              "      <td>...</td>\n",
              "      <td>0.000000</td>\n",
              "      <td>0.000000</td>\n",
              "      <td>0.000000</td>\n",
              "      <td>0.000000</td>\n",
              "      <td>0.000000</td>\n",
              "      <td>0.000000</td>\n",
              "      <td>0.000000</td>\n",
              "      <td>0.000000</td>\n",
              "      <td>0.000000</td>\n",
              "      <td>0.000000</td>\n",
              "    </tr>\n",
              "    <tr>\n",
              "      <th>25%</th>\n",
              "      <td>0.000000</td>\n",
              "      <td>0.000000</td>\n",
              "      <td>0.000000</td>\n",
              "      <td>0.000000</td>\n",
              "      <td>0.000000</td>\n",
              "      <td>0.000000</td>\n",
              "      <td>0.000000</td>\n",
              "      <td>0.000000</td>\n",
              "      <td>0.000000</td>\n",
              "      <td>0.000000</td>\n",
              "      <td>...</td>\n",
              "      <td>0.000000</td>\n",
              "      <td>0.000000</td>\n",
              "      <td>0.000000</td>\n",
              "      <td>0.000000</td>\n",
              "      <td>0.000000</td>\n",
              "      <td>0.000000</td>\n",
              "      <td>0.000000</td>\n",
              "      <td>0.000000</td>\n",
              "      <td>0.000000</td>\n",
              "      <td>0.000000</td>\n",
              "    </tr>\n",
              "    <tr>\n",
              "      <th>50%</th>\n",
              "      <td>0.000000</td>\n",
              "      <td>0.000000</td>\n",
              "      <td>0.000000</td>\n",
              "      <td>0.000000</td>\n",
              "      <td>0.000000</td>\n",
              "      <td>0.000000</td>\n",
              "      <td>0.000000</td>\n",
              "      <td>0.000000</td>\n",
              "      <td>0.000000</td>\n",
              "      <td>0.000000</td>\n",
              "      <td>...</td>\n",
              "      <td>0.000000</td>\n",
              "      <td>0.000000</td>\n",
              "      <td>0.000000</td>\n",
              "      <td>0.000000</td>\n",
              "      <td>0.000000</td>\n",
              "      <td>0.000000</td>\n",
              "      <td>0.000000</td>\n",
              "      <td>0.000000</td>\n",
              "      <td>0.000000</td>\n",
              "      <td>0.000000</td>\n",
              "    </tr>\n",
              "    <tr>\n",
              "      <th>75%</th>\n",
              "      <td>0.000000</td>\n",
              "      <td>0.000000</td>\n",
              "      <td>0.000000</td>\n",
              "      <td>0.000000</td>\n",
              "      <td>0.000000</td>\n",
              "      <td>0.000000</td>\n",
              "      <td>0.000000</td>\n",
              "      <td>0.000000</td>\n",
              "      <td>0.000000</td>\n",
              "      <td>0.000000</td>\n",
              "      <td>...</td>\n",
              "      <td>0.000000</td>\n",
              "      <td>0.000000</td>\n",
              "      <td>0.000000</td>\n",
              "      <td>0.000000</td>\n",
              "      <td>0.000000</td>\n",
              "      <td>0.000000</td>\n",
              "      <td>0.000000</td>\n",
              "      <td>0.000000</td>\n",
              "      <td>0.000000</td>\n",
              "      <td>0.000000</td>\n",
              "    </tr>\n",
              "    <tr>\n",
              "      <th>max</th>\n",
              "      <td>63.000000</td>\n",
              "      <td>2.000000</td>\n",
              "      <td>15.000000</td>\n",
              "      <td>57.000000</td>\n",
              "      <td>3.000000</td>\n",
              "      <td>2.000000</td>\n",
              "      <td>15.000000</td>\n",
              "      <td>48.000000</td>\n",
              "      <td>3.000000</td>\n",
              "      <td>2.000000</td>\n",
              "      <td>...</td>\n",
              "      <td>2.000000</td>\n",
              "      <td>1.000000</td>\n",
              "      <td>3.000000</td>\n",
              "      <td>3.000000</td>\n",
              "      <td>2.000000</td>\n",
              "      <td>55.000000</td>\n",
              "      <td>57.000000</td>\n",
              "      <td>4.000000</td>\n",
              "      <td>1.000000</td>\n",
              "      <td>7.000000</td>\n",
              "    </tr>\n",
              "  </tbody>\n",
              "</table>\n",
              "<p>8 rows × 22 columns</p>\n",
              "</div>"
            ],
            "text/plain": [
              "           acci_cnt          dead       serious         minor        injury  \\\n",
              "count  54912.000000  54912.000000  54912.000000  54912.000000  54912.000000   \n",
              "mean       0.430653      0.004553      0.100506      0.314376      0.011218   \n",
              "std        2.204865      0.070750      0.569548      1.691382      0.117885   \n",
              "min        0.000000      0.000000      0.000000      0.000000      0.000000   \n",
              "25%        0.000000      0.000000      0.000000      0.000000      0.000000   \n",
              "50%        0.000000      0.000000      0.000000      0.000000      0.000000   \n",
              "75%        0.000000      0.000000      0.000000      0.000000      0.000000   \n",
              "max       63.000000      2.000000     15.000000     57.000000      3.000000   \n",
              "\n",
              "           dead_ctc   serious_ctc     minor_ctc    injury_ctc      dead_cth  \\\n",
              "count  54912.000000  54912.000000  54912.000000  54912.000000  54912.000000   \n",
              "mean       0.001512      0.064084      0.259397      0.007375      0.002313   \n",
              "std        0.039776      0.430348      1.453141      0.093886      0.049896   \n",
              "min        0.000000      0.000000      0.000000      0.000000      0.000000   \n",
              "25%        0.000000      0.000000      0.000000      0.000000      0.000000   \n",
              "50%        0.000000      0.000000      0.000000      0.000000      0.000000   \n",
              "75%        0.000000      0.000000      0.000000      0.000000      0.000000   \n",
              "max        2.000000     15.000000     48.000000      3.000000      2.000000   \n",
              "\n",
              "       ...    injury_cth      dead_cal   serious_cal     minor_cal  \\\n",
              "count  ...  54912.000000  54912.000000  54912.000000  54912.000000   \n",
              "mean   ...      0.002950      0.000728      0.004553      0.006738   \n",
              "std    ...      0.057178      0.026980      0.070492      0.088852   \n",
              "min    ...      0.000000      0.000000      0.000000      0.000000   \n",
              "25%    ...      0.000000      0.000000      0.000000      0.000000   \n",
              "50%    ...      0.000000      0.000000      0.000000      0.000000   \n",
              "75%    ...      0.000000      0.000000      0.000000      0.000000   \n",
              "max    ...      2.000000      1.000000      3.000000      3.000000   \n",
              "\n",
              "         injury_cal       car_car     car_human      car_only  \\\n",
              "count  54912.000000  54912.000000  54912.000000  54912.000000   \n",
              "mean       0.000892      0.332368      0.085337      0.012912   \n",
              "std        0.031055      1.830505      0.630375      0.129989   \n",
              "min        0.000000      0.000000      0.000000      0.000000   \n",
              "25%        0.000000      0.000000      0.000000      0.000000   \n",
              "50%        0.000000      0.000000      0.000000      0.000000   \n",
              "75%        0.000000      0.000000      0.000000      0.000000   \n",
              "max        2.000000     55.000000     57.000000      4.000000   \n",
              "\n",
              "       attack_under_10      attack_10  \n",
              "count      54912.000000  54912.000000  \n",
              "mean           0.000164      0.007558  \n",
              "std            0.012801      0.101335  \n",
              "min            0.000000      0.000000  \n",
              "25%            0.000000      0.000000  \n",
              "50%            0.000000      0.000000  \n",
              "75%            0.000000      0.000000  \n",
              "max            1.000000      7.000000  \n",
              "\n",
              "[8 rows x 22 columns]"
            ]
          },
          "metadata": {
            "tags": []
          },
          "execution_count": 36
        }
      ]
    },
    {
      "cell_type": "code",
      "metadata": {
        "id": "fundamental-soviet"
      },
      "source": [
        "#20대~\n",
        "type_of_accident = counting_by(type_of_accident, acc_hist, '가해운전자 연령대', '20대','attack_20')\n",
        "type_of_accident = counting_by(type_of_accident, acc_hist, '가해운전자 연령대', '30대','attack_30')\n",
        "type_of_accident = counting_by(type_of_accident, acc_hist, '가해운전자 연령대', '40대','attack_40')\n",
        "type_of_accident = counting_by(type_of_accident, acc_hist, '가해운전자 연령대', '50대','attack_50')\n",
        "type_of_accident = counting_by(type_of_accident, acc_hist, '가해운전자 연령대', '60대','attack_60')\n",
        "type_of_accident = counting_by(type_of_accident, acc_hist, '가해운전자 연령대', '70대','attack_70')\n",
        "type_of_accident = counting_by(type_of_accident, acc_hist, '가해운전자 연령대', '80대','attack_80')\n",
        "type_of_accident = counting_by(type_of_accident, acc_hist, '가해운전자 연령대', '90대','attack_90')\n",
        "type_of_accident = counting_by(type_of_accident, acc_hist, '가해운전자 연령대', '기타불명','attack_age_noname')\n",
        "type_of_accident = counting_by(type_of_accident, acc_hist, '가해운전자 연령대', '미분류','attack_age_unclassified')"
      ],
      "id": "fundamental-soviet",
      "execution_count": null,
      "outputs": []
    },
    {
      "cell_type": "code",
      "metadata": {
        "id": "naughty-latest",
        "outputId": "cddb1ba7-e696-4ba3-f0db-96d543a2bb35"
      },
      "source": [
        "type_of_accident.describe()"
      ],
      "id": "naughty-latest",
      "execution_count": null,
      "outputs": [
        {
          "output_type": "execute_result",
          "data": {
            "text/html": [
              "<div>\n",
              "<style scoped>\n",
              "    .dataframe tbody tr th:only-of-type {\n",
              "        vertical-align: middle;\n",
              "    }\n",
              "\n",
              "    .dataframe tbody tr th {\n",
              "        vertical-align: top;\n",
              "    }\n",
              "\n",
              "    .dataframe thead th {\n",
              "        text-align: right;\n",
              "    }\n",
              "</style>\n",
              "<table border=\"1\" class=\"dataframe\">\n",
              "  <thead>\n",
              "    <tr style=\"text-align: right;\">\n",
              "      <th></th>\n",
              "      <th>acci_cnt</th>\n",
              "      <th>dead</th>\n",
              "      <th>serious</th>\n",
              "      <th>minor</th>\n",
              "      <th>injury</th>\n",
              "      <th>dead_ctc</th>\n",
              "      <th>serious_ctc</th>\n",
              "      <th>minor_ctc</th>\n",
              "      <th>injury_ctc</th>\n",
              "      <th>dead_cth</th>\n",
              "      <th>...</th>\n",
              "      <th>attack_20</th>\n",
              "      <th>attack_30</th>\n",
              "      <th>attack_40</th>\n",
              "      <th>attack_50</th>\n",
              "      <th>attack_60</th>\n",
              "      <th>attack_70</th>\n",
              "      <th>attack_80</th>\n",
              "      <th>attack_90</th>\n",
              "      <th>attack_age_noname</th>\n",
              "      <th>attack_age_unclassified</th>\n",
              "    </tr>\n",
              "  </thead>\n",
              "  <tbody>\n",
              "    <tr>\n",
              "      <th>count</th>\n",
              "      <td>54912.000000</td>\n",
              "      <td>54912.000000</td>\n",
              "      <td>54912.000000</td>\n",
              "      <td>54912.000000</td>\n",
              "      <td>54912.000000</td>\n",
              "      <td>54912.000000</td>\n",
              "      <td>54912.000000</td>\n",
              "      <td>54912.000000</td>\n",
              "      <td>54912.000000</td>\n",
              "      <td>54912.000000</td>\n",
              "      <td>...</td>\n",
              "      <td>54912.000000</td>\n",
              "      <td>54912.000000</td>\n",
              "      <td>54912.000000</td>\n",
              "      <td>54912.000000</td>\n",
              "      <td>54912.000000</td>\n",
              "      <td>54912.000000</td>\n",
              "      <td>54912.000000</td>\n",
              "      <td>54912.000000</td>\n",
              "      <td>54912.000000</td>\n",
              "      <td>54912.000000</td>\n",
              "    </tr>\n",
              "    <tr>\n",
              "      <th>mean</th>\n",
              "      <td>0.430653</td>\n",
              "      <td>0.004553</td>\n",
              "      <td>0.100506</td>\n",
              "      <td>0.314376</td>\n",
              "      <td>0.011218</td>\n",
              "      <td>0.001512</td>\n",
              "      <td>0.064084</td>\n",
              "      <td>0.259397</td>\n",
              "      <td>0.007375</td>\n",
              "      <td>0.002313</td>\n",
              "      <td>...</td>\n",
              "      <td>0.062209</td>\n",
              "      <td>0.068236</td>\n",
              "      <td>0.082350</td>\n",
              "      <td>0.104768</td>\n",
              "      <td>0.072789</td>\n",
              "      <td>0.021853</td>\n",
              "      <td>0.002914</td>\n",
              "      <td>0.000036</td>\n",
              "      <td>0.000036</td>\n",
              "      <td>0.007740</td>\n",
              "    </tr>\n",
              "    <tr>\n",
              "      <th>std</th>\n",
              "      <td>2.204865</td>\n",
              "      <td>0.070750</td>\n",
              "      <td>0.569548</td>\n",
              "      <td>1.691382</td>\n",
              "      <td>0.117885</td>\n",
              "      <td>0.039776</td>\n",
              "      <td>0.430348</td>\n",
              "      <td>1.453141</td>\n",
              "      <td>0.093886</td>\n",
              "      <td>0.049896</td>\n",
              "      <td>...</td>\n",
              "      <td>0.459174</td>\n",
              "      <td>0.420282</td>\n",
              "      <td>0.476996</td>\n",
              "      <td>0.596351</td>\n",
              "      <td>0.447618</td>\n",
              "      <td>0.190741</td>\n",
              "      <td>0.056216</td>\n",
              "      <td>0.006035</td>\n",
              "      <td>0.006035</td>\n",
              "      <td>0.102926</td>\n",
              "    </tr>\n",
              "    <tr>\n",
              "      <th>min</th>\n",
              "      <td>0.000000</td>\n",
              "      <td>0.000000</td>\n",
              "      <td>0.000000</td>\n",
              "      <td>0.000000</td>\n",
              "      <td>0.000000</td>\n",
              "      <td>0.000000</td>\n",
              "      <td>0.000000</td>\n",
              "      <td>0.000000</td>\n",
              "      <td>0.000000</td>\n",
              "      <td>0.000000</td>\n",
              "      <td>...</td>\n",
              "      <td>0.000000</td>\n",
              "      <td>0.000000</td>\n",
              "      <td>0.000000</td>\n",
              "      <td>0.000000</td>\n",
              "      <td>0.000000</td>\n",
              "      <td>0.000000</td>\n",
              "      <td>0.000000</td>\n",
              "      <td>0.000000</td>\n",
              "      <td>0.000000</td>\n",
              "      <td>0.000000</td>\n",
              "    </tr>\n",
              "    <tr>\n",
              "      <th>25%</th>\n",
              "      <td>0.000000</td>\n",
              "      <td>0.000000</td>\n",
              "      <td>0.000000</td>\n",
              "      <td>0.000000</td>\n",
              "      <td>0.000000</td>\n",
              "      <td>0.000000</td>\n",
              "      <td>0.000000</td>\n",
              "      <td>0.000000</td>\n",
              "      <td>0.000000</td>\n",
              "      <td>0.000000</td>\n",
              "      <td>...</td>\n",
              "      <td>0.000000</td>\n",
              "      <td>0.000000</td>\n",
              "      <td>0.000000</td>\n",
              "      <td>0.000000</td>\n",
              "      <td>0.000000</td>\n",
              "      <td>0.000000</td>\n",
              "      <td>0.000000</td>\n",
              "      <td>0.000000</td>\n",
              "      <td>0.000000</td>\n",
              "      <td>0.000000</td>\n",
              "    </tr>\n",
              "    <tr>\n",
              "      <th>50%</th>\n",
              "      <td>0.000000</td>\n",
              "      <td>0.000000</td>\n",
              "      <td>0.000000</td>\n",
              "      <td>0.000000</td>\n",
              "      <td>0.000000</td>\n",
              "      <td>0.000000</td>\n",
              "      <td>0.000000</td>\n",
              "      <td>0.000000</td>\n",
              "      <td>0.000000</td>\n",
              "      <td>0.000000</td>\n",
              "      <td>...</td>\n",
              "      <td>0.000000</td>\n",
              "      <td>0.000000</td>\n",
              "      <td>0.000000</td>\n",
              "      <td>0.000000</td>\n",
              "      <td>0.000000</td>\n",
              "      <td>0.000000</td>\n",
              "      <td>0.000000</td>\n",
              "      <td>0.000000</td>\n",
              "      <td>0.000000</td>\n",
              "      <td>0.000000</td>\n",
              "    </tr>\n",
              "    <tr>\n",
              "      <th>75%</th>\n",
              "      <td>0.000000</td>\n",
              "      <td>0.000000</td>\n",
              "      <td>0.000000</td>\n",
              "      <td>0.000000</td>\n",
              "      <td>0.000000</td>\n",
              "      <td>0.000000</td>\n",
              "      <td>0.000000</td>\n",
              "      <td>0.000000</td>\n",
              "      <td>0.000000</td>\n",
              "      <td>0.000000</td>\n",
              "      <td>...</td>\n",
              "      <td>0.000000</td>\n",
              "      <td>0.000000</td>\n",
              "      <td>0.000000</td>\n",
              "      <td>0.000000</td>\n",
              "      <td>0.000000</td>\n",
              "      <td>0.000000</td>\n",
              "      <td>0.000000</td>\n",
              "      <td>0.000000</td>\n",
              "      <td>0.000000</td>\n",
              "      <td>0.000000</td>\n",
              "    </tr>\n",
              "    <tr>\n",
              "      <th>max</th>\n",
              "      <td>63.000000</td>\n",
              "      <td>2.000000</td>\n",
              "      <td>15.000000</td>\n",
              "      <td>57.000000</td>\n",
              "      <td>3.000000</td>\n",
              "      <td>2.000000</td>\n",
              "      <td>15.000000</td>\n",
              "      <td>48.000000</td>\n",
              "      <td>3.000000</td>\n",
              "      <td>2.000000</td>\n",
              "      <td>...</td>\n",
              "      <td>28.000000</td>\n",
              "      <td>12.000000</td>\n",
              "      <td>14.000000</td>\n",
              "      <td>17.000000</td>\n",
              "      <td>14.000000</td>\n",
              "      <td>6.000000</td>\n",
              "      <td>2.000000</td>\n",
              "      <td>1.000000</td>\n",
              "      <td>1.000000</td>\n",
              "      <td>5.000000</td>\n",
              "    </tr>\n",
              "  </tbody>\n",
              "</table>\n",
              "<p>8 rows × 32 columns</p>\n",
              "</div>"
            ],
            "text/plain": [
              "           acci_cnt          dead       serious         minor        injury  \\\n",
              "count  54912.000000  54912.000000  54912.000000  54912.000000  54912.000000   \n",
              "mean       0.430653      0.004553      0.100506      0.314376      0.011218   \n",
              "std        2.204865      0.070750      0.569548      1.691382      0.117885   \n",
              "min        0.000000      0.000000      0.000000      0.000000      0.000000   \n",
              "25%        0.000000      0.000000      0.000000      0.000000      0.000000   \n",
              "50%        0.000000      0.000000      0.000000      0.000000      0.000000   \n",
              "75%        0.000000      0.000000      0.000000      0.000000      0.000000   \n",
              "max       63.000000      2.000000     15.000000     57.000000      3.000000   \n",
              "\n",
              "           dead_ctc   serious_ctc     minor_ctc    injury_ctc      dead_cth  \\\n",
              "count  54912.000000  54912.000000  54912.000000  54912.000000  54912.000000   \n",
              "mean       0.001512      0.064084      0.259397      0.007375      0.002313   \n",
              "std        0.039776      0.430348      1.453141      0.093886      0.049896   \n",
              "min        0.000000      0.000000      0.000000      0.000000      0.000000   \n",
              "25%        0.000000      0.000000      0.000000      0.000000      0.000000   \n",
              "50%        0.000000      0.000000      0.000000      0.000000      0.000000   \n",
              "75%        0.000000      0.000000      0.000000      0.000000      0.000000   \n",
              "max        2.000000     15.000000     48.000000      3.000000      2.000000   \n",
              "\n",
              "       ...     attack_20     attack_30     attack_40     attack_50  \\\n",
              "count  ...  54912.000000  54912.000000  54912.000000  54912.000000   \n",
              "mean   ...      0.062209      0.068236      0.082350      0.104768   \n",
              "std    ...      0.459174      0.420282      0.476996      0.596351   \n",
              "min    ...      0.000000      0.000000      0.000000      0.000000   \n",
              "25%    ...      0.000000      0.000000      0.000000      0.000000   \n",
              "50%    ...      0.000000      0.000000      0.000000      0.000000   \n",
              "75%    ...      0.000000      0.000000      0.000000      0.000000   \n",
              "max    ...     28.000000     12.000000     14.000000     17.000000   \n",
              "\n",
              "          attack_60     attack_70     attack_80     attack_90  \\\n",
              "count  54912.000000  54912.000000  54912.000000  54912.000000   \n",
              "mean       0.072789      0.021853      0.002914      0.000036   \n",
              "std        0.447618      0.190741      0.056216      0.006035   \n",
              "min        0.000000      0.000000      0.000000      0.000000   \n",
              "25%        0.000000      0.000000      0.000000      0.000000   \n",
              "50%        0.000000      0.000000      0.000000      0.000000   \n",
              "75%        0.000000      0.000000      0.000000      0.000000   \n",
              "max       14.000000      6.000000      2.000000      1.000000   \n",
              "\n",
              "       attack_age_noname  attack_age_unclassified  \n",
              "count       54912.000000             54912.000000  \n",
              "mean            0.000036                 0.007740  \n",
              "std             0.006035                 0.102926  \n",
              "min             0.000000                 0.000000  \n",
              "25%             0.000000                 0.000000  \n",
              "50%             0.000000                 0.000000  \n",
              "75%             0.000000                 0.000000  \n",
              "max             1.000000                 5.000000  \n",
              "\n",
              "[8 rows x 32 columns]"
            ]
          },
          "metadata": {
            "tags": []
          },
          "execution_count": 38
        }
      ]
    },
    {
      "cell_type": "markdown",
      "metadata": {
        "id": "refined-soldier"
      },
      "source": [
        "### 3-2. 피해자 연령대"
      ],
      "id": "refined-soldier"
    },
    {
      "cell_type": "code",
      "metadata": {
        "id": "duplicate-prayer",
        "outputId": "ed23c600-e445-4846-edbc-8ec8779f33d2"
      },
      "source": [
        "acc_hist['피해운전자 연령대'].unique()"
      ],
      "id": "duplicate-prayer",
      "execution_count": null,
      "outputs": [
        {
          "output_type": "execute_result",
          "data": {
            "text/plain": [
              "array(['60대', '30대', '10대', '40대', '10대미만', '50대', '70대', nan, '20대',\n",
              "       '미분류', '80대', '90대'], dtype=object)"
            ]
          },
          "metadata": {
            "tags": []
          },
          "execution_count": 39
        }
      ]
    },
    {
      "cell_type": "code",
      "metadata": {
        "id": "marine-march"
      },
      "source": [
        "acc_hist['피해운전자 연령대'].fillna('기타불명', inplace=True)"
      ],
      "id": "marine-march",
      "execution_count": null,
      "outputs": []
    },
    {
      "cell_type": "code",
      "metadata": {
        "id": "precious-administration"
      },
      "source": [
        "type_of_accident = counting_by(type_of_accident, acc_hist, '피해운전자 연령대', '10대미만','victim_under_10')\n",
        "type_of_accident = counting_by(type_of_accident, acc_hist, '피해운전자 연령대', '10대','victim_10')\n",
        "type_of_accident = counting_by(type_of_accident, acc_hist, '피해운전자 연령대', '20대','victim_20')\n",
        "type_of_accident = counting_by(type_of_accident, acc_hist, '피해운전자 연령대', '30대','victim_30')\n",
        "type_of_accident = counting_by(type_of_accident, acc_hist, '피해운전자 연령대', '40대','victim_40')\n",
        "type_of_accident = counting_by(type_of_accident, acc_hist, '피해운전자 연령대', '50대','victim_50')\n",
        "type_of_accident = counting_by(type_of_accident, acc_hist, '피해운전자 연령대', '60대','victim_60')\n",
        "type_of_accident = counting_by(type_of_accident, acc_hist, '피해운전자 연령대', '70대','victim_70')\n",
        "type_of_accident = counting_by(type_of_accident, acc_hist, '피해운전자 연령대', '80대','victim_80')\n",
        "type_of_accident = counting_by(type_of_accident, acc_hist, '피해운전자 연령대', '90대','victim_90')\n",
        "type_of_accident = counting_by(type_of_accident, acc_hist, '피해운전자 연령대', '기타불명','victim_age_noname')\n",
        "type_of_accident = counting_by(type_of_accident, acc_hist, '피해운전자 연령대', '미분류','victim_age_unclassified')"
      ],
      "id": "precious-administration",
      "execution_count": null,
      "outputs": []
    },
    {
      "cell_type": "code",
      "metadata": {
        "id": "crude-thinking",
        "outputId": "827bd44a-0776-4034-c5c4-b418fa4e7b45"
      },
      "source": [
        "type_of_accident.describe()"
      ],
      "id": "crude-thinking",
      "execution_count": null,
      "outputs": [
        {
          "output_type": "execute_result",
          "data": {
            "text/html": [
              "<div>\n",
              "<style scoped>\n",
              "    .dataframe tbody tr th:only-of-type {\n",
              "        vertical-align: middle;\n",
              "    }\n",
              "\n",
              "    .dataframe tbody tr th {\n",
              "        vertical-align: top;\n",
              "    }\n",
              "\n",
              "    .dataframe thead th {\n",
              "        text-align: right;\n",
              "    }\n",
              "</style>\n",
              "<table border=\"1\" class=\"dataframe\">\n",
              "  <thead>\n",
              "    <tr style=\"text-align: right;\">\n",
              "      <th></th>\n",
              "      <th>acci_cnt</th>\n",
              "      <th>dead</th>\n",
              "      <th>serious</th>\n",
              "      <th>minor</th>\n",
              "      <th>injury</th>\n",
              "      <th>dead_ctc</th>\n",
              "      <th>serious_ctc</th>\n",
              "      <th>minor_ctc</th>\n",
              "      <th>injury_ctc</th>\n",
              "      <th>dead_cth</th>\n",
              "      <th>...</th>\n",
              "      <th>victim_20</th>\n",
              "      <th>victim_30</th>\n",
              "      <th>victim_40</th>\n",
              "      <th>victim_50</th>\n",
              "      <th>victim_60</th>\n",
              "      <th>victim_70</th>\n",
              "      <th>victim_80</th>\n",
              "      <th>victim_90</th>\n",
              "      <th>victim_age_noname</th>\n",
              "      <th>victim_age_unclassified</th>\n",
              "    </tr>\n",
              "  </thead>\n",
              "  <tbody>\n",
              "    <tr>\n",
              "      <th>count</th>\n",
              "      <td>54912.000000</td>\n",
              "      <td>54912.000000</td>\n",
              "      <td>54912.000000</td>\n",
              "      <td>54912.000000</td>\n",
              "      <td>54912.000000</td>\n",
              "      <td>54912.000000</td>\n",
              "      <td>54912.000000</td>\n",
              "      <td>54912.000000</td>\n",
              "      <td>54912.000000</td>\n",
              "      <td>54912.000000</td>\n",
              "      <td>...</td>\n",
              "      <td>54912.000000</td>\n",
              "      <td>54912.000000</td>\n",
              "      <td>54912.000000</td>\n",
              "      <td>54912.000000</td>\n",
              "      <td>54912.000000</td>\n",
              "      <td>54912.000000</td>\n",
              "      <td>54912.000000</td>\n",
              "      <td>54912.000000</td>\n",
              "      <td>54912.000000</td>\n",
              "      <td>54912.000000</td>\n",
              "    </tr>\n",
              "    <tr>\n",
              "      <th>mean</th>\n",
              "      <td>0.430653</td>\n",
              "      <td>0.004553</td>\n",
              "      <td>0.100506</td>\n",
              "      <td>0.314376</td>\n",
              "      <td>0.011218</td>\n",
              "      <td>0.001512</td>\n",
              "      <td>0.064084</td>\n",
              "      <td>0.259397</td>\n",
              "      <td>0.007375</td>\n",
              "      <td>0.002313</td>\n",
              "      <td>...</td>\n",
              "      <td>0.067362</td>\n",
              "      <td>0.076686</td>\n",
              "      <td>0.082459</td>\n",
              "      <td>0.086721</td>\n",
              "      <td>0.056199</td>\n",
              "      <td>0.021890</td>\n",
              "      <td>0.005445</td>\n",
              "      <td>0.000364</td>\n",
              "      <td>0.012165</td>\n",
              "      <td>0.001384</td>\n",
              "    </tr>\n",
              "    <tr>\n",
              "      <th>std</th>\n",
              "      <td>2.204865</td>\n",
              "      <td>0.070750</td>\n",
              "      <td>0.569548</td>\n",
              "      <td>1.691382</td>\n",
              "      <td>0.117885</td>\n",
              "      <td>0.039776</td>\n",
              "      <td>0.430348</td>\n",
              "      <td>1.453141</td>\n",
              "      <td>0.093886</td>\n",
              "      <td>0.049896</td>\n",
              "      <td>...</td>\n",
              "      <td>0.546433</td>\n",
              "      <td>0.479707</td>\n",
              "      <td>0.487625</td>\n",
              "      <td>0.531964</td>\n",
              "      <td>0.373801</td>\n",
              "      <td>0.176453</td>\n",
              "      <td>0.076977</td>\n",
              "      <td>0.019081</td>\n",
              "      <td>0.125428</td>\n",
              "      <td>0.038144</td>\n",
              "    </tr>\n",
              "    <tr>\n",
              "      <th>min</th>\n",
              "      <td>0.000000</td>\n",
              "      <td>0.000000</td>\n",
              "      <td>0.000000</td>\n",
              "      <td>0.000000</td>\n",
              "      <td>0.000000</td>\n",
              "      <td>0.000000</td>\n",
              "      <td>0.000000</td>\n",
              "      <td>0.000000</td>\n",
              "      <td>0.000000</td>\n",
              "      <td>0.000000</td>\n",
              "      <td>...</td>\n",
              "      <td>0.000000</td>\n",
              "      <td>0.000000</td>\n",
              "      <td>0.000000</td>\n",
              "      <td>0.000000</td>\n",
              "      <td>0.000000</td>\n",
              "      <td>0.000000</td>\n",
              "      <td>0.000000</td>\n",
              "      <td>0.000000</td>\n",
              "      <td>0.000000</td>\n",
              "      <td>0.000000</td>\n",
              "    </tr>\n",
              "    <tr>\n",
              "      <th>25%</th>\n",
              "      <td>0.000000</td>\n",
              "      <td>0.000000</td>\n",
              "      <td>0.000000</td>\n",
              "      <td>0.000000</td>\n",
              "      <td>0.000000</td>\n",
              "      <td>0.000000</td>\n",
              "      <td>0.000000</td>\n",
              "      <td>0.000000</td>\n",
              "      <td>0.000000</td>\n",
              "      <td>0.000000</td>\n",
              "      <td>...</td>\n",
              "      <td>0.000000</td>\n",
              "      <td>0.000000</td>\n",
              "      <td>0.000000</td>\n",
              "      <td>0.000000</td>\n",
              "      <td>0.000000</td>\n",
              "      <td>0.000000</td>\n",
              "      <td>0.000000</td>\n",
              "      <td>0.000000</td>\n",
              "      <td>0.000000</td>\n",
              "      <td>0.000000</td>\n",
              "    </tr>\n",
              "    <tr>\n",
              "      <th>50%</th>\n",
              "      <td>0.000000</td>\n",
              "      <td>0.000000</td>\n",
              "      <td>0.000000</td>\n",
              "      <td>0.000000</td>\n",
              "      <td>0.000000</td>\n",
              "      <td>0.000000</td>\n",
              "      <td>0.000000</td>\n",
              "      <td>0.000000</td>\n",
              "      <td>0.000000</td>\n",
              "      <td>0.000000</td>\n",
              "      <td>...</td>\n",
              "      <td>0.000000</td>\n",
              "      <td>0.000000</td>\n",
              "      <td>0.000000</td>\n",
              "      <td>0.000000</td>\n",
              "      <td>0.000000</td>\n",
              "      <td>0.000000</td>\n",
              "      <td>0.000000</td>\n",
              "      <td>0.000000</td>\n",
              "      <td>0.000000</td>\n",
              "      <td>0.000000</td>\n",
              "    </tr>\n",
              "    <tr>\n",
              "      <th>75%</th>\n",
              "      <td>0.000000</td>\n",
              "      <td>0.000000</td>\n",
              "      <td>0.000000</td>\n",
              "      <td>0.000000</td>\n",
              "      <td>0.000000</td>\n",
              "      <td>0.000000</td>\n",
              "      <td>0.000000</td>\n",
              "      <td>0.000000</td>\n",
              "      <td>0.000000</td>\n",
              "      <td>0.000000</td>\n",
              "      <td>...</td>\n",
              "      <td>0.000000</td>\n",
              "      <td>0.000000</td>\n",
              "      <td>0.000000</td>\n",
              "      <td>0.000000</td>\n",
              "      <td>0.000000</td>\n",
              "      <td>0.000000</td>\n",
              "      <td>0.000000</td>\n",
              "      <td>0.000000</td>\n",
              "      <td>0.000000</td>\n",
              "      <td>0.000000</td>\n",
              "    </tr>\n",
              "    <tr>\n",
              "      <th>max</th>\n",
              "      <td>63.000000</td>\n",
              "      <td>2.000000</td>\n",
              "      <td>15.000000</td>\n",
              "      <td>57.000000</td>\n",
              "      <td>3.000000</td>\n",
              "      <td>2.000000</td>\n",
              "      <td>15.000000</td>\n",
              "      <td>48.000000</td>\n",
              "      <td>3.000000</td>\n",
              "      <td>2.000000</td>\n",
              "      <td>...</td>\n",
              "      <td>45.000000</td>\n",
              "      <td>17.000000</td>\n",
              "      <td>14.000000</td>\n",
              "      <td>20.000000</td>\n",
              "      <td>11.000000</td>\n",
              "      <td>4.000000</td>\n",
              "      <td>3.000000</td>\n",
              "      <td>1.000000</td>\n",
              "      <td>4.000000</td>\n",
              "      <td>2.000000</td>\n",
              "    </tr>\n",
              "  </tbody>\n",
              "</table>\n",
              "<p>8 rows × 44 columns</p>\n",
              "</div>"
            ],
            "text/plain": [
              "           acci_cnt          dead       serious         minor        injury  \\\n",
              "count  54912.000000  54912.000000  54912.000000  54912.000000  54912.000000   \n",
              "mean       0.430653      0.004553      0.100506      0.314376      0.011218   \n",
              "std        2.204865      0.070750      0.569548      1.691382      0.117885   \n",
              "min        0.000000      0.000000      0.000000      0.000000      0.000000   \n",
              "25%        0.000000      0.000000      0.000000      0.000000      0.000000   \n",
              "50%        0.000000      0.000000      0.000000      0.000000      0.000000   \n",
              "75%        0.000000      0.000000      0.000000      0.000000      0.000000   \n",
              "max       63.000000      2.000000     15.000000     57.000000      3.000000   \n",
              "\n",
              "           dead_ctc   serious_ctc     minor_ctc    injury_ctc      dead_cth  \\\n",
              "count  54912.000000  54912.000000  54912.000000  54912.000000  54912.000000   \n",
              "mean       0.001512      0.064084      0.259397      0.007375      0.002313   \n",
              "std        0.039776      0.430348      1.453141      0.093886      0.049896   \n",
              "min        0.000000      0.000000      0.000000      0.000000      0.000000   \n",
              "25%        0.000000      0.000000      0.000000      0.000000      0.000000   \n",
              "50%        0.000000      0.000000      0.000000      0.000000      0.000000   \n",
              "75%        0.000000      0.000000      0.000000      0.000000      0.000000   \n",
              "max        2.000000     15.000000     48.000000      3.000000      2.000000   \n",
              "\n",
              "       ...     victim_20     victim_30     victim_40     victim_50  \\\n",
              "count  ...  54912.000000  54912.000000  54912.000000  54912.000000   \n",
              "mean   ...      0.067362      0.076686      0.082459      0.086721   \n",
              "std    ...      0.546433      0.479707      0.487625      0.531964   \n",
              "min    ...      0.000000      0.000000      0.000000      0.000000   \n",
              "25%    ...      0.000000      0.000000      0.000000      0.000000   \n",
              "50%    ...      0.000000      0.000000      0.000000      0.000000   \n",
              "75%    ...      0.000000      0.000000      0.000000      0.000000   \n",
              "max    ...     45.000000     17.000000     14.000000     20.000000   \n",
              "\n",
              "          victim_60     victim_70     victim_80     victim_90  \\\n",
              "count  54912.000000  54912.000000  54912.000000  54912.000000   \n",
              "mean       0.056199      0.021890      0.005445      0.000364   \n",
              "std        0.373801      0.176453      0.076977      0.019081   \n",
              "min        0.000000      0.000000      0.000000      0.000000   \n",
              "25%        0.000000      0.000000      0.000000      0.000000   \n",
              "50%        0.000000      0.000000      0.000000      0.000000   \n",
              "75%        0.000000      0.000000      0.000000      0.000000   \n",
              "max       11.000000      4.000000      3.000000      1.000000   \n",
              "\n",
              "       victim_age_noname  victim_age_unclassified  \n",
              "count       54912.000000             54912.000000  \n",
              "mean            0.012165                 0.001384  \n",
              "std             0.125428                 0.038144  \n",
              "min             0.000000                 0.000000  \n",
              "25%             0.000000                 0.000000  \n",
              "50%             0.000000                 0.000000  \n",
              "75%             0.000000                 0.000000  \n",
              "max             4.000000                 2.000000  \n",
              "\n",
              "[8 rows x 44 columns]"
            ]
          },
          "metadata": {
            "tags": []
          },
          "execution_count": 42
        }
      ]
    },
    {
      "cell_type": "markdown",
      "metadata": {
        "id": "empty-stewart"
      },
      "source": [
        "## > 통합 및 저장"
      ],
      "id": "empty-stewart"
    },
    {
      "cell_type": "code",
      "metadata": {
        "id": "cathedral-ancient"
      },
      "source": [
        "type_of_accident.to_file('data_pre/type_of_accident.geojson', driver='GeoJSON')"
      ],
      "id": "cathedral-ancient",
      "execution_count": null,
      "outputs": []
    },
    {
      "cell_type": "markdown",
      "metadata": {
        "id": "standing-failure"
      },
      "source": [
        "-----------------\n",
        "\n",
        "# 도로관련 데이터 처리\n",
        "\n",
        "    0. 대전지적도와 상세도로망 데이터 병합\n",
        "    1. 교통량 및 도로정보(전일)\n",
        "    2. 혼잡빈도강도\n",
        "    3. 혼잡시간강도\n",
        "    4. 교차로\n",
        "    \n",
        "    > 통합 및 저장\n",
        "    \n",
        "----------------------"
      ],
      "id": "standing-failure"
    },
    {
      "cell_type": "markdown",
      "metadata": {
        "id": "featured-paradise"
      },
      "source": [
        "## 0. 대전지적도와 상세도로망 데이터 병합"
      ],
      "id": "featured-paradise"
    },
    {
      "cell_type": "code",
      "metadata": {
        "id": "concerned-ferry",
        "outputId": "1befceb9-741d-437d-ac34-2353c584d909"
      },
      "source": [
        "daejeon['road'] = 0\n",
        "\n",
        "for i in tqdm(range(len(daejeon))):\n",
        "    daejeon.loc[i, 'road'] = int(daejeon.loc[i, 'JIBUN'].endswith('도'))"
      ],
      "id": "concerned-ferry",
      "execution_count": null,
      "outputs": [
        {
          "output_type": "stream",
          "text": [
            "100%|██████████| 292543/292543 [06:09<00:00, 791.96it/s]\n"
          ],
          "name": "stderr"
        }
      ]
    },
    {
      "cell_type": "code",
      "metadata": {
        "id": "attended-tackle"
      },
      "source": [
        "daejeon_road = daejeon[daejeon['road'] == 1]\n",
        "\n",
        "daejeon_road.to_file('daejeon_road.geojson', driver='GeoJSON')"
      ],
      "id": "attended-tackle",
      "execution_count": null,
      "outputs": []
    },
    {
      "cell_type": "code",
      "metadata": {
        "id": "level-journey"
      },
      "source": [
        "daejeon_road = gpd.read_file('daejeon_road.geojson')"
      ],
      "id": "level-journey",
      "execution_count": null,
      "outputs": []
    },
    {
      "cell_type": "markdown",
      "metadata": {
        "id": "transsexual-combining"
      },
      "source": [
        "## 1. 교통량 및 도로정보"
      ],
      "id": "transsexual-combining"
    },
    {
      "cell_type": "markdown",
      "metadata": {
        "id": "royal-cameroon"
      },
      "source": [
        "#### 1-1. 교통량"
      ],
      "id": "royal-cameroon"
    },
    {
      "cell_type": "code",
      "metadata": {
        "id": "organized-annotation"
      },
      "source": [
        "df_road = traffic_road.copy()\n",
        "df_amt = traffic_amt.copy()\n",
        "grid = acc_cnt.copy()"
      ],
      "id": "organized-annotation",
      "execution_count": null,
      "outputs": []
    },
    {
      "cell_type": "code",
      "metadata": {
        "id": "treated-breath"
      },
      "source": [
        "del df_road['road_name']\n",
        "del df_road['road_no']\n",
        "del df_road['facil_name']\n",
        "del df_road['up_lanes']\n",
        "del df_road['dw_lanes']\n",
        "del df_road['up_its_id']\n",
        "del df_road['dw_its_id']"
      ],
      "id": "treated-breath",
      "execution_count": null,
      "outputs": []
    },
    {
      "cell_type": "code",
      "metadata": {
        "id": "average-cyprus"
      },
      "source": [
        "del df_amt['도로명']\n",
        "del df_amt['시도명']\n",
        "del df_amt['시군구명']\n",
        "del df_amt['읍면동명']"
      ],
      "id": "average-cyprus",
      "execution_count": null,
      "outputs": []
    },
    {
      "cell_type": "code",
      "metadata": {
        "id": "detected-canadian"
      },
      "source": [
        "df_amt = df_amt[df_amt['시간적범위'] == 'fulltime']\n",
        "\n",
        "df_amt['상세도로망_LinkID'] = df_amt['상세도로망_LinkID'].astype(str)\n",
        "\n",
        "df_amt['link_id'] = df_amt['상세도로망_LinkID'].str[0:9]"
      ],
      "id": "detected-canadian",
      "execution_count": null,
      "outputs": []
    },
    {
      "cell_type": "code",
      "metadata": {
        "id": "perfect-network"
      },
      "source": [
        "traffic = pd.merge(df_amt, df_road, on='link_id', how='left')\n",
        "\n",
        "traffic = gpd.GeoDataFrame(traffic)"
      ],
      "id": "perfect-network",
      "execution_count": null,
      "outputs": []
    },
    {
      "cell_type": "code",
      "metadata": {
        "scrolled": true,
        "id": "outer-theology"
      },
      "source": [
        "grid_traffic = gpd.sjoin(traffic, grid, how='left', op='intersects')"
      ],
      "id": "outer-theology",
      "execution_count": null,
      "outputs": []
    },
    {
      "cell_type": "code",
      "metadata": {
        "id": "irish-brother"
      },
      "source": [
        "grid_traffic = grid_traffic.reset_index()\n",
        "\n",
        "del grid_traffic['index']"
      ],
      "id": "irish-brother",
      "execution_count": null,
      "outputs": []
    },
    {
      "cell_type": "code",
      "metadata": {
        "id": "democratic-modeling"
      },
      "source": [
        "grid_traffic['max_speed'] = grid_traffic['max_speed'].astype(int)\n",
        "grid_traffic['oneway'] = grid_traffic['oneway'].astype(int)\n",
        "grid_traffic['width'] = grid_traffic['width'].astype(int)\n",
        "grid_traffic['car_lane'] = grid_traffic['car_lane'].astype(int)\n",
        "grid_traffic['num_cross'] = grid_traffic['num_cross'].astype(int)\n",
        "grid_traffic['barrier'] = grid_traffic['barrier'].astype(int)"
      ],
      "id": "democratic-modeling",
      "execution_count": null,
      "outputs": []
    },
    {
      "cell_type": "code",
      "metadata": {
        "id": "institutional-adolescent"
      },
      "source": [
        "grid_traffic['speed_0'] = 0\n",
        "grid_traffic['speed_30'] = 0\n",
        "grid_traffic['speed_40'] = 0\n",
        "grid_traffic['speed_50'] = 0\n",
        "grid_traffic['speed_60'] = 0\n",
        "grid_traffic['speed_70'] = 0\n",
        "grid_traffic['speed_80'] = 0\n",
        "grid_traffic['speed_90'] = 0\n",
        "grid_traffic['speed_100'] = 0\n",
        "grid_traffic['speed_110'] = 0"
      ],
      "id": "institutional-adolescent",
      "execution_count": null,
      "outputs": []
    },
    {
      "cell_type": "code",
      "metadata": {
        "id": "comparable-nicholas"
      },
      "source": [
        "for i in range(len(grid_traffic)):\n",
        "    a = grid_traffic.loc[i, 'max_speed']\n",
        "    grid_traffic.loc[i, 'speed_%d'  %a] = 1"
      ],
      "id": "comparable-nicholas",
      "execution_count": null,
      "outputs": []
    },
    {
      "cell_type": "code",
      "metadata": {
        "id": "large-checkout"
      },
      "source": [
        "grid_traffic['express'] = 0\n",
        "grid_traffic['general'] = 0"
      ],
      "id": "large-checkout",
      "execution_count": null,
      "outputs": []
    },
    {
      "cell_type": "code",
      "metadata": {
        "id": "widespread-massage"
      },
      "source": [
        "for i in range(len(grid_traffic)):\n",
        "    a = grid_traffic.loc[i, '도로등급']\n",
        "    if a == 101:\n",
        "        grid_traffic.loc[i, 'express'] = 1\n",
        "    elif a == 102:\n",
        "        grid_traffic.loc[i, 'express'] = 1\n",
        "    elif a == 108:\n",
        "        grid_traffic.loc[i, 'express'] = 1\n",
        "    else:\n",
        "        grid_traffic.loc[i, 'general'] = 1"
      ],
      "id": "widespread-massage",
      "execution_count": null,
      "outputs": []
    },
    {
      "cell_type": "code",
      "metadata": {
        "id": "close-schema"
      },
      "source": [
        "grid_traffic['width_1'] = 0\n",
        "grid_traffic['width_2'] = 0\n",
        "grid_traffic['width_3'] = 0\n",
        "grid_traffic['width_4'] = 0\n",
        "grid_traffic['width_5'] = 0"
      ],
      "id": "close-schema",
      "execution_count": null,
      "outputs": []
    },
    {
      "cell_type": "code",
      "metadata": {
        "id": "described-failing"
      },
      "source": [
        "for i in range(len(grid_traffic)):\n",
        "    a = grid_traffic.loc[i, 'width']\n",
        "    grid_traffic.loc[i, 'width_%d' %a] = 1"
      ],
      "id": "described-failing",
      "execution_count": null,
      "outputs": []
    },
    {
      "cell_type": "code",
      "metadata": {
        "id": "dependent-disney"
      },
      "source": [
        "#barrier 변수 범주화\n",
        "\n",
        "for i in range(len(grid_traffic)):\n",
        "    a = grid_traffic.loc[i, 'barrier']\n",
        "    if a != 0:\n",
        "        grid_traffic.loc[i, 'barrier'] = 1\n",
        "    else:\n",
        "        grid_traffic.loc[i, 'barrier'] = 0"
      ],
      "id": "dependent-disney",
      "execution_count": null,
      "outputs": []
    },
    {
      "cell_type": "code",
      "metadata": {
        "id": "detailed-vancouver"
      },
      "source": [
        "del grid_traffic['상세도로망_LinkID']\n",
        "del grid_traffic['도로등급']\n",
        "del grid_traffic['링크길이']\n",
        "del grid_traffic['시간적범위']\n",
        "del grid_traffic['link_id']\n",
        "del grid_traffic['max_speed']\n",
        "del grid_traffic['road_rank']\n",
        "del grid_traffic['link_type']\n",
        "del grid_traffic['road_type']\n",
        "del grid_traffic['length']\n",
        "del grid_traffic['geometry']\n",
        "del grid_traffic['index_right']\n",
        "del grid_traffic['acci_cnt']\n",
        "del grid_traffic['width']\n",
        "del grid_traffic['num_cross']"
      ],
      "id": "detailed-vancouver",
      "execution_count": null,
      "outputs": []
    },
    {
      "cell_type": "code",
      "metadata": {
        "id": "descending-appliance"
      },
      "source": [
        "traffic_sum = grid_traffic.groupby('gid', as_index=False).sum()\n",
        "\n",
        "traffic_sum = traffic_sum.rename(columns = {'전체_추정교통량':'traffic_total_sum_inter', '승용차_추정교통량':'traffic_small_sum_inter', '버스_추정교통량':'traffic_bus_sum_inter', '화물차_추정교통량':'traffic_big_sum_inter'})"
      ],
      "id": "descending-appliance",
      "execution_count": null,
      "outputs": []
    },
    {
      "cell_type": "code",
      "metadata": {
        "id": "finished-homework"
      },
      "source": [
        "temp_traffic = pd.merge(acc_cnt, traffic_sum, on='gid', how='left')"
      ],
      "id": "finished-homework",
      "execution_count": null,
      "outputs": []
    },
    {
      "cell_type": "code",
      "metadata": {
        "id": "comfortable-peace"
      },
      "source": [
        "null_grid_traffic = temp_traffic[temp_traffic['traffic_total_sum_inter'].isnull() == True][['gid', 'geometry']]"
      ],
      "id": "comfortable-peace",
      "execution_count": null,
      "outputs": []
    },
    {
      "cell_type": "markdown",
      "metadata": {
        "id": "constitutional-muslim"
      },
      "source": [
        "#### 1-2. traffic 결측치 대체"
      ],
      "id": "constitutional-muslim"
    },
    {
      "cell_type": "code",
      "metadata": {
        "id": "referenced-qatar"
      },
      "source": [
        "df_road = traffic_road.copy()\n",
        "df_amt = traffic_amt.copy()"
      ],
      "id": "referenced-qatar",
      "execution_count": null,
      "outputs": []
    },
    {
      "cell_type": "code",
      "metadata": {
        "id": "strong-anderson"
      },
      "source": [
        "del df_road['road_name']\n",
        "del df_road['road_no']\n",
        "del df_road['facil_name']\n",
        "del df_road['up_lanes']\n",
        "del df_road['dw_lanes']\n",
        "del df_road['up_its_id']\n",
        "del df_road['dw_its_id']"
      ],
      "id": "strong-anderson",
      "execution_count": null,
      "outputs": []
    },
    {
      "cell_type": "code",
      "metadata": {
        "id": "coastal-pocket"
      },
      "source": [
        "del df_amt['도로명']\n",
        "del df_amt['시도명']\n",
        "del df_amt['시군구명']\n",
        "del df_amt['읍면동명']"
      ],
      "id": "coastal-pocket",
      "execution_count": null,
      "outputs": []
    },
    {
      "cell_type": "code",
      "metadata": {
        "id": "according-found"
      },
      "source": [
        "df_amt = df_amt[df_amt['시간적범위'] == 'fulltime']\n",
        "\n",
        "df_amt['상세도로망_LinkID'] = df_amt['상세도로망_LinkID'].astype(str)\n",
        "\n",
        "df_amt['link_id'] = df_amt['상세도로망_LinkID'].str[0:9]"
      ],
      "id": "according-found",
      "execution_count": null,
      "outputs": []
    },
    {
      "cell_type": "code",
      "metadata": {
        "id": "potential-portfolio"
      },
      "source": [
        "s_traffic = pd.merge(df_amt, df_road, on='link_id', how='left')\n",
        "\n",
        "s_traffic = gpd.GeoDataFrame(s_traffic)\n",
        "\n",
        "s_traffic['geometry'] = s_traffic['geometry'].buffer(0.00005)   #각 도로망의 오차를 줄이기 위해 5m 버퍼 적용"
      ],
      "id": "potential-portfolio",
      "execution_count": null,
      "outputs": []
    },
    {
      "cell_type": "code",
      "metadata": {
        "scrolled": true,
        "id": "forty-testimony"
      },
      "source": [
        "s_road_traffic = gpd.sjoin(daejeon_road, s_traffic, how='left', op='intersects')"
      ],
      "id": "forty-testimony",
      "execution_count": null,
      "outputs": []
    },
    {
      "cell_type": "code",
      "metadata": {
        "scrolled": true,
        "id": "sensitive-message"
      },
      "source": [
        "s_road_traffic = s_road_traffic.dropna()\n",
        "\n",
        "s_road_traffic = s_road_traffic.reset_index()\n",
        "\n",
        "del s_road_traffic['index']"
      ],
      "id": "sensitive-message",
      "execution_count": null,
      "outputs": []
    },
    {
      "cell_type": "code",
      "metadata": {
        "id": "selective-identity"
      },
      "source": [
        "s_road_traffic['max_speed'] = s_road_traffic['max_speed'].astype(int)\n",
        "s_road_traffic['oneway'] = s_road_traffic['oneway'].astype(int)\n",
        "s_road_traffic['width'] = s_road_traffic['width'].astype(int)\n",
        "s_road_traffic['car_lane'] = s_road_traffic['car_lane'].astype(int)\n",
        "s_road_traffic['num_cross'] = s_road_traffic['num_cross'].astype(int)\n",
        "s_road_traffic['barrier'] = s_road_traffic['barrier'].astype(int)"
      ],
      "id": "selective-identity",
      "execution_count": null,
      "outputs": []
    },
    {
      "cell_type": "code",
      "metadata": {
        "id": "behind-technical"
      },
      "source": [
        "s_road_traffic['speed_0'] = 0\n",
        "s_road_traffic['speed_30'] = 0\n",
        "s_road_traffic['speed_40'] = 0\n",
        "s_road_traffic['speed_50'] = 0\n",
        "s_road_traffic['speed_60'] = 0\n",
        "s_road_traffic['speed_70'] = 0\n",
        "s_road_traffic['speed_80'] = 0\n",
        "s_road_traffic['speed_90'] = 0\n",
        "s_road_traffic['speed_100'] = 0\n",
        "s_road_traffic['speed_110'] = 0"
      ],
      "id": "behind-technical",
      "execution_count": null,
      "outputs": []
    },
    {
      "cell_type": "code",
      "metadata": {
        "scrolled": false,
        "id": "trained-basket"
      },
      "source": [
        "for i in range(len(s_road_traffic)):\n",
        "    a = s_road_traffic.loc[i, 'max_speed']\n",
        "    s_road_traffic.loc[i, 'speed_%d'  %a] = 1"
      ],
      "id": "trained-basket",
      "execution_count": null,
      "outputs": []
    },
    {
      "cell_type": "code",
      "metadata": {
        "id": "expired-cyprus"
      },
      "source": [
        "s_road_traffic['express'] = 0\n",
        "s_road_traffic['general'] = 0"
      ],
      "id": "expired-cyprus",
      "execution_count": null,
      "outputs": []
    },
    {
      "cell_type": "code",
      "metadata": {
        "id": "considerable-treasurer"
      },
      "source": [
        "for i in range(len(s_road_traffic)):\n",
        "    a = s_road_traffic.loc[i, '도로등급']\n",
        "    if a == 101:\n",
        "        s_road_traffic.loc[i, 'express'] = 1\n",
        "    elif a == 102:\n",
        "        s_road_traffic.loc[i, 'express'] = 1\n",
        "    elif a == 108:\n",
        "        s_road_traffic.loc[i, 'express'] = 1\n",
        "    else:\n",
        "        s_road_traffic.loc[i, 'general'] = 1"
      ],
      "id": "considerable-treasurer",
      "execution_count": null,
      "outputs": []
    },
    {
      "cell_type": "code",
      "metadata": {
        "id": "committed-second"
      },
      "source": [
        "s_road_traffic['width_1'] = 0\n",
        "s_road_traffic['width_2'] = 0\n",
        "s_road_traffic['width_3'] = 0\n",
        "s_road_traffic['width_4'] = 0\n",
        "s_road_traffic['width_5'] = 0"
      ],
      "id": "committed-second",
      "execution_count": null,
      "outputs": []
    },
    {
      "cell_type": "code",
      "metadata": {
        "id": "american-aside"
      },
      "source": [
        "for i in range(len(s_road_traffic)):\n",
        "    a = s_road_traffic.loc[i, 'width']\n",
        "    s_road_traffic.loc[i, 'width_%d' %a] = 1"
      ],
      "id": "american-aside",
      "execution_count": null,
      "outputs": []
    },
    {
      "cell_type": "code",
      "metadata": {
        "id": "careful-opposition"
      },
      "source": [
        "#barrier 변수 범주화\n",
        "\n",
        "for i in range(len(s_road_traffic)):\n",
        "    a = s_road_traffic.loc[i, 'barrier']\n",
        "    if a != 0:\n",
        "        s_road_traffic.loc[i, 'barrier'] = 1\n",
        "    else:\n",
        "        s_road_traffic.loc[i, 'barrier'] = 0"
      ],
      "id": "careful-opposition",
      "execution_count": null,
      "outputs": []
    },
    {
      "cell_type": "code",
      "metadata": {
        "id": "nonprofit-green"
      },
      "source": [
        "del s_road_traffic['상세도로망_LinkID']\n",
        "del s_road_traffic['도로등급']\n",
        "del s_road_traffic['링크길이']\n",
        "del s_road_traffic['시간적범위']\n",
        "del s_road_traffic['link_id']\n",
        "del s_road_traffic['max_speed']\n",
        "del s_road_traffic['road_rank']\n",
        "del s_road_traffic['link_type']\n",
        "del s_road_traffic['road_type']\n",
        "del s_road_traffic['length']\n",
        "del s_road_traffic['geometry']\n",
        "del s_road_traffic['index_right']\n",
        "del s_road_traffic['width']\n",
        "del s_road_traffic['num_cross']"
      ],
      "id": "nonprofit-green",
      "execution_count": null,
      "outputs": []
    },
    {
      "cell_type": "code",
      "metadata": {
        "id": "encouraging-schedule"
      },
      "source": [
        "s_road_traffic_traffic = s_road_traffic.groupby('PNU', as_index=False).mean() #하나의 s_road에 여러개의 상세도로망이 겹치는 경우를 위해 평균으로 그룹"
      ],
      "id": "encouraging-schedule",
      "execution_count": null,
      "outputs": []
    },
    {
      "cell_type": "code",
      "metadata": {
        "id": "cosmetic-reproduction",
        "outputId": "b96e0d14-f562-4f82-c942-b8388b4d578b"
      },
      "source": [
        "for j in tqdm(range(6,26)):\n",
        "    for i in range(len(s_road_traffic_traffic)):\n",
        "        s_road_traffic_traffic.iloc[i,j] = math.ceil(s_road_traffic_traffic.iloc[i,j])"
      ],
      "id": "cosmetic-reproduction",
      "execution_count": null,
      "outputs": [
        {
          "output_type": "stream",
          "text": [
            "100%|██████████| 20/20 [01:58<00:00,  5.92s/it]\n"
          ],
          "name": "stderr"
        }
      ]
    },
    {
      "cell_type": "code",
      "metadata": {
        "id": "adequate-budget"
      },
      "source": [
        "s_road_traffic_traffic = pd.merge(s_road_traffic_traffic, daejeon_road, on='PNU', how='left')"
      ],
      "id": "adequate-budget",
      "execution_count": null,
      "outputs": []
    },
    {
      "cell_type": "code",
      "metadata": {
        "scrolled": true,
        "id": "necessary-graphics"
      },
      "source": [
        "del s_road_traffic_traffic['road_x']\n",
        "del s_road_traffic_traffic['road_y']\n",
        "del s_road_traffic_traffic['JIBUN']\n",
        "del s_road_traffic_traffic['PNU']"
      ],
      "id": "necessary-graphics",
      "execution_count": null,
      "outputs": []
    },
    {
      "cell_type": "code",
      "metadata": {
        "scrolled": false,
        "id": "upset-tonight"
      },
      "source": [
        "null_grid_traffic_traffic = gpd.sjoin(s_road_traffic_traffic, null_grid_traffic, how='left', op='intersects')"
      ],
      "id": "upset-tonight",
      "execution_count": null,
      "outputs": []
    },
    {
      "cell_type": "code",
      "metadata": {
        "id": "suited-jordan"
      },
      "source": [
        "null_grid_traffic_traffic = null_grid_traffic_traffic.dropna()\n",
        "\n",
        "null_grid_traffic_traffic = null_grid_traffic_traffic.groupby('gid', as_index=False).sum()"
      ],
      "id": "suited-jordan",
      "execution_count": null,
      "outputs": []
    },
    {
      "cell_type": "code",
      "metadata": {
        "id": "departmental-population"
      },
      "source": [
        "del null_grid_traffic_traffic['index_right']\n",
        "\n",
        "null_grid_traffic_traffic = null_grid_traffic_traffic.rename(columns = {'전체_추정교통량':'traffic_total_sum_inter', '승용차_추정교통량':'traffic_small_sum_inter', '버스_추정교통량':'traffic_bus_sum_inter', '화물차_추정교통량':'traffic_big_sum_inter'})"
      ],
      "id": "departmental-population",
      "execution_count": null,
      "outputs": []
    },
    {
      "cell_type": "code",
      "metadata": {
        "id": "connected-stack"
      },
      "source": [
        "del temp_traffic['acci_cnt']\n",
        "del temp_traffic['geometry']"
      ],
      "id": "connected-stack",
      "execution_count": null,
      "outputs": []
    },
    {
      "cell_type": "code",
      "metadata": {
        "id": "significant-glucose"
      },
      "source": [
        "final_traffic_data = pd.concat([temp_traffic, null_grid_traffic_traffic], axis=0)"
      ],
      "id": "significant-glucose",
      "execution_count": null,
      "outputs": []
    },
    {
      "cell_type": "code",
      "metadata": {
        "id": "royal-vampire"
      },
      "source": [
        "final_traffic_data = final_traffic_data.groupby('gid',as_index=False).sum()"
      ],
      "id": "royal-vampire",
      "execution_count": null,
      "outputs": []
    },
    {
      "cell_type": "code",
      "metadata": {
        "id": "missing-newcastle"
      },
      "source": [
        "final_traffic_data = pd.merge(acc_cnt, final_traffic_data, on='gid', how='left')"
      ],
      "id": "missing-newcastle",
      "execution_count": null,
      "outputs": []
    },
    {
      "cell_type": "code",
      "metadata": {
        "scrolled": true,
        "id": "daily-incidence",
        "outputId": "fae73af0-0be1-4f15-d4f6-8055b67ddfc2"
      },
      "source": [
        "del final_traffic_data['acci_cnt']\n",
        "del final_traffic_data['geometry']\n",
        "\n",
        "final_traffic_data.head()"
      ],
      "id": "daily-incidence",
      "execution_count": null,
      "outputs": [
        {
          "output_type": "execute_result",
          "data": {
            "text/html": [
              "<div>\n",
              "<style scoped>\n",
              "    .dataframe tbody tr th:only-of-type {\n",
              "        vertical-align: middle;\n",
              "    }\n",
              "\n",
              "    .dataframe tbody tr th {\n",
              "        vertical-align: top;\n",
              "    }\n",
              "\n",
              "    .dataframe thead th {\n",
              "        text-align: right;\n",
              "    }\n",
              "</style>\n",
              "<table border=\"1\" class=\"dataframe\">\n",
              "  <thead>\n",
              "    <tr style=\"text-align: right;\">\n",
              "      <th></th>\n",
              "      <th>gid</th>\n",
              "      <th>traffic_total_sum_inter</th>\n",
              "      <th>traffic_small_sum_inter</th>\n",
              "      <th>traffic_bus_sum_inter</th>\n",
              "      <th>traffic_big_sum_inter</th>\n",
              "      <th>oneway</th>\n",
              "      <th>car_lane</th>\n",
              "      <th>barrier</th>\n",
              "      <th>speed_0</th>\n",
              "      <th>speed_30</th>\n",
              "      <th>...</th>\n",
              "      <th>speed_90</th>\n",
              "      <th>speed_100</th>\n",
              "      <th>speed_110</th>\n",
              "      <th>express</th>\n",
              "      <th>general</th>\n",
              "      <th>width_1</th>\n",
              "      <th>width_2</th>\n",
              "      <th>width_3</th>\n",
              "      <th>width_4</th>\n",
              "      <th>width_5</th>\n",
              "    </tr>\n",
              "  </thead>\n",
              "  <tbody>\n",
              "    <tr>\n",
              "      <th>0</th>\n",
              "      <td>다바866110</td>\n",
              "      <td>16566.0</td>\n",
              "      <td>13997.0</td>\n",
              "      <td>183.0</td>\n",
              "      <td>2385.0</td>\n",
              "      <td>0.0</td>\n",
              "      <td>0.0</td>\n",
              "      <td>2.0</td>\n",
              "      <td>2.0</td>\n",
              "      <td>0.0</td>\n",
              "      <td>...</td>\n",
              "      <td>0.0</td>\n",
              "      <td>0.0</td>\n",
              "      <td>0.0</td>\n",
              "      <td>0.0</td>\n",
              "      <td>2.0</td>\n",
              "      <td>0.0</td>\n",
              "      <td>0.0</td>\n",
              "      <td>2.0</td>\n",
              "      <td>0.0</td>\n",
              "      <td>0.0</td>\n",
              "    </tr>\n",
              "    <tr>\n",
              "      <th>1</th>\n",
              "      <td>다바823157</td>\n",
              "      <td>9453.0</td>\n",
              "      <td>8175.0</td>\n",
              "      <td>81.0</td>\n",
              "      <td>1199.0</td>\n",
              "      <td>0.0</td>\n",
              "      <td>0.0</td>\n",
              "      <td>0.0</td>\n",
              "      <td>0.0</td>\n",
              "      <td>0.0</td>\n",
              "      <td>...</td>\n",
              "      <td>0.0</td>\n",
              "      <td>0.0</td>\n",
              "      <td>0.0</td>\n",
              "      <td>0.0</td>\n",
              "      <td>8.0</td>\n",
              "      <td>0.0</td>\n",
              "      <td>0.0</td>\n",
              "      <td>4.0</td>\n",
              "      <td>4.0</td>\n",
              "      <td>0.0</td>\n",
              "    </tr>\n",
              "    <tr>\n",
              "      <th>2</th>\n",
              "      <td>다바928260</td>\n",
              "      <td>30270.0</td>\n",
              "      <td>26108.0</td>\n",
              "      <td>260.0</td>\n",
              "      <td>3905.0</td>\n",
              "      <td>0.0</td>\n",
              "      <td>0.0</td>\n",
              "      <td>0.0</td>\n",
              "      <td>0.0</td>\n",
              "      <td>4.0</td>\n",
              "      <td>...</td>\n",
              "      <td>0.0</td>\n",
              "      <td>0.0</td>\n",
              "      <td>0.0</td>\n",
              "      <td>0.0</td>\n",
              "      <td>8.0</td>\n",
              "      <td>0.0</td>\n",
              "      <td>8.0</td>\n",
              "      <td>0.0</td>\n",
              "      <td>0.0</td>\n",
              "      <td>0.0</td>\n",
              "    </tr>\n",
              "    <tr>\n",
              "      <th>3</th>\n",
              "      <td>다바931203</td>\n",
              "      <td>23192.0</td>\n",
              "      <td>19396.0</td>\n",
              "      <td>264.0</td>\n",
              "      <td>3531.0</td>\n",
              "      <td>0.0</td>\n",
              "      <td>0.0</td>\n",
              "      <td>2.0</td>\n",
              "      <td>0.0</td>\n",
              "      <td>0.0</td>\n",
              "      <td>...</td>\n",
              "      <td>0.0</td>\n",
              "      <td>0.0</td>\n",
              "      <td>0.0</td>\n",
              "      <td>0.0</td>\n",
              "      <td>2.0</td>\n",
              "      <td>0.0</td>\n",
              "      <td>0.0</td>\n",
              "      <td>0.0</td>\n",
              "      <td>2.0</td>\n",
              "      <td>0.0</td>\n",
              "    </tr>\n",
              "    <tr>\n",
              "      <th>4</th>\n",
              "      <td>다바836109</td>\n",
              "      <td>5431.0</td>\n",
              "      <td>4880.0</td>\n",
              "      <td>44.0</td>\n",
              "      <td>508.0</td>\n",
              "      <td>0.0</td>\n",
              "      <td>0.0</td>\n",
              "      <td>0.0</td>\n",
              "      <td>8.0</td>\n",
              "      <td>0.0</td>\n",
              "      <td>...</td>\n",
              "      <td>0.0</td>\n",
              "      <td>0.0</td>\n",
              "      <td>0.0</td>\n",
              "      <td>0.0</td>\n",
              "      <td>8.0</td>\n",
              "      <td>2.0</td>\n",
              "      <td>2.0</td>\n",
              "      <td>4.0</td>\n",
              "      <td>0.0</td>\n",
              "      <td>0.0</td>\n",
              "    </tr>\n",
              "  </tbody>\n",
              "</table>\n",
              "<p>5 rows × 25 columns</p>\n",
              "</div>"
            ],
            "text/plain": [
              "        gid  traffic_total_sum_inter  traffic_small_sum_inter  \\\n",
              "0  다바866110                  16566.0                  13997.0   \n",
              "1  다바823157                   9453.0                   8175.0   \n",
              "2  다바928260                  30270.0                  26108.0   \n",
              "3  다바931203                  23192.0                  19396.0   \n",
              "4  다바836109                   5431.0                   4880.0   \n",
              "\n",
              "   traffic_bus_sum_inter  traffic_big_sum_inter  oneway  car_lane  barrier  \\\n",
              "0                  183.0                 2385.0     0.0       0.0      2.0   \n",
              "1                   81.0                 1199.0     0.0       0.0      0.0   \n",
              "2                  260.0                 3905.0     0.0       0.0      0.0   \n",
              "3                  264.0                 3531.0     0.0       0.0      2.0   \n",
              "4                   44.0                  508.0     0.0       0.0      0.0   \n",
              "\n",
              "   speed_0  speed_30  ...  speed_90  speed_100  speed_110  express  general  \\\n",
              "0      2.0       0.0  ...       0.0        0.0        0.0      0.0      2.0   \n",
              "1      0.0       0.0  ...       0.0        0.0        0.0      0.0      8.0   \n",
              "2      0.0       4.0  ...       0.0        0.0        0.0      0.0      8.0   \n",
              "3      0.0       0.0  ...       0.0        0.0        0.0      0.0      2.0   \n",
              "4      8.0       0.0  ...       0.0        0.0        0.0      0.0      8.0   \n",
              "\n",
              "   width_1  width_2  width_3  width_4  width_5  \n",
              "0      0.0      0.0      2.0      0.0      0.0  \n",
              "1      0.0      0.0      4.0      4.0      0.0  \n",
              "2      0.0      8.0      0.0      0.0      0.0  \n",
              "3      0.0      0.0      0.0      2.0      0.0  \n",
              "4      2.0      2.0      4.0      0.0      0.0  \n",
              "\n",
              "[5 rows x 25 columns]"
            ]
          },
          "metadata": {
            "tags": []
          },
          "execution_count": 93
        }
      ]
    },
    {
      "cell_type": "markdown",
      "metadata": {
        "id": "potential-summary"
      },
      "source": [
        "## 2. 혼잡빈도강도"
      ],
      "id": "potential-summary"
    },
    {
      "cell_type": "markdown",
      "metadata": {
        "id": "behind-gauge"
      },
      "source": [
        "#### 2-1. 혼잡빈도강도"
      ],
      "id": "behind-gauge"
    },
    {
      "cell_type": "code",
      "metadata": {
        "id": "sticky-baseball"
      },
      "source": [
        "df_road = traffic_road.copy()\n",
        "df_freq = traffic_freq.copy()\n",
        "grid = acc_cnt.copy()"
      ],
      "id": "sticky-baseball",
      "execution_count": null,
      "outputs": []
    },
    {
      "cell_type": "code",
      "metadata": {
        "id": "loaded-fifteen"
      },
      "source": [
        "del df_road['road_name']\n",
        "del df_road['road_no']\n",
        "del df_road['facil_name']\n",
        "del df_road['up_lanes']\n",
        "del df_road['dw_lanes']\n",
        "del df_road['up_its_id']\n",
        "del df_road['dw_its_id']"
      ],
      "id": "loaded-fifteen",
      "execution_count": null,
      "outputs": []
    },
    {
      "cell_type": "code",
      "metadata": {
        "id": "contrary-threshold"
      },
      "source": [
        "del df_freq['도로명']\n",
        "del df_freq['시도명']\n",
        "del df_freq['시군구명']\n",
        "del df_freq['읍면동명']"
      ],
      "id": "contrary-threshold",
      "execution_count": null,
      "outputs": []
    },
    {
      "cell_type": "code",
      "metadata": {
        "id": "final-functionality"
      },
      "source": [
        "df_freq['상세도로망_LinkID'] = df_freq['상세도로망_LinkID'].astype(str)\n",
        "\n",
        "df_freq['link_id'] = df_freq['상세도로망_LinkID'].str[0:9]\n",
        "\n",
        "freq = pd.merge(df_freq, df_road, on='link_id', how='left')\n",
        "\n",
        "freq = gpd.GeoDataFrame(freq)"
      ],
      "id": "final-functionality",
      "execution_count": null,
      "outputs": []
    },
    {
      "cell_type": "code",
      "metadata": {
        "scrolled": true,
        "id": "curious-enough"
      },
      "source": [
        "grid_freq = gpd.sjoin(freq, grid, how='left', op='intersects')"
      ],
      "id": "curious-enough",
      "execution_count": null,
      "outputs": []
    },
    {
      "cell_type": "code",
      "metadata": {
        "id": "wired-fantasy"
      },
      "source": [
        "grid_freq = grid_freq.reset_index()\n",
        "\n",
        "del grid_freq['index']\n",
        "\n",
        "grid_freq = grid_freq[['혼잡빈도강도', 'gid']]"
      ],
      "id": "wired-fantasy",
      "execution_count": null,
      "outputs": []
    },
    {
      "cell_type": "code",
      "metadata": {
        "id": "suffering-subscription"
      },
      "source": [
        "freq_max = grid_freq.groupby('gid', as_index=False).max()\n",
        "\n",
        "freq_max = freq_max.rename(columns = {'혼잡빈도강도':'freq_max_inter'})"
      ],
      "id": "suffering-subscription",
      "execution_count": null,
      "outputs": []
    },
    {
      "cell_type": "code",
      "metadata": {
        "id": "brave-immune"
      },
      "source": [
        "temp_freq = pd.merge(acc_cnt, freq_max, on='gid', how='left')"
      ],
      "id": "brave-immune",
      "execution_count": null,
      "outputs": []
    },
    {
      "cell_type": "code",
      "metadata": {
        "id": "northern-satellite"
      },
      "source": [
        "null_grid_freq = temp_freq[temp_freq['freq_max_inter'].isnull() == True][['gid', 'geometry']]"
      ],
      "id": "northern-satellite",
      "execution_count": null,
      "outputs": []
    },
    {
      "cell_type": "markdown",
      "metadata": {
        "id": "tough-project"
      },
      "source": [
        "#### 2-2. freq 결측치 대체"
      ],
      "id": "tough-project"
    },
    {
      "cell_type": "code",
      "metadata": {
        "id": "logical-bargain"
      },
      "source": [
        "df_road = traffic_road.copy()\n",
        "df_freq = traffic_freq.copy()"
      ],
      "id": "logical-bargain",
      "execution_count": null,
      "outputs": []
    },
    {
      "cell_type": "code",
      "metadata": {
        "id": "little-maryland"
      },
      "source": [
        "del df_road['road_name']\n",
        "del df_road['road_no']\n",
        "del df_road['facil_name']\n",
        "del df_road['up_lanes']\n",
        "del df_road['dw_lanes']\n",
        "del df_road['up_its_id']\n",
        "del df_road['dw_its_id']"
      ],
      "id": "little-maryland",
      "execution_count": null,
      "outputs": []
    },
    {
      "cell_type": "code",
      "metadata": {
        "id": "auburn-glossary"
      },
      "source": [
        "del df_freq['도로명']\n",
        "del df_freq['시도명']\n",
        "del df_freq['시군구명']\n",
        "del df_freq['읍면동명']"
      ],
      "id": "auburn-glossary",
      "execution_count": null,
      "outputs": []
    },
    {
      "cell_type": "code",
      "metadata": {
        "id": "optional-origin"
      },
      "source": [
        "df_freq['상세도로망_LinkID'] = df_freq['상세도로망_LinkID'].astype(str)\n",
        "\n",
        "df_freq['link_id'] = df_freq['상세도로망_LinkID'].str[0:9]"
      ],
      "id": "optional-origin",
      "execution_count": null,
      "outputs": []
    },
    {
      "cell_type": "code",
      "metadata": {
        "id": "macro-jamaica"
      },
      "source": [
        "s_freq = pd.merge(df_freq, df_road, on='link_id', how='left')\n",
        "\n",
        "s_freq = gpd.GeoDataFrame(s_freq)\n",
        "\n",
        "s_freq['geometry'] = s_freq['geometry'].buffer(0.00005)   #각 도로망의 오차를 줄이기 위해 5m 버퍼 적용"
      ],
      "id": "macro-jamaica",
      "execution_count": null,
      "outputs": []
    },
    {
      "cell_type": "code",
      "metadata": {
        "scrolled": true,
        "id": "forward-albania"
      },
      "source": [
        "s_road_freq = gpd.sjoin(daejeon_road, s_freq, how='left', op='intersects')"
      ],
      "id": "forward-albania",
      "execution_count": null,
      "outputs": []
    },
    {
      "cell_type": "code",
      "metadata": {
        "id": "informational-gentleman"
      },
      "source": [
        "s_road_freq = s_road_freq.dropna()\n",
        "\n",
        "s_road_freq = s_road_freq.reset_index()\n",
        "\n",
        "del s_road_freq['index']"
      ],
      "id": "informational-gentleman",
      "execution_count": null,
      "outputs": []
    },
    {
      "cell_type": "code",
      "metadata": {
        "id": "centered-acrylic"
      },
      "source": [
        "del s_road_freq['상세도로망_LinkID']\n",
        "del s_road_freq['도로등급']\n",
        "del s_road_freq['링크길이']\n",
        "del s_road_freq['link_id']\n",
        "del s_road_freq['max_speed']\n",
        "del s_road_freq['road_rank']\n",
        "del s_road_freq['link_type']\n",
        "del s_road_freq['road_type']\n",
        "del s_road_freq['oneway']\n",
        "del s_road_freq['length']\n",
        "del s_road_freq['geometry']\n",
        "del s_road_freq['index_right']\n",
        "del s_road_freq['width']\n",
        "del s_road_freq['num_cross']"
      ],
      "id": "centered-acrylic",
      "execution_count": null,
      "outputs": []
    },
    {
      "cell_type": "code",
      "metadata": {
        "id": "artificial-terry"
      },
      "source": [
        "s_road_freq_freq = s_road_freq.groupby('PNU', as_index=False).mean() #하나의 s_road에 여러개의 상세도로망이 겹치는 경우를 위해 평균으로 그룹"
      ],
      "id": "artificial-terry",
      "execution_count": null,
      "outputs": []
    },
    {
      "cell_type": "code",
      "metadata": {
        "scrolled": true,
        "id": "secret-footwear"
      },
      "source": [
        "s_road_freq_freq = pd.merge(s_road_freq_freq, daejeon_road, on='PNU', how='left')"
      ],
      "id": "secret-footwear",
      "execution_count": null,
      "outputs": []
    },
    {
      "cell_type": "code",
      "metadata": {
        "id": "alternative-cooling"
      },
      "source": [
        "del s_road_freq_freq['PNU']\n",
        "del s_road_freq_freq['road_x']\n",
        "del s_road_freq_freq['road_y']\n",
        "del s_road_freq_freq['JIBUN']"
      ],
      "id": "alternative-cooling",
      "execution_count": null,
      "outputs": []
    },
    {
      "cell_type": "code",
      "metadata": {
        "id": "turned-documentary"
      },
      "source": [
        "null_grid_freq_freq = gpd.sjoin(s_road_freq_freq, null_grid_freq, how='left', op='intersects')"
      ],
      "id": "turned-documentary",
      "execution_count": null,
      "outputs": []
    },
    {
      "cell_type": "code",
      "metadata": {
        "id": "anonymous-connectivity"
      },
      "source": [
        "null_grid_freq_freq = null_grid_freq_freq.dropna()\n",
        "\n",
        "null_grid_freq_freq = null_grid_freq_freq.groupby('gid', as_index=False).max()"
      ],
      "id": "anonymous-connectivity",
      "execution_count": null,
      "outputs": []
    },
    {
      "cell_type": "code",
      "metadata": {
        "id": "prostate-future"
      },
      "source": [
        "del null_grid_freq_freq['index_right']\n",
        "\n",
        "null_grid_freq_freq = null_grid_freq_freq.rename(columns = {'혼잡빈도강도':'freq_max_inter'})"
      ],
      "id": "prostate-future",
      "execution_count": null,
      "outputs": []
    },
    {
      "cell_type": "code",
      "metadata": {
        "id": "indie-niagara"
      },
      "source": [
        "del temp_freq['acci_cnt']\n",
        "del temp_freq['geometry']"
      ],
      "id": "indie-niagara",
      "execution_count": null,
      "outputs": []
    },
    {
      "cell_type": "code",
      "metadata": {
        "id": "adult-sending",
        "outputId": "d8c5a9c3-8a1b-4fbd-9018-4315ff9855f3"
      },
      "source": [
        "null_grid_freq_freq"
      ],
      "id": "adult-sending",
      "execution_count": null,
      "outputs": [
        {
          "output_type": "execute_result",
          "data": {
            "text/html": [
              "<div>\n",
              "<style scoped>\n",
              "    .dataframe tbody tr th:only-of-type {\n",
              "        vertical-align: middle;\n",
              "    }\n",
              "\n",
              "    .dataframe tbody tr th {\n",
              "        vertical-align: top;\n",
              "    }\n",
              "\n",
              "    .dataframe thead th {\n",
              "        text-align: right;\n",
              "    }\n",
              "</style>\n",
              "<table border=\"1\" class=\"dataframe\">\n",
              "  <thead>\n",
              "    <tr style=\"text-align: right;\">\n",
              "      <th></th>\n",
              "      <th>gid</th>\n",
              "      <th>freq_max_inter</th>\n",
              "    </tr>\n",
              "  </thead>\n",
              "  <tbody>\n",
              "    <tr>\n",
              "      <th>0</th>\n",
              "      <td>다바780093</td>\n",
              "      <td>78.210</td>\n",
              "    </tr>\n",
              "    <tr>\n",
              "      <th>1</th>\n",
              "      <td>다바781092</td>\n",
              "      <td>53.115</td>\n",
              "    </tr>\n",
              "    <tr>\n",
              "      <th>2</th>\n",
              "      <td>다바781093</td>\n",
              "      <td>53.115</td>\n",
              "    </tr>\n",
              "    <tr>\n",
              "      <th>3</th>\n",
              "      <td>다바782091</td>\n",
              "      <td>53.115</td>\n",
              "    </tr>\n",
              "    <tr>\n",
              "      <th>4</th>\n",
              "      <td>다바782093</td>\n",
              "      <td>53.115</td>\n",
              "    </tr>\n",
              "    <tr>\n",
              "      <th>...</th>\n",
              "      <td>...</td>\n",
              "      <td>...</td>\n",
              "    </tr>\n",
              "    <tr>\n",
              "      <th>3004</th>\n",
              "      <td>라바037233</td>\n",
              "      <td>90.985</td>\n",
              "    </tr>\n",
              "    <tr>\n",
              "      <th>3005</th>\n",
              "      <td>라바037234</td>\n",
              "      <td>90.985</td>\n",
              "    </tr>\n",
              "    <tr>\n",
              "      <th>3006</th>\n",
              "      <td>라바038233</td>\n",
              "      <td>90.985</td>\n",
              "    </tr>\n",
              "    <tr>\n",
              "      <th>3007</th>\n",
              "      <td>라바038234</td>\n",
              "      <td>90.985</td>\n",
              "    </tr>\n",
              "    <tr>\n",
              "      <th>3008</th>\n",
              "      <td>라바039233</td>\n",
              "      <td>90.985</td>\n",
              "    </tr>\n",
              "  </tbody>\n",
              "</table>\n",
              "<p>3009 rows × 2 columns</p>\n",
              "</div>"
            ],
            "text/plain": [
              "           gid  freq_max_inter\n",
              "0     다바780093          78.210\n",
              "1     다바781092          53.115\n",
              "2     다바781093          53.115\n",
              "3     다바782091          53.115\n",
              "4     다바782093          53.115\n",
              "...        ...             ...\n",
              "3004  라바037233          90.985\n",
              "3005  라바037234          90.985\n",
              "3006  라바038233          90.985\n",
              "3007  라바038234          90.985\n",
              "3008  라바039233          90.985\n",
              "\n",
              "[3009 rows x 2 columns]"
            ]
          },
          "metadata": {
            "tags": []
          },
          "execution_count": 118
        }
      ]
    },
    {
      "cell_type": "code",
      "metadata": {
        "id": "suspended-equality"
      },
      "source": [
        "final_freq_data = pd.concat([temp_freq, null_grid_freq_freq], axis=0)"
      ],
      "id": "suspended-equality",
      "execution_count": null,
      "outputs": []
    },
    {
      "cell_type": "code",
      "metadata": {
        "id": "sound-column"
      },
      "source": [
        "final_freq_data = final_freq_data.groupby('gid',as_index=False).sum()"
      ],
      "id": "sound-column",
      "execution_count": null,
      "outputs": []
    },
    {
      "cell_type": "code",
      "metadata": {
        "id": "graduate-characterization"
      },
      "source": [
        "final_freq_data = pd.merge(acc_cnt, final_freq_data, on='gid', how='left')"
      ],
      "id": "graduate-characterization",
      "execution_count": null,
      "outputs": []
    },
    {
      "cell_type": "code",
      "metadata": {
        "id": "continental-salem",
        "outputId": "233b3f26-90e7-47e5-8ee2-760f1b947f23"
      },
      "source": [
        "del final_freq_data['acci_cnt']\n",
        "del final_freq_data['geometry']\n",
        "\n",
        "final_freq_data.head()"
      ],
      "id": "continental-salem",
      "execution_count": null,
      "outputs": [
        {
          "output_type": "execute_result",
          "data": {
            "text/html": [
              "<div>\n",
              "<style scoped>\n",
              "    .dataframe tbody tr th:only-of-type {\n",
              "        vertical-align: middle;\n",
              "    }\n",
              "\n",
              "    .dataframe tbody tr th {\n",
              "        vertical-align: top;\n",
              "    }\n",
              "\n",
              "    .dataframe thead th {\n",
              "        text-align: right;\n",
              "    }\n",
              "</style>\n",
              "<table border=\"1\" class=\"dataframe\">\n",
              "  <thead>\n",
              "    <tr style=\"text-align: right;\">\n",
              "      <th></th>\n",
              "      <th>gid</th>\n",
              "      <th>freq_max_inter</th>\n",
              "    </tr>\n",
              "  </thead>\n",
              "  <tbody>\n",
              "    <tr>\n",
              "      <th>0</th>\n",
              "      <td>다바866110</td>\n",
              "      <td>0.53</td>\n",
              "    </tr>\n",
              "    <tr>\n",
              "      <th>1</th>\n",
              "      <td>다바823157</td>\n",
              "      <td>51.51</td>\n",
              "    </tr>\n",
              "    <tr>\n",
              "      <th>2</th>\n",
              "      <td>다바928260</td>\n",
              "      <td>69.34</td>\n",
              "    </tr>\n",
              "    <tr>\n",
              "      <th>3</th>\n",
              "      <td>다바931203</td>\n",
              "      <td>99.52</td>\n",
              "    </tr>\n",
              "    <tr>\n",
              "      <th>4</th>\n",
              "      <td>다바836109</td>\n",
              "      <td>81.58</td>\n",
              "    </tr>\n",
              "  </tbody>\n",
              "</table>\n",
              "</div>"
            ],
            "text/plain": [
              "        gid  freq_max_inter\n",
              "0  다바866110            0.53\n",
              "1  다바823157           51.51\n",
              "2  다바928260           69.34\n",
              "3  다바931203           99.52\n",
              "4  다바836109           81.58"
            ]
          },
          "metadata": {
            "tags": []
          },
          "execution_count": 122
        }
      ]
    },
    {
      "cell_type": "markdown",
      "metadata": {
        "id": "dangerous-assumption"
      },
      "source": [
        "## 3. 혼잡시간강도"
      ],
      "id": "dangerous-assumption"
    },
    {
      "cell_type": "markdown",
      "metadata": {
        "id": "flush-cabinet"
      },
      "source": [
        "#### 3-1. 혼잡시간강도"
      ],
      "id": "flush-cabinet"
    },
    {
      "cell_type": "code",
      "metadata": {
        "id": "ignored-techno"
      },
      "source": [
        "df_road = traffic_road.copy()\n",
        "df_time = traffic_time.copy()\n",
        "grid = acc_cnt.copy()"
      ],
      "id": "ignored-techno",
      "execution_count": null,
      "outputs": []
    },
    {
      "cell_type": "code",
      "metadata": {
        "id": "minus-heavy"
      },
      "source": [
        "del df_road['road_name']\n",
        "del df_road['road_no']\n",
        "del df_road['facil_name']\n",
        "del df_road['up_lanes']\n",
        "del df_road['dw_lanes']\n",
        "del df_road['up_its_id']\n",
        "del df_road['dw_its_id']"
      ],
      "id": "minus-heavy",
      "execution_count": null,
      "outputs": []
    },
    {
      "cell_type": "code",
      "metadata": {
        "id": "primary-thunder"
      },
      "source": [
        "del df_time['도로명']\n",
        "del df_time['시도명']\n",
        "del df_time['시군구명']\n",
        "del df_time['읍면동명']"
      ],
      "id": "primary-thunder",
      "execution_count": null,
      "outputs": []
    },
    {
      "cell_type": "code",
      "metadata": {
        "id": "representative-discharge"
      },
      "source": [
        "df_time['상세도로망_LinkID'] = df_time['상세도로망_LinkID'].astype(str)\n",
        "\n",
        "df_time['link_id'] = df_time['상세도로망_LinkID'].str[0:9]\n",
        "\n",
        "time = pd.merge(df_time, df_road, on='link_id', how='left')\n",
        "\n",
        "time = gpd.GeoDataFrame(time)"
      ],
      "id": "representative-discharge",
      "execution_count": null,
      "outputs": []
    },
    {
      "cell_type": "code",
      "metadata": {
        "scrolled": true,
        "id": "polished-europe"
      },
      "source": [
        "grid_time = gpd.sjoin(time, grid, how='left', op='intersects')"
      ],
      "id": "polished-europe",
      "execution_count": null,
      "outputs": []
    },
    {
      "cell_type": "code",
      "metadata": {
        "id": "enabling-examination"
      },
      "source": [
        "grid_time = grid_time.reset_index()\n",
        "\n",
        "del grid_time['index']\n",
        "\n",
        "grid_time = grid_time[['혼잡시간강도', 'gid']]"
      ],
      "id": "enabling-examination",
      "execution_count": null,
      "outputs": []
    },
    {
      "cell_type": "code",
      "metadata": {
        "id": "bound-testimony"
      },
      "source": [
        "time_max = grid_time.groupby('gid', as_index=False).max()\n",
        "\n",
        "time_max = time_max.rename(columns = {'혼잡시간강도':'time_max_inter'})"
      ],
      "id": "bound-testimony",
      "execution_count": null,
      "outputs": []
    },
    {
      "cell_type": "code",
      "metadata": {
        "id": "swedish-present"
      },
      "source": [
        "temp_time = pd.merge(acc_cnt, time_max, on='gid', how='left')"
      ],
      "id": "swedish-present",
      "execution_count": null,
      "outputs": []
    },
    {
      "cell_type": "code",
      "metadata": {
        "id": "further-interest"
      },
      "source": [
        "null_grid_time = temp_time[temp_time['time_max_inter'].isnull() == True][['gid', 'geometry']]"
      ],
      "id": "further-interest",
      "execution_count": null,
      "outputs": []
    },
    {
      "cell_type": "markdown",
      "metadata": {
        "id": "tribal-judgment"
      },
      "source": [
        "#### 3-2. time 결측치 대체"
      ],
      "id": "tribal-judgment"
    },
    {
      "cell_type": "code",
      "metadata": {
        "id": "entire-copyright"
      },
      "source": [
        "df_road = traffic_road.copy()\n",
        "df_time = traffic_time.copy()"
      ],
      "id": "entire-copyright",
      "execution_count": null,
      "outputs": []
    },
    {
      "cell_type": "code",
      "metadata": {
        "id": "cathedral-memphis"
      },
      "source": [
        "del df_road['road_name']\n",
        "del df_road['road_no']\n",
        "del df_road['facil_name']\n",
        "del df_road['up_lanes']\n",
        "del df_road['dw_lanes']\n",
        "del df_road['up_its_id']\n",
        "del df_road['dw_its_id']"
      ],
      "id": "cathedral-memphis",
      "execution_count": null,
      "outputs": []
    },
    {
      "cell_type": "code",
      "metadata": {
        "id": "original-coaching"
      },
      "source": [
        "del df_time['도로명']\n",
        "del df_time['시도명']\n",
        "del df_time['시군구명']\n",
        "del df_time['읍면동명']"
      ],
      "id": "original-coaching",
      "execution_count": null,
      "outputs": []
    },
    {
      "cell_type": "code",
      "metadata": {
        "id": "supposed-championship"
      },
      "source": [
        "df_time['상세도로망_LinkID'] = df_time['상세도로망_LinkID'].astype(str)\n",
        "\n",
        "df_time['link_id'] = df_time['상세도로망_LinkID'].str[0:9]"
      ],
      "id": "supposed-championship",
      "execution_count": null,
      "outputs": []
    },
    {
      "cell_type": "code",
      "metadata": {
        "id": "preliminary-equity"
      },
      "source": [
        "s_time = pd.merge(df_time, df_road, on='link_id', how='left')\n",
        "\n",
        "s_time = gpd.GeoDataFrame(s_time)\n",
        "\n",
        "s_time['geometry'] = s_time['geometry'].buffer(0.00005)   #각 도로망의 오차를 줄이기 위해 5m 버퍼 적용"
      ],
      "id": "preliminary-equity",
      "execution_count": null,
      "outputs": []
    },
    {
      "cell_type": "code",
      "metadata": {
        "scrolled": true,
        "id": "attempted-treasure"
      },
      "source": [
        "s_road_time = gpd.sjoin(daejeon_road, s_time, how='left', op='intersects')"
      ],
      "id": "attempted-treasure",
      "execution_count": null,
      "outputs": []
    },
    {
      "cell_type": "code",
      "metadata": {
        "id": "separate-canadian"
      },
      "source": [
        "s_road_time = s_road_time.dropna()\n",
        "\n",
        "s_road_time = s_road_time.reset_index()\n",
        "\n",
        "del s_road_time['index']"
      ],
      "id": "separate-canadian",
      "execution_count": null,
      "outputs": []
    },
    {
      "cell_type": "code",
      "metadata": {
        "id": "turkish-dryer"
      },
      "source": [
        "del s_road_time['상세도로망_LinkID']\n",
        "del s_road_time['도로등급']\n",
        "del s_road_time['링크길이']\n",
        "del s_road_time['link_id']\n",
        "del s_road_time['max_speed']\n",
        "del s_road_time['road_rank']\n",
        "del s_road_time['link_type']\n",
        "del s_road_time['road_type']\n",
        "del s_road_time['oneway']\n",
        "del s_road_time['length']\n",
        "del s_road_time['geometry']\n",
        "del s_road_time['index_right']\n",
        "del s_road_time['width']\n",
        "del s_road_time['num_cross']"
      ],
      "id": "turkish-dryer",
      "execution_count": null,
      "outputs": []
    },
    {
      "cell_type": "code",
      "metadata": {
        "id": "seventh-aberdeen"
      },
      "source": [
        "s_road_time_time = s_road_time.groupby('PNU', as_index=False).mean() #하나의 s_road에 여러개의 상세도로망이 겹치는 경우를 위해 평균으로 그룹"
      ],
      "id": "seventh-aberdeen",
      "execution_count": null,
      "outputs": []
    },
    {
      "cell_type": "code",
      "metadata": {
        "scrolled": true,
        "id": "breathing-liberia"
      },
      "source": [
        "s_road_time_time = pd.merge(s_road_time_time, daejeon_road, on='PNU', how='left')"
      ],
      "id": "breathing-liberia",
      "execution_count": null,
      "outputs": []
    },
    {
      "cell_type": "code",
      "metadata": {
        "id": "coastal-contract"
      },
      "source": [
        "del s_road_time_time['PNU']\n",
        "del s_road_time_time['road_x']\n",
        "del s_road_time_time['road_y']\n",
        "del s_road_time_time['JIBUN']"
      ],
      "id": "coastal-contract",
      "execution_count": null,
      "outputs": []
    },
    {
      "cell_type": "code",
      "metadata": {
        "id": "basic-player"
      },
      "source": [
        "null_grid_time_time = gpd.sjoin(s_road_time_time, null_grid_time, how='left', op='intersects')"
      ],
      "id": "basic-player",
      "execution_count": null,
      "outputs": []
    },
    {
      "cell_type": "code",
      "metadata": {
        "id": "rapid-gathering"
      },
      "source": [
        "null_grid_time_time = null_grid_time_time.dropna()\n",
        "\n",
        "null_grid_time_time = null_grid_time_time.groupby('gid', as_index=False).mean()"
      ],
      "id": "rapid-gathering",
      "execution_count": null,
      "outputs": []
    },
    {
      "cell_type": "code",
      "metadata": {
        "id": "equal-gardening"
      },
      "source": [
        "del null_grid_time_time['index_right']\n",
        "\n",
        "null_grid_time_time = null_grid_time_time.rename(columns = {'혼잡시간강도':'time_max_inter'})"
      ],
      "id": "equal-gardening",
      "execution_count": null,
      "outputs": []
    },
    {
      "cell_type": "code",
      "metadata": {
        "id": "bearing-enemy"
      },
      "source": [
        "del temp_time['acci_cnt']\n",
        "del temp_time['geometry']"
      ],
      "id": "bearing-enemy",
      "execution_count": null,
      "outputs": []
    },
    {
      "cell_type": "code",
      "metadata": {
        "id": "personal-charter"
      },
      "source": [
        "final_time_data = pd.concat([temp_time, null_grid_time_time], axis=0)"
      ],
      "id": "personal-charter",
      "execution_count": null,
      "outputs": []
    },
    {
      "cell_type": "code",
      "metadata": {
        "id": "cardiac-monthly"
      },
      "source": [
        "final_time_data = final_time_data.groupby('gid',as_index=False).mean()"
      ],
      "id": "cardiac-monthly",
      "execution_count": null,
      "outputs": []
    },
    {
      "cell_type": "code",
      "metadata": {
        "id": "prostate-reducing"
      },
      "source": [
        "final_time_data = pd.merge(acc_cnt, final_time_data, on='gid', how='left')"
      ],
      "id": "prostate-reducing",
      "execution_count": null,
      "outputs": []
    },
    {
      "cell_type": "code",
      "metadata": {
        "id": "aggressive-installation",
        "outputId": "5a01b39f-6fcd-488f-addd-da4d577f7293"
      },
      "source": [
        "del final_time_data['acci_cnt']\n",
        "del final_time_data['geometry']\n",
        "\n",
        "final_time_data.head()"
      ],
      "id": "aggressive-installation",
      "execution_count": null,
      "outputs": [
        {
          "output_type": "execute_result",
          "data": {
            "text/html": [
              "<div>\n",
              "<style scoped>\n",
              "    .dataframe tbody tr th:only-of-type {\n",
              "        vertical-align: middle;\n",
              "    }\n",
              "\n",
              "    .dataframe tbody tr th {\n",
              "        vertical-align: top;\n",
              "    }\n",
              "\n",
              "    .dataframe thead th {\n",
              "        text-align: right;\n",
              "    }\n",
              "</style>\n",
              "<table border=\"1\" class=\"dataframe\">\n",
              "  <thead>\n",
              "    <tr style=\"text-align: right;\">\n",
              "      <th></th>\n",
              "      <th>gid</th>\n",
              "      <th>time_max_inter</th>\n",
              "    </tr>\n",
              "  </thead>\n",
              "  <tbody>\n",
              "    <tr>\n",
              "      <th>0</th>\n",
              "      <td>다바866110</td>\n",
              "      <td>4.42</td>\n",
              "    </tr>\n",
              "    <tr>\n",
              "      <th>1</th>\n",
              "      <td>다바823157</td>\n",
              "      <td>69.13</td>\n",
              "    </tr>\n",
              "    <tr>\n",
              "      <th>2</th>\n",
              "      <td>다바928260</td>\n",
              "      <td>93.81</td>\n",
              "    </tr>\n",
              "    <tr>\n",
              "      <th>3</th>\n",
              "      <td>다바931203</td>\n",
              "      <td>99.84</td>\n",
              "    </tr>\n",
              "    <tr>\n",
              "      <th>4</th>\n",
              "      <td>다바836109</td>\n",
              "      <td>97.22</td>\n",
              "    </tr>\n",
              "  </tbody>\n",
              "</table>\n",
              "</div>"
            ],
            "text/plain": [
              "        gid  time_max_inter\n",
              "0  다바866110            4.42\n",
              "1  다바823157           69.13\n",
              "2  다바928260           93.81\n",
              "3  다바931203           99.84\n",
              "4  다바836109           97.22"
            ]
          },
          "metadata": {
            "tags": []
          },
          "execution_count": 150
        }
      ]
    },
    {
      "cell_type": "markdown",
      "metadata": {
        "id": "electronic-excerpt"
      },
      "source": [
        "## 4. 교차로"
      ],
      "id": "electronic-excerpt"
    },
    {
      "cell_type": "code",
      "metadata": {
        "id": "brutal-edwards"
      },
      "source": [
        "grid = acc_cnt.copy()\n",
        "df_node = traffic_node.copy()"
      ],
      "id": "brutal-edwards",
      "execution_count": null,
      "outputs": []
    },
    {
      "cell_type": "code",
      "metadata": {
        "id": "danish-bowling"
      },
      "source": [
        "node = df_node[df_node['NODE_TYPE'] == '101']"
      ],
      "id": "danish-bowling",
      "execution_count": null,
      "outputs": []
    },
    {
      "cell_type": "code",
      "metadata": {
        "id": "military-savage"
      },
      "source": [
        "grid_node = gpd.sjoin(node, grid, how='left', op='intersects')"
      ],
      "id": "military-savage",
      "execution_count": null,
      "outputs": []
    },
    {
      "cell_type": "code",
      "metadata": {
        "id": "overhead-bearing"
      },
      "source": [
        "del grid_node['NODE_ID']\n",
        "del grid_node['NODE_NAME']\n",
        "del grid_node['REMARK']\n",
        "del grid_node['index_right']\n",
        "del grid_node['acci_cnt']"
      ],
      "id": "overhead-bearing",
      "execution_count": null,
      "outputs": []
    },
    {
      "cell_type": "code",
      "metadata": {
        "scrolled": true,
        "id": "confidential-seating"
      },
      "source": [
        "node_data = grid_node.groupby('gid', as_index=False).count()"
      ],
      "id": "confidential-seating",
      "execution_count": null,
      "outputs": []
    },
    {
      "cell_type": "code",
      "metadata": {
        "id": "earned-chapel"
      },
      "source": [
        "del node_data['geometry']"
      ],
      "id": "earned-chapel",
      "execution_count": null,
      "outputs": []
    },
    {
      "cell_type": "code",
      "metadata": {
        "id": "internal-liechtenstein"
      },
      "source": [
        "node_data = node_data.rename(columns = {'NODE_TYPE':'intersects'})"
      ],
      "id": "internal-liechtenstein",
      "execution_count": null,
      "outputs": []
    },
    {
      "cell_type": "code",
      "metadata": {
        "id": "domestic-confidence"
      },
      "source": [
        "final_node_data = pd.merge(acc_cnt, node_data, how='left', on='gid')"
      ],
      "id": "domestic-confidence",
      "execution_count": null,
      "outputs": []
    },
    {
      "cell_type": "code",
      "metadata": {
        "id": "shaped-screw"
      },
      "source": [
        "final_node_data = final_node_data.fillna(0)"
      ],
      "id": "shaped-screw",
      "execution_count": null,
      "outputs": []
    },
    {
      "cell_type": "code",
      "metadata": {
        "id": "brown-chosen",
        "outputId": "556fa39e-fdac-4738-b9ea-d0523d9ad61c"
      },
      "source": [
        "del final_node_data['acci_cnt']\n",
        "del final_node_data['geometry']\n",
        "\n",
        "final_node_data #intersects: 교차로 수, TURN_P: 회전제한유무 교차로(0:무 1~ : 제한있는 도로 숫자)"
      ],
      "id": "brown-chosen",
      "execution_count": null,
      "outputs": [
        {
          "output_type": "execute_result",
          "data": {
            "text/html": [
              "<div>\n",
              "<style scoped>\n",
              "    .dataframe tbody tr th:only-of-type {\n",
              "        vertical-align: middle;\n",
              "    }\n",
              "\n",
              "    .dataframe tbody tr th {\n",
              "        vertical-align: top;\n",
              "    }\n",
              "\n",
              "    .dataframe thead th {\n",
              "        text-align: right;\n",
              "    }\n",
              "</style>\n",
              "<table border=\"1\" class=\"dataframe\">\n",
              "  <thead>\n",
              "    <tr style=\"text-align: right;\">\n",
              "      <th></th>\n",
              "      <th>gid</th>\n",
              "      <th>intersects</th>\n",
              "      <th>TURN_P</th>\n",
              "    </tr>\n",
              "  </thead>\n",
              "  <tbody>\n",
              "    <tr>\n",
              "      <th>0</th>\n",
              "      <td>다바866110</td>\n",
              "      <td>0.0</td>\n",
              "      <td>0.0</td>\n",
              "    </tr>\n",
              "    <tr>\n",
              "      <th>1</th>\n",
              "      <td>다바823157</td>\n",
              "      <td>1.0</td>\n",
              "      <td>1.0</td>\n",
              "    </tr>\n",
              "    <tr>\n",
              "      <th>2</th>\n",
              "      <td>다바928260</td>\n",
              "      <td>2.0</td>\n",
              "      <td>2.0</td>\n",
              "    </tr>\n",
              "    <tr>\n",
              "      <th>3</th>\n",
              "      <td>다바931203</td>\n",
              "      <td>0.0</td>\n",
              "      <td>0.0</td>\n",
              "    </tr>\n",
              "    <tr>\n",
              "      <th>4</th>\n",
              "      <td>다바836109</td>\n",
              "      <td>0.0</td>\n",
              "      <td>0.0</td>\n",
              "    </tr>\n",
              "    <tr>\n",
              "      <th>...</th>\n",
              "      <td>...</td>\n",
              "      <td>...</td>\n",
              "      <td>...</td>\n",
              "    </tr>\n",
              "    <tr>\n",
              "      <th>54907</th>\n",
              "      <td>다바861065</td>\n",
              "      <td>0.0</td>\n",
              "      <td>0.0</td>\n",
              "    </tr>\n",
              "    <tr>\n",
              "      <th>54908</th>\n",
              "      <td>다바912036</td>\n",
              "      <td>0.0</td>\n",
              "      <td>0.0</td>\n",
              "    </tr>\n",
              "    <tr>\n",
              "      <th>54909</th>\n",
              "      <td>다바867189</td>\n",
              "      <td>0.0</td>\n",
              "      <td>0.0</td>\n",
              "    </tr>\n",
              "    <tr>\n",
              "      <th>54910</th>\n",
              "      <td>다바851062</td>\n",
              "      <td>0.0</td>\n",
              "      <td>0.0</td>\n",
              "    </tr>\n",
              "    <tr>\n",
              "      <th>54911</th>\n",
              "      <td>다바924104</td>\n",
              "      <td>0.0</td>\n",
              "      <td>0.0</td>\n",
              "    </tr>\n",
              "  </tbody>\n",
              "</table>\n",
              "<p>54912 rows × 3 columns</p>\n",
              "</div>"
            ],
            "text/plain": [
              "            gid  intersects  TURN_P\n",
              "0      다바866110         0.0     0.0\n",
              "1      다바823157         1.0     1.0\n",
              "2      다바928260         2.0     2.0\n",
              "3      다바931203         0.0     0.0\n",
              "4      다바836109         0.0     0.0\n",
              "...         ...         ...     ...\n",
              "54907  다바861065         0.0     0.0\n",
              "54908  다바912036         0.0     0.0\n",
              "54909  다바867189         0.0     0.0\n",
              "54910  다바851062         0.0     0.0\n",
              "54911  다바924104         0.0     0.0\n",
              "\n",
              "[54912 rows x 3 columns]"
            ]
          },
          "metadata": {
            "tags": []
          },
          "execution_count": 160
        }
      ]
    },
    {
      "cell_type": "markdown",
      "metadata": {
        "id": "affected-bowling"
      },
      "source": [
        "## > 통합 및 저장"
      ],
      "id": "affected-bowling"
    },
    {
      "cell_type": "code",
      "metadata": {
        "id": "noticed-brick",
        "outputId": "c11b9a84-3676-479f-fa23-cdbc441d1386"
      },
      "source": [
        "traffic_var = pd.merge(final_traffic_data, final_freq_data, how='left', on='gid')\n",
        "traffic_var = pd.merge(traffic_var, final_time_data, how='left', on='gid')\n",
        "traffic_var = pd.merge(traffic_var, final_node_data, how='left', on='gid')\n",
        "\n",
        "traffic_var.head()"
      ],
      "id": "noticed-brick",
      "execution_count": null,
      "outputs": [
        {
          "output_type": "execute_result",
          "data": {
            "text/html": [
              "<div>\n",
              "<style scoped>\n",
              "    .dataframe tbody tr th:only-of-type {\n",
              "        vertical-align: middle;\n",
              "    }\n",
              "\n",
              "    .dataframe tbody tr th {\n",
              "        vertical-align: top;\n",
              "    }\n",
              "\n",
              "    .dataframe thead th {\n",
              "        text-align: right;\n",
              "    }\n",
              "</style>\n",
              "<table border=\"1\" class=\"dataframe\">\n",
              "  <thead>\n",
              "    <tr style=\"text-align: right;\">\n",
              "      <th></th>\n",
              "      <th>gid</th>\n",
              "      <th>traffic_total_sum_inter</th>\n",
              "      <th>traffic_small_sum_inter</th>\n",
              "      <th>traffic_bus_sum_inter</th>\n",
              "      <th>traffic_big_sum_inter</th>\n",
              "      <th>oneway</th>\n",
              "      <th>car_lane</th>\n",
              "      <th>barrier</th>\n",
              "      <th>speed_0</th>\n",
              "      <th>speed_30</th>\n",
              "      <th>...</th>\n",
              "      <th>general</th>\n",
              "      <th>width_1</th>\n",
              "      <th>width_2</th>\n",
              "      <th>width_3</th>\n",
              "      <th>width_4</th>\n",
              "      <th>width_5</th>\n",
              "      <th>freq_max_inter</th>\n",
              "      <th>time_max_inter</th>\n",
              "      <th>intersects</th>\n",
              "      <th>TURN_P</th>\n",
              "    </tr>\n",
              "  </thead>\n",
              "  <tbody>\n",
              "    <tr>\n",
              "      <th>0</th>\n",
              "      <td>다바866110</td>\n",
              "      <td>16566.0</td>\n",
              "      <td>13997.0</td>\n",
              "      <td>183.0</td>\n",
              "      <td>2385.0</td>\n",
              "      <td>0.0</td>\n",
              "      <td>0.0</td>\n",
              "      <td>2.0</td>\n",
              "      <td>2.0</td>\n",
              "      <td>0.0</td>\n",
              "      <td>...</td>\n",
              "      <td>2.0</td>\n",
              "      <td>0.0</td>\n",
              "      <td>0.0</td>\n",
              "      <td>2.0</td>\n",
              "      <td>0.0</td>\n",
              "      <td>0.0</td>\n",
              "      <td>0.53</td>\n",
              "      <td>4.42</td>\n",
              "      <td>0.0</td>\n",
              "      <td>0.0</td>\n",
              "    </tr>\n",
              "    <tr>\n",
              "      <th>1</th>\n",
              "      <td>다바823157</td>\n",
              "      <td>9453.0</td>\n",
              "      <td>8175.0</td>\n",
              "      <td>81.0</td>\n",
              "      <td>1199.0</td>\n",
              "      <td>0.0</td>\n",
              "      <td>0.0</td>\n",
              "      <td>0.0</td>\n",
              "      <td>0.0</td>\n",
              "      <td>0.0</td>\n",
              "      <td>...</td>\n",
              "      <td>8.0</td>\n",
              "      <td>0.0</td>\n",
              "      <td>0.0</td>\n",
              "      <td>4.0</td>\n",
              "      <td>4.0</td>\n",
              "      <td>0.0</td>\n",
              "      <td>51.51</td>\n",
              "      <td>69.13</td>\n",
              "      <td>1.0</td>\n",
              "      <td>1.0</td>\n",
              "    </tr>\n",
              "    <tr>\n",
              "      <th>2</th>\n",
              "      <td>다바928260</td>\n",
              "      <td>30270.0</td>\n",
              "      <td>26108.0</td>\n",
              "      <td>260.0</td>\n",
              "      <td>3905.0</td>\n",
              "      <td>0.0</td>\n",
              "      <td>0.0</td>\n",
              "      <td>0.0</td>\n",
              "      <td>0.0</td>\n",
              "      <td>4.0</td>\n",
              "      <td>...</td>\n",
              "      <td>8.0</td>\n",
              "      <td>0.0</td>\n",
              "      <td>8.0</td>\n",
              "      <td>0.0</td>\n",
              "      <td>0.0</td>\n",
              "      <td>0.0</td>\n",
              "      <td>69.34</td>\n",
              "      <td>93.81</td>\n",
              "      <td>2.0</td>\n",
              "      <td>2.0</td>\n",
              "    </tr>\n",
              "    <tr>\n",
              "      <th>3</th>\n",
              "      <td>다바931203</td>\n",
              "      <td>23192.0</td>\n",
              "      <td>19396.0</td>\n",
              "      <td>264.0</td>\n",
              "      <td>3531.0</td>\n",
              "      <td>0.0</td>\n",
              "      <td>0.0</td>\n",
              "      <td>2.0</td>\n",
              "      <td>0.0</td>\n",
              "      <td>0.0</td>\n",
              "      <td>...</td>\n",
              "      <td>2.0</td>\n",
              "      <td>0.0</td>\n",
              "      <td>0.0</td>\n",
              "      <td>0.0</td>\n",
              "      <td>2.0</td>\n",
              "      <td>0.0</td>\n",
              "      <td>99.52</td>\n",
              "      <td>99.84</td>\n",
              "      <td>0.0</td>\n",
              "      <td>0.0</td>\n",
              "    </tr>\n",
              "    <tr>\n",
              "      <th>4</th>\n",
              "      <td>다바836109</td>\n",
              "      <td>5431.0</td>\n",
              "      <td>4880.0</td>\n",
              "      <td>44.0</td>\n",
              "      <td>508.0</td>\n",
              "      <td>0.0</td>\n",
              "      <td>0.0</td>\n",
              "      <td>0.0</td>\n",
              "      <td>8.0</td>\n",
              "      <td>0.0</td>\n",
              "      <td>...</td>\n",
              "      <td>8.0</td>\n",
              "      <td>2.0</td>\n",
              "      <td>2.0</td>\n",
              "      <td>4.0</td>\n",
              "      <td>0.0</td>\n",
              "      <td>0.0</td>\n",
              "      <td>81.58</td>\n",
              "      <td>97.22</td>\n",
              "      <td>0.0</td>\n",
              "      <td>0.0</td>\n",
              "    </tr>\n",
              "  </tbody>\n",
              "</table>\n",
              "<p>5 rows × 29 columns</p>\n",
              "</div>"
            ],
            "text/plain": [
              "        gid  traffic_total_sum_inter  traffic_small_sum_inter  \\\n",
              "0  다바866110                  16566.0                  13997.0   \n",
              "1  다바823157                   9453.0                   8175.0   \n",
              "2  다바928260                  30270.0                  26108.0   \n",
              "3  다바931203                  23192.0                  19396.0   \n",
              "4  다바836109                   5431.0                   4880.0   \n",
              "\n",
              "   traffic_bus_sum_inter  traffic_big_sum_inter  oneway  car_lane  barrier  \\\n",
              "0                  183.0                 2385.0     0.0       0.0      2.0   \n",
              "1                   81.0                 1199.0     0.0       0.0      0.0   \n",
              "2                  260.0                 3905.0     0.0       0.0      0.0   \n",
              "3                  264.0                 3531.0     0.0       0.0      2.0   \n",
              "4                   44.0                  508.0     0.0       0.0      0.0   \n",
              "\n",
              "   speed_0  speed_30  ...  general  width_1  width_2  width_3  width_4  \\\n",
              "0      2.0       0.0  ...      2.0      0.0      0.0      2.0      0.0   \n",
              "1      0.0       0.0  ...      8.0      0.0      0.0      4.0      4.0   \n",
              "2      0.0       4.0  ...      8.0      0.0      8.0      0.0      0.0   \n",
              "3      0.0       0.0  ...      2.0      0.0      0.0      0.0      2.0   \n",
              "4      8.0       0.0  ...      8.0      2.0      2.0      4.0      0.0   \n",
              "\n",
              "   width_5  freq_max_inter  time_max_inter  intersects  TURN_P  \n",
              "0      0.0            0.53            4.42         0.0     0.0  \n",
              "1      0.0           51.51           69.13         1.0     1.0  \n",
              "2      0.0           69.34           93.81         2.0     2.0  \n",
              "3      0.0           99.52           99.84         0.0     0.0  \n",
              "4      0.0           81.58           97.22         0.0     0.0  \n",
              "\n",
              "[5 rows x 29 columns]"
            ]
          },
          "metadata": {
            "tags": []
          },
          "execution_count": 161
        }
      ]
    },
    {
      "cell_type": "code",
      "metadata": {
        "id": "younger-medicare",
        "outputId": "917d9421-0344-4510-fe1a-9ac4d71ec13d"
      },
      "source": [
        "grid = acc_cnt[['gid', 'geometry']]\n",
        "\n",
        "traffic_var = pd.merge(grid, traffic_var, how='left',on='gid')\n",
        "traffic_var.fillna(0, inplace=True)\n",
        "traffic_var"
      ],
      "id": "younger-medicare",
      "execution_count": null,
      "outputs": [
        {
          "output_type": "execute_result",
          "data": {
            "text/html": [
              "<div>\n",
              "<style scoped>\n",
              "    .dataframe tbody tr th:only-of-type {\n",
              "        vertical-align: middle;\n",
              "    }\n",
              "\n",
              "    .dataframe tbody tr th {\n",
              "        vertical-align: top;\n",
              "    }\n",
              "\n",
              "    .dataframe thead th {\n",
              "        text-align: right;\n",
              "    }\n",
              "</style>\n",
              "<table border=\"1\" class=\"dataframe\">\n",
              "  <thead>\n",
              "    <tr style=\"text-align: right;\">\n",
              "      <th></th>\n",
              "      <th>gid</th>\n",
              "      <th>geometry</th>\n",
              "      <th>traffic_total_sum_inter</th>\n",
              "      <th>traffic_small_sum_inter</th>\n",
              "      <th>traffic_bus_sum_inter</th>\n",
              "      <th>traffic_big_sum_inter</th>\n",
              "      <th>oneway</th>\n",
              "      <th>car_lane</th>\n",
              "      <th>barrier</th>\n",
              "      <th>speed_0</th>\n",
              "      <th>...</th>\n",
              "      <th>general</th>\n",
              "      <th>width_1</th>\n",
              "      <th>width_2</th>\n",
              "      <th>width_3</th>\n",
              "      <th>width_4</th>\n",
              "      <th>width_5</th>\n",
              "      <th>freq_max_inter</th>\n",
              "      <th>time_max_inter</th>\n",
              "      <th>intersects</th>\n",
              "      <th>TURN_P</th>\n",
              "    </tr>\n",
              "  </thead>\n",
              "  <tbody>\n",
              "    <tr>\n",
              "      <th>0</th>\n",
              "      <td>다바866110</td>\n",
              "      <td>MULTIPOLYGON (((127.35076 36.29622, 127.35076 ...</td>\n",
              "      <td>16566.0</td>\n",
              "      <td>13997.0</td>\n",
              "      <td>183.0</td>\n",
              "      <td>2385.0</td>\n",
              "      <td>0.0</td>\n",
              "      <td>0.0</td>\n",
              "      <td>2.0</td>\n",
              "      <td>2.0</td>\n",
              "      <td>...</td>\n",
              "      <td>2.0</td>\n",
              "      <td>0.0</td>\n",
              "      <td>0.0</td>\n",
              "      <td>2.0</td>\n",
              "      <td>0.0</td>\n",
              "      <td>0.0</td>\n",
              "      <td>0.53</td>\n",
              "      <td>4.42</td>\n",
              "      <td>0.0</td>\n",
              "      <td>0.0</td>\n",
              "    </tr>\n",
              "    <tr>\n",
              "      <th>1</th>\n",
              "      <td>다바823157</td>\n",
              "      <td>MULTIPOLYGON (((127.30277 36.33853, 127.30276 ...</td>\n",
              "      <td>9453.0</td>\n",
              "      <td>8175.0</td>\n",
              "      <td>81.0</td>\n",
              "      <td>1199.0</td>\n",
              "      <td>0.0</td>\n",
              "      <td>0.0</td>\n",
              "      <td>0.0</td>\n",
              "      <td>0.0</td>\n",
              "      <td>...</td>\n",
              "      <td>8.0</td>\n",
              "      <td>0.0</td>\n",
              "      <td>0.0</td>\n",
              "      <td>4.0</td>\n",
              "      <td>4.0</td>\n",
              "      <td>0.0</td>\n",
              "      <td>51.51</td>\n",
              "      <td>69.13</td>\n",
              "      <td>1.0</td>\n",
              "      <td>1.0</td>\n",
              "    </tr>\n",
              "    <tr>\n",
              "      <th>2</th>\n",
              "      <td>다바928260</td>\n",
              "      <td>MULTIPOLYGON (((127.41967 36.43152, 127.41967 ...</td>\n",
              "      <td>30270.0</td>\n",
              "      <td>26108.0</td>\n",
              "      <td>260.0</td>\n",
              "      <td>3905.0</td>\n",
              "      <td>0.0</td>\n",
              "      <td>0.0</td>\n",
              "      <td>0.0</td>\n",
              "      <td>0.0</td>\n",
              "      <td>...</td>\n",
              "      <td>8.0</td>\n",
              "      <td>0.0</td>\n",
              "      <td>8.0</td>\n",
              "      <td>0.0</td>\n",
              "      <td>0.0</td>\n",
              "      <td>0.0</td>\n",
              "      <td>69.34</td>\n",
              "      <td>93.81</td>\n",
              "      <td>2.0</td>\n",
              "      <td>2.0</td>\n",
              "    </tr>\n",
              "    <tr>\n",
              "      <th>3</th>\n",
              "      <td>다바931203</td>\n",
              "      <td>MULTIPOLYGON (((127.42307 36.38013, 127.42307 ...</td>\n",
              "      <td>23192.0</td>\n",
              "      <td>19396.0</td>\n",
              "      <td>264.0</td>\n",
              "      <td>3531.0</td>\n",
              "      <td>0.0</td>\n",
              "      <td>0.0</td>\n",
              "      <td>2.0</td>\n",
              "      <td>0.0</td>\n",
              "      <td>...</td>\n",
              "      <td>2.0</td>\n",
              "      <td>0.0</td>\n",
              "      <td>0.0</td>\n",
              "      <td>0.0</td>\n",
              "      <td>2.0</td>\n",
              "      <td>0.0</td>\n",
              "      <td>99.52</td>\n",
              "      <td>99.84</td>\n",
              "      <td>0.0</td>\n",
              "      <td>0.0</td>\n",
              "    </tr>\n",
              "    <tr>\n",
              "      <th>4</th>\n",
              "      <td>다바836109</td>\n",
              "      <td>MULTIPOLYGON (((127.31735 36.29527, 127.31735 ...</td>\n",
              "      <td>5431.0</td>\n",
              "      <td>4880.0</td>\n",
              "      <td>44.0</td>\n",
              "      <td>508.0</td>\n",
              "      <td>0.0</td>\n",
              "      <td>0.0</td>\n",
              "      <td>0.0</td>\n",
              "      <td>8.0</td>\n",
              "      <td>...</td>\n",
              "      <td>8.0</td>\n",
              "      <td>2.0</td>\n",
              "      <td>2.0</td>\n",
              "      <td>4.0</td>\n",
              "      <td>0.0</td>\n",
              "      <td>0.0</td>\n",
              "      <td>81.58</td>\n",
              "      <td>97.22</td>\n",
              "      <td>0.0</td>\n",
              "      <td>0.0</td>\n",
              "    </tr>\n",
              "    <tr>\n",
              "      <th>...</th>\n",
              "      <td>...</td>\n",
              "      <td>...</td>\n",
              "      <td>...</td>\n",
              "      <td>...</td>\n",
              "      <td>...</td>\n",
              "      <td>...</td>\n",
              "      <td>...</td>\n",
              "      <td>...</td>\n",
              "      <td>...</td>\n",
              "      <td>...</td>\n",
              "      <td>...</td>\n",
              "      <td>...</td>\n",
              "      <td>...</td>\n",
              "      <td>...</td>\n",
              "      <td>...</td>\n",
              "      <td>...</td>\n",
              "      <td>...</td>\n",
              "      <td>...</td>\n",
              "      <td>...</td>\n",
              "      <td>...</td>\n",
              "      <td>...</td>\n",
              "    </tr>\n",
              "    <tr>\n",
              "      <th>54907</th>\n",
              "      <td>다바861065</td>\n",
              "      <td>MULTIPOLYGON (((127.34527 36.25565, 127.34527 ...</td>\n",
              "      <td>0.0</td>\n",
              "      <td>0.0</td>\n",
              "      <td>0.0</td>\n",
              "      <td>0.0</td>\n",
              "      <td>0.0</td>\n",
              "      <td>0.0</td>\n",
              "      <td>0.0</td>\n",
              "      <td>0.0</td>\n",
              "      <td>...</td>\n",
              "      <td>0.0</td>\n",
              "      <td>0.0</td>\n",
              "      <td>0.0</td>\n",
              "      <td>0.0</td>\n",
              "      <td>0.0</td>\n",
              "      <td>0.0</td>\n",
              "      <td>0.00</td>\n",
              "      <td>0.00</td>\n",
              "      <td>0.0</td>\n",
              "      <td>0.0</td>\n",
              "    </tr>\n",
              "    <tr>\n",
              "      <th>54908</th>\n",
              "      <td>다바912036</td>\n",
              "      <td>MULTIPOLYGON (((127.40208 36.22956, 127.40207 ...</td>\n",
              "      <td>0.0</td>\n",
              "      <td>0.0</td>\n",
              "      <td>0.0</td>\n",
              "      <td>0.0</td>\n",
              "      <td>0.0</td>\n",
              "      <td>0.0</td>\n",
              "      <td>0.0</td>\n",
              "      <td>0.0</td>\n",
              "      <td>...</td>\n",
              "      <td>0.0</td>\n",
              "      <td>0.0</td>\n",
              "      <td>0.0</td>\n",
              "      <td>0.0</td>\n",
              "      <td>0.0</td>\n",
              "      <td>0.0</td>\n",
              "      <td>0.00</td>\n",
              "      <td>0.00</td>\n",
              "      <td>0.0</td>\n",
              "      <td>0.0</td>\n",
              "    </tr>\n",
              "    <tr>\n",
              "      <th>54909</th>\n",
              "      <td>다바867189</td>\n",
              "      <td>MULTIPOLYGON (((127.35174 36.36745, 127.35174 ...</td>\n",
              "      <td>0.0</td>\n",
              "      <td>0.0</td>\n",
              "      <td>0.0</td>\n",
              "      <td>0.0</td>\n",
              "      <td>0.0</td>\n",
              "      <td>0.0</td>\n",
              "      <td>0.0</td>\n",
              "      <td>0.0</td>\n",
              "      <td>...</td>\n",
              "      <td>0.0</td>\n",
              "      <td>0.0</td>\n",
              "      <td>0.0</td>\n",
              "      <td>0.0</td>\n",
              "      <td>0.0</td>\n",
              "      <td>0.0</td>\n",
              "      <td>0.00</td>\n",
              "      <td>0.00</td>\n",
              "      <td>0.0</td>\n",
              "      <td>0.0</td>\n",
              "    </tr>\n",
              "    <tr>\n",
              "      <th>54910</th>\n",
              "      <td>다바851062</td>\n",
              "      <td>MULTIPOLYGON (((127.33415 36.25293, 127.33415 ...</td>\n",
              "      <td>0.0</td>\n",
              "      <td>0.0</td>\n",
              "      <td>0.0</td>\n",
              "      <td>0.0</td>\n",
              "      <td>0.0</td>\n",
              "      <td>0.0</td>\n",
              "      <td>0.0</td>\n",
              "      <td>0.0</td>\n",
              "      <td>...</td>\n",
              "      <td>0.0</td>\n",
              "      <td>0.0</td>\n",
              "      <td>0.0</td>\n",
              "      <td>0.0</td>\n",
              "      <td>0.0</td>\n",
              "      <td>0.0</td>\n",
              "      <td>0.00</td>\n",
              "      <td>0.00</td>\n",
              "      <td>0.0</td>\n",
              "      <td>0.0</td>\n",
              "    </tr>\n",
              "    <tr>\n",
              "      <th>54911</th>\n",
              "      <td>다바924104</td>\n",
              "      <td>MULTIPOLYGON (((127.41536 36.29088, 127.41536 ...</td>\n",
              "      <td>0.0</td>\n",
              "      <td>0.0</td>\n",
              "      <td>0.0</td>\n",
              "      <td>0.0</td>\n",
              "      <td>0.0</td>\n",
              "      <td>0.0</td>\n",
              "      <td>0.0</td>\n",
              "      <td>0.0</td>\n",
              "      <td>...</td>\n",
              "      <td>0.0</td>\n",
              "      <td>0.0</td>\n",
              "      <td>0.0</td>\n",
              "      <td>0.0</td>\n",
              "      <td>0.0</td>\n",
              "      <td>0.0</td>\n",
              "      <td>0.00</td>\n",
              "      <td>0.00</td>\n",
              "      <td>0.0</td>\n",
              "      <td>0.0</td>\n",
              "    </tr>\n",
              "  </tbody>\n",
              "</table>\n",
              "<p>54912 rows × 30 columns</p>\n",
              "</div>"
            ],
            "text/plain": [
              "            gid                                           geometry  \\\n",
              "0      다바866110  MULTIPOLYGON (((127.35076 36.29622, 127.35076 ...   \n",
              "1      다바823157  MULTIPOLYGON (((127.30277 36.33853, 127.30276 ...   \n",
              "2      다바928260  MULTIPOLYGON (((127.41967 36.43152, 127.41967 ...   \n",
              "3      다바931203  MULTIPOLYGON (((127.42307 36.38013, 127.42307 ...   \n",
              "4      다바836109  MULTIPOLYGON (((127.31735 36.29527, 127.31735 ...   \n",
              "...         ...                                                ...   \n",
              "54907  다바861065  MULTIPOLYGON (((127.34527 36.25565, 127.34527 ...   \n",
              "54908  다바912036  MULTIPOLYGON (((127.40208 36.22956, 127.40207 ...   \n",
              "54909  다바867189  MULTIPOLYGON (((127.35174 36.36745, 127.35174 ...   \n",
              "54910  다바851062  MULTIPOLYGON (((127.33415 36.25293, 127.33415 ...   \n",
              "54911  다바924104  MULTIPOLYGON (((127.41536 36.29088, 127.41536 ...   \n",
              "\n",
              "       traffic_total_sum_inter  traffic_small_sum_inter  \\\n",
              "0                      16566.0                  13997.0   \n",
              "1                       9453.0                   8175.0   \n",
              "2                      30270.0                  26108.0   \n",
              "3                      23192.0                  19396.0   \n",
              "4                       5431.0                   4880.0   \n",
              "...                        ...                      ...   \n",
              "54907                      0.0                      0.0   \n",
              "54908                      0.0                      0.0   \n",
              "54909                      0.0                      0.0   \n",
              "54910                      0.0                      0.0   \n",
              "54911                      0.0                      0.0   \n",
              "\n",
              "       traffic_bus_sum_inter  traffic_big_sum_inter  oneway  car_lane  \\\n",
              "0                      183.0                 2385.0     0.0       0.0   \n",
              "1                       81.0                 1199.0     0.0       0.0   \n",
              "2                      260.0                 3905.0     0.0       0.0   \n",
              "3                      264.0                 3531.0     0.0       0.0   \n",
              "4                       44.0                  508.0     0.0       0.0   \n",
              "...                      ...                    ...     ...       ...   \n",
              "54907                    0.0                    0.0     0.0       0.0   \n",
              "54908                    0.0                    0.0     0.0       0.0   \n",
              "54909                    0.0                    0.0     0.0       0.0   \n",
              "54910                    0.0                    0.0     0.0       0.0   \n",
              "54911                    0.0                    0.0     0.0       0.0   \n",
              "\n",
              "       barrier  speed_0  ...  general  width_1  width_2  width_3  width_4  \\\n",
              "0          2.0      2.0  ...      2.0      0.0      0.0      2.0      0.0   \n",
              "1          0.0      0.0  ...      8.0      0.0      0.0      4.0      4.0   \n",
              "2          0.0      0.0  ...      8.0      0.0      8.0      0.0      0.0   \n",
              "3          2.0      0.0  ...      2.0      0.0      0.0      0.0      2.0   \n",
              "4          0.0      8.0  ...      8.0      2.0      2.0      4.0      0.0   \n",
              "...        ...      ...  ...      ...      ...      ...      ...      ...   \n",
              "54907      0.0      0.0  ...      0.0      0.0      0.0      0.0      0.0   \n",
              "54908      0.0      0.0  ...      0.0      0.0      0.0      0.0      0.0   \n",
              "54909      0.0      0.0  ...      0.0      0.0      0.0      0.0      0.0   \n",
              "54910      0.0      0.0  ...      0.0      0.0      0.0      0.0      0.0   \n",
              "54911      0.0      0.0  ...      0.0      0.0      0.0      0.0      0.0   \n",
              "\n",
              "       width_5  freq_max_inter  time_max_inter  intersects  TURN_P  \n",
              "0          0.0            0.53            4.42         0.0     0.0  \n",
              "1          0.0           51.51           69.13         1.0     1.0  \n",
              "2          0.0           69.34           93.81         2.0     2.0  \n",
              "3          0.0           99.52           99.84         0.0     0.0  \n",
              "4          0.0           81.58           97.22         0.0     0.0  \n",
              "...        ...             ...             ...         ...     ...  \n",
              "54907      0.0            0.00            0.00         0.0     0.0  \n",
              "54908      0.0            0.00            0.00         0.0     0.0  \n",
              "54909      0.0            0.00            0.00         0.0     0.0  \n",
              "54910      0.0            0.00            0.00         0.0     0.0  \n",
              "54911      0.0            0.00            0.00         0.0     0.0  \n",
              "\n",
              "[54912 rows x 30 columns]"
            ]
          },
          "metadata": {
            "tags": []
          },
          "execution_count": 162
        }
      ]
    },
    {
      "cell_type": "code",
      "metadata": {
        "id": "impaired-consistency"
      },
      "source": [
        "traffic_var.to_file('data_pre/traffic_var.geojson', driver='GeoJSON')"
      ],
      "id": "impaired-consistency",
      "execution_count": null,
      "outputs": []
    },
    {
      "cell_type": "markdown",
      "metadata": {
        "id": "apart-delicious"
      },
      "source": [
        "----------------\n",
        "\n",
        "# 건물 관련 변수\n",
        "\n",
        "    1. 전체건물\n",
        "    2. 주거용 건물\n",
        "    3. 사무용 건물\n",
        "    4. 기타 건물\n",
        "    \n",
        "    > 통합 및 변수\n",
        "    \n",
        "-----------------"
      ],
      "id": "apart-delicious"
    },
    {
      "cell_type": "markdown",
      "metadata": {
        "id": "biblical-universe"
      },
      "source": [
        "## 1. 전체 건물 개수"
      ],
      "id": "biblical-universe"
    },
    {
      "cell_type": "code",
      "metadata": {
        "id": "unusual-conditioning"
      },
      "source": [
        "# 병합을 위한 기준격자 데이터 설정 : grid\n",
        "\n",
        "grid = acc_cnt.copy()\n",
        "grid = grid.loc[:, ['gid', 'geometry']]"
      ],
      "id": "unusual-conditioning",
      "execution_count": null,
      "outputs": []
    },
    {
      "cell_type": "code",
      "metadata": {
        "id": "faced-strain"
      },
      "source": [
        "# 건물구분용도 코드를 활용해 각 건물을 HSE / OFF / OTH 유형으로 분류\n",
        "\n",
        "temp = building.copy()\n",
        "temp['BDTYP_CD_short'] = [int(x[0:3]) for x in temp.BDTYP_CD]\n",
        "\n",
        "temp['BDTYP'] = 'OTH'\n",
        "\n",
        "temp.BDTYP[np.where(temp.BDTYP_CD_short < 30)[0]] = 'HSE'\n",
        "\n",
        "temp.BDTYP[np.where( (temp.BDTYP_CD_short == 44)|\n",
        "                     (temp.BDTYP_CD_short == 100)|\n",
        "                     (temp.BDTYP_CD_short == 101)|\n",
        "                     (temp.BDTYP_CD_short == 102)   )[0]] = 'OFF'\n",
        "\n",
        "temp.geometry = temp.geometry.centroid\n",
        "\n",
        "building_temp = temp.loc[:, ['BDTYP', 'geometry']]"
      ],
      "id": "faced-strain",
      "execution_count": null,
      "outputs": []
    },
    {
      "cell_type": "code",
      "metadata": {
        "id": "double-liberal"
      },
      "source": [
        "temp = building_temp.copy()\n",
        "temp['building_tot'] = 1\n",
        "\n",
        "# jtemp는 building_temp 데이터를 기준데이터의 격자에 할당한 데이터\n",
        "jtemp = gpd.sjoin(temp, grid, how='left')\n",
        "jtemp = jtemp.loc[:, ['gid', 'building_tot', 'geometry']]\n",
        "\n",
        "# rtemp는 jtemp에서 격자별로 몇개의 building_tot가 있는지 정리한 데이터\n",
        "rtemp = jtemp.groupby('gid', as_index=False).count()\n",
        "rtemp = rtemp.loc[:, ['gid', 'building_tot']]\n",
        "\n",
        "# mtemp는 rtemp에서 더 확장해 대전시 모든 격자에 building_tot 개수 할당한 데이터\n",
        "mtemp = pd.merge(grid, rtemp, on='gid', how='left')\n",
        "mtemp = mtemp.fillna(0)\n",
        "mtemp.building_tot = mtemp.building_tot.astype('int')\n",
        "\n",
        "# 최종적으로 building_tot 데이터로 기준데이터의 격자에 building_tot 개수 변수 병합\n",
        "building_tot = mtemp.loc[:, ['gid', 'building_tot']]"
      ],
      "id": "double-liberal",
      "execution_count": null,
      "outputs": []
    },
    {
      "cell_type": "markdown",
      "metadata": {
        "id": "historical-teens"
      },
      "source": [
        "## 2. 주거용 건물 개수"
      ],
      "id": "historical-teens"
    },
    {
      "cell_type": "code",
      "metadata": {
        "id": "subject-server"
      },
      "source": [
        "temp = building_temp.copy()\n",
        "temp = temp[temp.BDTYP=='HSE']\n",
        "temp['house'] = 1\n",
        "\n",
        "# jtemp는 building_temp 데이터를 기준데이터의 격자에 할당한 데이터\n",
        "jtemp = gpd.sjoin(temp, grid, how='left')\n",
        "jtemp = jtemp.loc[:, ['gid', 'house', 'geometry']]\n",
        "\n",
        "# rtemp는 jtemp에서 격자별로 몇개의 house가 있는지 정리한 데이터\n",
        "rtemp = jtemp.groupby('gid', as_index=False).count()\n",
        "rtemp = rtemp.loc[:, ['gid', 'house']]\n",
        "\n",
        "# mtemp는 rtemp에서 더 확장해 대전시 모든 격자에 house 개수 할당한 데이터\n",
        "mtemp = pd.merge(grid, rtemp, on='gid', how='left')\n",
        "mtemp = mtemp.fillna(0)\n",
        "mtemp.house = mtemp.house.astype('int')\n",
        "\n",
        "# 최종적으로 house 데이터로 기준데이터의 격자에 house 개수 변수 병합\n",
        "house = mtemp.loc[:, ['gid', 'house']]"
      ],
      "id": "subject-server",
      "execution_count": null,
      "outputs": []
    },
    {
      "cell_type": "markdown",
      "metadata": {
        "id": "honey-hierarchy"
      },
      "source": [
        "## 3. 사무용 건물 개수"
      ],
      "id": "honey-hierarchy"
    },
    {
      "cell_type": "code",
      "metadata": {
        "id": "behavioral-holiday"
      },
      "source": [
        "temp = building_temp.copy()\n",
        "temp = temp[temp.BDTYP=='OFF']\n",
        "temp['office'] = 1\n",
        "\n",
        "# jtemp는 building_temp 데이터를 기준데이터의 격자에 할당한 데이터\n",
        "jtemp = gpd.sjoin(temp, grid, how='left')\n",
        "jtemp = jtemp.loc[:, ['gid', 'office', 'geometry']]\n",
        "\n",
        "# rtemp는 jtemp에서 격자별로 몇개의 office 있는지 정리한 데이터\n",
        "rtemp = jtemp.groupby('gid', as_index=False).count()\n",
        "rtemp = rtemp.loc[:, ['gid', 'office']]\n",
        "\n",
        "# mtemp는 rtemp에서 더 확장해 대전시 모든 격자에 office 개수 할당한 데이터\n",
        "mtemp = pd.merge(grid, rtemp, on='gid', how='left')\n",
        "mtemp = mtemp.fillna(0)\n",
        "mtemp.office = mtemp.office.astype('int')\n",
        "\n",
        "# 최종적으로 office 데이터로 기준데이터의 격자에 office 개수 변수 병합\n",
        "office = mtemp.loc[:, ['gid', 'office']]"
      ],
      "id": "behavioral-holiday",
      "execution_count": null,
      "outputs": []
    },
    {
      "cell_type": "markdown",
      "metadata": {
        "id": "pending-simple"
      },
      "source": [
        "## 4. 기타 건물 개수"
      ],
      "id": "pending-simple"
    },
    {
      "cell_type": "code",
      "metadata": {
        "id": "regulated-charm"
      },
      "source": [
        "## 병합할 데이터 : 건물(house)\n",
        "\n",
        "temp = building_temp.copy()\n",
        "temp = temp[temp.BDTYP=='OTH']\n",
        "temp['other'] = 1\n",
        "\n",
        "# jtemp는 building_temp 데이터를 기준데이터의 격자에 할당한 데이터\n",
        "jtemp = gpd.sjoin(temp, grid, how='left')\n",
        "jtemp = jtemp.loc[:, ['gid', 'other', 'geometry']]\n",
        "\n",
        "# rtemp는 jtemp에서 격자별로 몇개의 other 있는지 정리한 데이터\n",
        "rtemp = jtemp.groupby('gid', as_index=False).count()\n",
        "rtemp = rtemp.loc[:, ['gid', 'other']]\n",
        "\n",
        "# mtemp는 rtemp에서 더 확장해 대전시 모든 격자에 other 개수 할당한 데이터\n",
        "mtemp = pd.merge(grid, rtemp, on='gid', how='left')\n",
        "mtemp = mtemp.fillna(0)\n",
        "mtemp.other = mtemp.other.astype('int')\n",
        "\n",
        "# 최종적으로 other 데이터로 기준데이터의 격자에 other 개수 변수 병합\n",
        "other = mtemp.loc[:, ['gid', 'other']]"
      ],
      "id": "regulated-charm",
      "execution_count": null,
      "outputs": []
    },
    {
      "cell_type": "markdown",
      "metadata": {
        "id": "informative-shock"
      },
      "source": [
        "## > 통합 및 저장"
      ],
      "id": "informative-shock"
    },
    {
      "cell_type": "code",
      "metadata": {
        "scrolled": false,
        "id": "straight-delicious",
        "outputId": "bab64858-e51a-4c10-d7b8-1014d32d22ce"
      },
      "source": [
        "building_var = pd.merge(grid, building_tot, on='gid', how='left')\n",
        "building_var = pd.merge(building_var, house, on='gid', how='left')\n",
        "building_var = pd.merge(building_var, office, on='gid', how='left')\n",
        "building_var = pd.merge(building_var, other, on='gid', how='left')\n",
        "building_var"
      ],
      "id": "straight-delicious",
      "execution_count": null,
      "outputs": [
        {
          "output_type": "execute_result",
          "data": {
            "text/html": [
              "<div>\n",
              "<style scoped>\n",
              "    .dataframe tbody tr th:only-of-type {\n",
              "        vertical-align: middle;\n",
              "    }\n",
              "\n",
              "    .dataframe tbody tr th {\n",
              "        vertical-align: top;\n",
              "    }\n",
              "\n",
              "    .dataframe thead th {\n",
              "        text-align: right;\n",
              "    }\n",
              "</style>\n",
              "<table border=\"1\" class=\"dataframe\">\n",
              "  <thead>\n",
              "    <tr style=\"text-align: right;\">\n",
              "      <th></th>\n",
              "      <th>gid</th>\n",
              "      <th>geometry</th>\n",
              "      <th>building_tot</th>\n",
              "      <th>house</th>\n",
              "      <th>office</th>\n",
              "      <th>other</th>\n",
              "    </tr>\n",
              "  </thead>\n",
              "  <tbody>\n",
              "    <tr>\n",
              "      <th>0</th>\n",
              "      <td>다바866110</td>\n",
              "      <td>MULTIPOLYGON (((127.35076 36.29622, 127.35076 ...</td>\n",
              "      <td>6</td>\n",
              "      <td>6</td>\n",
              "      <td>0</td>\n",
              "      <td>0</td>\n",
              "    </tr>\n",
              "    <tr>\n",
              "      <th>1</th>\n",
              "      <td>다바823157</td>\n",
              "      <td>MULTIPOLYGON (((127.30277 36.33853, 127.30276 ...</td>\n",
              "      <td>2</td>\n",
              "      <td>2</td>\n",
              "      <td>0</td>\n",
              "      <td>0</td>\n",
              "    </tr>\n",
              "    <tr>\n",
              "      <th>2</th>\n",
              "      <td>다바928260</td>\n",
              "      <td>MULTIPOLYGON (((127.41967 36.43152, 127.41967 ...</td>\n",
              "      <td>8</td>\n",
              "      <td>5</td>\n",
              "      <td>0</td>\n",
              "      <td>3</td>\n",
              "    </tr>\n",
              "    <tr>\n",
              "      <th>3</th>\n",
              "      <td>다바931203</td>\n",
              "      <td>MULTIPOLYGON (((127.42307 36.38013, 127.42307 ...</td>\n",
              "      <td>2</td>\n",
              "      <td>0</td>\n",
              "      <td>0</td>\n",
              "      <td>2</td>\n",
              "    </tr>\n",
              "    <tr>\n",
              "      <th>4</th>\n",
              "      <td>다바836109</td>\n",
              "      <td>MULTIPOLYGON (((127.31735 36.29527, 127.31735 ...</td>\n",
              "      <td>1</td>\n",
              "      <td>1</td>\n",
              "      <td>0</td>\n",
              "      <td>0</td>\n",
              "    </tr>\n",
              "    <tr>\n",
              "      <th>...</th>\n",
              "      <td>...</td>\n",
              "      <td>...</td>\n",
              "      <td>...</td>\n",
              "      <td>...</td>\n",
              "      <td>...</td>\n",
              "      <td>...</td>\n",
              "    </tr>\n",
              "    <tr>\n",
              "      <th>54907</th>\n",
              "      <td>다바861065</td>\n",
              "      <td>MULTIPOLYGON (((127.34527 36.25565, 127.34527 ...</td>\n",
              "      <td>0</td>\n",
              "      <td>0</td>\n",
              "      <td>0</td>\n",
              "      <td>0</td>\n",
              "    </tr>\n",
              "    <tr>\n",
              "      <th>54908</th>\n",
              "      <td>다바912036</td>\n",
              "      <td>MULTIPOLYGON (((127.40208 36.22956, 127.40207 ...</td>\n",
              "      <td>0</td>\n",
              "      <td>0</td>\n",
              "      <td>0</td>\n",
              "      <td>0</td>\n",
              "    </tr>\n",
              "    <tr>\n",
              "      <th>54909</th>\n",
              "      <td>다바867189</td>\n",
              "      <td>MULTIPOLYGON (((127.35174 36.36745, 127.35174 ...</td>\n",
              "      <td>0</td>\n",
              "      <td>0</td>\n",
              "      <td>0</td>\n",
              "      <td>0</td>\n",
              "    </tr>\n",
              "    <tr>\n",
              "      <th>54910</th>\n",
              "      <td>다바851062</td>\n",
              "      <td>MULTIPOLYGON (((127.33415 36.25293, 127.33415 ...</td>\n",
              "      <td>0</td>\n",
              "      <td>0</td>\n",
              "      <td>0</td>\n",
              "      <td>0</td>\n",
              "    </tr>\n",
              "    <tr>\n",
              "      <th>54911</th>\n",
              "      <td>다바924104</td>\n",
              "      <td>MULTIPOLYGON (((127.41536 36.29088, 127.41536 ...</td>\n",
              "      <td>0</td>\n",
              "      <td>0</td>\n",
              "      <td>0</td>\n",
              "      <td>0</td>\n",
              "    </tr>\n",
              "  </tbody>\n",
              "</table>\n",
              "<p>54912 rows × 6 columns</p>\n",
              "</div>"
            ],
            "text/plain": [
              "            gid                                           geometry  \\\n",
              "0      다바866110  MULTIPOLYGON (((127.35076 36.29622, 127.35076 ...   \n",
              "1      다바823157  MULTIPOLYGON (((127.30277 36.33853, 127.30276 ...   \n",
              "2      다바928260  MULTIPOLYGON (((127.41967 36.43152, 127.41967 ...   \n",
              "3      다바931203  MULTIPOLYGON (((127.42307 36.38013, 127.42307 ...   \n",
              "4      다바836109  MULTIPOLYGON (((127.31735 36.29527, 127.31735 ...   \n",
              "...         ...                                                ...   \n",
              "54907  다바861065  MULTIPOLYGON (((127.34527 36.25565, 127.34527 ...   \n",
              "54908  다바912036  MULTIPOLYGON (((127.40208 36.22956, 127.40207 ...   \n",
              "54909  다바867189  MULTIPOLYGON (((127.35174 36.36745, 127.35174 ...   \n",
              "54910  다바851062  MULTIPOLYGON (((127.33415 36.25293, 127.33415 ...   \n",
              "54911  다바924104  MULTIPOLYGON (((127.41536 36.29088, 127.41536 ...   \n",
              "\n",
              "       building_tot  house  office  other  \n",
              "0                 6      6       0      0  \n",
              "1                 2      2       0      0  \n",
              "2                 8      5       0      3  \n",
              "3                 2      0       0      2  \n",
              "4                 1      1       0      0  \n",
              "...             ...    ...     ...    ...  \n",
              "54907             0      0       0      0  \n",
              "54908             0      0       0      0  \n",
              "54909             0      0       0      0  \n",
              "54910             0      0       0      0  \n",
              "54911             0      0       0      0  \n",
              "\n",
              "[54912 rows x 6 columns]"
            ]
          },
          "metadata": {
            "tags": []
          },
          "execution_count": 170
        }
      ]
    },
    {
      "cell_type": "code",
      "metadata": {
        "id": "premier-logging"
      },
      "source": [
        "building_var.to_file('data_pre/building_var.geojson', driver='GeoJSON')"
      ],
      "id": "premier-logging",
      "execution_count": null,
      "outputs": []
    },
    {
      "cell_type": "markdown",
      "metadata": {
        "id": "confused-restriction"
      },
      "source": [
        "---------------\n",
        "\n",
        "# 면적 변수\n",
        "\n",
        "    1. 횡단보도\n",
        "        1-1. 횡단보도 개수\n",
        "    2. 정차금지지대\n",
        "    \n",
        "    > 통합 및 저장\n",
        "    \n",
        "-----------------"
      ],
      "id": "confused-restriction"
    },
    {
      "cell_type": "markdown",
      "metadata": {
        "id": "graphic-ukraine"
      },
      "source": [
        "## 1. 횡단보도"
      ],
      "id": "graphic-ukraine"
    },
    {
      "cell_type": "code",
      "metadata": {
        "id": "political-morgan"
      },
      "source": [
        "grid = acc_cnt.copy()\n",
        "grid = grid.loc[:, ['gid', 'geometry']]"
      ],
      "id": "political-morgan",
      "execution_count": null,
      "outputs": []
    },
    {
      "cell_type": "code",
      "metadata": {
        "id": "sustainable-input"
      },
      "source": [
        "temp = crosswalk.copy()\n",
        "temp['crosswalk_cnt'] = 1\n",
        "temp = temp.loc[:, ['geometry', 'crosswalk_cnt']]\n",
        "\n",
        "# jtemp는 crosswalk 데이터를 기준데이터의 격자에 할당한 데이터\n",
        "jtemp = gpd.sjoin(temp, grid, how='left')\n",
        "jtemp = jtemp.rename(columns={'geometry':'crosswalk_geometry'})           # 횡단보도의 위치 정보(polygon)\n",
        "\n",
        "jtemp = pd.merge(jtemp, grid, on='gid', how='left')                       # 기준 격자의 위치 정보(polygon)\n",
        "jtemp = jtemp.rename(columns={'geometry':'grid_geometry'})\n",
        "\n",
        "for idx in np.where(jtemp.crosswalk_geometry.is_valid==False)[0]:        # 횡단보도의 polygon 정보 중 유효하지 않은 값 수정\n",
        "    jtemp.crosswalk_geometry[idx] = jtemp.crosswalk_geometry[idx].buffer(0)\n",
        "\n",
        "# jtemp의 crosswalk_ar은 crosswalk와 기준 격자가 겹치는 영역의 넓이를 계산\n",
        "jtemp['crosswalk_ar'] = [gd.intersection(csw).area for gd, csw in zip(jtemp.grid_geometry, jtemp.crosswalk_geometry)]\n",
        "jtemp = jtemp.loc[:, ['gid', 'crosswalk_ar']]\n",
        "\n",
        "# rtemp는 jtemp에서 격자별로 crosswalk가 겹쳐지는 영역의 넓이 합을 정리한 데이터\n",
        "rtemp = jtemp.groupby('gid', as_index=False).sum()\n",
        "\n",
        "# mtemp는 rtemp에서 더 확장해 대전시 모든 격자에 crosswalk 면적 할당한 데이터\n",
        "mtemp = pd.merge(grid, rtemp, on='gid', how='left')\n",
        "mtemp = mtemp.fillna(0)\n",
        "\n",
        "# 최종적으로 crosswalk_ar 데이터로 기준데이터의 격자에 crosswalk 면적 변수 병합\n",
        "crosswalk_ar = mtemp.loc[:, ['gid', 'crosswalk_ar']]"
      ],
      "id": "sustainable-input",
      "execution_count": null,
      "outputs": []
    },
    {
      "cell_type": "markdown",
      "metadata": {
        "id": "stuck-scroll"
      },
      "source": [
        "### 1-1. 횡단보도(개수)"
      ],
      "id": "stuck-scroll"
    },
    {
      "cell_type": "code",
      "metadata": {
        "id": "regular-organization"
      },
      "source": [
        "temp = crosswalk.copy()\n",
        "temp['crosswalk_cnt'] = 1                                  # crosswalk 각 행을 하나의 crosswalk로 규정(이어지는 작업 용이)\n",
        "temp = temp.loc[:, ['geometry', 'crosswalk_cnt']]\n",
        "\n",
        "# jtemp는 crosswalk 데이터를 기준데이터의 격자에 할당한 데이터\n",
        "jtemp = gpd.sjoin(temp, grid, how='left')\n",
        "jtemp = jtemp.loc[:, ['gid', 'crosswalk_cnt', 'geometry']]\n",
        "\n",
        "# rtemp는 jtemp에서 격자별로 몇개의 crosswalk가 있는 지 정리한 데이터\n",
        "rtemp = jtemp.groupby('gid', as_index=False).count()\n",
        "rtemp = rtemp.loc[:, ['gid', 'crosswalk_cnt']]\n",
        "\n",
        "# mtemp는 rtemp에서 더 확장해 대전시 모든 격자에 crosswalk 개수 할당한 데이터\n",
        "mtemp = pd.merge(grid, rtemp, on='gid', how='left')\n",
        "mtemp = mtemp.fillna(0)\n",
        "mtemp.crosswalk_cnt = mtemp.crosswalk_cnt.astype('int')\n",
        "\n",
        "# 최종적으로 crosswalk_cnt 데이터로 기준데이터의 격자에 crosswalk 개수 변수 병합\n",
        "crosswalk_cnt = mtemp.loc[:, ['gid', 'crosswalk_cnt']]"
      ],
      "id": "regular-organization",
      "execution_count": null,
      "outputs": []
    },
    {
      "cell_type": "markdown",
      "metadata": {
        "id": "hired-annex"
      },
      "source": [
        "## 2. 정차금지지대"
      ],
      "id": "hired-annex"
    },
    {
      "cell_type": "code",
      "metadata": {
        "id": "automated-weight"
      },
      "source": [
        "temp = noparking_zone.copy()\n",
        "temp['noparking'] = 1\n",
        "temp = temp.loc[:, ['geometry', 'noparking']]\n",
        "\n",
        "# jtemp는 noparking_zone 데이터를 기준데이터의 격자에 할당한 데이터\n",
        "jtemp = gpd.sjoin(temp, grid, how='left')\n",
        "jtemp = jtemp.rename(columns={'geometry':'noparking_geometry'})           # 정차금지지대 위치 정보(polygon)\n",
        "\n",
        "jtemp = pd.merge(jtemp, grid, on='gid', how='left')                       # 기준 격자의 위치 정보(polygon)\n",
        "jtemp = jtemp.rename(columns={'geometry':'grid_geometry'})\n",
        "\n",
        "for idx in np.where(jtemp.noparking_geometry.is_valid==False)[0]:        # 정차금지지대 polygon 정보 중 유효하지 않은 값 수정\n",
        "    jtemp.noparking_geometry[idx] = jtemp.noparking_geometry[idx].buffer(0)\n",
        "\n",
        "# jtemp의 noparking_ar은 noparkng과 기준 격자가 겹치는 영역의 넓이를 계산\n",
        "jtemp['noparking_ar'] = [gd.intersection(npr).area for gd, npr in zip(jtemp.grid_geometry, jtemp.noparking_geometry)]\n",
        "jtemp = jtemp.loc[:, ['gid', 'noparking_ar']]\n",
        "\n",
        "# rtemp는 jtemp에서 격자별로 noparking가 겹쳐지는 영역의 넓이 합을 정리한 데이터\n",
        "rtemp = jtemp.groupby('gid', as_index=False).sum()\n",
        "\n",
        "# mtemp는 rtemp에서 더 확장해 대전시 모든 격자에 noparking 면적 할당한 데이터\n",
        "mtemp = pd.merge(grid, rtemp, on='gid', how='left')\n",
        "mtemp = mtemp.fillna(0)\n",
        "\n",
        "# 최종적으로 noparking_ar 데이터로 기준데이터의 격자에 noparking 면적 변수 병합\n",
        "noparking_ar = mtemp.loc[:, ['gid', 'noparking_ar']]"
      ],
      "id": "automated-weight",
      "execution_count": null,
      "outputs": []
    },
    {
      "cell_type": "markdown",
      "metadata": {
        "id": "express-pantyhose"
      },
      "source": [
        "## > 통합 및 저장"
      ],
      "id": "express-pantyhose"
    },
    {
      "cell_type": "code",
      "metadata": {
        "id": "regional-nightmare",
        "outputId": "b6ee03a8-abfd-40bd-900d-171fb521ad92"
      },
      "source": [
        "area_var = pd.merge(grid, crosswalk_cnt, on='gid', how='left')\n",
        "area_var = pd.merge(area_var, crosswalk_ar, on='gid', how='left')\n",
        "area_var = pd.merge(area_var, noparking_ar, on='gid', how='left')\n",
        "\n",
        "area_var"
      ],
      "id": "regional-nightmare",
      "execution_count": null,
      "outputs": [
        {
          "output_type": "execute_result",
          "data": {
            "text/html": [
              "<div>\n",
              "<style scoped>\n",
              "    .dataframe tbody tr th:only-of-type {\n",
              "        vertical-align: middle;\n",
              "    }\n",
              "\n",
              "    .dataframe tbody tr th {\n",
              "        vertical-align: top;\n",
              "    }\n",
              "\n",
              "    .dataframe thead th {\n",
              "        text-align: right;\n",
              "    }\n",
              "</style>\n",
              "<table border=\"1\" class=\"dataframe\">\n",
              "  <thead>\n",
              "    <tr style=\"text-align: right;\">\n",
              "      <th></th>\n",
              "      <th>gid</th>\n",
              "      <th>geometry</th>\n",
              "      <th>crosswalk_cnt</th>\n",
              "      <th>crosswalk_ar</th>\n",
              "      <th>noparking_ar</th>\n",
              "    </tr>\n",
              "  </thead>\n",
              "  <tbody>\n",
              "    <tr>\n",
              "      <th>0</th>\n",
              "      <td>다바866110</td>\n",
              "      <td>MULTIPOLYGON (((127.35076 36.29622, 127.35076 ...</td>\n",
              "      <td>0</td>\n",
              "      <td>0.000000e+00</td>\n",
              "      <td>0.0</td>\n",
              "    </tr>\n",
              "    <tr>\n",
              "      <th>1</th>\n",
              "      <td>다바823157</td>\n",
              "      <td>MULTIPOLYGON (((127.30277 36.33853, 127.30276 ...</td>\n",
              "      <td>5</td>\n",
              "      <td>2.169707e-08</td>\n",
              "      <td>0.0</td>\n",
              "    </tr>\n",
              "    <tr>\n",
              "      <th>2</th>\n",
              "      <td>다바928260</td>\n",
              "      <td>MULTIPOLYGON (((127.41967 36.43152, 127.41967 ...</td>\n",
              "      <td>5</td>\n",
              "      <td>1.473700e-08</td>\n",
              "      <td>0.0</td>\n",
              "    </tr>\n",
              "    <tr>\n",
              "      <th>3</th>\n",
              "      <td>다바931203</td>\n",
              "      <td>MULTIPOLYGON (((127.42307 36.38013, 127.42307 ...</td>\n",
              "      <td>1</td>\n",
              "      <td>1.098103e-08</td>\n",
              "      <td>0.0</td>\n",
              "    </tr>\n",
              "    <tr>\n",
              "      <th>4</th>\n",
              "      <td>다바836109</td>\n",
              "      <td>MULTIPOLYGON (((127.31735 36.29527, 127.31735 ...</td>\n",
              "      <td>2</td>\n",
              "      <td>1.346755e-08</td>\n",
              "      <td>0.0</td>\n",
              "    </tr>\n",
              "    <tr>\n",
              "      <th>...</th>\n",
              "      <td>...</td>\n",
              "      <td>...</td>\n",
              "      <td>...</td>\n",
              "      <td>...</td>\n",
              "      <td>...</td>\n",
              "    </tr>\n",
              "    <tr>\n",
              "      <th>54907</th>\n",
              "      <td>다바861065</td>\n",
              "      <td>MULTIPOLYGON (((127.34527 36.25565, 127.34527 ...</td>\n",
              "      <td>0</td>\n",
              "      <td>0.000000e+00</td>\n",
              "      <td>0.0</td>\n",
              "    </tr>\n",
              "    <tr>\n",
              "      <th>54908</th>\n",
              "      <td>다바912036</td>\n",
              "      <td>MULTIPOLYGON (((127.40208 36.22956, 127.40207 ...</td>\n",
              "      <td>0</td>\n",
              "      <td>0.000000e+00</td>\n",
              "      <td>0.0</td>\n",
              "    </tr>\n",
              "    <tr>\n",
              "      <th>54909</th>\n",
              "      <td>다바867189</td>\n",
              "      <td>MULTIPOLYGON (((127.35174 36.36745, 127.35174 ...</td>\n",
              "      <td>0</td>\n",
              "      <td>0.000000e+00</td>\n",
              "      <td>0.0</td>\n",
              "    </tr>\n",
              "    <tr>\n",
              "      <th>54910</th>\n",
              "      <td>다바851062</td>\n",
              "      <td>MULTIPOLYGON (((127.33415 36.25293, 127.33415 ...</td>\n",
              "      <td>0</td>\n",
              "      <td>0.000000e+00</td>\n",
              "      <td>0.0</td>\n",
              "    </tr>\n",
              "    <tr>\n",
              "      <th>54911</th>\n",
              "      <td>다바924104</td>\n",
              "      <td>MULTIPOLYGON (((127.41536 36.29088, 127.41536 ...</td>\n",
              "      <td>0</td>\n",
              "      <td>0.000000e+00</td>\n",
              "      <td>0.0</td>\n",
              "    </tr>\n",
              "  </tbody>\n",
              "</table>\n",
              "<p>54912 rows × 5 columns</p>\n",
              "</div>"
            ],
            "text/plain": [
              "            gid                                           geometry  \\\n",
              "0      다바866110  MULTIPOLYGON (((127.35076 36.29622, 127.35076 ...   \n",
              "1      다바823157  MULTIPOLYGON (((127.30277 36.33853, 127.30276 ...   \n",
              "2      다바928260  MULTIPOLYGON (((127.41967 36.43152, 127.41967 ...   \n",
              "3      다바931203  MULTIPOLYGON (((127.42307 36.38013, 127.42307 ...   \n",
              "4      다바836109  MULTIPOLYGON (((127.31735 36.29527, 127.31735 ...   \n",
              "...         ...                                                ...   \n",
              "54907  다바861065  MULTIPOLYGON (((127.34527 36.25565, 127.34527 ...   \n",
              "54908  다바912036  MULTIPOLYGON (((127.40208 36.22956, 127.40207 ...   \n",
              "54909  다바867189  MULTIPOLYGON (((127.35174 36.36745, 127.35174 ...   \n",
              "54910  다바851062  MULTIPOLYGON (((127.33415 36.25293, 127.33415 ...   \n",
              "54911  다바924104  MULTIPOLYGON (((127.41536 36.29088, 127.41536 ...   \n",
              "\n",
              "       crosswalk_cnt  crosswalk_ar  noparking_ar  \n",
              "0                  0  0.000000e+00           0.0  \n",
              "1                  5  2.169707e-08           0.0  \n",
              "2                  5  1.473700e-08           0.0  \n",
              "3                  1  1.098103e-08           0.0  \n",
              "4                  2  1.346755e-08           0.0  \n",
              "...              ...           ...           ...  \n",
              "54907              0  0.000000e+00           0.0  \n",
              "54908              0  0.000000e+00           0.0  \n",
              "54909              0  0.000000e+00           0.0  \n",
              "54910              0  0.000000e+00           0.0  \n",
              "54911              0  0.000000e+00           0.0  \n",
              "\n",
              "[54912 rows x 5 columns]"
            ]
          },
          "metadata": {
            "tags": []
          },
          "execution_count": 176
        }
      ]
    },
    {
      "cell_type": "code",
      "metadata": {
        "id": "rational-burns"
      },
      "source": [
        "area_var.to_file('data_pre/area_var.geojson', driver='GeoJSON')"
      ],
      "id": "rational-burns",
      "execution_count": null,
      "outputs": []
    },
    {
      "cell_type": "markdown",
      "metadata": {
        "id": "broadband-raleigh"
      },
      "source": [
        "----------------------\n",
        "\n",
        "# count 변수들\n",
        "\n",
        "    1. 신호등(보행등)\n",
        "    2. 신호등(차량등)\n",
        "    3. CCTV\n",
        "    4. 교통안전표지\n",
        "    \n",
        "    > 통합 및 저장\n",
        "    \n",
        "------------------"
      ],
      "id": "broadband-raleigh"
    },
    {
      "cell_type": "markdown",
      "metadata": {
        "id": "nominated-sessions"
      },
      "source": [
        "## 1. 신호등(보행등)"
      ],
      "id": "nominated-sessions"
    },
    {
      "cell_type": "code",
      "metadata": {
        "id": "southwest-happening"
      },
      "source": [
        "# 그리드 정보와 신호등(보행등) 데이터 추출\n",
        "\n",
        "grid = acc_cnt[['gid', 'geometry']]\n",
        "\n",
        "trlight_pas = gpd.GeoDataFrame(trlight_pas[ ['loc_cd','geometry']])"
      ],
      "id": "southwest-happening",
      "execution_count": null,
      "outputs": []
    },
    {
      "cell_type": "code",
      "metadata": {
        "id": "altered-college"
      },
      "source": [
        "# 포인트 데이터를 격자에 할당\n",
        "\n",
        "temp = gpd.sjoin(trlight_pas, grid, how='left')"
      ],
      "id": "altered-college",
      "execution_count": null,
      "outputs": []
    },
    {
      "cell_type": "code",
      "metadata": {
        "id": "treated-shower",
        "outputId": "13687e4f-c124-4c10-c163-1521fbc39c30"
      },
      "source": [
        "# 격자별 개수를 변수로 생성한 후 칼럼 이름 변경\n",
        "\n",
        "temp = temp.groupby('gid', as_index=False).count()\n",
        "\n",
        "temp = temp.rename(columns = {'loc_cd':'trlight_pas'})\n",
        "temp = temp.drop(['geometry', 'index_right'], axis=1)\n",
        "\n",
        "temp"
      ],
      "id": "treated-shower",
      "execution_count": null,
      "outputs": [
        {
          "output_type": "execute_result",
          "data": {
            "text/html": [
              "<div>\n",
              "<style scoped>\n",
              "    .dataframe tbody tr th:only-of-type {\n",
              "        vertical-align: middle;\n",
              "    }\n",
              "\n",
              "    .dataframe tbody tr th {\n",
              "        vertical-align: top;\n",
              "    }\n",
              "\n",
              "    .dataframe thead th {\n",
              "        text-align: right;\n",
              "    }\n",
              "</style>\n",
              "<table border=\"1\" class=\"dataframe\">\n",
              "  <thead>\n",
              "    <tr style=\"text-align: right;\">\n",
              "      <th></th>\n",
              "      <th>gid</th>\n",
              "      <th>trlight_pas</th>\n",
              "    </tr>\n",
              "  </thead>\n",
              "  <tbody>\n",
              "    <tr>\n",
              "      <th>0</th>\n",
              "      <td>다바796081</td>\n",
              "      <td>2</td>\n",
              "    </tr>\n",
              "    <tr>\n",
              "      <th>1</th>\n",
              "      <td>다바803077</td>\n",
              "      <td>4</td>\n",
              "    </tr>\n",
              "    <tr>\n",
              "      <th>2</th>\n",
              "      <td>다바810181</td>\n",
              "      <td>2</td>\n",
              "    </tr>\n",
              "    <tr>\n",
              "      <th>3</th>\n",
              "      <td>다바815165</td>\n",
              "      <td>1</td>\n",
              "    </tr>\n",
              "    <tr>\n",
              "      <th>4</th>\n",
              "      <td>다바815180</td>\n",
              "      <td>1</td>\n",
              "    </tr>\n",
              "    <tr>\n",
              "      <th>...</th>\n",
              "      <td>...</td>\n",
              "      <td>...</td>\n",
              "    </tr>\n",
              "    <tr>\n",
              "      <th>2545</th>\n",
              "      <td>다바995166</td>\n",
              "      <td>1</td>\n",
              "    </tr>\n",
              "    <tr>\n",
              "      <th>2546</th>\n",
              "      <td>다바995167</td>\n",
              "      <td>1</td>\n",
              "    </tr>\n",
              "    <tr>\n",
              "      <th>2547</th>\n",
              "      <td>다바997166</td>\n",
              "      <td>4</td>\n",
              "    </tr>\n",
              "    <tr>\n",
              "      <th>2548</th>\n",
              "      <td>라바013171</td>\n",
              "      <td>1</td>\n",
              "    </tr>\n",
              "    <tr>\n",
              "      <th>2549</th>\n",
              "      <td>라바013172</td>\n",
              "      <td>1</td>\n",
              "    </tr>\n",
              "  </tbody>\n",
              "</table>\n",
              "<p>2550 rows × 2 columns</p>\n",
              "</div>"
            ],
            "text/plain": [
              "           gid  trlight_pas\n",
              "0     다바796081            2\n",
              "1     다바803077            4\n",
              "2     다바810181            2\n",
              "3     다바815165            1\n",
              "4     다바815180            1\n",
              "...        ...          ...\n",
              "2545  다바995166            1\n",
              "2546  다바995167            1\n",
              "2547  다바997166            4\n",
              "2548  라바013171            1\n",
              "2549  라바013172            1\n",
              "\n",
              "[2550 rows x 2 columns]"
            ]
          },
          "metadata": {
            "tags": []
          },
          "execution_count": 180
        }
      ]
    },
    {
      "cell_type": "markdown",
      "metadata": {
        "id": "imperial-tuesday"
      },
      "source": [
        "## 2. 신호등(차량등)"
      ],
      "id": "imperial-tuesday"
    },
    {
      "cell_type": "code",
      "metadata": {
        "id": "broken-quebec"
      },
      "source": [
        "# 신호등(차량등) 데이터 추출\n",
        "\n",
        "trlight_car = gpd.GeoDataFrame(trlight_car[ ['loc_cd','geometry']])"
      ],
      "id": "broken-quebec",
      "execution_count": null,
      "outputs": []
    },
    {
      "cell_type": "code",
      "metadata": {
        "id": "mobile-chance"
      },
      "source": [
        "# 포인트 데이터를 격자에 할당\n",
        "\n",
        "temp2 = gpd.sjoin(trlight_car, grid, how='left')"
      ],
      "id": "mobile-chance",
      "execution_count": null,
      "outputs": []
    },
    {
      "cell_type": "code",
      "metadata": {
        "id": "brutal-peace",
        "outputId": "556ab8b8-ede2-44e2-ae00-cb3570d22d99"
      },
      "source": [
        "# 격자별 개수를 변수로 생성한 후 칼럼 이름 변경\n",
        "\n",
        "temp2 = temp2.groupby('gid', as_index=False).count()\n",
        "\n",
        "temp2 = temp2.rename(columns = {'loc_cd':'trlight_car'})\n",
        "temp2 = temp2.drop(['geometry', 'index_right'], axis=1)\n",
        "\n",
        "temp2"
      ],
      "id": "brutal-peace",
      "execution_count": null,
      "outputs": [
        {
          "output_type": "execute_result",
          "data": {
            "text/html": [
              "<div>\n",
              "<style scoped>\n",
              "    .dataframe tbody tr th:only-of-type {\n",
              "        vertical-align: middle;\n",
              "    }\n",
              "\n",
              "    .dataframe tbody tr th {\n",
              "        vertical-align: top;\n",
              "    }\n",
              "\n",
              "    .dataframe thead th {\n",
              "        text-align: right;\n",
              "    }\n",
              "</style>\n",
              "<table border=\"1\" class=\"dataframe\">\n",
              "  <thead>\n",
              "    <tr style=\"text-align: right;\">\n",
              "      <th></th>\n",
              "      <th>gid</th>\n",
              "      <th>trlight_car</th>\n",
              "    </tr>\n",
              "  </thead>\n",
              "  <tbody>\n",
              "    <tr>\n",
              "      <th>0</th>\n",
              "      <td>다바796081</td>\n",
              "      <td>6</td>\n",
              "    </tr>\n",
              "    <tr>\n",
              "      <th>1</th>\n",
              "      <td>다바803077</td>\n",
              "      <td>9</td>\n",
              "    </tr>\n",
              "    <tr>\n",
              "      <th>2</th>\n",
              "      <td>다바810181</td>\n",
              "      <td>4</td>\n",
              "    </tr>\n",
              "    <tr>\n",
              "      <th>3</th>\n",
              "      <td>다바814180</td>\n",
              "      <td>4</td>\n",
              "    </tr>\n",
              "    <tr>\n",
              "      <th>4</th>\n",
              "      <td>다바815165</td>\n",
              "      <td>1</td>\n",
              "    </tr>\n",
              "    <tr>\n",
              "      <th>...</th>\n",
              "      <td>...</td>\n",
              "      <td>...</td>\n",
              "    </tr>\n",
              "    <tr>\n",
              "      <th>2480</th>\n",
              "      <td>다바993162</td>\n",
              "      <td>3</td>\n",
              "    </tr>\n",
              "    <tr>\n",
              "      <th>2481</th>\n",
              "      <td>다바995166</td>\n",
              "      <td>1</td>\n",
              "    </tr>\n",
              "    <tr>\n",
              "      <th>2482</th>\n",
              "      <td>다바995167</td>\n",
              "      <td>5</td>\n",
              "    </tr>\n",
              "    <tr>\n",
              "      <th>2483</th>\n",
              "      <td>다바997166</td>\n",
              "      <td>9</td>\n",
              "    </tr>\n",
              "    <tr>\n",
              "      <th>2484</th>\n",
              "      <td>라바013171</td>\n",
              "      <td>6</td>\n",
              "    </tr>\n",
              "  </tbody>\n",
              "</table>\n",
              "<p>2485 rows × 2 columns</p>\n",
              "</div>"
            ],
            "text/plain": [
              "           gid  trlight_car\n",
              "0     다바796081            6\n",
              "1     다바803077            9\n",
              "2     다바810181            4\n",
              "3     다바814180            4\n",
              "4     다바815165            1\n",
              "...        ...          ...\n",
              "2480  다바993162            3\n",
              "2481  다바995166            1\n",
              "2482  다바995167            5\n",
              "2483  다바997166            9\n",
              "2484  라바013171            6\n",
              "\n",
              "[2485 rows x 2 columns]"
            ]
          },
          "metadata": {
            "tags": []
          },
          "execution_count": 183
        }
      ]
    },
    {
      "cell_type": "markdown",
      "metadata": {
        "id": "broken-pottery"
      },
      "source": [
        "## 3. CCTV"
      ],
      "id": "broken-pottery"
    },
    {
      "cell_type": "code",
      "metadata": {
        "id": "historic-scroll"
      },
      "source": [
        "# CCTV 데이터 추출\n",
        "\n",
        "cctv = gpd.GeoDataFrame(cctv[ ['gu','geometry']])"
      ],
      "id": "historic-scroll",
      "execution_count": null,
      "outputs": []
    },
    {
      "cell_type": "code",
      "metadata": {
        "id": "initial-prince"
      },
      "source": [
        "# 포인트 데이터를 격자에 할당\n",
        "\n",
        "temp3 = gpd.sjoin(cctv, grid, how='left')"
      ],
      "id": "initial-prince",
      "execution_count": null,
      "outputs": []
    },
    {
      "cell_type": "code",
      "metadata": {
        "id": "entitled-blues",
        "outputId": "1840f0a0-51dd-4c66-94ed-ac8997cf64ce"
      },
      "source": [
        "# 격자별 개수를 변수로 생성한 후 칼럼 이름 변경\n",
        "\n",
        "temp3 = temp3.groupby('gid', as_index=False).count()\n",
        "\n",
        "temp3 = temp3.rename(columns = {'gu':'cctv'})\n",
        "temp3 = temp3.drop(['geometry', 'index_right'], axis=1)\n",
        "\n",
        "temp3"
      ],
      "id": "entitled-blues",
      "execution_count": null,
      "outputs": [
        {
          "output_type": "execute_result",
          "data": {
            "text/html": [
              "<div>\n",
              "<style scoped>\n",
              "    .dataframe tbody tr th:only-of-type {\n",
              "        vertical-align: middle;\n",
              "    }\n",
              "\n",
              "    .dataframe tbody tr th {\n",
              "        vertical-align: top;\n",
              "    }\n",
              "\n",
              "    .dataframe thead th {\n",
              "        text-align: right;\n",
              "    }\n",
              "</style>\n",
              "<table border=\"1\" class=\"dataframe\">\n",
              "  <thead>\n",
              "    <tr style=\"text-align: right;\">\n",
              "      <th></th>\n",
              "      <th>gid</th>\n",
              "      <th>cctv</th>\n",
              "    </tr>\n",
              "  </thead>\n",
              "  <tbody>\n",
              "    <tr>\n",
              "      <th>0</th>\n",
              "      <td>다바825181</td>\n",
              "      <td>2</td>\n",
              "    </tr>\n",
              "    <tr>\n",
              "      <th>1</th>\n",
              "      <td>다바838207</td>\n",
              "      <td>1</td>\n",
              "    </tr>\n",
              "    <tr>\n",
              "      <th>2</th>\n",
              "      <td>다바841113</td>\n",
              "      <td>2</td>\n",
              "    </tr>\n",
              "    <tr>\n",
              "      <th>3</th>\n",
              "      <td>다바844167</td>\n",
              "      <td>1</td>\n",
              "    </tr>\n",
              "    <tr>\n",
              "      <th>4</th>\n",
              "      <td>다바844180</td>\n",
              "      <td>2</td>\n",
              "    </tr>\n",
              "    <tr>\n",
              "      <th>...</th>\n",
              "      <td>...</td>\n",
              "      <td>...</td>\n",
              "    </tr>\n",
              "    <tr>\n",
              "      <th>76</th>\n",
              "      <td>다바942159</td>\n",
              "      <td>2</td>\n",
              "    </tr>\n",
              "    <tr>\n",
              "      <th>77</th>\n",
              "      <td>다바948147</td>\n",
              "      <td>1</td>\n",
              "    </tr>\n",
              "    <tr>\n",
              "      <th>78</th>\n",
              "      <td>다바948170</td>\n",
              "      <td>2</td>\n",
              "    </tr>\n",
              "    <tr>\n",
              "      <th>79</th>\n",
              "      <td>다바960132</td>\n",
              "      <td>2</td>\n",
              "    </tr>\n",
              "    <tr>\n",
              "      <th>80</th>\n",
              "      <td>다바964109</td>\n",
              "      <td>2</td>\n",
              "    </tr>\n",
              "  </tbody>\n",
              "</table>\n",
              "<p>81 rows × 2 columns</p>\n",
              "</div>"
            ],
            "text/plain": [
              "         gid  cctv\n",
              "0   다바825181     2\n",
              "1   다바838207     1\n",
              "2   다바841113     2\n",
              "3   다바844167     1\n",
              "4   다바844180     2\n",
              "..       ...   ...\n",
              "76  다바942159     2\n",
              "77  다바948147     1\n",
              "78  다바948170     2\n",
              "79  다바960132     2\n",
              "80  다바964109     2\n",
              "\n",
              "[81 rows x 2 columns]"
            ]
          },
          "metadata": {
            "tags": []
          },
          "execution_count": 186
        }
      ]
    },
    {
      "cell_type": "markdown",
      "metadata": {
        "id": "convenient-ukraine"
      },
      "source": [
        "## 4. 교통안전표지"
      ],
      "id": "convenient-ukraine"
    },
    {
      "cell_type": "code",
      "metadata": {
        "id": "simple-quilt"
      },
      "source": [
        "# 교통안전표지 데이터 추출\n",
        "\n",
        "sign_traffic = gpd.GeoDataFrame(sign_traffic[ ['gu','geometry']])"
      ],
      "id": "simple-quilt",
      "execution_count": null,
      "outputs": []
    },
    {
      "cell_type": "code",
      "metadata": {
        "id": "angry-description"
      },
      "source": [
        "# 포인트 데이터를 격자에 할당\n",
        "\n",
        "temp4 = gpd.sjoin(sign_traffic, grid, how='left')"
      ],
      "id": "angry-description",
      "execution_count": null,
      "outputs": []
    },
    {
      "cell_type": "code",
      "metadata": {
        "id": "configured-review",
        "outputId": "3329ccb0-f1ab-4e2b-f347-0c2d629f20ff"
      },
      "source": [
        "# 격자별 개수를 변수로 생성한 후 칼럼 이름 변경\n",
        "\n",
        "temp4 = temp4.groupby('gid', as_index=False).count()\n",
        "\n",
        "temp4 = temp4.rename(columns = {'gu':'sign_traffic'})\n",
        "temp4 = temp4.drop(['geometry', 'index_right'], axis=1)\n",
        "\n",
        "temp4"
      ],
      "id": "configured-review",
      "execution_count": null,
      "outputs": [
        {
          "output_type": "execute_result",
          "data": {
            "text/html": [
              "<div>\n",
              "<style scoped>\n",
              "    .dataframe tbody tr th:only-of-type {\n",
              "        vertical-align: middle;\n",
              "    }\n",
              "\n",
              "    .dataframe tbody tr th {\n",
              "        vertical-align: top;\n",
              "    }\n",
              "\n",
              "    .dataframe thead th {\n",
              "        text-align: right;\n",
              "    }\n",
              "</style>\n",
              "<table border=\"1\" class=\"dataframe\">\n",
              "  <thead>\n",
              "    <tr style=\"text-align: right;\">\n",
              "      <th></th>\n",
              "      <th>gid</th>\n",
              "      <th>sign_traffic</th>\n",
              "    </tr>\n",
              "  </thead>\n",
              "  <tbody>\n",
              "    <tr>\n",
              "      <th>0</th>\n",
              "      <td>다바779092</td>\n",
              "      <td>0</td>\n",
              "    </tr>\n",
              "    <tr>\n",
              "      <th>1</th>\n",
              "      <td>다바780092</td>\n",
              "      <td>6</td>\n",
              "    </tr>\n",
              "    <tr>\n",
              "      <th>2</th>\n",
              "      <td>다바781091</td>\n",
              "      <td>1</td>\n",
              "    </tr>\n",
              "    <tr>\n",
              "      <th>3</th>\n",
              "      <td>다바782090</td>\n",
              "      <td>2</td>\n",
              "    </tr>\n",
              "    <tr>\n",
              "      <th>4</th>\n",
              "      <td>다바783089</td>\n",
              "      <td>1</td>\n",
              "    </tr>\n",
              "    <tr>\n",
              "      <th>...</th>\n",
              "      <td>...</td>\n",
              "      <td>...</td>\n",
              "    </tr>\n",
              "    <tr>\n",
              "      <th>8370</th>\n",
              "      <td>라바035235</td>\n",
              "      <td>2</td>\n",
              "    </tr>\n",
              "    <tr>\n",
              "      <th>8371</th>\n",
              "      <td>라바035236</td>\n",
              "      <td>1</td>\n",
              "    </tr>\n",
              "    <tr>\n",
              "      <th>8372</th>\n",
              "      <td>라바035237</td>\n",
              "      <td>3</td>\n",
              "    </tr>\n",
              "    <tr>\n",
              "      <th>8373</th>\n",
              "      <td>라바036235</td>\n",
              "      <td>1</td>\n",
              "    </tr>\n",
              "    <tr>\n",
              "      <th>8374</th>\n",
              "      <td>라바036236</td>\n",
              "      <td>1</td>\n",
              "    </tr>\n",
              "  </tbody>\n",
              "</table>\n",
              "<p>8375 rows × 2 columns</p>\n",
              "</div>"
            ],
            "text/plain": [
              "           gid  sign_traffic\n",
              "0     다바779092             0\n",
              "1     다바780092             6\n",
              "2     다바781091             1\n",
              "3     다바782090             2\n",
              "4     다바783089             1\n",
              "...        ...           ...\n",
              "8370  라바035235             2\n",
              "8371  라바035236             1\n",
              "8372  라바035237             3\n",
              "8373  라바036235             1\n",
              "8374  라바036236             1\n",
              "\n",
              "[8375 rows x 2 columns]"
            ]
          },
          "metadata": {
            "tags": []
          },
          "execution_count": 189
        }
      ]
    },
    {
      "cell_type": "markdown",
      "metadata": {
        "id": "differential-philadelphia"
      },
      "source": [
        "## > 통합 및 저장"
      ],
      "id": "differential-philadelphia"
    },
    {
      "cell_type": "code",
      "metadata": {
        "id": "julian-liverpool",
        "outputId": "e88b8d18-d569-40a2-b4d8-2acc8dbbb165"
      },
      "source": [
        "count_var = pd.merge(grid, temp, how='left',on='gid')\n",
        "count_var = pd.merge(count_var, temp2, how='left',on='gid')\n",
        "count_var = pd.merge(count_var, temp3, how='left',on='gid')\n",
        "count_var = pd.merge(count_var, temp4, how='left',on='gid')\n",
        "\n",
        "count_var.fillna(0, inplace=True)\n",
        "count_var"
      ],
      "id": "julian-liverpool",
      "execution_count": null,
      "outputs": [
        {
          "output_type": "execute_result",
          "data": {
            "text/html": [
              "<div>\n",
              "<style scoped>\n",
              "    .dataframe tbody tr th:only-of-type {\n",
              "        vertical-align: middle;\n",
              "    }\n",
              "\n",
              "    .dataframe tbody tr th {\n",
              "        vertical-align: top;\n",
              "    }\n",
              "\n",
              "    .dataframe thead th {\n",
              "        text-align: right;\n",
              "    }\n",
              "</style>\n",
              "<table border=\"1\" class=\"dataframe\">\n",
              "  <thead>\n",
              "    <tr style=\"text-align: right;\">\n",
              "      <th></th>\n",
              "      <th>gid</th>\n",
              "      <th>geometry</th>\n",
              "      <th>trlight_pas</th>\n",
              "      <th>trlight_car</th>\n",
              "      <th>cctv</th>\n",
              "      <th>sign_traffic</th>\n",
              "    </tr>\n",
              "  </thead>\n",
              "  <tbody>\n",
              "    <tr>\n",
              "      <th>0</th>\n",
              "      <td>다바866110</td>\n",
              "      <td>MULTIPOLYGON (((127.35076 36.29622, 127.35076 ...</td>\n",
              "      <td>0.0</td>\n",
              "      <td>0.0</td>\n",
              "      <td>0.0</td>\n",
              "      <td>0.0</td>\n",
              "    </tr>\n",
              "    <tr>\n",
              "      <th>1</th>\n",
              "      <td>다바823157</td>\n",
              "      <td>MULTIPOLYGON (((127.30277 36.33853, 127.30276 ...</td>\n",
              "      <td>3.0</td>\n",
              "      <td>4.0</td>\n",
              "      <td>0.0</td>\n",
              "      <td>14.0</td>\n",
              "    </tr>\n",
              "    <tr>\n",
              "      <th>2</th>\n",
              "      <td>다바928260</td>\n",
              "      <td>MULTIPOLYGON (((127.41967 36.43152, 127.41967 ...</td>\n",
              "      <td>6.0</td>\n",
              "      <td>5.0</td>\n",
              "      <td>0.0</td>\n",
              "      <td>14.0</td>\n",
              "    </tr>\n",
              "    <tr>\n",
              "      <th>3</th>\n",
              "      <td>다바931203</td>\n",
              "      <td>MULTIPOLYGON (((127.42307 36.38013, 127.42307 ...</td>\n",
              "      <td>1.0</td>\n",
              "      <td>3.0</td>\n",
              "      <td>0.0</td>\n",
              "      <td>5.0</td>\n",
              "    </tr>\n",
              "    <tr>\n",
              "      <th>4</th>\n",
              "      <td>다바836109</td>\n",
              "      <td>MULTIPOLYGON (((127.31735 36.29527, 127.31735 ...</td>\n",
              "      <td>2.0</td>\n",
              "      <td>0.0</td>\n",
              "      <td>0.0</td>\n",
              "      <td>6.0</td>\n",
              "    </tr>\n",
              "    <tr>\n",
              "      <th>...</th>\n",
              "      <td>...</td>\n",
              "      <td>...</td>\n",
              "      <td>...</td>\n",
              "      <td>...</td>\n",
              "      <td>...</td>\n",
              "      <td>...</td>\n",
              "    </tr>\n",
              "    <tr>\n",
              "      <th>54907</th>\n",
              "      <td>다바861065</td>\n",
              "      <td>MULTIPOLYGON (((127.34527 36.25565, 127.34527 ...</td>\n",
              "      <td>0.0</td>\n",
              "      <td>0.0</td>\n",
              "      <td>0.0</td>\n",
              "      <td>0.0</td>\n",
              "    </tr>\n",
              "    <tr>\n",
              "      <th>54908</th>\n",
              "      <td>다바912036</td>\n",
              "      <td>MULTIPOLYGON (((127.40208 36.22956, 127.40207 ...</td>\n",
              "      <td>0.0</td>\n",
              "      <td>0.0</td>\n",
              "      <td>0.0</td>\n",
              "      <td>0.0</td>\n",
              "    </tr>\n",
              "    <tr>\n",
              "      <th>54909</th>\n",
              "      <td>다바867189</td>\n",
              "      <td>MULTIPOLYGON (((127.35174 36.36745, 127.35174 ...</td>\n",
              "      <td>0.0</td>\n",
              "      <td>0.0</td>\n",
              "      <td>0.0</td>\n",
              "      <td>0.0</td>\n",
              "    </tr>\n",
              "    <tr>\n",
              "      <th>54910</th>\n",
              "      <td>다바851062</td>\n",
              "      <td>MULTIPOLYGON (((127.33415 36.25293, 127.33415 ...</td>\n",
              "      <td>0.0</td>\n",
              "      <td>0.0</td>\n",
              "      <td>0.0</td>\n",
              "      <td>0.0</td>\n",
              "    </tr>\n",
              "    <tr>\n",
              "      <th>54911</th>\n",
              "      <td>다바924104</td>\n",
              "      <td>MULTIPOLYGON (((127.41536 36.29088, 127.41536 ...</td>\n",
              "      <td>0.0</td>\n",
              "      <td>0.0</td>\n",
              "      <td>0.0</td>\n",
              "      <td>0.0</td>\n",
              "    </tr>\n",
              "  </tbody>\n",
              "</table>\n",
              "<p>54912 rows × 6 columns</p>\n",
              "</div>"
            ],
            "text/plain": [
              "            gid                                           geometry  \\\n",
              "0      다바866110  MULTIPOLYGON (((127.35076 36.29622, 127.35076 ...   \n",
              "1      다바823157  MULTIPOLYGON (((127.30277 36.33853, 127.30276 ...   \n",
              "2      다바928260  MULTIPOLYGON (((127.41967 36.43152, 127.41967 ...   \n",
              "3      다바931203  MULTIPOLYGON (((127.42307 36.38013, 127.42307 ...   \n",
              "4      다바836109  MULTIPOLYGON (((127.31735 36.29527, 127.31735 ...   \n",
              "...         ...                                                ...   \n",
              "54907  다바861065  MULTIPOLYGON (((127.34527 36.25565, 127.34527 ...   \n",
              "54908  다바912036  MULTIPOLYGON (((127.40208 36.22956, 127.40207 ...   \n",
              "54909  다바867189  MULTIPOLYGON (((127.35174 36.36745, 127.35174 ...   \n",
              "54910  다바851062  MULTIPOLYGON (((127.33415 36.25293, 127.33415 ...   \n",
              "54911  다바924104  MULTIPOLYGON (((127.41536 36.29088, 127.41536 ...   \n",
              "\n",
              "       trlight_pas  trlight_car  cctv  sign_traffic  \n",
              "0              0.0          0.0   0.0           0.0  \n",
              "1              3.0          4.0   0.0          14.0  \n",
              "2              6.0          5.0   0.0          14.0  \n",
              "3              1.0          3.0   0.0           5.0  \n",
              "4              2.0          0.0   0.0           6.0  \n",
              "...            ...          ...   ...           ...  \n",
              "54907          0.0          0.0   0.0           0.0  \n",
              "54908          0.0          0.0   0.0           0.0  \n",
              "54909          0.0          0.0   0.0           0.0  \n",
              "54910          0.0          0.0   0.0           0.0  \n",
              "54911          0.0          0.0   0.0           0.0  \n",
              "\n",
              "[54912 rows x 6 columns]"
            ]
          },
          "metadata": {
            "tags": []
          },
          "execution_count": 190
        }
      ]
    },
    {
      "cell_type": "code",
      "metadata": {
        "id": "tired-puzzle"
      },
      "source": [
        "count_var.to_file('data_pre/count_var.geojson', driver='GeoJSON')"
      ],
      "id": "tired-puzzle",
      "execution_count": null,
      "outputs": []
    },
    {
      "cell_type": "markdown",
      "metadata": {
        "id": "multiple-directive"
      },
      "source": [
        "-----------------\n",
        "\n",
        "# 포함여부 변수\n",
        "\n",
        "    1. 중앙분리대\n",
        "    2. 안전지대\n",
        "    \n",
        "    > 통합 및 저장\n",
        "    \n",
        "----------------"
      ],
      "id": "multiple-directive"
    },
    {
      "cell_type": "markdown",
      "metadata": {
        "id": "underlying-citizen"
      },
      "source": [
        "## 1. 중앙분리대"
      ],
      "id": "underlying-citizen"
    },
    {
      "cell_type": "code",
      "metadata": {
        "id": "sustainable-killer"
      },
      "source": [
        "grid = acc_cnt.copy()\n",
        "grid = grid.loc[:, ['gid', 'geometry']]"
      ],
      "id": "sustainable-killer",
      "execution_count": null,
      "outputs": []
    },
    {
      "cell_type": "code",
      "metadata": {
        "id": "traditional-second"
      },
      "source": [
        "temp = median_strip.copy()\n",
        "temp['barrier'] = 1                                  \n",
        "temp = temp.loc[:, ['geometry', 'barrier']]\n",
        "\n",
        "jtemp = gpd.sjoin(temp, grid, how='left')\n",
        "jtemp = jtemp.loc[:, ['gid', 'barrier', 'geometry']]\n",
        "\n",
        "rtemp = jtemp.groupby('gid', as_index=False).count()\n",
        "rtemp = rtemp.loc[:, ['gid', 'barrier']]\n",
        "\n",
        "mtemp = pd.merge(grid, rtemp, on='gid', how='left')\n",
        "mtemp = mtemp.fillna(0)\n",
        "mtemp.barrier = mtemp.barrier.astype('int')\n",
        "\n",
        "barrier = mtemp.loc[:, ['gid', 'barrier']]"
      ],
      "id": "traditional-second",
      "execution_count": null,
      "outputs": []
    },
    {
      "cell_type": "markdown",
      "metadata": {
        "id": "romance-begin"
      },
      "source": [
        "## 안전지대"
      ],
      "id": "romance-begin"
    },
    {
      "cell_type": "code",
      "metadata": {
        "id": "accessible-concern"
      },
      "source": [
        "temp = safe_zone.copy()\n",
        "temp['safe_zone'] = 1                                  \n",
        "temp = temp.loc[:, ['geometry', 'safe_zone']]\n",
        "\n",
        "jtemp = gpd.sjoin(temp, grid, how='left')\n",
        "jtemp = jtemp.loc[:, ['gid', 'safe_zone', 'geometry']]\n",
        "\n",
        "rtemp = jtemp.groupby('gid', as_index=False).count()\n",
        "rtemp = rtemp.loc[:, ['gid', 'safe_zone']]\n",
        "\n",
        "mtemp = pd.merge(grid, rtemp, on='gid', how='left')\n",
        "mtemp = mtemp.fillna(0)\n",
        "mtemp.safe_zone = mtemp.safe_zone.astype('int')\n",
        "\n",
        "safe_zone = mtemp.loc[:, ['gid', 'safe_zone']]"
      ],
      "id": "accessible-concern",
      "execution_count": null,
      "outputs": []
    },
    {
      "cell_type": "markdown",
      "metadata": {
        "id": "random-eight"
      },
      "source": [
        "## > 통합 및 저장"
      ],
      "id": "random-eight"
    },
    {
      "cell_type": "code",
      "metadata": {
        "id": "caroline-haven",
        "outputId": "0b035ac5-bb2d-48cb-d945-52ac25472cc0"
      },
      "source": [
        "binary_var = pd.merge(grid, barrier, on='gid', how='left')\n",
        "binary_var = pd.merge(binary_var, safe_zone, on='gid', how='left')\n",
        "\n",
        "binary_var"
      ],
      "id": "caroline-haven",
      "execution_count": null,
      "outputs": [
        {
          "output_type": "execute_result",
          "data": {
            "text/html": [
              "<div>\n",
              "<style scoped>\n",
              "    .dataframe tbody tr th:only-of-type {\n",
              "        vertical-align: middle;\n",
              "    }\n",
              "\n",
              "    .dataframe tbody tr th {\n",
              "        vertical-align: top;\n",
              "    }\n",
              "\n",
              "    .dataframe thead th {\n",
              "        text-align: right;\n",
              "    }\n",
              "</style>\n",
              "<table border=\"1\" class=\"dataframe\">\n",
              "  <thead>\n",
              "    <tr style=\"text-align: right;\">\n",
              "      <th></th>\n",
              "      <th>gid</th>\n",
              "      <th>geometry</th>\n",
              "      <th>barrier</th>\n",
              "      <th>safe_zone</th>\n",
              "    </tr>\n",
              "  </thead>\n",
              "  <tbody>\n",
              "    <tr>\n",
              "      <th>0</th>\n",
              "      <td>다바866110</td>\n",
              "      <td>MULTIPOLYGON (((127.35076 36.29622, 127.35076 ...</td>\n",
              "      <td>0</td>\n",
              "      <td>0</td>\n",
              "    </tr>\n",
              "    <tr>\n",
              "      <th>1</th>\n",
              "      <td>다바823157</td>\n",
              "      <td>MULTIPOLYGON (((127.30277 36.33853, 127.30276 ...</td>\n",
              "      <td>0</td>\n",
              "      <td>2</td>\n",
              "    </tr>\n",
              "    <tr>\n",
              "      <th>2</th>\n",
              "      <td>다바928260</td>\n",
              "      <td>MULTIPOLYGON (((127.41967 36.43152, 127.41967 ...</td>\n",
              "      <td>0</td>\n",
              "      <td>0</td>\n",
              "    </tr>\n",
              "    <tr>\n",
              "      <th>3</th>\n",
              "      <td>다바931203</td>\n",
              "      <td>MULTIPOLYGON (((127.42307 36.38013, 127.42307 ...</td>\n",
              "      <td>0</td>\n",
              "      <td>1</td>\n",
              "    </tr>\n",
              "    <tr>\n",
              "      <th>4</th>\n",
              "      <td>다바836109</td>\n",
              "      <td>MULTIPOLYGON (((127.31735 36.29527, 127.31735 ...</td>\n",
              "      <td>0</td>\n",
              "      <td>0</td>\n",
              "    </tr>\n",
              "    <tr>\n",
              "      <th>...</th>\n",
              "      <td>...</td>\n",
              "      <td>...</td>\n",
              "      <td>...</td>\n",
              "      <td>...</td>\n",
              "    </tr>\n",
              "    <tr>\n",
              "      <th>54907</th>\n",
              "      <td>다바861065</td>\n",
              "      <td>MULTIPOLYGON (((127.34527 36.25565, 127.34527 ...</td>\n",
              "      <td>0</td>\n",
              "      <td>0</td>\n",
              "    </tr>\n",
              "    <tr>\n",
              "      <th>54908</th>\n",
              "      <td>다바912036</td>\n",
              "      <td>MULTIPOLYGON (((127.40208 36.22956, 127.40207 ...</td>\n",
              "      <td>0</td>\n",
              "      <td>0</td>\n",
              "    </tr>\n",
              "    <tr>\n",
              "      <th>54909</th>\n",
              "      <td>다바867189</td>\n",
              "      <td>MULTIPOLYGON (((127.35174 36.36745, 127.35174 ...</td>\n",
              "      <td>0</td>\n",
              "      <td>0</td>\n",
              "    </tr>\n",
              "    <tr>\n",
              "      <th>54910</th>\n",
              "      <td>다바851062</td>\n",
              "      <td>MULTIPOLYGON (((127.33415 36.25293, 127.33415 ...</td>\n",
              "      <td>0</td>\n",
              "      <td>0</td>\n",
              "    </tr>\n",
              "    <tr>\n",
              "      <th>54911</th>\n",
              "      <td>다바924104</td>\n",
              "      <td>MULTIPOLYGON (((127.41536 36.29088, 127.41536 ...</td>\n",
              "      <td>0</td>\n",
              "      <td>0</td>\n",
              "    </tr>\n",
              "  </tbody>\n",
              "</table>\n",
              "<p>54912 rows × 4 columns</p>\n",
              "</div>"
            ],
            "text/plain": [
              "            gid                                           geometry  barrier  \\\n",
              "0      다바866110  MULTIPOLYGON (((127.35076 36.29622, 127.35076 ...        0   \n",
              "1      다바823157  MULTIPOLYGON (((127.30277 36.33853, 127.30276 ...        0   \n",
              "2      다바928260  MULTIPOLYGON (((127.41967 36.43152, 127.41967 ...        0   \n",
              "3      다바931203  MULTIPOLYGON (((127.42307 36.38013, 127.42307 ...        0   \n",
              "4      다바836109  MULTIPOLYGON (((127.31735 36.29527, 127.31735 ...        0   \n",
              "...         ...                                                ...      ...   \n",
              "54907  다바861065  MULTIPOLYGON (((127.34527 36.25565, 127.34527 ...        0   \n",
              "54908  다바912036  MULTIPOLYGON (((127.40208 36.22956, 127.40207 ...        0   \n",
              "54909  다바867189  MULTIPOLYGON (((127.35174 36.36745, 127.35174 ...        0   \n",
              "54910  다바851062  MULTIPOLYGON (((127.33415 36.25293, 127.33415 ...        0   \n",
              "54911  다바924104  MULTIPOLYGON (((127.41536 36.29088, 127.41536 ...        0   \n",
              "\n",
              "       safe_zone  \n",
              "0              0  \n",
              "1              2  \n",
              "2              0  \n",
              "3              1  \n",
              "4              0  \n",
              "...          ...  \n",
              "54907          0  \n",
              "54908          0  \n",
              "54909          0  \n",
              "54910          0  \n",
              "54911          0  \n",
              "\n",
              "[54912 rows x 4 columns]"
            ]
          },
          "metadata": {
            "tags": []
          },
          "execution_count": 195
        }
      ]
    },
    {
      "cell_type": "code",
      "metadata": {
        "id": "tutorial-surveillance"
      },
      "source": [
        "binary_var.to_file('data_pre/binary_var.geojson', driver='GeoJSON')"
      ],
      "id": "tutorial-surveillance",
      "execution_count": null,
      "outputs": []
    },
    {
      "cell_type": "markdown",
      "metadata": {
        "id": "twelve-embassy"
      },
      "source": [
        "-----------------\n",
        "\n",
        "# 인구데이터\n",
        "\n",
        "----------------"
      ],
      "id": "twelve-embassy"
    },
    {
      "cell_type": "code",
      "metadata": {
        "id": "divine-priest",
        "outputId": "4cf2a319-7743-4035-87dd-44bd08e280c9"
      },
      "source": [
        "population = pd.merge(grid,pop_all,how='left')                                    #총인구수\n",
        "population = population.rename(columns={'val' : 'pop_all'})                    \n",
        "\n",
        "population = pd.merge(population, pop_sen,how='left')                             #고령인구\n",
        "population = population.rename(columns={'val' : 'pop_sen'})\n",
        " \n",
        "population = pd.merge(population, pop_prd,how='left')                             #생산가능 인구\n",
        "population = population.rename(columns={'val' : 'pop_prd'})                     \n",
        "\n",
        "population = pd.merge(population,pop_chd,how='left')                              #유소년\n",
        "population = population.rename(columns={'val' : 'pop_chd'})\n",
        "\n",
        "population = population.fillna(0)\n",
        "population"
      ],
      "id": "divine-priest",
      "execution_count": null,
      "outputs": [
        {
          "output_type": "execute_result",
          "data": {
            "text/html": [
              "<div>\n",
              "<style scoped>\n",
              "    .dataframe tbody tr th:only-of-type {\n",
              "        vertical-align: middle;\n",
              "    }\n",
              "\n",
              "    .dataframe tbody tr th {\n",
              "        vertical-align: top;\n",
              "    }\n",
              "\n",
              "    .dataframe thead th {\n",
              "        text-align: right;\n",
              "    }\n",
              "</style>\n",
              "<table border=\"1\" class=\"dataframe\">\n",
              "  <thead>\n",
              "    <tr style=\"text-align: right;\">\n",
              "      <th></th>\n",
              "      <th>gid</th>\n",
              "      <th>geometry</th>\n",
              "      <th>pop_all</th>\n",
              "      <th>pop_sen</th>\n",
              "      <th>pop_prd</th>\n",
              "      <th>pop_chd</th>\n",
              "    </tr>\n",
              "  </thead>\n",
              "  <tbody>\n",
              "    <tr>\n",
              "      <th>0</th>\n",
              "      <td>다바866110</td>\n",
              "      <td>MULTIPOLYGON (((127.35076 36.29622, 127.35076 ...</td>\n",
              "      <td>13.0</td>\n",
              "      <td>0.0</td>\n",
              "      <td>10.0</td>\n",
              "      <td>0.0</td>\n",
              "    </tr>\n",
              "    <tr>\n",
              "      <th>1</th>\n",
              "      <td>다바823157</td>\n",
              "      <td>MULTIPOLYGON (((127.30277 36.33853, 127.30276 ...</td>\n",
              "      <td>267.0</td>\n",
              "      <td>25.0</td>\n",
              "      <td>198.0</td>\n",
              "      <td>44.0</td>\n",
              "    </tr>\n",
              "    <tr>\n",
              "      <th>2</th>\n",
              "      <td>다바928260</td>\n",
              "      <td>MULTIPOLYGON (((127.41967 36.43152, 127.41967 ...</td>\n",
              "      <td>78.0</td>\n",
              "      <td>0.0</td>\n",
              "      <td>65.0</td>\n",
              "      <td>8.0</td>\n",
              "    </tr>\n",
              "    <tr>\n",
              "      <th>3</th>\n",
              "      <td>다바931203</td>\n",
              "      <td>MULTIPOLYGON (((127.42307 36.38013, 127.42307 ...</td>\n",
              "      <td>0.0</td>\n",
              "      <td>0.0</td>\n",
              "      <td>0.0</td>\n",
              "      <td>0.0</td>\n",
              "    </tr>\n",
              "    <tr>\n",
              "      <th>4</th>\n",
              "      <td>다바836109</td>\n",
              "      <td>MULTIPOLYGON (((127.31735 36.29527, 127.31735 ...</td>\n",
              "      <td>396.0</td>\n",
              "      <td>28.0</td>\n",
              "      <td>339.0</td>\n",
              "      <td>29.0</td>\n",
              "    </tr>\n",
              "    <tr>\n",
              "      <th>...</th>\n",
              "      <td>...</td>\n",
              "      <td>...</td>\n",
              "      <td>...</td>\n",
              "      <td>...</td>\n",
              "      <td>...</td>\n",
              "      <td>...</td>\n",
              "    </tr>\n",
              "    <tr>\n",
              "      <th>54907</th>\n",
              "      <td>다바861065</td>\n",
              "      <td>MULTIPOLYGON (((127.34527 36.25565, 127.34527 ...</td>\n",
              "      <td>0.0</td>\n",
              "      <td>0.0</td>\n",
              "      <td>0.0</td>\n",
              "      <td>0.0</td>\n",
              "    </tr>\n",
              "    <tr>\n",
              "      <th>54908</th>\n",
              "      <td>다바912036</td>\n",
              "      <td>MULTIPOLYGON (((127.40208 36.22956, 127.40207 ...</td>\n",
              "      <td>0.0</td>\n",
              "      <td>0.0</td>\n",
              "      <td>0.0</td>\n",
              "      <td>0.0</td>\n",
              "    </tr>\n",
              "    <tr>\n",
              "      <th>54909</th>\n",
              "      <td>다바867189</td>\n",
              "      <td>MULTIPOLYGON (((127.35174 36.36745, 127.35174 ...</td>\n",
              "      <td>0.0</td>\n",
              "      <td>0.0</td>\n",
              "      <td>0.0</td>\n",
              "      <td>0.0</td>\n",
              "    </tr>\n",
              "    <tr>\n",
              "      <th>54910</th>\n",
              "      <td>다바851062</td>\n",
              "      <td>MULTIPOLYGON (((127.33415 36.25293, 127.33415 ...</td>\n",
              "      <td>0.0</td>\n",
              "      <td>0.0</td>\n",
              "      <td>0.0</td>\n",
              "      <td>0.0</td>\n",
              "    </tr>\n",
              "    <tr>\n",
              "      <th>54911</th>\n",
              "      <td>다바924104</td>\n",
              "      <td>MULTIPOLYGON (((127.41536 36.29088, 127.41536 ...</td>\n",
              "      <td>0.0</td>\n",
              "      <td>0.0</td>\n",
              "      <td>0.0</td>\n",
              "      <td>0.0</td>\n",
              "    </tr>\n",
              "  </tbody>\n",
              "</table>\n",
              "<p>54912 rows × 6 columns</p>\n",
              "</div>"
            ],
            "text/plain": [
              "            gid                                           geometry  pop_all  \\\n",
              "0      다바866110  MULTIPOLYGON (((127.35076 36.29622, 127.35076 ...     13.0   \n",
              "1      다바823157  MULTIPOLYGON (((127.30277 36.33853, 127.30276 ...    267.0   \n",
              "2      다바928260  MULTIPOLYGON (((127.41967 36.43152, 127.41967 ...     78.0   \n",
              "3      다바931203  MULTIPOLYGON (((127.42307 36.38013, 127.42307 ...      0.0   \n",
              "4      다바836109  MULTIPOLYGON (((127.31735 36.29527, 127.31735 ...    396.0   \n",
              "...         ...                                                ...      ...   \n",
              "54907  다바861065  MULTIPOLYGON (((127.34527 36.25565, 127.34527 ...      0.0   \n",
              "54908  다바912036  MULTIPOLYGON (((127.40208 36.22956, 127.40207 ...      0.0   \n",
              "54909  다바867189  MULTIPOLYGON (((127.35174 36.36745, 127.35174 ...      0.0   \n",
              "54910  다바851062  MULTIPOLYGON (((127.33415 36.25293, 127.33415 ...      0.0   \n",
              "54911  다바924104  MULTIPOLYGON (((127.41536 36.29088, 127.41536 ...      0.0   \n",
              "\n",
              "       pop_sen  pop_prd  pop_chd  \n",
              "0          0.0     10.0      0.0  \n",
              "1         25.0    198.0     44.0  \n",
              "2          0.0     65.0      8.0  \n",
              "3          0.0      0.0      0.0  \n",
              "4         28.0    339.0     29.0  \n",
              "...        ...      ...      ...  \n",
              "54907      0.0      0.0      0.0  \n",
              "54908      0.0      0.0      0.0  \n",
              "54909      0.0      0.0      0.0  \n",
              "54910      0.0      0.0      0.0  \n",
              "54911      0.0      0.0      0.0  \n",
              "\n",
              "[54912 rows x 6 columns]"
            ]
          },
          "metadata": {
            "tags": []
          },
          "execution_count": 197
        }
      ]
    },
    {
      "cell_type": "code",
      "metadata": {
        "id": "sharp-trail"
      },
      "source": [
        "population.to_file('data_pre/population.geojson', driver='GeoJSON')"
      ],
      "id": "sharp-trail",
      "execution_count": null,
      "outputs": []
    },
    {
      "cell_type": "markdown",
      "metadata": {
        "id": "quantitative-stuff"
      },
      "source": [
        "---------------\n",
        "\n",
        "# 차량등록현황\n",
        "\n",
        "----------------------"
      ],
      "id": "quantitative-stuff"
    },
    {
      "cell_type": "code",
      "metadata": {
        "id": "indonesian-alarm"
      },
      "source": [
        "car_reg = pd.merge(grid,car,how='left')\n",
        "car_reg = car_reg.drop('geometry', axis=1)"
      ],
      "id": "indonesian-alarm",
      "execution_count": null,
      "outputs": []
    },
    {
      "cell_type": "code",
      "metadata": {
        "id": "looking-wilderness"
      },
      "source": [
        "car_reg.to_csv('data_pre/car_reg.csv')"
      ],
      "id": "looking-wilderness",
      "execution_count": null,
      "outputs": []
    },
    {
      "cell_type": "markdown",
      "metadata": {
        "id": "addressed-feature"
      },
      "source": [
        "-----------------\n",
        "\n",
        "# 외부데이터 수집\n",
        "\n",
        "    1. 카카오API 데이터 수집\n",
        "    2. 각 데이터를 격자별 통합\n",
        "    \n",
        "    > 통합 및 저장\n",
        "    \n",
        "----------------"
      ],
      "id": "addressed-feature"
    },
    {
      "cell_type": "markdown",
      "metadata": {
        "id": "rising-glossary"
      },
      "source": [
        "## 1. 카카오 API 데이터 수집"
      ],
      "id": "rising-glossary"
    },
    {
      "cell_type": "markdown",
      "metadata": {
        "id": "destroyed-enough"
      },
      "source": [
        "> 카카오api를 활용하여 외부데이터를 수집한다 ('카카오 API 사용 데이터 저장' 파일 사용)"
      ],
      "id": "destroyed-enough"
    },
    {
      "cell_type": "markdown",
      "metadata": {
        "id": "genetic-cornwall"
      },
      "source": [
        "## 2. 각 데이터 격자별 통합"
      ],
      "id": "genetic-cornwall"
    },
    {
      "cell_type": "code",
      "metadata": {
        "id": "champion-atlantic"
      },
      "source": [
        "subway_cnt = pd.read_csv('subway_cnt.csv', index_col = 0)\n",
        "parkinglot_cnt = pd.read_csv('parkinglot_cnt.csv', index_col = 0)\n",
        "school_cnt = pd.read_csv('school_cnt.csv', index_col = 0)\n",
        "ssm_cnt = pd.read_csv('ssm_cnt.csv', index_col = 0)\n",
        "restaurant_cnt = pd.read_csv('restaurant_cnt.csv', index_col = 0)"
      ],
      "id": "champion-atlantic",
      "execution_count": null,
      "outputs": []
    },
    {
      "cell_type": "markdown",
      "metadata": {
        "id": "public-friend"
      },
      "source": [
        "## > 통합 및 저장"
      ],
      "id": "public-friend"
    },
    {
      "cell_type": "code",
      "metadata": {
        "id": "split-slope"
      },
      "source": [
        "facil = pd.merge(grid, subway_cnt, on='gid', how='left')\n",
        "facil = pd.merge(facil, parkinglot_cnt, on='gid', how='left')\n",
        "facil = pd.merge(facil, school_cnt, on='gid', how='left')\n",
        "facil = pd.merge(facil, ssm_cnt, on='gid', how='left')\n",
        "facil = pd.merge(facil, restaurant_cnt, on='gid', how='left')"
      ],
      "id": "split-slope",
      "execution_count": null,
      "outputs": []
    },
    {
      "cell_type": "code",
      "metadata": {
        "id": "abstract-control"
      },
      "source": [
        "facil = facil.drop('geometry', axis=1)"
      ],
      "id": "abstract-control",
      "execution_count": null,
      "outputs": []
    },
    {
      "cell_type": "code",
      "metadata": {
        "id": "facial-allocation"
      },
      "source": [
        "facil.to_csv('facil.csv')"
      ],
      "id": "facial-allocation",
      "execution_count": null,
      "outputs": []
    },
    {
      "cell_type": "markdown",
      "metadata": {
        "id": "rocky-relation"
      },
      "source": [
        "# 최종 통합"
      ],
      "id": "rocky-relation"
    },
    {
      "cell_type": "code",
      "metadata": {
        "id": "identical-farming",
        "outputId": "a7a288d3-cd36-4d2a-b401-8a2134caba70"
      },
      "source": [
        "full_data = pd.merge(type_of_accident, traffic_var, on='gid', how='left')\n",
        "full_data = pd.merge(full_data, building_var, on='gid', how='left')\n",
        "full_data = pd.merge(full_data, area_var, on='gid', how='left')\n",
        "full_data = pd.merge(full_data, count_var, on='gid', how='left')\n",
        "full_data = pd.merge(full_data, binary_var, on='gid', how='left')\n",
        "full_data = pd.merge(full_data, population, on='gid', how='left')\n",
        "full_data = pd.merge(full_data, car_reg, on='gid', how='left')\n",
        "full_data = pd.merge(full_data, facil, on='gid', how='left')\n",
        "\n",
        "full_data = full_data.drop(['geometry_y', 'geometry_x'],axis=1)\n",
        "\n",
        "full_data = full_data.rename( columns = {'barrier_x' : 'barrier_road', 'barrier_y' : 'barrier'})\n",
        "full_data = full_data.drop('barrier', axis=1)\n",
        "full_data.columns"
      ],
      "id": "identical-farming",
      "execution_count": null,
      "outputs": [
        {
          "output_type": "execute_result",
          "data": {
            "text/plain": [
              "Index(['gid', 'acci_cnt', 'dead', 'serious', 'minor', 'injury', 'dead_ctc',\n",
              "       'serious_ctc', 'minor_ctc', 'injury_ctc', 'dead_cth', 'serious_cth',\n",
              "       'minor_cth', 'injury_cth', 'dead_cal', 'serious_cal', 'minor_cal',\n",
              "       'injury_cal', 'car_car', 'car_human', 'car_only', 'attack_under_10 ',\n",
              "       'attack_10', 'attack_20', 'attack_30', 'attack_40', 'attack_50',\n",
              "       'attack_60', 'attack_70', 'attack_80', 'attack_90', 'attack_age_noname',\n",
              "       'attack_age_unclassified', 'victim_under_10', 'victim_10', 'victim_20',\n",
              "       'victim_30', 'victim_40', 'victim_50', 'victim_60', 'victim_70',\n",
              "       'victim_80', 'victim_90', 'victim_age_noname',\n",
              "       'victim_age_unclassified', 'traffic_total_sum_inter',\n",
              "       'traffic_small_sum_inter', 'traffic_bus_sum_inter',\n",
              "       'traffic_big_sum_inter', 'oneway', 'car_lane', 'barrier_road',\n",
              "       'speed_0', 'speed_30', 'speed_40', 'speed_50', 'speed_60', 'speed_70',\n",
              "       'speed_80', 'speed_90', 'speed_100', 'speed_110', 'express', 'general',\n",
              "       'width_1', 'width_2', 'width_3', 'width_4', 'width_5', 'freq_max_inter',\n",
              "       'time_max_inter', 'intersects', 'TURN_P', 'building_tot', 'house',\n",
              "       'office', 'other', 'crosswalk_cnt', 'crosswalk_ar', 'noparking_ar',\n",
              "       'trlight_pas', 'trlight_car', 'cctv', 'sign_traffic', 'safe_zone',\n",
              "       'geometry', 'pop_all', 'pop_sen', 'pop_prd', 'pop_chd', 'cars_cnt',\n",
              "       'subway_cnt', 'parkinglot_cnt', 'school_cnt', 'ssm_cnt',\n",
              "       'restaurant_cnt'],\n",
              "      dtype='object')"
            ]
          },
          "metadata": {
            "tags": []
          },
          "execution_count": 206
        }
      ]
    },
    {
      "cell_type": "code",
      "metadata": {
        "id": "animated-august"
      },
      "source": [
        "full_data.to_file('full_data.geojson', driver='GeoJSON')"
      ],
      "id": "animated-august",
      "execution_count": null,
      "outputs": []
    }
  ]
}